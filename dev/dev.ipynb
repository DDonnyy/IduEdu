{
 "cells": [
  {
   "metadata": {
    "ExecuteTime": {
     "end_time": "2024-07-31T18:21:13.617509600Z",
     "start_time": "2024-07-31T18:20:41.607242200Z"
    }
   },
   "cell_type": "code",
   "source": [
    "import numpy as np\n",
    "%load_ext autoreload\n",
    "%autoreload 2\n",
    "from src.iduedu.modules.downloaders import get_routes_by_terr_name\n",
    "from src.iduedu.modules.routes_parser import estimate_crs_for_overpass\n",
    "from src.iduedu.modules.graph_builder import get_single_public_transport_graph\n",
    "import pandas as pd\n",
    "\n",
    "g = get_single_public_transport_graph('bus', osm_id=2369946)\n"
   ],
   "id": "66b3a0942e373341",
   "outputs": [
    {
     "name": "stdout",
     "output_type": "stream",
     "text": [
      "The autoreload extension is already loaded. To reload it, use:\n",
      "  %reload_ext autoreload\n"
     ]
    },
    {
     "data": {
      "text/plain": "VBox(children=(HBox(children=(IntProgress(value=0, description='0.00%', max=400), Label(value='0 / 400'))), HB…",
      "application/vnd.jupyter.widget-view+json": {
       "version_major": 2,
       "version_minor": 0,
       "model_id": "b1ee424ad40e46dc9d15f7d49366bb58"
      }
     },
     "metadata": {},
     "output_type": "display_data"
    }
   ],
   "execution_count": 51
  },
  {
   "cell_type": "code",
   "execution_count": null,
   "outputs": [],
   "source": [],
   "metadata": {
    "collapsed": false
   },
   "id": "4d3723c8cf0fc949"
  },
  {
   "cell_type": "code",
   "execution_count": 43,
   "outputs": [
    {
     "name": "stdout",
     "output_type": "stream",
     "text": [
      "extrem_from_start [2, 5]\n",
      "---------------\n",
      "index: 0\n",
      "[(1, 2), (3, 4)]\n",
      "extreme_points [0, 5]\n",
      "added con (2, 1)\n",
      "---------------\n",
      "index: 1\n",
      "[(1, 2), (3, 4), (5, 7)]\n",
      "extreme_points [0, 6]\n",
      "added con (5, 7)\n"
     ]
    }
   ],
   "source": [
    "from scipy.spatial.distance import cdist\n",
    "import numpy as np\n",
    "import pandas as pd\n",
    "\n",
    "connect_points = [point for coords in connected_ways for point in (coords[0], coords[-1])]\n",
    "distances = cdist(connect_points, connect_points)\n",
    "n = distances.shape[0]\n",
    "mask = (np.arange(n)[:, None] // 2) == (np.arange(n) // 2)\n",
    "distances[mask] = np.inf\n",
    "\n",
    "indexes = []\n",
    "\n",
    "\n",
    "def relative_point(point: int):\n",
    "    rel_point = point // 2 * 2\n",
    "    return rel_point if rel_point != point else rel_point + 1\n",
    "\n",
    "\n",
    "lines = []\n",
    "\n",
    "connected_line = []\n",
    "debug = []\n",
    "first_con_1, first_con_2 = np.unravel_index(np.argmin(distances), distances.shape)\n",
    "distances[first_con_1, :] = np.inf\n",
    "distances[first_con_2, :] = np.inf\n",
    "distances[:, first_con_2] = np.inf\n",
    "distances[:, first_con_1] = np.inf\n",
    "first_con_1_rel, first_con_2_rel = [relative_point(x) for x in (first_con_1, first_con_2)]\n",
    "distances[first_con_1_rel, first_con_2_rel] = np.inf\n",
    "distances[first_con_2_rel, first_con_1_rel] = np.inf\n",
    "indexes.append((first_con_1, first_con_2))\n",
    "\n",
    "line1, line2 = first_con_1 // 2, first_con_2 // 2\n",
    "\n",
    "lines.append(line1)\n",
    "lines.append(line2)\n",
    "if first_con_1 % 2 == 1:\n",
    "    connected_line += connected_ways[line1]\n",
    "    debug.append(connected_ways[line1])\n",
    "else:\n",
    "    connected_line += connected_ways[line1][::-1]\n",
    "    debug.append(connected_ways[line1][::-1])\n",
    "\n",
    "if first_con_2 % 2 == 0:\n",
    "    connected_line += connected_ways[line2]\n",
    "    debug.append(connected_ways[line2])\n",
    "else:\n",
    "    connected_line += connected_ways[line2][::-1]\n",
    "    debug.append(connected_ways[line2][::-1])\n",
    "\n",
    "extreme_points = [first_con_1_rel, first_con_2_rel]\n",
    "\n",
    "print(f'extrem_from_start {extreme_points}')\n",
    "\n",
    "for i in range(len(connected_ways) - 2):\n",
    "    position, ind = np.unravel_index(np.argmin(distances[extreme_points]), (2, n))\n",
    "    next_con = (extreme_points[position], ind)\n",
    "    rel_point = relative_point(next_con[1])\n",
    "    distances[:, rel_point] = np.inf\n",
    "    line = ind // 2\n",
    "    lines.append(line)\n",
    "    if position == 0:\n",
    "        connected_line = connected_ways[line] + connected_line if ind % 2 == 1 else (\n",
    "                connected_ways[line][::-1] + connected_line)\n",
    "        debug.insert(0, connected_ways[line]) if ind % 2 == 1 else debug.insert(0, connected_ways[line][::-1])\n",
    "        indexes.insert(0, next_con[::-1])\n",
    "        extreme_points = [rel_point, extreme_points[1]]\n",
    "    else:\n",
    "        connected_line = connected_line + connected_ways[line] if ind % 2 == 0 else (\n",
    "                connected_line + connected_ways[line][::-1])\n",
    "        debug.append(connected_ways[line]) if ind % 2 == 1 else debug.append(connected_ways[line][::-1])\n",
    "        indexes.append(next_con)\n",
    "        extreme_points = [extreme_points[0], rel_point]\n",
    "\n",
    "    distances[next_con[0], :] = np.inf\n",
    "    distances[next_con[1], :] = np.inf\n",
    "    distances[:, next_con[0]] = np.inf\n",
    "    distances[:, next_con[1]] = np.inf\n",
    "    rel_point_2 = relative_point(next_con[0])\n",
    "    distances[rel_point, rel_point_2] = np.inf\n",
    "    distances[rel_point_2, rel_point] = np.inf\n",
    "    print('---------------')\n",
    "    print(f'index: {i}')\n",
    "    print(indexes)\n",
    "    print(f'extreme_points {extreme_points}')\n",
    "    print(f'added con {next_con}')\n"
   ],
   "metadata": {
    "collapsed": false,
    "ExecuteTime": {
     "end_time": "2024-07-31T18:00:11.868246700Z",
     "start_time": "2024-07-31T18:00:11.756861300Z"
    }
   },
   "id": "2652b58cf9774dad"
  },
  {
   "cell_type": "code",
   "execution_count": null,
   "outputs": [],
   "source": [
    "connected_ways"
   ],
   "metadata": {
    "collapsed": false
   },
   "id": "6b583572396ebd67"
  },
  {
   "cell_type": "code",
   "execution_count": null,
   "outputs": [],
   "source": [
    "from shapely import LineString\n",
    "import geopandas as gpd\n",
    "\n",
    "gpd.GeoDataFrame(geometry=[LineString(new_connected_ways)], crs=32635).explore(tiles='CartoDB positron')"
   ],
   "metadata": {
    "collapsed": false
   },
   "id": "63db8e48d5db4a57"
  },
  {
   "cell_type": "code",
   "execution_count": null,
   "outputs": [],
   "source": [
    "t = [1, 2]\n",
    "[(x // 2) * 2 if ((x // 2) * 2 != x) else ((x // 2) * 2 + 1) for x in t]"
   ],
   "metadata": {
    "collapsed": false
   },
   "id": "38af5a7e92e30807"
  },
  {
   "cell_type": "code",
   "execution_count": null,
   "outputs": [],
   "source": [
    "%load_ext autoreload\n",
    "%autoreload 2\n",
    "from iduedu.modules.graph_builder import get_all_public_transport_graph\n",
    "\n",
    "res = get_all_public_transport_graph(osm_id=3767134)"
   ],
   "metadata": {
    "collapsed": false
   },
   "id": "8eb1aa9f17d1d63f"
  },
  {
   "metadata": {},
   "cell_type": "code",
   "source": [
    "import networkx as nx\n",
    "\n",
    "nx.write_gml(res, 'spb+lo_iduedu.gml')"
   ],
   "id": "e1c83ae9725c912c",
   "outputs": [],
   "execution_count": null
  },
  {
   "cell_type": "code",
   "source": [
    "\n"
   ],
   "metadata": {
    "collapsed": false
   },
   "id": "24b853235852d4d0",
   "outputs": [],
   "execution_count": null
  },
  {
   "cell_type": "code",
   "source": [
    "from shapely import from_wkt\n",
    "import osmnx as ox\n",
    "import geopandas as gpd\n",
    "import networkx as nx\n",
    "\n",
    "\n",
    "def nx_to_gdf(\n",
    "        graph: nx.MultiDiGraph, nodes: bool = False, edges: bool = False, node_geometry=False, fill_edge_geometry=False\n",
    ") -> gpd.GeoDataFrame | tuple[gpd.GeoDataFrame, gpd.GeoDataFrame]:\n",
    "    for _, _, data in graph.edges(data=True):\n",
    "        if \"geometry\" in data:\n",
    "            data[\"geometry\"] = from_wkt(str(data[\"geometry\"]))\n",
    "\n",
    "    if edges and nodes:\n",
    "        gdf_graph_nodes, gdf_graph_edges = ox.graph_to_gdfs(\n",
    "            graph, nodes=True, edges=True, node_geometry=node_geometry, fill_edge_geometry=fill_edge_geometry\n",
    "        )\n",
    "        gdf_graph_edges = gdf_graph_edges.reset_index()\n",
    "        return gdf_graph_nodes, gdf_graph_edges\n",
    "    elif edges:\n",
    "        gdf_graph_edges = ox.graph_to_gdfs(graph, nodes=False, edges=True, fill_edge_geometry=fill_edge_geometry)\n",
    "        gdf_graph_edges = gdf_graph_edges.reset_index()\n",
    "        return gdf_graph_edges\n",
    "    elif nodes:\n",
    "        gdf_graph_nodes = ox.graph_to_gdfs(graph, nodes=True, edges=False, node_geometry=node_geometry)\n",
    "        return gdf_graph_nodes\n",
    "    raise ValueError(\"You must specify either nodes or edges as True.\")\n",
    "\n",
    "\n",
    "g.graph['crs'] = 32638\n",
    "nodes, edges = nx_to_gdf(nx.MultiDiGraph(g), nodes=True, edges=True, node_geometry=True)"
   ],
   "metadata": {
    "collapsed": false,
    "ExecuteTime": {
     "end_time": "2024-07-31T18:05:56.576623300Z",
     "start_time": "2024-07-31T18:05:56.513570500Z"
    }
   },
   "id": "1bc342ff170dfc6d",
   "outputs": [],
   "execution_count": 48
  },
  {
   "cell_type": "code",
   "source": [
    "m1 = edges.explore(column='route', tiles='CartoDB positron')\n",
    "# nodes.explore(m=m1)\n",
    "m1"
   ],
   "metadata": {
    "collapsed": false,
    "ExecuteTime": {
     "end_time": "2024-07-31T18:06:02.593619100Z",
     "start_time": "2024-07-31T18:06:02.509839300Z"
    }
   },
   "id": "9149068c348d01c6",
   "outputs": [
    {
     "data": {
      "text/plain": "<folium.folium.Map at 0x180e7883b80>",
      "text/html": "<div style=\"width:100%;\"><div style=\"position:relative;width:100%;height:0;padding-bottom:60%;\"><span style=\"color:#565656\">Make this Notebook Trusted to load map: File -> Trust Notebook</span><iframe srcdoc=\"&lt;!DOCTYPE html&gt;\n&lt;html&gt;\n&lt;head&gt;\n    \n    &lt;meta http-equiv=&quot;content-type&quot; content=&quot;text/html; charset=UTF-8&quot; /&gt;\n    \n        &lt;script&gt;\n            L_NO_TOUCH = false;\n            L_DISABLE_3D = false;\n        &lt;/script&gt;\n    \n    &lt;style&gt;html, body {width: 100%;height: 100%;margin: 0;padding: 0;}&lt;/style&gt;\n    &lt;style&gt;#map {position:absolute;top:0;bottom:0;right:0;left:0;}&lt;/style&gt;\n    &lt;script src=&quot;https://cdn.jsdelivr.net/npm/leaflet@1.9.3/dist/leaflet.js&quot;&gt;&lt;/script&gt;\n    &lt;script src=&quot;https://code.jquery.com/jquery-3.7.1.min.js&quot;&gt;&lt;/script&gt;\n    &lt;script src=&quot;https://cdn.jsdelivr.net/npm/bootstrap@5.2.2/dist/js/bootstrap.bundle.min.js&quot;&gt;&lt;/script&gt;\n    &lt;script src=&quot;https://cdnjs.cloudflare.com/ajax/libs/Leaflet.awesome-markers/2.0.2/leaflet.awesome-markers.js&quot;&gt;&lt;/script&gt;\n    &lt;link rel=&quot;stylesheet&quot; href=&quot;https://cdn.jsdelivr.net/npm/leaflet@1.9.3/dist/leaflet.css&quot;/&gt;\n    &lt;link rel=&quot;stylesheet&quot; href=&quot;https://cdn.jsdelivr.net/npm/bootstrap@5.2.2/dist/css/bootstrap.min.css&quot;/&gt;\n    &lt;link rel=&quot;stylesheet&quot; href=&quot;https://netdna.bootstrapcdn.com/bootstrap/3.0.0/css/bootstrap-glyphicons.css&quot;/&gt;\n    &lt;link rel=&quot;stylesheet&quot; href=&quot;https://cdn.jsdelivr.net/npm/@fortawesome/fontawesome-free@6.2.0/css/all.min.css&quot;/&gt;\n    &lt;link rel=&quot;stylesheet&quot; href=&quot;https://cdnjs.cloudflare.com/ajax/libs/Leaflet.awesome-markers/2.0.2/leaflet.awesome-markers.css&quot;/&gt;\n    &lt;link rel=&quot;stylesheet&quot; href=&quot;https://cdn.jsdelivr.net/gh/python-visualization/folium/folium/templates/leaflet.awesome.rotate.min.css&quot;/&gt;\n    \n            &lt;meta name=&quot;viewport&quot; content=&quot;width=device-width,\n                initial-scale=1.0, maximum-scale=1.0, user-scalable=no&quot; /&gt;\n            &lt;style&gt;\n                #map_d1abd11671f3ce16a56785b12e945282 {\n                    position: relative;\n                    width: 100.0%;\n                    height: 100.0%;\n                    left: 0.0%;\n                    top: 0.0%;\n                }\n                .leaflet-container { font-size: 1rem; }\n            &lt;/style&gt;\n        \n    \n                    &lt;style&gt;\n                        .foliumtooltip {\n                            \n                        }\n                       .foliumtooltip table{\n                            margin: auto;\n                        }\n                        .foliumtooltip tr{\n                            text-align: left;\n                        }\n                        .foliumtooltip th{\n                            padding: 2px; padding-right: 8px;\n                        }\n                    &lt;/style&gt;\n            \n    \n    &lt;script src=&quot;https://code.jquery.com/ui/1.12.1/jquery-ui.js&quot;&gt;&lt;/script&gt;\n    &lt;script&gt;$( function() {\n        $( &quot;.maplegend&quot; ).draggable({\n            start: function (event, ui) {\n                $(this).css({\n                    right: &quot;auto&quot;,\n                    top: &quot;auto&quot;,\n                    bottom: &quot;auto&quot;\n                });\n            }\n        });\n    });\n    &lt;/script&gt;\n    &lt;style type=&#x27;text/css&#x27;&gt;\n      .maplegend {\n        position: absolute;\n        z-index:9999;\n        background-color: rgba(255, 255, 255, .8);\n        border-radius: 5px;\n        box-shadow: 0 0 15px rgba(0,0,0,0.2);\n        padding: 10px;\n        font: 12px/14px Arial, Helvetica, sans-serif;\n        right: 10px;\n        bottom: 20px;\n      }\n      .maplegend .legend-title {\n        text-align: left;\n        margin-bottom: 5px;\n        font-weight: bold;\n        }\n      .maplegend .legend-scale ul {\n        margin: 0;\n        margin-bottom: 0px;\n        padding: 0;\n        float: left;\n        list-style: none;\n        }\n      .maplegend .legend-scale ul li {\n        list-style: none;\n        margin-left: 0;\n        line-height: 16px;\n        margin-bottom: 2px;\n        }\n      .maplegend ul.legend-labels li span {\n        display: block;\n        float: left;\n        height: 14px;\n        width: 14px;\n        margin-right: 5px;\n        margin-left: 0;\n        border: 0px solid #ccc;\n        }\n      .maplegend .legend-source {\n        color: #777;\n        clear: both;\n        }\n      .maplegend a {\n        color: #777;\n        }\n    &lt;/style&gt;\n    \n&lt;/head&gt;\n&lt;body&gt;\n    \n    \n    &lt;div id=&#x27;maplegend route&#x27; class=&#x27;maplegend&#x27;&gt;\n        &lt;div class=&#x27;legend-title&#x27;&gt;route&lt;/div&gt;\n        &lt;div class=&#x27;legend-scale&#x27;&gt;\n            &lt;ul class=&#x27;legend-labels&#x27;&gt;\n                &lt;li&gt;&lt;span style=&#x27;background:#1f77b4&#x27;&gt;&lt;/span&gt;247&lt;/li&gt;\n            &lt;/ul&gt;\n        &lt;/div&gt;\n    &lt;/div&gt;\n    \n    \n            &lt;div class=&quot;folium-map&quot; id=&quot;map_d1abd11671f3ce16a56785b12e945282&quot; &gt;&lt;/div&gt;\n        \n&lt;/body&gt;\n&lt;script&gt;\n    \n    \n            var map_d1abd11671f3ce16a56785b12e945282 = L.map(\n                &quot;map_d1abd11671f3ce16a56785b12e945282&quot;,\n                {\n                    center: [51.514325449999994, 46.06427955],\n                    crs: L.CRS.EPSG3857,\n                    zoom: 10,\n                    zoomControl: true,\n                    preferCanvas: false,\n                }\n            );\n            L.control.scale().addTo(map_d1abd11671f3ce16a56785b12e945282);\n\n            \n\n        \n    \n            var tile_layer_76125666dccf9fe5c6c2fce27a6bcda4 = L.tileLayer(\n                &quot;https://a.basemaps.cartocdn.com/light_all/{z}/{x}/{y}{r}.png&quot;,\n                {&quot;attribution&quot;: &quot;\\u0026copy; \\u003ca href=\\&quot;https://www.openstreetmap.org/copyright\\&quot;\\u003eOpenStreetMap\\u003c/a\\u003e contributors \\u0026copy; \\u003ca href=\\&quot;https://carto.com/attributions\\&quot;\\u003eCARTO\\u003c/a\\u003e&quot;, &quot;detectRetina&quot;: false, &quot;maxZoom&quot;: 20, &quot;minZoom&quot;: 0, &quot;noWrap&quot;: false, &quot;opacity&quot;: 1, &quot;subdomains&quot;: &quot;abc&quot;, &quot;tms&quot;: false}\n            );\n        \n    \n            tile_layer_76125666dccf9fe5c6c2fce27a6bcda4.addTo(map_d1abd11671f3ce16a56785b12e945282);\n        \n    \n            map_d1abd11671f3ce16a56785b12e945282.fitBounds(\n                [[51.486010099999994, 46.000459000000006], [51.542640799999994, 46.1281001]],\n                {}\n            );\n        \n    \n        function geo_json_6882f26b41b5a45ad3224d5a58821043_styler(feature) {\n            switch(feature.id) {\n                default:\n                    return {&quot;color&quot;: &quot;#1f77b4&quot;, &quot;fillColor&quot;: &quot;#1f77b4&quot;, &quot;fillOpacity&quot;: 0.5, &quot;weight&quot;: 2};\n            }\n        }\n        function geo_json_6882f26b41b5a45ad3224d5a58821043_highlighter(feature) {\n            switch(feature.id) {\n                default:\n                    return {&quot;fillOpacity&quot;: 0.75};\n            }\n        }\n        function geo_json_6882f26b41b5a45ad3224d5a58821043_pointToLayer(feature, latlng) {\n            var opts = {&quot;bubblingMouseEvents&quot;: true, &quot;color&quot;: &quot;#3388ff&quot;, &quot;dashArray&quot;: null, &quot;dashOffset&quot;: null, &quot;fill&quot;: true, &quot;fillColor&quot;: &quot;#3388ff&quot;, &quot;fillOpacity&quot;: 0.2, &quot;fillRule&quot;: &quot;evenodd&quot;, &quot;lineCap&quot;: &quot;round&quot;, &quot;lineJoin&quot;: &quot;round&quot;, &quot;opacity&quot;: 1.0, &quot;radius&quot;: 2, &quot;stroke&quot;: true, &quot;weight&quot;: 3};\n            \n            let style = geo_json_6882f26b41b5a45ad3224d5a58821043_styler(feature)\n            Object.assign(opts, style)\n            \n            return new L.CircleMarker(latlng, opts)\n        }\n\n        function geo_json_6882f26b41b5a45ad3224d5a58821043_onEachFeature(feature, layer) {\n            layer.on({\n                mouseout: function(e) {\n                    if(typeof e.target.setStyle === &quot;function&quot;){\n                            geo_json_6882f26b41b5a45ad3224d5a58821043.resetStyle(e.target);\n                    }\n                },\n                mouseover: function(e) {\n                    if(typeof e.target.setStyle === &quot;function&quot;){\n                        const highlightStyle = geo_json_6882f26b41b5a45ad3224d5a58821043_highlighter(e.target.feature)\n                        e.target.setStyle(highlightStyle);\n                    }\n                },\n            });\n        };\n        var geo_json_6882f26b41b5a45ad3224d5a58821043 = L.geoJson(null, {\n                onEachFeature: geo_json_6882f26b41b5a45ad3224d5a58821043_onEachFeature,\n            \n                style: geo_json_6882f26b41b5a45ad3224d5a58821043_styler,\n                pointToLayer: geo_json_6882f26b41b5a45ad3224d5a58821043_pointToLayer,\n        });\n\n        function geo_json_6882f26b41b5a45ad3224d5a58821043_add (data) {\n            geo_json_6882f26b41b5a45ad3224d5a58821043\n                .addData(data);\n        }\n            geo_json_6882f26b41b5a45ad3224d5a58821043_add({&quot;bbox&quot;: [46.000459000000006, 51.486010099999994, 46.1281001, 51.542640799999994], &quot;features&quot;: [{&quot;bbox&quot;: [46.00080389900101, 51.5404958, 46.0009092, 51.54052202036621], &quot;geometry&quot;: {&quot;coordinates&quot;: [[46.0009092, 51.5404958], [46.00080389900101, 51.54052202036621]], &quot;type&quot;: &quot;LineString&quot;}, &quot;id&quot;: &quot;0&quot;, &quot;properties&quot;: {&quot;__folium_color&quot;: &quot;#1f77b4&quot;, &quot;desc&quot;: &quot;boarding&quot;, &quot;key&quot;: 0, &quot;route&quot;: &quot;247&quot;, &quot;type&quot;: null, &quot;u&quot;: 0, &quot;v&quot;: 68.0}, &quot;type&quot;: &quot;Feature&quot;}, {&quot;bbox&quot;: [46.0008441, 51.5404958, 46.0009092, 51.54058479999999], &quot;geometry&quot;: {&quot;coordinates&quot;: [[46.0009092, 51.5404958], [46.0008441, 51.54058479999999]], &quot;type&quot;: &quot;LineString&quot;}, &quot;id&quot;: &quot;1&quot;, &quot;properties&quot;: {&quot;__folium_color&quot;: &quot;#1f77b4&quot;, &quot;desc&quot;: &quot;boarding&quot;, &quot;key&quot;: 0, &quot;route&quot;: &quot;247&quot;, &quot;type&quot;: null, &quot;u&quot;: 0, &quot;v&quot;: 69.0}, &quot;type&quot;: &quot;Feature&quot;}, {&quot;bbox&quot;: [46.0054368, 51.5402868, 46.0054832398494, 51.54036547359754], &quot;geometry&quot;: {&quot;coordinates&quot;: [[46.0054368, 51.5402868], [46.0054832398494, 51.54036547359754]], &quot;type&quot;: &quot;LineString&quot;}, &quot;id&quot;: &quot;2&quot;, &quot;properties&quot;: {&quot;__folium_color&quot;: &quot;#1f77b4&quot;, &quot;desc&quot;: &quot;boarding&quot;, &quot;key&quot;: 0, &quot;route&quot;: &quot;247&quot;, &quot;type&quot;: null, &quot;u&quot;: 1, &quot;v&quot;: 70.0}, &quot;type&quot;: &quot;Feature&quot;}, {&quot;bbox&quot;: [46.0066899926303, 51.54217865105515, 46.0067403, 51.542264900000006], &quot;geometry&quot;: {&quot;coordinates&quot;: [[46.0067403, 51.542264900000006], [46.0066899926303, 51.54217865105515]], &quot;type&quot;: &quot;LineString&quot;}, &quot;id&quot;: &quot;3&quot;, &quot;properties&quot;: {&quot;__folium_color&quot;: &quot;#1f77b4&quot;, &quot;desc&quot;: &quot;boarding&quot;, &quot;key&quot;: 0, &quot;route&quot;: &quot;247&quot;, &quot;type&quot;: null, &quot;u&quot;: 2, &quot;v&quot;: 67.0}, &quot;type&quot;: &quot;Feature&quot;}, {&quot;bbox&quot;: [46.0098866, 51.5393159, 46.00991917946972, 51.5393741079672], &quot;geometry&quot;: {&quot;coordinates&quot;: [[46.0098866, 51.5393159], [46.00991917946972, 51.5393741079672]], &quot;type&quot;: &quot;LineString&quot;}, &quot;id&quot;: &quot;4&quot;, &quot;properties&quot;: {&quot;__folium_color&quot;: &quot;#1f77b4&quot;, &quot;desc&quot;: &quot;boarding&quot;, &quot;key&quot;: 0, &quot;route&quot;: &quot;247&quot;, &quot;type&quot;: null, &quot;u&quot;: 3, &quot;v&quot;: 71.0}, &quot;type&quot;: &quot;Feature&quot;}, {&quot;bbox&quot;: [46.0123635, 51.538774599999996, 46.01240023876738, 51.538838891405774], &quot;geometry&quot;: {&quot;coordinates&quot;: [[46.0123635, 51.538774599999996], [46.01240023876738, 51.538838891405774]], &quot;type&quot;: &quot;LineString&quot;}, &quot;id&quot;: &quot;5&quot;, &quot;properties&quot;: {&quot;__folium_color&quot;: &quot;#1f77b4&quot;, &quot;desc&quot;: &quot;boarding&quot;, &quot;key&quot;: 0, &quot;route&quot;: &quot;247&quot;, &quot;type&quot;: null, &quot;u&quot;: 4, &quot;v&quot;: 72.0}, &quot;type&quot;: &quot;Feature&quot;}, {&quot;bbox&quot;: [46.0136821495505, 51.54060851516927, 46.0137328, 51.5406999], &quot;geometry&quot;: {&quot;coordinates&quot;: [[46.0137328, 51.5406999], [46.0136821495505, 51.54060851516927]], &quot;type&quot;: &quot;LineString&quot;}, &quot;id&quot;: &quot;6&quot;, &quot;properties&quot;: {&quot;__folium_color&quot;: &quot;#1f77b4&quot;, &quot;desc&quot;: &quot;boarding&quot;, &quot;key&quot;: 0, &quot;route&quot;: &quot;247&quot;, &quot;type&quot;: null, &quot;u&quot;: 5, &quot;v&quot;: 66.0}, &quot;type&quot;: &quot;Feature&quot;}, {&quot;bbox&quot;: [46.0161394, 51.537933599999995, 46.01618761858654, 51.5380195717774], &quot;geometry&quot;: {&quot;coordinates&quot;: [[46.0161394, 51.537933599999995], [46.01618761858654, 51.5380195717774]], &quot;type&quot;: &quot;LineString&quot;}, &quot;id&quot;: &quot;7&quot;, &quot;properties&quot;: {&quot;__folium_color&quot;: &quot;#1f77b4&quot;, &quot;desc&quot;: &quot;boarding&quot;, &quot;key&quot;: 0, &quot;route&quot;: &quot;247&quot;, &quot;type&quot;: null, &quot;u&quot;: 6, &quot;v&quot;: 73.0}, &quot;type&quot;: &quot;Feature&quot;}, {&quot;bbox&quot;: [46.01938838018571, 51.53933652673301, 46.0194346, 51.5394216], &quot;geometry&quot;: {&quot;coordinates&quot;: [[46.0194346, 51.5394216], [46.01938838018571, 51.53933652673301]], &quot;type&quot;: &quot;LineString&quot;}, &quot;id&quot;: &quot;8&quot;, &quot;properties&quot;: {&quot;__folium_color&quot;: &quot;#1f77b4&quot;, &quot;desc&quot;: &quot;boarding&quot;, &quot;key&quot;: 0, &quot;route&quot;: &quot;247&quot;, &quot;type&quot;: null, &quot;u&quot;: 7, &quot;v&quot;: 65.0}, &quot;type&quot;: &quot;Feature&quot;}, {&quot;bbox&quot;: [46.02360482702853, 51.53838834423584, 46.0236543, 51.53847629999999], &quot;geometry&quot;: {&quot;coordinates&quot;: [[46.0236543, 51.53847629999999], [46.02360482702853, 51.53838834423584]], &quot;type&quot;: &quot;LineString&quot;}, &quot;id&quot;: &quot;9&quot;, &quot;properties&quot;: {&quot;__folium_color&quot;: &quot;#1f77b4&quot;, &quot;desc&quot;: &quot;boarding&quot;, &quot;key&quot;: 0, &quot;route&quot;: &quot;247&quot;, &quot;type&quot;: null, &quot;u&quot;: 8, &quot;v&quot;: 64.0}, &quot;type&quot;: &quot;Feature&quot;}, {&quot;bbox&quot;: [46.0236892, 51.53626879999999, 46.023728140227995, 51.536341508660335], &quot;geometry&quot;: {&quot;coordinates&quot;: [[46.0236892, 51.53626879999999], [46.023728140227995, 51.536341508660335]], &quot;type&quot;: &quot;LineString&quot;}, &quot;id&quot;: &quot;10&quot;, &quot;properties&quot;: {&quot;__folium_color&quot;: &quot;#1f77b4&quot;, &quot;desc&quot;: &quot;boarding&quot;, &quot;key&quot;: 0, &quot;route&quot;: &quot;247&quot;, &quot;type&quot;: null, &quot;u&quot;: 9, &quot;v&quot;: 74.0}, &quot;type&quot;: &quot;Feature&quot;}, {&quot;bbox&quot;: [46.02795849140749, 51.537375101622374, 46.0280062, 51.53745489999999], &quot;geometry&quot;: {&quot;coordinates&quot;: [[46.0280062, 51.53745489999999], [46.02795849140749, 51.537375101622374]], &quot;type&quot;: &quot;LineString&quot;}, &quot;id&quot;: &quot;11&quot;, &quot;properties&quot;: {&quot;__folium_color&quot;: &quot;#1f77b4&quot;, &quot;desc&quot;: &quot;boarding&quot;, &quot;key&quot;: 0, &quot;route&quot;: &quot;247&quot;, &quot;type&quot;: null, &quot;u&quot;: 10, &quot;v&quot;: 63.0}, &quot;type&quot;: &quot;Feature&quot;}, {&quot;bbox&quot;: [46.0293621, 51.5350431, 46.02939760000001, 51.53510510000001], &quot;geometry&quot;: {&quot;coordinates&quot;: [[46.0293621, 51.5350431], [46.02939760000001, 51.53510510000001]], &quot;type&quot;: &quot;LineString&quot;}, &quot;id&quot;: &quot;12&quot;, &quot;properties&quot;: {&quot;__folium_color&quot;: &quot;#1f77b4&quot;, &quot;desc&quot;: &quot;boarding&quot;, &quot;key&quot;: 0, &quot;route&quot;: &quot;247&quot;, &quot;type&quot;: null, &quot;u&quot;: 11, &quot;v&quot;: 75.0}, &quot;type&quot;: &quot;Feature&quot;}, {&quot;bbox&quot;: [46.033562043422094, 51.53608364059907, 46.0336115, 51.536169], &quot;geometry&quot;: {&quot;coordinates&quot;: [[46.0336115, 51.536169], [46.033562043422094, 51.53608364059907]], &quot;type&quot;: &quot;LineString&quot;}, &quot;id&quot;: &quot;13&quot;, &quot;properties&quot;: {&quot;__folium_color&quot;: &quot;#1f77b4&quot;, &quot;desc&quot;: &quot;boarding&quot;, &quot;key&quot;: 0, &quot;route&quot;: &quot;247&quot;, &quot;type&quot;: null, &quot;u&quot;: 12, &quot;v&quot;: 62.0}, &quot;type&quot;: &quot;Feature&quot;}, {&quot;bbox&quot;: [46.0356505, 51.5336272, 46.035698016492304, 51.533714234803625], &quot;geometry&quot;: {&quot;coordinates&quot;: [[46.0356505, 51.5336272], [46.035698016492304, 51.533714234803625]], &quot;type&quot;: &quot;LineString&quot;}, &quot;id&quot;: &quot;14&quot;, &quot;properties&quot;: {&quot;__folium_color&quot;: &quot;#1f77b4&quot;, &quot;desc&quot;: &quot;boarding&quot;, &quot;key&quot;: 0, &quot;route&quot;: &quot;247&quot;, &quot;type&quot;: null, &quot;u&quot;: 13, &quot;v&quot;: 76.0}, &quot;type&quot;: &quot;Feature&quot;}, {&quot;bbox&quot;: [46.03802260398168, 51.535056507156206, 46.0380649, 51.53513199999999], &quot;geometry&quot;: {&quot;coordinates&quot;: [[46.0380649, 51.53513199999999], [46.03802260398168, 51.535056507156206]], &quot;type&quot;: &quot;LineString&quot;}, &quot;id&quot;: &quot;15&quot;, &quot;properties&quot;: {&quot;__folium_color&quot;: &quot;#1f77b4&quot;, &quot;desc&quot;: &quot;boarding&quot;, &quot;key&quot;: 0, &quot;route&quot;: &quot;247&quot;, &quot;type&quot;: null, &quot;u&quot;: 14, &quot;v&quot;: 61.0}, &quot;type&quot;: &quot;Feature&quot;}, {&quot;bbox&quot;: [46.0408607, 51.53892054234162, 46.04096359102685, 51.53894489999999], &quot;geometry&quot;: {&quot;coordinates&quot;: [[46.0408607, 51.53894489999999], [46.04096359102685, 51.53892054234162]], &quot;type&quot;: &quot;LineString&quot;}, &quot;id&quot;: &quot;16&quot;, &quot;properties&quot;: {&quot;__folium_color&quot;: &quot;#1f77b4&quot;, &quot;desc&quot;: &quot;boarding&quot;, &quot;key&quot;: 0, &quot;route&quot;: &quot;247&quot;, &quot;type&quot;: null, &quot;u&quot;: 15, &quot;v&quot;: 60.0}, &quot;type&quot;: &quot;Feature&quot;}, {&quot;bbox&quot;: [46.0425397, 51.541859699999996, 46.0425411, 51.5419755], &quot;geometry&quot;: {&quot;coordinates&quot;: [[46.0425411, 51.5419755], [46.0425397, 51.541859699999996]], &quot;type&quot;: &quot;LineString&quot;}, &quot;id&quot;: &quot;17&quot;, &quot;properties&quot;: {&quot;__folium_color&quot;: &quot;#1f77b4&quot;, &quot;desc&quot;: &quot;boarding&quot;, &quot;key&quot;: 0, &quot;route&quot;: &quot;247&quot;, &quot;type&quot;: null, &quot;u&quot;: 16, &quot;v&quot;: 59.0}, &quot;type&quot;: &quot;Feature&quot;}, {&quot;bbox&quot;: [46.0437025, 51.53192529999999, 46.04373972608858, 51.53199242981331], &quot;geometry&quot;: {&quot;coordinates&quot;: [[46.0437025, 51.53192529999999], [46.04373972608858, 51.53199242981331]], &quot;type&quot;: &quot;LineString&quot;}, &quot;id&quot;: &quot;18&quot;, &quot;properties&quot;: {&quot;__folium_color&quot;: &quot;#1f77b4&quot;, &quot;desc&quot;: &quot;boarding&quot;, &quot;key&quot;: 0, &quot;route&quot;: &quot;247&quot;, &quot;type&quot;: null, &quot;u&quot;: 17, &quot;v&quot;: 77.0}, &quot;type&quot;: &quot;Feature&quot;}, {&quot;bbox&quot;: [46.05203110743209, 51.53956178238934, 46.052083100000004, 51.5396441], &quot;geometry&quot;: {&quot;coordinates&quot;: [[46.052083100000004, 51.5396441], [46.05203110743209, 51.53956178238934]], &quot;type&quot;: &quot;LineString&quot;}, &quot;id&quot;: &quot;19&quot;, &quot;properties&quot;: {&quot;__folium_color&quot;: &quot;#1f77b4&quot;, &quot;desc&quot;: &quot;boarding&quot;, &quot;key&quot;: 0, &quot;route&quot;: &quot;247&quot;, &quot;type&quot;: null, &quot;u&quot;: 18, &quot;v&quot;: 58.0}, &quot;type&quot;: &quot;Feature&quot;}, {&quot;bbox&quot;: [46.05334249856087, 51.52949039999999, 46.0533941, 51.52954332695352], &quot;geometry&quot;: {&quot;coordinates&quot;: [[46.0533941, 51.52949039999999], [46.05334249856087, 51.52954332695352]], &quot;type&quot;: &quot;LineString&quot;}, &quot;id&quot;: &quot;20&quot;, &quot;properties&quot;: {&quot;__folium_color&quot;: &quot;#1f77b4&quot;, &quot;desc&quot;: &quot;boarding&quot;, &quot;key&quot;: 0, &quot;route&quot;: &quot;247&quot;, &quot;type&quot;: null, &quot;u&quot;: 19, &quot;v&quot;: 78.0}, &quot;type&quot;: &quot;Feature&quot;}, {&quot;bbox&quot;: [46.054673940346255, 51.538913139143006, 46.0547183, 51.5389835], &quot;geometry&quot;: {&quot;coordinates&quot;: [[46.0547183, 51.5389835], [46.054673940346255, 51.538913139143006]], &quot;type&quot;: &quot;LineString&quot;}, &quot;id&quot;: &quot;21&quot;, &quot;properties&quot;: {&quot;__folium_color&quot;: &quot;#1f77b4&quot;, &quot;desc&quot;: &quot;boarding&quot;, &quot;key&quot;: 0, &quot;route&quot;: &quot;247&quot;, &quot;type&quot;: null, &quot;u&quot;: 20, &quot;v&quot;: 57.0}, &quot;type&quot;: &quot;Feature&quot;}, {&quot;bbox&quot;: [46.0579193896719, 51.535481335204196, 46.0579973, 51.53550620000001], &quot;geometry&quot;: {&quot;coordinates&quot;: [[46.0579973, 51.53550620000001], [46.0579193896719, 51.535481335204196]], &quot;type&quot;: &quot;LineString&quot;}, &quot;id&quot;: &quot;22&quot;, &quot;properties&quot;: {&quot;__folium_color&quot;: &quot;#1f77b4&quot;, &quot;desc&quot;: &quot;boarding&quot;, &quot;key&quot;: 0, &quot;route&quot;: &quot;247&quot;, &quot;type&quot;: null, &quot;u&quot;: 21, &quot;v&quot;: 56.0}, &quot;type&quot;: &quot;Feature&quot;}, {&quot;bbox&quot;: [46.05912914341583, 51.531688100000004, 46.0592036, 51.53176185010172], &quot;geometry&quot;: {&quot;coordinates&quot;: [[46.0592036, 51.531688100000004], [46.05912914341583, 51.53176185010172]], &quot;type&quot;: &quot;LineString&quot;}, &quot;id&quot;: &quot;23&quot;, &quot;properties&quot;: {&quot;__folium_color&quot;: &quot;#1f77b4&quot;, &quot;desc&quot;: &quot;boarding&quot;, &quot;key&quot;: 0, &quot;route&quot;: &quot;247&quot;, &quot;type&quot;: null, &quot;u&quot;: 22, &quot;v&quot;: 79.0}, &quot;type&quot;: &quot;Feature&quot;}, {&quot;bbox&quot;: [46.060073873872774, 51.53289375112495, 46.0602061, 51.53293560000001], &quot;geometry&quot;: {&quot;coordinates&quot;: [[46.0602061, 51.53293560000001], [46.060073873872774, 51.53289375112495]], &quot;type&quot;: &quot;LineString&quot;}, &quot;id&quot;: &quot;24&quot;, &quot;properties&quot;: {&quot;__folium_color&quot;: &quot;#1f77b4&quot;, &quot;desc&quot;: &quot;boarding&quot;, &quot;key&quot;: 0, &quot;route&quot;: &quot;247&quot;, &quot;type&quot;: null, &quot;u&quot;: 23, &quot;v&quot;: 55.0}, &quot;type&quot;: &quot;Feature&quot;}, {&quot;bbox&quot;: [46.0623291, 51.5302342, 46.0625088, 51.530259199999996], &quot;geometry&quot;: {&quot;coordinates&quot;: [[46.0625088, 51.530259199999996], [46.0623291, 51.5302342]], &quot;type&quot;: &quot;LineString&quot;}, &quot;id&quot;: &quot;25&quot;, &quot;properties&quot;: {&quot;__folium_color&quot;: &quot;#1f77b4&quot;, &quot;desc&quot;: &quot;boarding&quot;, &quot;key&quot;: 0, &quot;route&quot;: &quot;247&quot;, &quot;type&quot;: null, &quot;u&quot;: 24, &quot;v&quot;: 54.0}, &quot;type&quot;: &quot;Feature&quot;}, {&quot;bbox&quot;: [46.08041588817274, 51.50279683214767, 46.080502700000004, 51.50284039999999], &quot;geometry&quot;: {&quot;coordinates&quot;: [[46.080502700000004, 51.50284039999999], [46.08041588817274, 51.50279683214767]], &quot;type&quot;: &quot;LineString&quot;}, &quot;id&quot;: &quot;26&quot;, &quot;properties&quot;: {&quot;__folium_color&quot;: &quot;#1f77b4&quot;, &quot;desc&quot;: &quot;boarding&quot;, &quot;key&quot;: 0, &quot;route&quot;: &quot;247&quot;, &quot;type&quot;: null, &quot;u&quot;: 25, &quot;v&quot;: 53.0}, &quot;type&quot;: &quot;Feature&quot;}, {&quot;bbox&quot;: [46.0807909, 51.50232549999998, 46.080830405774755, 51.502348198219174], &quot;geometry&quot;: {&quot;coordinates&quot;: [[46.0807909, 51.50232549999998], [46.080830405774755, 51.502348198219174]], &quot;type&quot;: &quot;LineString&quot;}, &quot;id&quot;: &quot;27&quot;, &quot;properties&quot;: {&quot;__folium_color&quot;: &quot;#1f77b4&quot;, &quot;desc&quot;: &quot;boarding&quot;, &quot;key&quot;: 0, &quot;route&quot;: &quot;247&quot;, &quot;type&quot;: null, &quot;u&quot;: 26, &quot;v&quot;: 80.0}, &quot;type&quot;: &quot;Feature&quot;}, {&quot;bbox&quot;: [46.084975, 51.4999723, 46.08502500908172, 51.50000791221452], &quot;geometry&quot;: {&quot;coordinates&quot;: [[46.084975, 51.4999723], [46.08502500908172, 51.50000791221452]], &quot;type&quot;: &quot;LineString&quot;}, &quot;id&quot;: &quot;28&quot;, &quot;properties&quot;: {&quot;__folium_color&quot;: &quot;#1f77b4&quot;, &quot;desc&quot;: &quot;boarding&quot;, &quot;key&quot;: 0, &quot;route&quot;: &quot;247&quot;, &quot;type&quot;: null, &quot;u&quot;: 27, &quot;v&quot;: 81.0}, &quot;type&quot;: &quot;Feature&quot;}, {&quot;bbox&quot;: [46.084980850075965, 51.500131792680584, 46.0850367, 51.50017269999999], &quot;geometry&quot;: {&quot;coordinates&quot;: [[46.0850367, 51.50017269999999], [46.084980850075965, 51.500131792680584]], &quot;type&quot;: &quot;LineString&quot;}, &quot;id&quot;: &quot;29&quot;, &quot;properties&quot;: {&quot;__folium_color&quot;: &quot;#1f77b4&quot;, &quot;desc&quot;: &quot;boarding&quot;, &quot;key&quot;: 0, &quot;route&quot;: &quot;247&quot;, &quot;type&quot;: null, &quot;u&quot;: 28, &quot;v&quot;: 52.0}, &quot;type&quot;: &quot;Feature&quot;}, {&quot;bbox&quot;: [46.08948507567921, 51.49773265342107, 46.0895391, 51.49776289999999], &quot;geometry&quot;: {&quot;coordinates&quot;: [[46.0895391, 51.49776289999999], [46.08948507567921, 51.49773265342107]], &quot;type&quot;: &quot;LineString&quot;}, &quot;id&quot;: &quot;30&quot;, &quot;properties&quot;: {&quot;__folium_color&quot;: &quot;#1f77b4&quot;, &quot;desc&quot;: &quot;boarding&quot;, &quot;key&quot;: 0, &quot;route&quot;: &quot;247&quot;, &quot;type&quot;: null, &quot;u&quot;: 29, &quot;v&quot;: 51.0}, &quot;type&quot;: &quot;Feature&quot;}, {&quot;bbox&quot;: [46.0898503, 51.49731040000001, 46.08989579144484, 51.497336103037746], &quot;geometry&quot;: {&quot;coordinates&quot;: [[46.0898503, 51.49731040000001], [46.08989579144484, 51.497336103037746]], &quot;type&quot;: &quot;LineString&quot;}, &quot;id&quot;: &quot;31&quot;, &quot;properties&quot;: {&quot;__folium_color&quot;: &quot;#1f77b4&quot;, &quot;desc&quot;: &quot;boarding&quot;, &quot;key&quot;: 0, &quot;route&quot;: &quot;247&quot;, &quot;type&quot;: null, &quot;u&quot;: 30, &quot;v&quot;: 82.0}, &quot;type&quot;: &quot;Feature&quot;}, {&quot;bbox&quot;: [46.1009541, 51.486010099999994, 46.1013639, 51.486056899999994], &quot;geometry&quot;: {&quot;coordinates&quot;: [[46.1009541, 51.486010099999994], [46.1013639, 51.486056899999994]], &quot;type&quot;: &quot;LineString&quot;}, &quot;id&quot;: &quot;32&quot;, &quot;properties&quot;: {&quot;__folium_color&quot;: &quot;#1f77b4&quot;, &quot;desc&quot;: &quot;boarding&quot;, &quot;key&quot;: 0, &quot;route&quot;: &quot;247&quot;, &quot;type&quot;: null, &quot;u&quot;: 31, &quot;v&quot;: 83.0}, &quot;type&quot;: &quot;Feature&quot;}, {&quot;bbox&quot;: [46.1061731, 51.486515099999984, 46.1062654, 51.4865514], &quot;geometry&quot;: {&quot;coordinates&quot;: [[46.1062654, 51.486515099999984], [46.1061731, 51.4865514]], &quot;type&quot;: &quot;LineString&quot;}, &quot;id&quot;: &quot;33&quot;, &quot;properties&quot;: {&quot;__folium_color&quot;: &quot;#1f77b4&quot;, &quot;desc&quot;: &quot;boarding&quot;, &quot;key&quot;: 0, &quot;route&quot;: &quot;247&quot;, &quot;type&quot;: null, &quot;u&quot;: 32, &quot;v&quot;: 50.0}, &quot;type&quot;: &quot;Feature&quot;}, {&quot;bbox&quot;: [46.1061731, 51.486515099999984, 46.1062654, 51.4865514], &quot;geometry&quot;: {&quot;coordinates&quot;: [[46.1062654, 51.486515099999984], [46.1061731, 51.4865514]], &quot;type&quot;: &quot;LineString&quot;}, &quot;id&quot;: &quot;34&quot;, &quot;properties&quot;: {&quot;__folium_color&quot;: &quot;#1f77b4&quot;, &quot;desc&quot;: &quot;boarding&quot;, &quot;key&quot;: 0, &quot;route&quot;: &quot;247&quot;, &quot;type&quot;: null, &quot;u&quot;: 32, &quot;v&quot;: 84.0}, &quot;type&quot;: &quot;Feature&quot;}, {&quot;bbox&quot;: [46.1088508, 51.489509275767816, 46.10909085918754, 51.48959649999999], &quot;geometry&quot;: {&quot;coordinates&quot;: [[46.1088508, 51.48959649999999], [46.10909085918754, 51.489509275767816]], &quot;type&quot;: &quot;LineString&quot;}, &quot;id&quot;: &quot;35&quot;, &quot;properties&quot;: {&quot;__folium_color&quot;: &quot;#1f77b4&quot;, &quot;desc&quot;: &quot;boarding&quot;, &quot;key&quot;: 0, &quot;route&quot;: &quot;247&quot;, &quot;type&quot;: null, &quot;u&quot;: 33, &quot;v&quot;: 49.0}, &quot;type&quot;: &quot;Feature&quot;}, {&quot;bbox&quot;: [46.109063022422866, 51.48944319999999, 46.1091627, 51.48947941755196], &quot;geometry&quot;: {&quot;coordinates&quot;: [[46.1091627, 51.48944319999999], [46.109063022422866, 51.48947941755196]], &quot;type&quot;: &quot;LineString&quot;}, &quot;id&quot;: &quot;36&quot;, &quot;properties&quot;: {&quot;__folium_color&quot;: &quot;#1f77b4&quot;, &quot;desc&quot;: &quot;boarding&quot;, &quot;key&quot;: 0, &quot;route&quot;: &quot;247&quot;, &quot;type&quot;: null, &quot;u&quot;: 34, &quot;v&quot;: 85.0}, &quot;type&quot;: &quot;Feature&quot;}, {&quot;bbox&quot;: [46.1109159, 51.491619088456595, 46.1110579430884, 51.49167069999999], &quot;geometry&quot;: {&quot;coordinates&quot;: [[46.1109159, 51.49167069999999], [46.1110579430884, 51.491619088456595]], &quot;type&quot;: &quot;LineString&quot;}, &quot;id&quot;: &quot;37&quot;, &quot;properties&quot;: {&quot;__folium_color&quot;: &quot;#1f77b4&quot;, &quot;desc&quot;: &quot;boarding&quot;, &quot;key&quot;: 0, &quot;route&quot;: &quot;247&quot;, &quot;type&quot;: null, &quot;u&quot;: 35, &quot;v&quot;: 48.0}, &quot;type&quot;: &quot;Feature&quot;}, {&quot;bbox&quot;: [46.11097975686399, 51.4914882, 46.11110920000001, 51.49153523355422], &quot;geometry&quot;: {&quot;coordinates&quot;: [[46.11110920000001, 51.4914882], [46.11097975686399, 51.49153523355422]], &quot;type&quot;: &quot;LineString&quot;}, &quot;id&quot;: &quot;38&quot;, &quot;properties&quot;: {&quot;__folium_color&quot;: &quot;#1f77b4&quot;, &quot;desc&quot;: &quot;boarding&quot;, &quot;key&quot;: 0, &quot;route&quot;: &quot;247&quot;, &quot;type&quot;: null, &quot;u&quot;: 36, &quot;v&quot;: 86.0}, &quot;type&quot;: &quot;Feature&quot;}, {&quot;bbox&quot;: [46.113079, 51.49614529999999, 46.113112229639384, 51.49619370270817], &quot;geometry&quot;: {&quot;coordinates&quot;: [[46.113079, 51.49614529999999], [46.113112229639384, 51.49619370270817]], &quot;type&quot;: &quot;LineString&quot;}, &quot;id&quot;: &quot;39&quot;, &quot;properties&quot;: {&quot;__folium_color&quot;: &quot;#1f77b4&quot;, &quot;desc&quot;: &quot;boarding&quot;, &quot;key&quot;: 0, &quot;route&quot;: &quot;247&quot;, &quot;type&quot;: null, &quot;u&quot;: 37, &quot;v&quot;: 87.0}, &quot;type&quot;: &quot;Feature&quot;}, {&quot;bbox&quot;: [46.1139785, 51.49672297608705, 46.11409497426152, 51.496772299999996], &quot;geometry&quot;: {&quot;coordinates&quot;: [[46.1139785, 51.496772299999996], [46.11409497426152, 51.49672297608705]], &quot;type&quot;: &quot;LineString&quot;}, &quot;id&quot;: &quot;40&quot;, &quot;properties&quot;: {&quot;__folium_color&quot;: &quot;#1f77b4&quot;, &quot;desc&quot;: &quot;boarding&quot;, &quot;key&quot;: 0, &quot;route&quot;: &quot;247&quot;, &quot;type&quot;: null, &quot;u&quot;: 38, &quot;v&quot;: 47.0}, &quot;type&quot;: &quot;Feature&quot;}, {&quot;bbox&quot;: [46.1153077, 51.495793, 46.11541486764231, 51.4958355669659], &quot;geometry&quot;: {&quot;coordinates&quot;: [[46.1153077, 51.495793], [46.11541486764231, 51.4958355669659]], &quot;type&quot;: &quot;LineString&quot;}, &quot;id&quot;: &quot;41&quot;, &quot;properties&quot;: {&quot;__folium_color&quot;: &quot;#1f77b4&quot;, &quot;desc&quot;: &quot;boarding&quot;, &quot;key&quot;: 0, &quot;route&quot;: &quot;247&quot;, &quot;type&quot;: null, &quot;u&quot;: 39, &quot;v&quot;: 88.0}, &quot;type&quot;: &quot;Feature&quot;}, {&quot;bbox&quot;: [46.115268924162905, 51.49633175102377, 46.1154056, 51.496382999999994], &quot;geometry&quot;: {&quot;coordinates&quot;: [[46.1154056, 51.496382999999994], [46.115268924162905, 51.49633175102377]], &quot;type&quot;: &quot;LineString&quot;}, &quot;id&quot;: &quot;42&quot;, &quot;properties&quot;: {&quot;__folium_color&quot;: &quot;#1f77b4&quot;, &quot;desc&quot;: &quot;boarding&quot;, &quot;key&quot;: 0, &quot;route&quot;: &quot;247&quot;, &quot;type&quot;: null, &quot;u&quot;: 40, &quot;v&quot;: 46.0}, &quot;type&quot;: &quot;Feature&quot;}, {&quot;bbox&quot;: [46.1194617, 51.492882669878185, 46.1195209271781, 51.49294089999999], &quot;geometry&quot;: {&quot;coordinates&quot;: [[46.1194617, 51.49294089999999], [46.1195209271781, 51.492882669878185]], &quot;type&quot;: &quot;LineString&quot;}, &quot;id&quot;: &quot;43&quot;, &quot;properties&quot;: {&quot;__folium_color&quot;: &quot;#1f77b4&quot;, &quot;desc&quot;: &quot;boarding&quot;, &quot;key&quot;: 0, &quot;route&quot;: &quot;247&quot;, &quot;type&quot;: null, &quot;u&quot;: 41, &quot;v&quot;: 45.0}, &quot;type&quot;: &quot;Feature&quot;}, {&quot;bbox&quot;: [46.119650179286566, 51.4928925, 46.1196923, 51.49293390546756], &quot;geometry&quot;: {&quot;coordinates&quot;: [[46.1196923, 51.4928925], [46.119650179286566, 51.49293390546756]], &quot;type&quot;: &quot;LineString&quot;}, &quot;id&quot;: &quot;44&quot;, &quot;properties&quot;: {&quot;__folium_color&quot;: &quot;#1f77b4&quot;, &quot;desc&quot;: &quot;boarding&quot;, &quot;key&quot;: 0, &quot;route&quot;: &quot;247&quot;, &quot;type&quot;: null, &quot;u&quot;: 42, &quot;v&quot;: 89.0}, &quot;type&quot;: &quot;Feature&quot;}, {&quot;bbox&quot;: [46.1270045, 51.500745300000005, 46.12702227137872, 51.50081527390149], &quot;geometry&quot;: {&quot;coordinates&quot;: [[46.1270045, 51.500745300000005], [46.12702227137872, 51.50081527390149]], &quot;type&quot;: &quot;LineString&quot;}, &quot;id&quot;: &quot;45&quot;, &quot;properties&quot;: {&quot;__folium_color&quot;: &quot;#1f77b4&quot;, &quot;desc&quot;: &quot;boarding&quot;, &quot;key&quot;: 0, &quot;route&quot;: &quot;247&quot;, &quot;type&quot;: null, &quot;u&quot;: 43, &quot;v&quot;: 44.0}, &quot;type&quot;: &quot;Feature&quot;}, {&quot;bbox&quot;: [46.1270045, 51.500745300000005, 46.1271524, 51.50080239999999], &quot;geometry&quot;: {&quot;coordinates&quot;: [[46.1270045, 51.500745300000005], [46.1271524, 51.50080239999999]], &quot;type&quot;: &quot;LineString&quot;}, &quot;id&quot;: &quot;46&quot;, &quot;properties&quot;: {&quot;__folium_color&quot;: &quot;#1f77b4&quot;, &quot;desc&quot;: &quot;boarding&quot;, &quot;key&quot;: 0, &quot;route&quot;: &quot;247&quot;, &quot;type&quot;: null, &quot;u&quot;: 43, &quot;v&quot;: 90.0}, &quot;type&quot;: &quot;Feature&quot;}, {&quot;bbox&quot;: [46.1270045, 51.500745300000005, 46.12702227137872, 51.50081527390149], &quot;geometry&quot;: {&quot;coordinates&quot;: [[46.1270045, 51.500745300000005], [46.12702227137872, 51.50081527390149]], &quot;type&quot;: &quot;LineString&quot;}, &quot;id&quot;: &quot;47&quot;, &quot;properties&quot;: {&quot;__folium_color&quot;: &quot;#1f77b4&quot;, &quot;desc&quot;: &quot;boarding&quot;, &quot;key&quot;: 0, &quot;route&quot;: &quot;247&quot;, &quot;type&quot;: null, &quot;u&quot;: 44, &quot;v&quot;: 43.0}, &quot;type&quot;: &quot;Feature&quot;}, {&quot;bbox&quot;: [46.1195209271781, 51.492882669878185, 46.12702227137872, 51.500941399999995], &quot;geometry&quot;: {&quot;coordinates&quot;: [[46.12702227137872, 51.50081527390149], [46.1259869, 51.5009177], [46.1254754, 51.500941399999995], [46.1254878, 51.5006672], [46.125624200000004, 51.50028939999999], [46.125703, 51.500087699999995], [46.12575280000001, 51.4999751], [46.1257548, 51.49984419999999], [46.125136, 51.498949], [46.1250396, 51.498785000000005], [46.1245081, 51.497881199999995], [46.1240166, 51.497049499999996], [46.1236807, 51.496474199999994], [46.1231995, 51.49565599999999], [46.1227561, 51.4949019], [46.122538, 51.4946216], [46.12228480000001, 51.494347299999994], [46.1220747, 51.494152], [46.1218247, 51.49391949999998], [46.1215619, 51.49373219999998], [46.121293800000004, 51.493595000000006], [46.1209727, 51.4934616], [46.1199264, 51.49304339999999], [46.1195316, 51.4928869], [46.1195209271781, 51.492882669878185]], &quot;type&quot;: &quot;LineString&quot;}, &quot;id&quot;: &quot;48&quot;, &quot;properties&quot;: {&quot;__folium_color&quot;: &quot;#1f77b4&quot;, &quot;desc&quot;: &quot;routing&quot;, &quot;key&quot;: 0, &quot;route&quot;: &quot;247&quot;, &quot;type&quot;: &quot;bus&quot;, &quot;u&quot;: 44, &quot;v&quot;: 45.0}, &quot;type&quot;: &quot;Feature&quot;}, {&quot;bbox&quot;: [46.1194617, 51.492882669878185, 46.1195209271781, 51.49294089999999], &quot;geometry&quot;: {&quot;coordinates&quot;: [[46.1194617, 51.49294089999999], [46.1195209271781, 51.492882669878185]], &quot;type&quot;: &quot;LineString&quot;}, &quot;id&quot;: &quot;49&quot;, &quot;properties&quot;: {&quot;__folium_color&quot;: &quot;#1f77b4&quot;, &quot;desc&quot;: &quot;boarding&quot;, &quot;key&quot;: 0, &quot;route&quot;: &quot;247&quot;, &quot;type&quot;: null, &quot;u&quot;: 45, &quot;v&quot;: 41.0}, &quot;type&quot;: &quot;Feature&quot;}, {&quot;bbox&quot;: [46.115268924162905, 51.4926763, 46.1195209271781, 51.49633175102377], &quot;geometry&quot;: {&quot;coordinates&quot;: [[46.1195209271781, 51.492882669878185], [46.1191592, 51.4927393], [46.1190001, 51.4926763], [46.1188819, 51.49279369999999], [46.1182258, 51.49341249999999], [46.1178824, 51.49374099999999], [46.1175907, 51.4940307], [46.1154526, 51.4961409], [46.115268924162905, 51.49633175102377]], &quot;type&quot;: &quot;LineString&quot;}, &quot;id&quot;: &quot;50&quot;, &quot;properties&quot;: {&quot;__folium_color&quot;: &quot;#1f77b4&quot;, &quot;desc&quot;: &quot;routing&quot;, &quot;key&quot;: 0, &quot;route&quot;: &quot;247&quot;, &quot;type&quot;: &quot;bus&quot;, &quot;u&quot;: 45, &quot;v&quot;: 46.0}, &quot;type&quot;: &quot;Feature&quot;}, {&quot;bbox&quot;: [46.115268924162905, 51.49633175102377, 46.1154056, 51.496382999999994], &quot;geometry&quot;: {&quot;coordinates&quot;: [[46.1154056, 51.496382999999994], [46.115268924162905, 51.49633175102377]], &quot;type&quot;: &quot;LineString&quot;}, &quot;id&quot;: &quot;51&quot;, &quot;properties&quot;: {&quot;__folium_color&quot;: &quot;#1f77b4&quot;, &quot;desc&quot;: &quot;boarding&quot;, &quot;key&quot;: 0, &quot;route&quot;: &quot;247&quot;, &quot;type&quot;: null, &quot;u&quot;: 46, &quot;v&quot;: 40.0}, &quot;type&quot;: &quot;Feature&quot;}, {&quot;bbox&quot;: [46.11409497426152, 51.49633175102377, 46.115268924162905, 51.497113199999994], &quot;geometry&quot;: {&quot;coordinates&quot;: [[46.115268924162905, 51.49633175102377], [46.1148073, 51.4968114], [46.1145391, 51.497113199999994], [46.1143275, 51.4969039], [46.1142364, 51.496842099999995], [46.114146, 51.496772], [46.114105, 51.49673219999998], [46.11409497426152, 51.49672297608705]], &quot;type&quot;: &quot;LineString&quot;}, &quot;id&quot;: &quot;52&quot;, &quot;properties&quot;: {&quot;__folium_color&quot;: &quot;#1f77b4&quot;, &quot;desc&quot;: &quot;routing&quot;, &quot;key&quot;: 0, &quot;route&quot;: &quot;247&quot;, &quot;type&quot;: &quot;bus&quot;, &quot;u&quot;: 46, &quot;v&quot;: 47.0}, &quot;type&quot;: &quot;Feature&quot;}, {&quot;bbox&quot;: [46.1139785, 51.49672297608705, 46.11409497426152, 51.496772299999996], &quot;geometry&quot;: {&quot;coordinates&quot;: [[46.1139785, 51.496772299999996], [46.11409497426152, 51.49672297608705]], &quot;type&quot;: &quot;LineString&quot;}, &quot;id&quot;: &quot;53&quot;, &quot;properties&quot;: {&quot;__folium_color&quot;: &quot;#1f77b4&quot;, &quot;desc&quot;: &quot;boarding&quot;, &quot;key&quot;: 0, &quot;route&quot;: &quot;247&quot;, &quot;type&quot;: null, &quot;u&quot;: 47, &quot;v&quot;: 38.0}, &quot;type&quot;: &quot;Feature&quot;}, {&quot;bbox&quot;: [46.1082589, 51.491619088456595, 46.11409497426152, 51.49672297608705], &quot;geometry&quot;: {&quot;coordinates&quot;: [[46.11409497426152, 51.49672297608705], [46.1138324, 51.49648140000001], [46.1136072, 51.496266299999995], [46.1135176, 51.49622089999999], [46.113407800000004, 51.496191399999994], [46.1132912, 51.49617880000001], [46.1131743, 51.49617709999999], [46.1129369, 51.49624059999999], [46.1119304, 51.49650979999999], [46.1100936, 51.49489079999999], [46.1092821, 51.49422289999999], [46.1082589, 51.493389], [46.1096373, 51.4926505], [46.1097096, 51.49261039999999], [46.1097995, 51.49256110000001], [46.1103001, 51.4922867], [46.1112394, 51.49181369999999], [46.1110579430884, 51.491619088456595]], &quot;type&quot;: &quot;LineString&quot;}, &quot;id&quot;: &quot;54&quot;, &quot;properties&quot;: {&quot;__folium_color&quot;: &quot;#1f77b4&quot;, &quot;desc&quot;: &quot;routing&quot;, &quot;key&quot;: 0, &quot;route&quot;: &quot;247&quot;, &quot;type&quot;: &quot;bus&quot;, &quot;u&quot;: 47, &quot;v&quot;: 48.0}, &quot;type&quot;: &quot;Feature&quot;}, {&quot;bbox&quot;: [46.1109159, 51.491619088456595, 46.1110579430884, 51.49167069999999], &quot;geometry&quot;: {&quot;coordinates&quot;: [[46.1109159, 51.49167069999999], [46.1110579430884, 51.491619088456595]], &quot;type&quot;: &quot;LineString&quot;}, &quot;id&quot;: &quot;55&quot;, &quot;properties&quot;: {&quot;__folium_color&quot;: &quot;#1f77b4&quot;, &quot;desc&quot;: &quot;boarding&quot;, &quot;key&quot;: 0, &quot;route&quot;: &quot;247&quot;, &quot;type&quot;: null, &quot;u&quot;: 48, &quot;v&quot;: 35.0}, &quot;type&quot;: &quot;Feature&quot;}, {&quot;bbox&quot;: [46.10909085918754, 51.489509275767816, 46.1110579430884, 51.491619088456595], &quot;geometry&quot;: {&quot;coordinates&quot;: [[46.1110579430884, 51.491619088456595], [46.10909085918754, 51.489509275767816]], &quot;type&quot;: &quot;LineString&quot;}, &quot;id&quot;: &quot;56&quot;, &quot;properties&quot;: {&quot;__folium_color&quot;: &quot;#1f77b4&quot;, &quot;desc&quot;: &quot;routing&quot;, &quot;key&quot;: 0, &quot;route&quot;: &quot;247&quot;, &quot;type&quot;: &quot;bus&quot;, &quot;u&quot;: 48, &quot;v&quot;: 49.0}, &quot;type&quot;: &quot;Feature&quot;}, {&quot;bbox&quot;: [46.1088508, 51.489509275767816, 46.10909085918754, 51.48959649999999], &quot;geometry&quot;: {&quot;coordinates&quot;: [[46.1088508, 51.48959649999999], [46.10909085918754, 51.489509275767816]], &quot;type&quot;: &quot;LineString&quot;}, &quot;id&quot;: &quot;57&quot;, &quot;properties&quot;: {&quot;__folium_color&quot;: &quot;#1f77b4&quot;, &quot;desc&quot;: &quot;boarding&quot;, &quot;key&quot;: 0, &quot;route&quot;: &quot;247&quot;, &quot;type&quot;: null, &quot;u&quot;: 49, &quot;v&quot;: 33.0}, &quot;type&quot;: &quot;Feature&quot;}, {&quot;bbox&quot;: [46.1061731, 51.4865514, 46.10909085918754, 51.489509275767816], &quot;geometry&quot;: {&quot;coordinates&quot;: [[46.10909085918754, 51.489509275767816], [46.108913, 51.4893185], [46.108072, 51.4884557], [46.1061731, 51.4865514]], &quot;type&quot;: &quot;LineString&quot;}, &quot;id&quot;: &quot;58&quot;, &quot;properties&quot;: {&quot;__folium_color&quot;: &quot;#1f77b4&quot;, &quot;desc&quot;: &quot;routing&quot;, &quot;key&quot;: 0, &quot;route&quot;: &quot;247&quot;, &quot;type&quot;: &quot;bus&quot;, &quot;u&quot;: 49, &quot;v&quot;: 50.0}, &quot;type&quot;: &quot;Feature&quot;}, {&quot;bbox&quot;: [46.1061731, 51.486515099999984, 46.1062654, 51.4865514], &quot;geometry&quot;: {&quot;coordinates&quot;: [[46.1062654, 51.486515099999984], [46.1061731, 51.4865514]], &quot;type&quot;: &quot;LineString&quot;}, &quot;id&quot;: &quot;59&quot;, &quot;properties&quot;: {&quot;__folium_color&quot;: &quot;#1f77b4&quot;, &quot;desc&quot;: &quot;boarding&quot;, &quot;key&quot;: 0, &quot;route&quot;: &quot;247&quot;, &quot;type&quot;: null, &quot;u&quot;: 50, &quot;v&quot;: 32.0}, &quot;type&quot;: &quot;Feature&quot;}, {&quot;bbox&quot;: [46.08948507567921, 51.486315600000005, 46.1061731, 51.49773265342107], &quot;geometry&quot;: {&quot;coordinates&quot;: [[46.1061731, 51.4865514], [46.1058649, 51.486440899999984], [46.1037012, 51.486315600000005], [46.1034045, 51.486325300000004], [46.1032561, 51.4863489], [46.1031595, 51.4863715], [46.10304880000001, 51.48642399999999], [46.1029835, 51.486485300000005], [46.1029265, 51.4866035], [46.1029156, 51.4867862], [46.1029129, 51.486820699999996], [46.102878200000006, 51.48726469999999], [46.1028719, 51.4873452], [46.1028459, 51.48767829999999], [46.1028296, 51.487860299999994], [46.1027615, 51.4880336], [46.1026185, 51.4881867], [46.1023247, 51.4883936], [46.1015355, 51.4888684], [46.1012903, 51.489019], [46.1008479, 51.4892765], [46.100488, 51.4894959], [46.0999968, 51.48979010000001], [46.09869350000001, 51.4905708], [46.0983665, 51.4907896], [46.0980591, 51.491025], [46.0977882, 51.4912788], [46.0969659, 51.492196400000005], [46.0966341, 51.492539699999995], [46.0962851, 51.4928238], [46.0954816, 51.4934227], [46.0954076, 51.4934749], [46.0944268, 51.4941668], [46.0940717, 51.49441739999999], [46.0932735, 51.4949998], [46.0925255, 51.4956099], [46.092503, 51.4956358], [46.0924745, 51.49566839999999], [46.0924396, 51.495724300000006], [46.0924195, 51.4957753], [46.0924175, 51.4958057], [46.0924255, 51.4958705], [46.0924441, 51.49591759999999], [46.0922111, 51.4961684], [46.0921069, 51.496175599999994], [46.0919261, 51.4961853], [46.0918616, 51.49619229999999], [46.0917972, 51.49620110000001], [46.0917483, 51.4962111], [46.091706, 51.49622360000001], [46.0916483, 51.49624159999999], [46.0915935, 51.496266399999996], [46.0915504, 51.4962921], [46.0911262, 51.496586199999996], [46.0902439, 51.49720249999999], [46.0900412, 51.497348099999996], [46.0898877, 51.49745399999999], [46.0896188, 51.49763959999999], [46.08948507567921, 51.49773265342107]], &quot;type&quot;: &quot;LineString&quot;}, &quot;id&quot;: &quot;60&quot;, &quot;properties&quot;: {&quot;__folium_color&quot;: &quot;#1f77b4&quot;, &quot;desc&quot;: &quot;routing&quot;, &quot;key&quot;: 0, &quot;route&quot;: &quot;247&quot;, &quot;type&quot;: &quot;bus&quot;, &quot;u&quot;: 50, &quot;v&quot;: 51.0}, &quot;type&quot;: &quot;Feature&quot;}, {&quot;bbox&quot;: [46.08948507567921, 51.49773265342107, 46.0895391, 51.49776289999999], &quot;geometry&quot;: {&quot;coordinates&quot;: [[46.0895391, 51.49776289999999], [46.08948507567921, 51.49773265342107]], &quot;type&quot;: &quot;LineString&quot;}, &quot;id&quot;: &quot;61&quot;, &quot;properties&quot;: {&quot;__folium_color&quot;: &quot;#1f77b4&quot;, &quot;desc&quot;: &quot;boarding&quot;, &quot;key&quot;: 0, &quot;route&quot;: &quot;247&quot;, &quot;type&quot;: null, &quot;u&quot;: 51, &quot;v&quot;: 29.0}, &quot;type&quot;: &quot;Feature&quot;}, {&quot;bbox&quot;: [46.084980850075965, 51.49773265342107, 46.08948507567921, 51.500131792680584], &quot;geometry&quot;: {&quot;coordinates&quot;: [[46.08948507567921, 51.49773265342107], [46.0891917, 51.497936799999984], [46.0887465, 51.4982022], [46.0882608, 51.49844609999999], [46.0879271, 51.49861539999999], [46.0858134, 51.499688899999995], [46.085347, 51.4999319], [46.0850081, 51.500117299999985], [46.084980850075965, 51.500131792680584]], &quot;type&quot;: &quot;LineString&quot;}, &quot;id&quot;: &quot;62&quot;, &quot;properties&quot;: {&quot;__folium_color&quot;: &quot;#1f77b4&quot;, &quot;desc&quot;: &quot;routing&quot;, &quot;key&quot;: 0, &quot;route&quot;: &quot;247&quot;, &quot;type&quot;: &quot;bus&quot;, &quot;u&quot;: 51, &quot;v&quot;: 52.0}, &quot;type&quot;: &quot;Feature&quot;}, {&quot;bbox&quot;: [46.084980850075965, 51.500131792680584, 46.0850367, 51.50017269999999], &quot;geometry&quot;: {&quot;coordinates&quot;: [[46.0850367, 51.50017269999999], [46.084980850075965, 51.500131792680584]], &quot;type&quot;: &quot;LineString&quot;}, &quot;id&quot;: &quot;63&quot;, &quot;properties&quot;: {&quot;__folium_color&quot;: &quot;#1f77b4&quot;, &quot;desc&quot;: &quot;boarding&quot;, &quot;key&quot;: 0, &quot;route&quot;: &quot;247&quot;, &quot;type&quot;: null, &quot;u&quot;: 52, &quot;v&quot;: 28.0}, &quot;type&quot;: &quot;Feature&quot;}, {&quot;bbox&quot;: [46.08041588817274, 51.500131792680584, 46.084980850075965, 51.50279683214767], &quot;geometry&quot;: {&quot;coordinates&quot;: [[46.084980850075965, 51.500131792680584], [46.0846956, 51.500283499999995], [46.0843228, 51.50048809999999], [46.0816126, 51.50195119999999], [46.0811735, 51.50223249999999], [46.0809037, 51.5024168], [46.0806365, 51.502624100000006], [46.0805355, 51.502703999999994], [46.08041588817274, 51.50279683214767]], &quot;type&quot;: &quot;LineString&quot;}, &quot;id&quot;: &quot;64&quot;, &quot;properties&quot;: {&quot;__folium_color&quot;: &quot;#1f77b4&quot;, &quot;desc&quot;: &quot;routing&quot;, &quot;key&quot;: 0, &quot;route&quot;: &quot;247&quot;, &quot;type&quot;: &quot;bus&quot;, &quot;u&quot;: 52, &quot;v&quot;: 53.0}, &quot;type&quot;: &quot;Feature&quot;}, {&quot;bbox&quot;: [46.08041588817274, 51.50279683214767, 46.080502700000004, 51.50284039999999], &quot;geometry&quot;: {&quot;coordinates&quot;: [[46.080502700000004, 51.50284039999999], [46.08041588817274, 51.50279683214767]], &quot;type&quot;: &quot;LineString&quot;}, &quot;id&quot;: &quot;65&quot;, &quot;properties&quot;: {&quot;__folium_color&quot;: &quot;#1f77b4&quot;, &quot;desc&quot;: &quot;boarding&quot;, &quot;key&quot;: 0, &quot;route&quot;: &quot;247&quot;, &quot;type&quot;: null, &quot;u&quot;: 53, &quot;v&quot;: 25.0}, &quot;type&quot;: &quot;Feature&quot;}, {&quot;bbox&quot;: [46.0623291, 51.50279683214767, 46.08041588817274, 51.5302342], &quot;geometry&quot;: {&quot;coordinates&quot;: [[46.08041588817274, 51.50279683214767], [46.080163, 51.50299309999999], [46.0795038, 51.50361299999999], [46.0793118, 51.50380929999999], [46.0790423, 51.50416549999999], [46.0781372, 51.505544799999996], [46.0779922, 51.505691500000005], [46.0700463, 51.5177152], [46.0678178, 51.5210768], [46.0672946, 51.52186900000001], [46.0672697, 51.521906999999985], [46.0663742, 51.52325669999999], [46.0663492, 51.5232945], [46.0654679, 51.52462369999999], [46.0654418, 51.524663000000004], [46.0625728, 51.528984], [46.0624318, 51.529196400000004], [46.0624213, 51.529281699999984], [46.0624026, 51.52933680000001], [46.0623962, 51.529370400000005], [46.0623946, 51.5294096], [46.0623899, 51.529456], [46.0623955, 51.5295364], [46.0624019, 51.529598699999994], [46.0624029, 51.5298149], [46.0624071, 51.529894099999986], [46.0624039, 51.529972400000005], [46.0623641, 51.53013409999999], [46.0623291, 51.5302342]], &quot;type&quot;: &quot;LineString&quot;}, &quot;id&quot;: &quot;66&quot;, &quot;properties&quot;: {&quot;__folium_color&quot;: &quot;#1f77b4&quot;, &quot;desc&quot;: &quot;routing&quot;, &quot;key&quot;: 0, &quot;route&quot;: &quot;247&quot;, &quot;type&quot;: &quot;bus&quot;, &quot;u&quot;: 53, &quot;v&quot;: 54.0}, &quot;type&quot;: &quot;Feature&quot;}, {&quot;bbox&quot;: [46.0623291, 51.5302342, 46.0625088, 51.530259199999996], &quot;geometry&quot;: {&quot;coordinates&quot;: [[46.0625088, 51.530259199999996], [46.0623291, 51.5302342]], &quot;type&quot;: &quot;LineString&quot;}, &quot;id&quot;: &quot;67&quot;, &quot;properties&quot;: {&quot;__folium_color&quot;: &quot;#1f77b4&quot;, &quot;desc&quot;: &quot;boarding&quot;, &quot;key&quot;: 0, &quot;route&quot;: &quot;247&quot;, &quot;type&quot;: null, &quot;u&quot;: 54, &quot;v&quot;: 24.0}, &quot;type&quot;: &quot;Feature&quot;}, {&quot;bbox&quot;: [46.060073873872774, 51.5302342, 46.0623291, 51.53289375112495], &quot;geometry&quot;: {&quot;coordinates&quot;: [[46.0623291, 51.5302342], [46.0622742, 51.530357499999994], [46.06223920000001, 51.53043559999998], [46.0621911, 51.5305166], [46.0620042, 51.530737], [46.0617036, 51.5310643], [46.0613096, 51.5315022], [46.060683000000004, 51.53219369999999], [46.0603228, 51.532601899999996], [46.0602683, 51.5326614], [46.0602102, 51.5327262], [46.060073873872774, 51.53289375112495]], &quot;type&quot;: &quot;LineString&quot;}, &quot;id&quot;: &quot;68&quot;, &quot;properties&quot;: {&quot;__folium_color&quot;: &quot;#1f77b4&quot;, &quot;desc&quot;: &quot;routing&quot;, &quot;key&quot;: 0, &quot;route&quot;: &quot;247&quot;, &quot;type&quot;: &quot;bus&quot;, &quot;u&quot;: 54, &quot;v&quot;: 55.0}, &quot;type&quot;: &quot;Feature&quot;}, {&quot;bbox&quot;: [46.060073873872774, 51.53289375112495, 46.0602061, 51.53293560000001], &quot;geometry&quot;: {&quot;coordinates&quot;: [[46.0602061, 51.53293560000001], [46.060073873872774, 51.53289375112495]], &quot;type&quot;: &quot;LineString&quot;}, &quot;id&quot;: &quot;69&quot;, &quot;properties&quot;: {&quot;__folium_color&quot;: &quot;#1f77b4&quot;, &quot;desc&quot;: &quot;boarding&quot;, &quot;key&quot;: 0, &quot;route&quot;: &quot;247&quot;, &quot;type&quot;: null, &quot;u&quot;: 55, &quot;v&quot;: 23.0}, &quot;type&quot;: &quot;Feature&quot;}, {&quot;bbox&quot;: [46.0579193896719, 51.53289375112495, 46.060073873872774, 51.535481335204196], &quot;geometry&quot;: {&quot;coordinates&quot;: [[46.060073873872774, 51.53289375112495], [46.06007180000001, 51.53289629999998], [46.0593881, 51.53373619999999], [46.0583204, 51.53499800000001], [46.0582414, 51.53508889999999], [46.0579193896719, 51.535481335204196]], &quot;type&quot;: &quot;LineString&quot;}, &quot;id&quot;: &quot;70&quot;, &quot;properties&quot;: {&quot;__folium_color&quot;: &quot;#1f77b4&quot;, &quot;desc&quot;: &quot;routing&quot;, &quot;key&quot;: 0, &quot;route&quot;: &quot;247&quot;, &quot;type&quot;: &quot;bus&quot;, &quot;u&quot;: 55, &quot;v&quot;: 56.0}, &quot;type&quot;: &quot;Feature&quot;}, {&quot;bbox&quot;: [46.0579193896719, 51.535481335204196, 46.0579973, 51.53550620000001], &quot;geometry&quot;: {&quot;coordinates&quot;: [[46.0579973, 51.53550620000001], [46.0579193896719, 51.535481335204196]], &quot;type&quot;: &quot;LineString&quot;}, &quot;id&quot;: &quot;71&quot;, &quot;properties&quot;: {&quot;__folium_color&quot;: &quot;#1f77b4&quot;, &quot;desc&quot;: &quot;boarding&quot;, &quot;key&quot;: 0, &quot;route&quot;: &quot;247&quot;, &quot;type&quot;: null, &quot;u&quot;: 56, &quot;v&quot;: 21.0}, &quot;type&quot;: &quot;Feature&quot;}, {&quot;bbox&quot;: [46.054673940346255, 51.535481335204196, 46.0579193896719, 51.538913139143006], &quot;geometry&quot;: {&quot;coordinates&quot;: [[46.0579193896719, 51.535481335204196], [46.0579067, 51.5354968], [46.0576728, 51.535782], [46.0576141, 51.535854799999996], [46.0575454, 51.53593539999999], [46.0573058, 51.5362069], [46.0568669, 51.536704199999996], [46.056463, 51.53718430000001], [46.0563753, 51.537291], [46.0560354, 51.5377046], [46.0560001, 51.53774529999999], [46.0555399, 51.5382761], [46.0554164, 51.5384185], [46.0551458, 51.5387329], [46.0550422, 51.5387835], [46.0549571, 51.53882919999999], [46.0548793, 51.538856899999985], [46.05478660000001, 51.5388855], [46.0546741, 51.53891310000001], [46.054673940346255, 51.538913139143006]], &quot;type&quot;: &quot;LineString&quot;}, &quot;id&quot;: &quot;72&quot;, &quot;properties&quot;: {&quot;__folium_color&quot;: &quot;#1f77b4&quot;, &quot;desc&quot;: &quot;routing&quot;, &quot;key&quot;: 0, &quot;route&quot;: &quot;247&quot;, &quot;type&quot;: &quot;bus&quot;, &quot;u&quot;: 56, &quot;v&quot;: 57.0}, &quot;type&quot;: &quot;Feature&quot;}, {&quot;bbox&quot;: [46.054673940346255, 51.538913139143006, 46.0547183, 51.5389835], &quot;geometry&quot;: {&quot;coordinates&quot;: [[46.0547183, 51.5389835], [46.054673940346255, 51.538913139143006]], &quot;type&quot;: &quot;LineString&quot;}, &quot;id&quot;: &quot;73&quot;, &quot;properties&quot;: {&quot;__folium_color&quot;: &quot;#1f77b4&quot;, &quot;desc&quot;: &quot;boarding&quot;, &quot;key&quot;: 0, &quot;route&quot;: &quot;247&quot;, &quot;type&quot;: null, &quot;u&quot;: 57, &quot;v&quot;: 20.0}, &quot;type&quot;: &quot;Feature&quot;}, {&quot;bbox&quot;: [46.05203110743209, 51.538913139143006, 46.054673940346255, 51.53956178238934], &quot;geometry&quot;: {&quot;coordinates&quot;: [[46.054673940346255, 51.538913139143006], [46.0545705, 51.53893849999999], [46.0544812, 51.53896050000001], [46.0533425, 51.5392368], [46.05289, 51.539351], [46.0526349, 51.53941360000001], [46.052427, 51.539464499999994], [46.0520404, 51.5395595], [46.05203110743209, 51.53956178238934]], &quot;type&quot;: &quot;LineString&quot;}, &quot;id&quot;: &quot;74&quot;, &quot;properties&quot;: {&quot;__folium_color&quot;: &quot;#1f77b4&quot;, &quot;desc&quot;: &quot;routing&quot;, &quot;key&quot;: 0, &quot;route&quot;: &quot;247&quot;, &quot;type&quot;: &quot;bus&quot;, &quot;u&quot;: 57, &quot;v&quot;: 58.0}, &quot;type&quot;: &quot;Feature&quot;}, {&quot;bbox&quot;: [46.05203110743209, 51.53956178238934, 46.052083100000004, 51.5396441], &quot;geometry&quot;: {&quot;coordinates&quot;: [[46.052083100000004, 51.5396441], [46.05203110743209, 51.53956178238934]], &quot;type&quot;: &quot;LineString&quot;}, &quot;id&quot;: &quot;75&quot;, &quot;properties&quot;: {&quot;__folium_color&quot;: &quot;#1f77b4&quot;, &quot;desc&quot;: &quot;boarding&quot;, &quot;key&quot;: 0, &quot;route&quot;: &quot;247&quot;, &quot;type&quot;: null, &quot;u&quot;: 58, &quot;v&quot;: 18.0}, &quot;type&quot;: &quot;Feature&quot;}, {&quot;bbox&quot;: [46.0425397, 51.53956178238934, 46.05203110743209, 51.541859699999996], &quot;geometry&quot;: {&quot;coordinates&quot;: [[46.05203110743209, 51.53956178238934], [46.0519492, 51.5395819], [46.0513978, 51.5397175], [46.05129790000001, 51.5397413], [46.0511872, 51.53976929999999], [46.050955300000005, 51.53982309999999], [46.0502654, 51.5399848], [46.0500787, 51.5400286], [46.04960710000001, 51.54013909999999], [46.0494757, 51.5401701], [46.0493629, 51.5401968], [46.0485714, 51.540393099999996], [46.048224, 51.5404792], [46.0472658, 51.540716800000006], [46.0471902, 51.5407359], [46.0461152, 51.5410021], [46.0450773, 51.541241299999996], [46.0439337, 51.541526], [46.0428394, 51.5417831], [46.0427531, 51.54180389999999], [46.0425397, 51.541859699999996]], &quot;type&quot;: &quot;LineString&quot;}, &quot;id&quot;: &quot;76&quot;, &quot;properties&quot;: {&quot;__folium_color&quot;: &quot;#1f77b4&quot;, &quot;desc&quot;: &quot;routing&quot;, &quot;key&quot;: 0, &quot;route&quot;: &quot;247&quot;, &quot;type&quot;: &quot;bus&quot;, &quot;u&quot;: 58, &quot;v&quot;: 59.0}, &quot;type&quot;: &quot;Feature&quot;}, {&quot;bbox&quot;: [46.0425397, 51.541859699999996, 46.0425411, 51.5419755], &quot;geometry&quot;: {&quot;coordinates&quot;: [[46.0425411, 51.5419755], [46.0425397, 51.541859699999996]], &quot;type&quot;: &quot;LineString&quot;}, &quot;id&quot;: &quot;77&quot;, &quot;properties&quot;: {&quot;__folium_color&quot;: &quot;#1f77b4&quot;, &quot;desc&quot;: &quot;boarding&quot;, &quot;key&quot;: 0, &quot;route&quot;: &quot;247&quot;, &quot;type&quot;: null, &quot;u&quot;: 59, &quot;v&quot;: 16.0}, &quot;type&quot;: &quot;Feature&quot;}, {&quot;bbox&quot;: [46.04096359102685, 51.53892054234162, 46.0425397, 51.541859699999996], &quot;geometry&quot;: {&quot;coordinates&quot;: [[46.0425397, 51.541859699999996], [46.042492, 51.54178370000001], [46.0414209, 51.5400768], [46.0413509, 51.53997069999999], [46.0412956, 51.5398756], [46.041316200000004, 51.539835599999996], [46.0413342, 51.5398034], [46.0413543, 51.5397644], [46.0413699, 51.539724299999996], [46.0413709, 51.5396701], [46.0413553, 51.5395723], [46.0412551, 51.5393994], [46.04096359102685, 51.53892054234162]], &quot;type&quot;: &quot;LineString&quot;}, &quot;id&quot;: &quot;78&quot;, &quot;properties&quot;: {&quot;__folium_color&quot;: &quot;#1f77b4&quot;, &quot;desc&quot;: &quot;routing&quot;, &quot;key&quot;: 0, &quot;route&quot;: &quot;247&quot;, &quot;type&quot;: &quot;bus&quot;, &quot;u&quot;: 59, &quot;v&quot;: 60.0}, &quot;type&quot;: &quot;Feature&quot;}, {&quot;bbox&quot;: [46.0408607, 51.53892054234162, 46.04096359102685, 51.53894489999999], &quot;geometry&quot;: {&quot;coordinates&quot;: [[46.0408607, 51.53894489999999], [46.04096359102685, 51.53892054234162]], &quot;type&quot;: &quot;LineString&quot;}, &quot;id&quot;: &quot;79&quot;, &quot;properties&quot;: {&quot;__folium_color&quot;: &quot;#1f77b4&quot;, &quot;desc&quot;: &quot;boarding&quot;, &quot;key&quot;: 0, &quot;route&quot;: &quot;247&quot;, &quot;type&quot;: null, &quot;u&quot;: 60, &quot;v&quot;: 15.0}, &quot;type&quot;: &quot;Feature&quot;}, {&quot;bbox&quot;: [46.03802260398168, 51.535016999999996, 46.04096359102685, 51.53892054234162], &quot;geometry&quot;: {&quot;coordinates&quot;: [[46.04096359102685, 51.53892054234162], [46.0409632, 51.5389199], [46.0408775, 51.5387851], [46.0405158, 51.538214599999996], [46.0399571, 51.537332499999984], [46.039939, 51.53730399999999], [46.0395829, 51.5367978], [46.0395438, 51.53673269999999], [46.0390891, 51.53601029999999], [46.0390476, 51.53594549999999], [46.0389977, 51.5358664], [46.0388182, 51.53558329999999], [46.0384956, 51.535047799999994], [46.0383926, 51.535031200000006], [46.0382039, 51.535016999999996], [46.03802260398168, 51.535056507156206]], &quot;type&quot;: &quot;LineString&quot;}, &quot;id&quot;: &quot;80&quot;, &quot;properties&quot;: {&quot;__folium_color&quot;: &quot;#1f77b4&quot;, &quot;desc&quot;: &quot;routing&quot;, &quot;key&quot;: 0, &quot;route&quot;: &quot;247&quot;, &quot;type&quot;: &quot;bus&quot;, &quot;u&quot;: 60, &quot;v&quot;: 61.0}, &quot;type&quot;: &quot;Feature&quot;}, {&quot;bbox&quot;: [46.03802260398168, 51.535056507156206, 46.0380649, 51.53513199999999], &quot;geometry&quot;: {&quot;coordinates&quot;: [[46.0380649, 51.53513199999999], [46.03802260398168, 51.535056507156206]], &quot;type&quot;: &quot;LineString&quot;}, &quot;id&quot;: &quot;81&quot;, &quot;properties&quot;: {&quot;__folium_color&quot;: &quot;#1f77b4&quot;, &quot;desc&quot;: &quot;boarding&quot;, &quot;key&quot;: 0, &quot;route&quot;: &quot;247&quot;, &quot;type&quot;: null, &quot;u&quot;: 61, &quot;v&quot;: 14.0}, &quot;type&quot;: &quot;Feature&quot;}, {&quot;bbox&quot;: [46.033562043422094, 51.535056507156206, 46.03802260398168, 51.53608364059907], &quot;geometry&quot;: {&quot;coordinates&quot;: [[46.03802260398168, 51.535056507156206], [46.038013, 51.53505859999999], [46.0378409, 51.53510430000001], [46.0374743, 51.5351907], [46.0360808, 51.535498499999996], [46.0354008, 51.535657799999996], [46.0349537, 51.5357579], [46.0341921, 51.5359386], [46.0335995, 51.53607519999998], [46.033562043422094, 51.53608364059907]], &quot;type&quot;: &quot;LineString&quot;}, &quot;id&quot;: &quot;82&quot;, &quot;properties&quot;: {&quot;__folium_color&quot;: &quot;#1f77b4&quot;, &quot;desc&quot;: &quot;routing&quot;, &quot;key&quot;: 0, &quot;route&quot;: &quot;247&quot;, &quot;type&quot;: &quot;bus&quot;, &quot;u&quot;: 61, &quot;v&quot;: 62.0}, &quot;type&quot;: &quot;Feature&quot;}, {&quot;bbox&quot;: [46.033562043422094, 51.53608364059907, 46.0336115, 51.536169], &quot;geometry&quot;: {&quot;coordinates&quot;: [[46.0336115, 51.536169], [46.033562043422094, 51.53608364059907]], &quot;type&quot;: &quot;LineString&quot;}, &quot;id&quot;: &quot;83&quot;, &quot;properties&quot;: {&quot;__folium_color&quot;: &quot;#1f77b4&quot;, &quot;desc&quot;: &quot;boarding&quot;, &quot;key&quot;: 0, &quot;route&quot;: &quot;247&quot;, &quot;type&quot;: null, &quot;u&quot;: 62, &quot;v&quot;: 12.0}, &quot;type&quot;: &quot;Feature&quot;}, {&quot;bbox&quot;: [46.02795849140749, 51.53608364059907, 46.033562043422094, 51.537375101622374], &quot;geometry&quot;: {&quot;coordinates&quot;: [[46.033562043422094, 51.53608364059907], [46.033197, 51.536165899999986], [46.0330639, 51.5361973], [46.0328887, 51.536238299999994], [46.0325037, 51.5363279], [46.0311211, 51.5366496], [46.031051, 51.53666549999999], [46.0300652, 51.53689049999999], [46.0296692, 51.536980899999996], [46.0292612, 51.53707399999998], [46.0291569, 51.53709659999998], [46.0279671, 51.537373099999996], [46.02795849140749, 51.537375101622374]], &quot;type&quot;: &quot;LineString&quot;}, &quot;id&quot;: &quot;84&quot;, &quot;properties&quot;: {&quot;__folium_color&quot;: &quot;#1f77b4&quot;, &quot;desc&quot;: &quot;routing&quot;, &quot;key&quot;: 0, &quot;route&quot;: &quot;247&quot;, &quot;type&quot;: &quot;bus&quot;, &quot;u&quot;: 62, &quot;v&quot;: 63.0}, &quot;type&quot;: &quot;Feature&quot;}, {&quot;bbox&quot;: [46.02795849140749, 51.537375101622374, 46.0280062, 51.53745489999999], &quot;geometry&quot;: {&quot;coordinates&quot;: [[46.0280062, 51.53745489999999], [46.02795849140749, 51.537375101622374]], &quot;type&quot;: &quot;LineString&quot;}, &quot;id&quot;: &quot;85&quot;, &quot;properties&quot;: {&quot;__folium_color&quot;: &quot;#1f77b4&quot;, &quot;desc&quot;: &quot;boarding&quot;, &quot;key&quot;: 0, &quot;route&quot;: &quot;247&quot;, &quot;type&quot;: null, &quot;u&quot;: 63, &quot;v&quot;: 10.0}, &quot;type&quot;: &quot;Feature&quot;}, {&quot;bbox&quot;: [46.02360482702853, 51.537375101622374, 46.02795849140749, 51.53838834423584], &quot;geometry&quot;: {&quot;coordinates&quot;: [[46.02795849140749, 51.537375101622374], [46.0275611, 51.53746749999999], [46.0274, 51.5375037], [46.0272349, 51.537542499999994], [46.0263145, 51.537759], [46.0244697, 51.5382036], [46.0243642, 51.5382255], [46.0241559, 51.53826779999999], [46.02360482702853, 51.53838834423584]], &quot;type&quot;: &quot;LineString&quot;}, &quot;id&quot;: &quot;86&quot;, &quot;properties&quot;: {&quot;__folium_color&quot;: &quot;#1f77b4&quot;, &quot;desc&quot;: &quot;routing&quot;, &quot;key&quot;: 0, &quot;route&quot;: &quot;247&quot;, &quot;type&quot;: &quot;bus&quot;, &quot;u&quot;: 63, &quot;v&quot;: 64.0}, &quot;type&quot;: &quot;Feature&quot;}, {&quot;bbox&quot;: [46.02360482702853, 51.53838834423584, 46.0236543, 51.53847629999999], &quot;geometry&quot;: {&quot;coordinates&quot;: [[46.0236543, 51.53847629999999], [46.02360482702853, 51.53838834423584]], &quot;type&quot;: &quot;LineString&quot;}, &quot;id&quot;: &quot;87&quot;, &quot;properties&quot;: {&quot;__folium_color&quot;: &quot;#1f77b4&quot;, &quot;desc&quot;: &quot;boarding&quot;, &quot;key&quot;: 0, &quot;route&quot;: &quot;247&quot;, &quot;type&quot;: null, &quot;u&quot;: 64, &quot;v&quot;: 8.0}, &quot;type&quot;: &quot;Feature&quot;}, {&quot;bbox&quot;: [46.01938838018571, 51.53838834423584, 46.02360482702853, 51.53933652673301], &quot;geometry&quot;: {&quot;coordinates&quot;: [[46.02360482702853, 51.53838834423584], [46.0235872, 51.5383922], [46.0235097, 51.538409099999996], [46.0225636, 51.53861599999999], [46.0200454, 51.53918310000001], [46.0193904, 51.5393361], [46.01938838018571, 51.53933652673301]], &quot;type&quot;: &quot;LineString&quot;}, &quot;id&quot;: &quot;88&quot;, &quot;properties&quot;: {&quot;__folium_color&quot;: &quot;#1f77b4&quot;, &quot;desc&quot;: &quot;routing&quot;, &quot;key&quot;: 0, &quot;route&quot;: &quot;247&quot;, &quot;type&quot;: &quot;bus&quot;, &quot;u&quot;: 64, &quot;v&quot;: 65.0}, &quot;type&quot;: &quot;Feature&quot;}, {&quot;bbox&quot;: [46.01938838018571, 51.53933652673301, 46.0194346, 51.5394216], &quot;geometry&quot;: {&quot;coordinates&quot;: [[46.0194346, 51.5394216], [46.01938838018571, 51.53933652673301]], &quot;type&quot;: &quot;LineString&quot;}, &quot;id&quot;: &quot;89&quot;, &quot;properties&quot;: {&quot;__folium_color&quot;: &quot;#1f77b4&quot;, &quot;desc&quot;: &quot;boarding&quot;, &quot;key&quot;: 0, &quot;route&quot;: &quot;247&quot;, &quot;type&quot;: null, &quot;u&quot;: 65, &quot;v&quot;: 7.0}, &quot;type&quot;: &quot;Feature&quot;}, {&quot;bbox&quot;: [46.0136821495505, 51.53933652673301, 46.01938838018571, 51.54060851516927], &quot;geometry&quot;: {&quot;coordinates&quot;: [[46.01938838018571, 51.53933652673301], [46.0190302, 51.539412199999994], [46.0189047, 51.5394419], [46.0186787, 51.5394969], [46.01865600000001, 51.53950209999999], [46.0184301, 51.539558199999995], [46.0183275, 51.53958159999999], [46.0178336, 51.539688299999995], [46.0177346, 51.539709699999996], [46.0156397, 51.540173299999985], [46.0144811, 51.54043139999999], [46.0142967, 51.540472499999986], [46.0140947, 51.54051960000001], [46.0136821495505, 51.54060851516927]], &quot;type&quot;: &quot;LineString&quot;}, &quot;id&quot;: &quot;90&quot;, &quot;properties&quot;: {&quot;__folium_color&quot;: &quot;#1f77b4&quot;, &quot;desc&quot;: &quot;routing&quot;, &quot;key&quot;: 0, &quot;route&quot;: &quot;247&quot;, &quot;type&quot;: &quot;bus&quot;, &quot;u&quot;: 65, &quot;v&quot;: 66.0}, &quot;type&quot;: &quot;Feature&quot;}, {&quot;bbox&quot;: [46.0136821495505, 51.54060851516927, 46.0137328, 51.5406999], &quot;geometry&quot;: {&quot;coordinates&quot;: [[46.0137328, 51.5406999], [46.0136821495505, 51.54060851516927]], &quot;type&quot;: &quot;LineString&quot;}, &quot;id&quot;: &quot;91&quot;, &quot;properties&quot;: {&quot;__folium_color&quot;: &quot;#1f77b4&quot;, &quot;desc&quot;: &quot;boarding&quot;, &quot;key&quot;: 0, &quot;route&quot;: &quot;247&quot;, &quot;type&quot;: null, &quot;u&quot;: 66, &quot;v&quot;: 5.0}, &quot;type&quot;: &quot;Feature&quot;}, {&quot;bbox&quot;: [46.0066899926303, 51.54060851516927, 46.0136821495505, 51.54217865105515], &quot;geometry&quot;: {&quot;coordinates&quot;: [[46.0136821495505, 51.54060851516927], [46.0136799, 51.540608999999996], [46.013466, 51.5406551], [46.0129875, 51.540758200000006], [46.0128941, 51.5407781], [46.0124894, 51.54086429999999], [46.012146, 51.5409443], [46.0121191, 51.540950599999995], [46.0120349, 51.5409687], [46.0119094, 51.54099389999999], [46.0095455, 51.54153009999999], [46.0072998, 51.542039499999994], [46.0071807, 51.54206719999999], [46.007038, 51.542099599999986], [46.006700800000004, 51.54217619999999], [46.0066899926303, 51.54217865105515]], &quot;type&quot;: &quot;LineString&quot;}, &quot;id&quot;: &quot;92&quot;, &quot;properties&quot;: {&quot;__folium_color&quot;: &quot;#1f77b4&quot;, &quot;desc&quot;: &quot;routing&quot;, &quot;key&quot;: 0, &quot;route&quot;: &quot;247&quot;, &quot;type&quot;: &quot;bus&quot;, &quot;u&quot;: 66, &quot;v&quot;: 67.0}, &quot;type&quot;: &quot;Feature&quot;}, {&quot;bbox&quot;: [46.0066899926303, 51.54217865105515, 46.0067403, 51.542264900000006], &quot;geometry&quot;: {&quot;coordinates&quot;: [[46.0067403, 51.542264900000006], [46.0066899926303, 51.54217865105515]], &quot;type&quot;: &quot;LineString&quot;}, &quot;id&quot;: &quot;93&quot;, &quot;properties&quot;: {&quot;__folium_color&quot;: &quot;#1f77b4&quot;, &quot;desc&quot;: &quot;boarding&quot;, &quot;key&quot;: 0, &quot;route&quot;: &quot;247&quot;, &quot;type&quot;: null, &quot;u&quot;: 67, &quot;v&quot;: 2.0}, &quot;type&quot;: &quot;Feature&quot;}, {&quot;bbox&quot;: [46.000459000000006, 51.53909379999999, 46.0066899926303, 51.542640799999994], &quot;geometry&quot;: {&quot;coordinates&quot;: [[46.0066899926303, 51.54217865105515], [46.0065015, 51.5422214], [46.0048853, 51.5425884], [46.0048226, 51.5426046], [46.0046822, 51.542640799999994], [46.0046214, 51.5425402], [46.0042506, 51.541918], [46.0038134, 51.54118449999999], [46.003643700000005, 51.5408997], [46.0035859, 51.54080110000001], [46.00353520000001, 51.540715799999994], [46.0031053, 51.539992899999994], [46.0028598, 51.5395801], [46.0026303, 51.5391941], [46.0025706, 51.53909379999999], [46.0023997, 51.5391331], [46.00211, 51.53919849999999], [46.0019414, 51.539237199999995], [46.0008809, 51.5394906], [46.00081, 51.53953320000001], [46.000665, 51.53962340000001], [46.0006024, 51.539670499999986], [46.0005255, 51.5397869], [46.000459000000006, 51.539928499999995], [46.0005332, 51.54006], [46.0007185, 51.54038860000001], [46.0008003, 51.540516399999994], [46.00080389900101, 51.54052202036621]], &quot;type&quot;: &quot;LineString&quot;}, &quot;id&quot;: &quot;94&quot;, &quot;properties&quot;: {&quot;__folium_color&quot;: &quot;#1f77b4&quot;, &quot;desc&quot;: &quot;routing&quot;, &quot;key&quot;: 0, &quot;route&quot;: &quot;247&quot;, &quot;type&quot;: &quot;bus&quot;, &quot;u&quot;: 67, &quot;v&quot;: 68.0}, &quot;type&quot;: &quot;Feature&quot;}, {&quot;bbox&quot;: [46.00080389900101, 51.5404958, 46.0009092, 51.54052202036621], &quot;geometry&quot;: {&quot;coordinates&quot;: [[46.0009092, 51.5404958], [46.00080389900101, 51.54052202036621]], &quot;type&quot;: &quot;LineString&quot;}, &quot;id&quot;: &quot;95&quot;, &quot;properties&quot;: {&quot;__folium_color&quot;: &quot;#1f77b4&quot;, &quot;desc&quot;: &quot;boarding&quot;, &quot;key&quot;: 0, &quot;route&quot;: &quot;247&quot;, &quot;type&quot;: null, &quot;u&quot;: 68, &quot;v&quot;: 0.0}, &quot;type&quot;: &quot;Feature&quot;}, {&quot;bbox&quot;: [46.0008441, 51.5404958, 46.0009092, 51.54058479999999], &quot;geometry&quot;: {&quot;coordinates&quot;: [[46.0009092, 51.5404958], [46.0008441, 51.54058479999999]], &quot;type&quot;: &quot;LineString&quot;}, &quot;id&quot;: &quot;96&quot;, &quot;properties&quot;: {&quot;__folium_color&quot;: &quot;#1f77b4&quot;, &quot;desc&quot;: &quot;boarding&quot;, &quot;key&quot;: 0, &quot;route&quot;: &quot;247&quot;, &quot;type&quot;: null, &quot;u&quot;: 69, &quot;v&quot;: 0.0}, &quot;type&quot;: &quot;Feature&quot;}, {&quot;bbox&quot;: [46.0008441, 51.54036547359754, 46.0054832398494, 51.5413282], &quot;geometry&quot;: {&quot;coordinates&quot;: [[46.0008441, 51.54058479999999], [46.0011026, 51.5410496], [46.001175700000005, 51.5411637], [46.0012472, 51.541258199999994], [46.0013066, 51.5413282], [46.0014705, 51.5412951], [46.0020536, 51.5411589], [46.0023331, 51.5410936], [46.0034382, 51.54083559999999], [46.0035859, 51.54080110000001], [46.0037211, 51.54076940000001], [46.005079, 51.540458300000004], [46.0054535, 51.540372299999994], [46.0054832398494, 51.54036547359754]], &quot;type&quot;: &quot;LineString&quot;}, &quot;id&quot;: &quot;97&quot;, &quot;properties&quot;: {&quot;__folium_color&quot;: &quot;#1f77b4&quot;, &quot;desc&quot;: &quot;routing&quot;, &quot;key&quot;: 0, &quot;route&quot;: &quot;247&quot;, &quot;type&quot;: &quot;bus&quot;, &quot;u&quot;: 69, &quot;v&quot;: 70.0}, &quot;type&quot;: &quot;Feature&quot;}, {&quot;bbox&quot;: [46.0054368, 51.5402868, 46.0054832398494, 51.54036547359754], &quot;geometry&quot;: {&quot;coordinates&quot;: [[46.0054368, 51.5402868], [46.0054832398494, 51.54036547359754]], &quot;type&quot;: &quot;LineString&quot;}, &quot;id&quot;: &quot;98&quot;, &quot;properties&quot;: {&quot;__folium_color&quot;: &quot;#1f77b4&quot;, &quot;desc&quot;: &quot;boarding&quot;, &quot;key&quot;: 0, &quot;route&quot;: &quot;247&quot;, &quot;type&quot;: null, &quot;u&quot;: 70, &quot;v&quot;: 1.0}, &quot;type&quot;: &quot;Feature&quot;}, {&quot;bbox&quot;: [46.0054832398494, 51.5393741079672, 46.00991917946972, 51.54036547359754], &quot;geometry&quot;: {&quot;coordinates&quot;: [[46.0054832398494, 51.54036547359754], [46.005509700000005, 51.54035939999999], [46.0059277, 51.5402634], [46.0060741, 51.54022979999999], [46.0061937, 51.54020529999998], [46.0081442, 51.5397672], [46.009916, 51.539374800000004], [46.00991917946972, 51.5393741079672]], &quot;type&quot;: &quot;LineString&quot;}, &quot;id&quot;: &quot;99&quot;, &quot;properties&quot;: {&quot;__folium_color&quot;: &quot;#1f77b4&quot;, &quot;desc&quot;: &quot;routing&quot;, &quot;key&quot;: 0, &quot;route&quot;: &quot;247&quot;, &quot;type&quot;: &quot;bus&quot;, &quot;u&quot;: 70, &quot;v&quot;: 71.0}, &quot;type&quot;: &quot;Feature&quot;}, {&quot;bbox&quot;: [46.0098866, 51.5393159, 46.00991917946972, 51.5393741079672], &quot;geometry&quot;: {&quot;coordinates&quot;: [[46.0098866, 51.5393159], [46.00991917946972, 51.5393741079672]], &quot;type&quot;: &quot;LineString&quot;}, &quot;id&quot;: &quot;100&quot;, &quot;properties&quot;: {&quot;__folium_color&quot;: &quot;#1f77b4&quot;, &quot;desc&quot;: &quot;boarding&quot;, &quot;key&quot;: 0, &quot;route&quot;: &quot;247&quot;, &quot;type&quot;: null, &quot;u&quot;: 71, &quot;v&quot;: 3.0}, &quot;type&quot;: &quot;Feature&quot;}, {&quot;bbox&quot;: [46.00991917946972, 51.538838891405774, 46.01240023876738, 51.5393741079672], &quot;geometry&quot;: {&quot;coordinates&quot;: [[46.00991917946972, 51.5393741079672], [46.0107223, 51.539199299999986], [46.0108337, 51.53917499999999], [46.0109369, 51.5391527], [46.0109902, 51.539140399999994], [46.0110221, 51.53913299999999], [46.01128820000001, 51.53907759999999], [46.0113901, 51.53905739999998], [46.0116738, 51.53899830000001], [46.0117409, 51.53898429999999], [46.0118222, 51.5389674], [46.0119178, 51.5389461], [46.01240023876738, 51.538838891405774]], &quot;type&quot;: &quot;LineString&quot;}, &quot;id&quot;: &quot;101&quot;, &quot;properties&quot;: {&quot;__folium_color&quot;: &quot;#1f77b4&quot;, &quot;desc&quot;: &quot;routing&quot;, &quot;key&quot;: 0, &quot;route&quot;: &quot;247&quot;, &quot;type&quot;: &quot;bus&quot;, &quot;u&quot;: 71, &quot;v&quot;: 72.0}, &quot;type&quot;: &quot;Feature&quot;}, {&quot;bbox&quot;: [46.0123635, 51.538774599999996, 46.01240023876738, 51.538838891405774], &quot;geometry&quot;: {&quot;coordinates&quot;: [[46.0123635, 51.538774599999996], [46.01240023876738, 51.538838891405774]], &quot;type&quot;: &quot;LineString&quot;}, &quot;id&quot;: &quot;102&quot;, &quot;properties&quot;: {&quot;__folium_color&quot;: &quot;#1f77b4&quot;, &quot;desc&quot;: &quot;boarding&quot;, &quot;key&quot;: 0, &quot;route&quot;: &quot;247&quot;, &quot;type&quot;: null, &quot;u&quot;: 72, &quot;v&quot;: 4.0}, &quot;type&quot;: &quot;Feature&quot;}, {&quot;bbox&quot;: [46.01240023876738, 51.5380195717774, 46.01618761858654, 51.538838891405774], &quot;geometry&quot;: {&quot;coordinates&quot;: [[46.01240023876738, 51.538838891405774], [46.0124083, 51.5388371], [46.0124984, 51.53881839999999], [46.0130296, 51.5387049], [46.0136181, 51.53858170000001], [46.0144339, 51.5384045], [46.0145739, 51.53837099999999], [46.0146841, 51.538347], [46.0159092, 51.53808029999999], [46.01618761858654, 51.5380195717774]], &quot;type&quot;: &quot;LineString&quot;}, &quot;id&quot;: &quot;103&quot;, &quot;properties&quot;: {&quot;__folium_color&quot;: &quot;#1f77b4&quot;, &quot;desc&quot;: &quot;routing&quot;, &quot;key&quot;: 0, &quot;route&quot;: &quot;247&quot;, &quot;type&quot;: &quot;bus&quot;, &quot;u&quot;: 72, &quot;v&quot;: 73.0}, &quot;type&quot;: &quot;Feature&quot;}, {&quot;bbox&quot;: [46.0161394, 51.537933599999995, 46.01618761858654, 51.5380195717774], &quot;geometry&quot;: {&quot;coordinates&quot;: [[46.0161394, 51.537933599999995], [46.01618761858654, 51.5380195717774]], &quot;type&quot;: &quot;LineString&quot;}, &quot;id&quot;: &quot;104&quot;, &quot;properties&quot;: {&quot;__folium_color&quot;: &quot;#1f77b4&quot;, &quot;desc&quot;: &quot;boarding&quot;, &quot;key&quot;: 0, &quot;route&quot;: &quot;247&quot;, &quot;type&quot;: null, &quot;u&quot;: 73, &quot;v&quot;: 6.0}, &quot;type&quot;: &quot;Feature&quot;}, {&quot;bbox&quot;: [46.01618761858654, 51.536341508660335, 46.023728140227995, 51.5380195717774], &quot;geometry&quot;: {&quot;coordinates&quot;: [[46.01618761858654, 51.5380195717774], [46.0161962, 51.53801769999999], [46.0172562, 51.53777600000001], [46.0173618, 51.5377531], [46.0175737, 51.537707099999984], [46.0175969, 51.53770200000001], [46.0178291, 51.5376516], [46.017942500000004, 51.537627], [46.018412, 51.5375229], [46.0187648, 51.537443599999996], [46.019934, 51.5371838], [46.0202188, 51.537118999999976], [46.0206435, 51.53702219999999], [46.0218824, 51.53674949999999], [46.0231374, 51.536474], [46.023314, 51.536434199999995], [46.0234343, 51.53640719999999], [46.0237181, 51.5363436], [46.023728140227995, 51.536341508660335]], &quot;type&quot;: &quot;LineString&quot;}, &quot;id&quot;: &quot;105&quot;, &quot;properties&quot;: {&quot;__folium_color&quot;: &quot;#1f77b4&quot;, &quot;desc&quot;: &quot;routing&quot;, &quot;key&quot;: 0, &quot;route&quot;: &quot;247&quot;, &quot;type&quot;: &quot;bus&quot;, &quot;u&quot;: 73, &quot;v&quot;: 74.0}, &quot;type&quot;: &quot;Feature&quot;}, {&quot;bbox&quot;: [46.0236892, 51.53626879999999, 46.023728140227995, 51.536341508660335], &quot;geometry&quot;: {&quot;coordinates&quot;: [[46.0236892, 51.53626879999999], [46.023728140227995, 51.536341508660335]], &quot;type&quot;: &quot;LineString&quot;}, &quot;id&quot;: &quot;106&quot;, &quot;properties&quot;: {&quot;__folium_color&quot;: &quot;#1f77b4&quot;, &quot;desc&quot;: &quot;boarding&quot;, &quot;key&quot;: 0, &quot;route&quot;: &quot;247&quot;, &quot;type&quot;: null, &quot;u&quot;: 74, &quot;v&quot;: 9.0}, &quot;type&quot;: &quot;Feature&quot;}, {&quot;bbox&quot;: [46.023728140227995, 51.53510510000001, 46.02939760000001, 51.536341508660335], &quot;geometry&quot;: {&quot;coordinates&quot;: [[46.023728140227995, 51.536341508660335], [46.02407000000001, 51.536270300000005], [46.024181, 51.5362443], [46.0263371, 51.535777200000005], [46.0264073, 51.5357605], [46.026563700000004, 51.5357253], [46.0267067, 51.535693499999994], [46.0293385, 51.535121000000004], [46.02939760000001, 51.53510510000001]], &quot;type&quot;: &quot;LineString&quot;}, &quot;id&quot;: &quot;107&quot;, &quot;properties&quot;: {&quot;__folium_color&quot;: &quot;#1f77b4&quot;, &quot;desc&quot;: &quot;routing&quot;, &quot;key&quot;: 0, &quot;route&quot;: &quot;247&quot;, &quot;type&quot;: &quot;bus&quot;, &quot;u&quot;: 74, &quot;v&quot;: 75.0}, &quot;type&quot;: &quot;Feature&quot;}, {&quot;bbox&quot;: [46.0293621, 51.5350431, 46.02939760000001, 51.53510510000001], &quot;geometry&quot;: {&quot;coordinates&quot;: [[46.0293621, 51.5350431], [46.02939760000001, 51.53510510000001]], &quot;type&quot;: &quot;LineString&quot;}, &quot;id&quot;: &quot;108&quot;, &quot;properties&quot;: {&quot;__folium_color&quot;: &quot;#1f77b4&quot;, &quot;desc&quot;: &quot;boarding&quot;, &quot;key&quot;: 0, &quot;route&quot;: &quot;247&quot;, &quot;type&quot;: null, &quot;u&quot;: 75, &quot;v&quot;: 11.0}, &quot;type&quot;: &quot;Feature&quot;}, {&quot;bbox&quot;: [46.02939760000001, 51.533714234803625, 46.035698016492304, 51.53510510000001], &quot;geometry&quot;: {&quot;coordinates&quot;: [[46.02939760000001, 51.53510510000001], [46.0298274, 51.53500949999999], [46.031335, 51.5346787], [46.031849, 51.53456589999999], [46.0320303, 51.5345242], [46.0321837, 51.5344918], [46.032522, 51.5344157], [46.0335229, 51.5341869], [46.0353078, 51.533797099999994], [46.035698016492304, 51.533714234803625]], &quot;type&quot;: &quot;LineString&quot;}, &quot;id&quot;: &quot;109&quot;, &quot;properties&quot;: {&quot;__folium_color&quot;: &quot;#1f77b4&quot;, &quot;desc&quot;: &quot;routing&quot;, &quot;key&quot;: 0, &quot;route&quot;: &quot;247&quot;, &quot;type&quot;: &quot;bus&quot;, &quot;u&quot;: 75, &quot;v&quot;: 76.0}, &quot;type&quot;: &quot;Feature&quot;}, {&quot;bbox&quot;: [46.0356505, 51.5336272, 46.035698016492304, 51.533714234803625], &quot;geometry&quot;: {&quot;coordinates&quot;: [[46.0356505, 51.5336272], [46.035698016492304, 51.533714234803625]], &quot;type&quot;: &quot;LineString&quot;}, &quot;id&quot;: &quot;110&quot;, &quot;properties&quot;: {&quot;__folium_color&quot;: &quot;#1f77b4&quot;, &quot;desc&quot;: &quot;boarding&quot;, &quot;key&quot;: 0, &quot;route&quot;: &quot;247&quot;, &quot;type&quot;: null, &quot;u&quot;: 76, &quot;v&quot;: 13.0}, &quot;type&quot;: &quot;Feature&quot;}, {&quot;bbox&quot;: [46.035698016492304, 51.53199242981331, 46.04373972608858, 51.533714234803625], &quot;geometry&quot;: {&quot;coordinates&quot;: [[46.035698016492304, 51.533714234803625], [46.0357189, 51.53370979999999], [46.036241, 51.5335956], [46.0365678, 51.533529099999996], [46.0368075, 51.533481800000004], [46.0368311, 51.5334753], [46.0370397, 51.53343279999999], [46.037207, 51.533395299999995], [46.0388175, 51.533058499999996], [46.0388605, 51.5330495], [46.0394586, 51.532915199999984], [46.0398845, 51.53282089999999], [46.0400071, 51.53279640000001], [46.0401441, 51.53276519999999], [46.0413062, 51.5325252], [46.0422831, 51.532306299999995], [46.0424186, 51.53227729999999], [46.0425313, 51.5322531], [46.04373972608858, 51.53199242981331]], &quot;type&quot;: &quot;LineString&quot;}, &quot;id&quot;: &quot;111&quot;, &quot;properties&quot;: {&quot;__folium_color&quot;: &quot;#1f77b4&quot;, &quot;desc&quot;: &quot;routing&quot;, &quot;key&quot;: 0, &quot;route&quot;: &quot;247&quot;, &quot;type&quot;: &quot;bus&quot;, &quot;u&quot;: 76, &quot;v&quot;: 77.0}, &quot;type&quot;: &quot;Feature&quot;}, {&quot;bbox&quot;: [46.0437025, 51.53192529999999, 46.04373972608858, 51.53199242981331], &quot;geometry&quot;: {&quot;coordinates&quot;: [[46.0437025, 51.53192529999999], [46.04373972608858, 51.53199242981331]], &quot;type&quot;: &quot;LineString&quot;}, &quot;id&quot;: &quot;112&quot;, &quot;properties&quot;: {&quot;__folium_color&quot;: &quot;#1f77b4&quot;, &quot;desc&quot;: &quot;boarding&quot;, &quot;key&quot;: 0, &quot;route&quot;: &quot;247&quot;, &quot;type&quot;: null, &quot;u&quot;: 77, &quot;v&quot;: 17.0}, &quot;type&quot;: &quot;Feature&quot;}, {&quot;bbox&quot;: [46.04373972608858, 51.529199699999985, 46.05334249856087, 51.53199242981331], &quot;geometry&quot;: {&quot;coordinates&quot;: [[46.04373972608858, 51.53199242981331], [46.0437445, 51.53199139999999], [46.0441005, 51.531916499999994], [46.0443465, 51.531863599999994], [46.0444514, 51.5318407], [46.0445611, 51.5318175], [46.0449002, 51.5317446], [46.04533, 51.5316522], [46.0457825, 51.5315549], [46.0463747, 51.53142760000001], [46.0464861, 51.5314023], [46.0466104, 51.531375700000005], [46.0466802, 51.53136000000001], [46.047292600000006, 51.53123099999999], [46.0480777, 51.531065699999985], [46.0483859, 51.530999599999994], [46.0484536, 51.530986799999994], [46.0488248, 51.53090910000001], [46.048962700000004, 51.53088069999999], [46.04908950000001, 51.5308549], [46.0492353, 51.5308147], [46.0493676, 51.5307554], [46.0504527, 51.53021410000001], [46.0505446, 51.530166599999994], [46.0506327, 51.5301215], [46.05168, 51.5295812], [46.051972000000006, 51.5294332], [46.0522893, 51.52927249999998], [46.0524329, 51.529199699999985], [46.0525871, 51.5292579], [46.0531709, 51.5294783], [46.0533332, 51.52953979999998], [46.05334249856087, 51.52954332695352]], &quot;type&quot;: &quot;LineString&quot;}, &quot;id&quot;: &quot;113&quot;, &quot;properties&quot;: {&quot;__folium_color&quot;: &quot;#1f77b4&quot;, &quot;desc&quot;: &quot;routing&quot;, &quot;key&quot;: 0, &quot;route&quot;: &quot;247&quot;, &quot;type&quot;: &quot;bus&quot;, &quot;u&quot;: 77, &quot;v&quot;: 78.0}, &quot;type&quot;: &quot;Feature&quot;}, {&quot;bbox&quot;: [46.05334249856087, 51.52949039999999, 46.0533941, 51.52954332695352], &quot;geometry&quot;: {&quot;coordinates&quot;: [[46.0533941, 51.52949039999999], [46.05334249856087, 51.52954332695352]], &quot;type&quot;: &quot;LineString&quot;}, &quot;id&quot;: &quot;114&quot;, &quot;properties&quot;: {&quot;__folium_color&quot;: &quot;#1f77b4&quot;, &quot;desc&quot;: &quot;boarding&quot;, &quot;key&quot;: 0, &quot;route&quot;: &quot;247&quot;, &quot;type&quot;: null, &quot;u&quot;: 78, &quot;v&quot;: 19.0}, &quot;type&quot;: &quot;Feature&quot;}, {&quot;bbox&quot;: [46.05334249856087, 51.52954332695352, 46.05912914341583, 51.53176185010172], &quot;geometry&quot;: {&quot;coordinates&quot;: [[46.05334249856087, 51.52954332695352], [46.0538568, 51.52973839999999], [46.0540008, 51.52978869999999], [46.0541712, 51.52985169999999], [46.0557843, 51.530476199999995], [46.0559355, 51.53053380000001], [46.0562696, 51.5306631], [46.0586022, 51.5315549], [46.05912914341583, 51.53176185010172]], &quot;type&quot;: &quot;LineString&quot;}, &quot;id&quot;: &quot;115&quot;, &quot;properties&quot;: {&quot;__folium_color&quot;: &quot;#1f77b4&quot;, &quot;desc&quot;: &quot;routing&quot;, &quot;key&quot;: 0, &quot;route&quot;: &quot;247&quot;, &quot;type&quot;: &quot;bus&quot;, &quot;u&quot;: 78, &quot;v&quot;: 79.0}, &quot;type&quot;: &quot;Feature&quot;}, {&quot;bbox&quot;: [46.05912914341583, 51.531688100000004, 46.0592036, 51.53176185010172], &quot;geometry&quot;: {&quot;coordinates&quot;: [[46.0592036, 51.531688100000004], [46.05912914341583, 51.53176185010172]], &quot;type&quot;: &quot;LineString&quot;}, &quot;id&quot;: &quot;116&quot;, &quot;properties&quot;: {&quot;__folium_color&quot;: &quot;#1f77b4&quot;, &quot;desc&quot;: &quot;boarding&quot;, &quot;key&quot;: 0, &quot;route&quot;: &quot;247&quot;, &quot;type&quot;: null, &quot;u&quot;: 79, &quot;v&quot;: 22.0}, &quot;type&quot;: &quot;Feature&quot;}, {&quot;bbox&quot;: [46.05912914341583, 51.502348198219174, 46.080830405774755, 51.53192080000001], &quot;geometry&quot;: {&quot;coordinates&quot;: [[46.05912914341583, 51.53176185010172], [46.0591364, 51.53176469999998], [46.0591947, 51.53178759999999], [46.0595568, 51.53192080000001], [46.059798, 51.53163450000001], [46.0600217, 51.531367700000004], [46.061094100000005, 51.530119500000005], [46.0611423, 51.530050799999984], [46.0612393, 51.529970899999995], [46.0615036, 51.52982130000001], [46.0616951, 51.52973279999999], [46.0618704, 51.529610899999994], [46.06219380000001, 51.52936859999999], [46.0623249, 51.529268200000004], [46.0624318, 51.529196400000004], [46.0625728, 51.528984], [46.0654418, 51.524663000000004], [46.0654679, 51.52462369999999], [46.0663492, 51.5232945], [46.0663742, 51.52325669999999], [46.0672697, 51.521906999999985], [46.0672946, 51.52186900000001], [46.0678178, 51.5210768], [46.0700463, 51.5177152], [46.0779922, 51.505691500000005], [46.0780397, 51.505524300000005], [46.0789706, 51.504143799999994], [46.0792354, 51.503788], [46.0795638, 51.50340839999999], [46.0799875, 51.5030154], [46.080092, 51.50292050000001], [46.0804187, 51.5026568], [46.0805754, 51.50253359999999], [46.0808158, 51.5023581], [46.080830405774755, 51.502348198219174]], &quot;type&quot;: &quot;LineString&quot;}, &quot;id&quot;: &quot;117&quot;, &quot;properties&quot;: {&quot;__folium_color&quot;: &quot;#1f77b4&quot;, &quot;desc&quot;: &quot;routing&quot;, &quot;key&quot;: 0, &quot;route&quot;: &quot;247&quot;, &quot;type&quot;: &quot;bus&quot;, &quot;u&quot;: 79, &quot;v&quot;: 80.0}, &quot;type&quot;: &quot;Feature&quot;}, {&quot;bbox&quot;: [46.0807909, 51.50232549999998, 46.080830405774755, 51.502348198219174], &quot;geometry&quot;: {&quot;coordinates&quot;: [[46.0807909, 51.50232549999998], [46.080830405774755, 51.502348198219174]], &quot;type&quot;: &quot;LineString&quot;}, &quot;id&quot;: &quot;118&quot;, &quot;properties&quot;: {&quot;__folium_color&quot;: &quot;#1f77b4&quot;, &quot;desc&quot;: &quot;boarding&quot;, &quot;key&quot;: 0, &quot;route&quot;: &quot;247&quot;, &quot;type&quot;: null, &quot;u&quot;: 80, &quot;v&quot;: 26.0}, &quot;type&quot;: &quot;Feature&quot;}, {&quot;bbox&quot;: [46.080830405774755, 51.50000791221452, 46.08502500908172, 51.502348198219174], &quot;geometry&quot;: {&quot;coordinates&quot;: [[46.080830405774755, 51.502348198219174], [46.0810701, 51.5021857], [46.0815294, 51.5018966], [46.0842409, 51.5004328], [46.0846139, 51.500228], [46.0849265, 51.5000618], [46.08502500908172, 51.50000791221452]], &quot;type&quot;: &quot;LineString&quot;}, &quot;id&quot;: &quot;119&quot;, &quot;properties&quot;: {&quot;__folium_color&quot;: &quot;#1f77b4&quot;, &quot;desc&quot;: &quot;routing&quot;, &quot;key&quot;: 0, &quot;route&quot;: &quot;247&quot;, &quot;type&quot;: &quot;bus&quot;, &quot;u&quot;: 80, &quot;v&quot;: 81.0}, &quot;type&quot;: &quot;Feature&quot;}, {&quot;bbox&quot;: [46.084975, 51.4999723, 46.08502500908172, 51.50000791221452], &quot;geometry&quot;: {&quot;coordinates&quot;: [[46.084975, 51.4999723], [46.08502500908172, 51.50000791221452]], &quot;type&quot;: &quot;LineString&quot;}, &quot;id&quot;: &quot;120&quot;, &quot;properties&quot;: {&quot;__folium_color&quot;: &quot;#1f77b4&quot;, &quot;desc&quot;: &quot;boarding&quot;, &quot;key&quot;: 0, &quot;route&quot;: &quot;247&quot;, &quot;type&quot;: null, &quot;u&quot;: 81, &quot;v&quot;: 27.0}, &quot;type&quot;: &quot;Feature&quot;}, {&quot;bbox&quot;: [46.08502500908172, 51.497336103037746, 46.08989579144484, 51.50000791221452], &quot;geometry&quot;: {&quot;coordinates&quot;: [[46.08502500908172, 51.50000791221452], [46.0852656, 51.49987629999999], [46.0855573, 51.4997253], [46.0857331, 51.49963269999999], [46.0878472, 51.498559], [46.088181, 51.49838960000001], [46.0886644, 51.49814690000001], [46.0891052, 51.4978841], [46.0895305, 51.497588199999996], [46.0897995, 51.49740249999998], [46.08989579144484, 51.497336103037746]], &quot;type&quot;: &quot;LineString&quot;}, &quot;id&quot;: &quot;121&quot;, &quot;properties&quot;: {&quot;__folium_color&quot;: &quot;#1f77b4&quot;, &quot;desc&quot;: &quot;routing&quot;, &quot;key&quot;: 0, &quot;route&quot;: &quot;247&quot;, &quot;type&quot;: &quot;bus&quot;, &quot;u&quot;: 81, &quot;v&quot;: 82.0}, &quot;type&quot;: &quot;Feature&quot;}, {&quot;bbox&quot;: [46.0898503, 51.49731040000001, 46.08989579144484, 51.497336103037746], &quot;geometry&quot;: {&quot;coordinates&quot;: [[46.0898503, 51.49731040000001], [46.08989579144484, 51.497336103037746]], &quot;type&quot;: &quot;LineString&quot;}, &quot;id&quot;: &quot;122&quot;, &quot;properties&quot;: {&quot;__folium_color&quot;: &quot;#1f77b4&quot;, &quot;desc&quot;: &quot;boarding&quot;, &quot;key&quot;: 0, &quot;route&quot;: &quot;247&quot;, &quot;type&quot;: null, &quot;u&quot;: 82, &quot;v&quot;: 30.0}, &quot;type&quot;: &quot;Feature&quot;}, {&quot;bbox&quot;: [46.08989579144484, 51.486056899999994, 46.1027998, 51.497336103037746], &quot;geometry&quot;: {&quot;coordinates&quot;: [[46.08989579144484, 51.497336103037746], [46.0899525, 51.497296999999996], [46.0918099, 51.49601489999998], [46.09187300000001, 51.495962699999986], [46.0919333, 51.49591229999999], [46.0920001, 51.4958783], [46.0920344, 51.495849699999994], [46.0921566, 51.49577279999999], [46.0922822, 51.4956819], [46.0924325, 51.495571000000005], [46.0932015, 51.49495479999999], [46.0939951, 51.49437559999999], [46.09540450000001, 51.4933815], [46.0962121, 51.49277949999999], [46.0965588, 51.4924973], [46.0968887, 51.492156000000016], [46.0977115, 51.49123779999999], [46.0979849, 51.49098169999999], [46.0982949, 51.490744299999996], [46.0986239, 51.490524099999995], [46.0992912, 51.4901227], [46.0999252, 51.489741399999986], [46.1000193, 51.4896848], [46.100347, 51.4894876], [46.1007764, 51.4892306], [46.1012144, 51.4889731], [46.1014587, 51.48881889999999], [46.1022576, 51.4883384], [46.102521, 51.488149299999996], [46.1026458, 51.4880157], [46.102705400000005, 51.487864099999996], [46.102721, 51.487690199999996], [46.102792400000006, 51.4867862], [46.1027998, 51.4866035], [46.1027713, 51.486495000000005], [46.1027086, 51.4864305], [46.1025033, 51.48633729999999], [46.1024037, 51.486306500000005], [46.1022426, 51.48626410000001], [46.1019604, 51.48618530000001], [46.1013639, 51.486056899999994]], &quot;type&quot;: &quot;LineString&quot;}, &quot;id&quot;: &quot;123&quot;, &quot;properties&quot;: {&quot;__folium_color&quot;: &quot;#1f77b4&quot;, &quot;desc&quot;: &quot;routing&quot;, &quot;key&quot;: 0, &quot;route&quot;: &quot;247&quot;, &quot;type&quot;: &quot;bus&quot;, &quot;u&quot;: 82, &quot;v&quot;: 83.0}, &quot;type&quot;: &quot;Feature&quot;}, {&quot;bbox&quot;: [46.1009541, 51.486010099999994, 46.1013639, 51.486056899999994], &quot;geometry&quot;: {&quot;coordinates&quot;: [[46.1009541, 51.486010099999994], [46.1013639, 51.486056899999994]], &quot;type&quot;: &quot;LineString&quot;}, &quot;id&quot;: &quot;124&quot;, &quot;properties&quot;: {&quot;__folium_color&quot;: &quot;#1f77b4&quot;, &quot;desc&quot;: &quot;boarding&quot;, &quot;key&quot;: 0, &quot;route&quot;: &quot;247&quot;, &quot;type&quot;: null, &quot;u&quot;: 83, &quot;v&quot;: 31.0}, &quot;type&quot;: &quot;Feature&quot;}, {&quot;bbox&quot;: [46.1013639, 51.486056899999994, 46.1061731, 51.4865514], &quot;geometry&quot;: {&quot;coordinates&quot;: [[46.1013639, 51.486056899999994], [46.1019604, 51.48618530000001], [46.1022154, 51.486211299999994], [46.1023483, 51.4862217], [46.1024791, 51.4862178], [46.1025797, 51.48620280000001], [46.1027033, 51.486148099999994], [46.1030871, 51.48617569999999], [46.1031871, 51.4862253], [46.1032975, 51.486260800000004], [46.1034269, 51.4862844], [46.1037012, 51.486315600000005], [46.1058649, 51.486440899999984], [46.1061731, 51.4865514]], &quot;type&quot;: &quot;LineString&quot;}, &quot;id&quot;: &quot;125&quot;, &quot;properties&quot;: {&quot;__folium_color&quot;: &quot;#1f77b4&quot;, &quot;desc&quot;: &quot;routing&quot;, &quot;key&quot;: 0, &quot;route&quot;: &quot;247&quot;, &quot;type&quot;: &quot;bus&quot;, &quot;u&quot;: 83, &quot;v&quot;: 84.0}, &quot;type&quot;: &quot;Feature&quot;}, {&quot;bbox&quot;: [46.1061731, 51.486515099999984, 46.1062654, 51.4865514], &quot;geometry&quot;: {&quot;coordinates&quot;: [[46.1062654, 51.486515099999984], [46.1061731, 51.4865514]], &quot;type&quot;: &quot;LineString&quot;}, &quot;id&quot;: &quot;126&quot;, &quot;properties&quot;: {&quot;__folium_color&quot;: &quot;#1f77b4&quot;, &quot;desc&quot;: &quot;boarding&quot;, &quot;key&quot;: 0, &quot;route&quot;: &quot;247&quot;, &quot;type&quot;: null, &quot;u&quot;: 84, &quot;v&quot;: 32.0}, &quot;type&quot;: &quot;Feature&quot;}, {&quot;bbox&quot;: [46.1061731, 51.4865514, 46.109063022422866, 51.48947941755196], &quot;geometry&quot;: {&quot;coordinates&quot;: [[46.1061731, 51.4865514], [46.108072, 51.4884557], [46.108913, 51.4893185], [46.109063022422866, 51.48947941755196]], &quot;type&quot;: &quot;LineString&quot;}, &quot;id&quot;: &quot;127&quot;, &quot;properties&quot;: {&quot;__folium_color&quot;: &quot;#1f77b4&quot;, &quot;desc&quot;: &quot;routing&quot;, &quot;key&quot;: 0, &quot;route&quot;: &quot;247&quot;, &quot;type&quot;: &quot;bus&quot;, &quot;u&quot;: 84, &quot;v&quot;: 85.0}, &quot;type&quot;: &quot;Feature&quot;}, {&quot;bbox&quot;: [46.109063022422866, 51.48944319999999, 46.1091627, 51.48947941755196], &quot;geometry&quot;: {&quot;coordinates&quot;: [[46.1091627, 51.48944319999999], [46.109063022422866, 51.48947941755196]], &quot;type&quot;: &quot;LineString&quot;}, &quot;id&quot;: &quot;128&quot;, &quot;properties&quot;: {&quot;__folium_color&quot;: &quot;#1f77b4&quot;, &quot;desc&quot;: &quot;boarding&quot;, &quot;key&quot;: 0, &quot;route&quot;: &quot;247&quot;, &quot;type&quot;: null, &quot;u&quot;: 85, &quot;v&quot;: 34.0}, &quot;type&quot;: &quot;Feature&quot;}, {&quot;bbox&quot;: [46.109063022422866, 51.48947941755196, 46.11097975686399, 51.49153523355422], &quot;geometry&quot;: {&quot;coordinates&quot;: [[46.109063022422866, 51.48947941755196], [46.11097975686399, 51.49153523355422]], &quot;type&quot;: &quot;LineString&quot;}, &quot;id&quot;: &quot;129&quot;, &quot;properties&quot;: {&quot;__folium_color&quot;: &quot;#1f77b4&quot;, &quot;desc&quot;: &quot;routing&quot;, &quot;key&quot;: 0, &quot;route&quot;: &quot;247&quot;, &quot;type&quot;: &quot;bus&quot;, &quot;u&quot;: 85, &quot;v&quot;: 86.0}, &quot;type&quot;: &quot;Feature&quot;}, {&quot;bbox&quot;: [46.11097975686399, 51.4914882, 46.11110920000001, 51.49153523355422], &quot;geometry&quot;: {&quot;coordinates&quot;: [[46.11110920000001, 51.4914882], [46.11097975686399, 51.49153523355422]], &quot;type&quot;: &quot;LineString&quot;}, &quot;id&quot;: &quot;130&quot;, &quot;properties&quot;: {&quot;__folium_color&quot;: &quot;#1f77b4&quot;, &quot;desc&quot;: &quot;boarding&quot;, &quot;key&quot;: 0, &quot;route&quot;: &quot;247&quot;, &quot;type&quot;: null, &quot;u&quot;: 86, &quot;v&quot;: 36.0}, &quot;type&quot;: &quot;Feature&quot;}, {&quot;bbox&quot;: [46.1082589, 51.49153523355422, 46.113112229639384, 51.49650979999999], &quot;geometry&quot;: {&quot;coordinates&quot;: [[46.11097975686399, 51.49153523355422], [46.1112394, 51.49181369999999], [46.1103001, 51.4922867], [46.1097995, 51.49256110000001], [46.1097096, 51.49261039999999], [46.1096373, 51.4926505], [46.1082589, 51.493389], [46.1092821, 51.49422289999999], [46.1100936, 51.49489079999999], [46.1119304, 51.49650979999999], [46.1129369, 51.49624059999999], [46.113112229639384, 51.49619370270817]], &quot;type&quot;: &quot;LineString&quot;}, &quot;id&quot;: &quot;131&quot;, &quot;properties&quot;: {&quot;__folium_color&quot;: &quot;#1f77b4&quot;, &quot;desc&quot;: &quot;routing&quot;, &quot;key&quot;: 0, &quot;route&quot;: &quot;247&quot;, &quot;type&quot;: &quot;bus&quot;, &quot;u&quot;: 86, &quot;v&quot;: 87.0}, &quot;type&quot;: &quot;Feature&quot;}, {&quot;bbox&quot;: [46.113079, 51.49614529999999, 46.113112229639384, 51.49619370270817], &quot;geometry&quot;: {&quot;coordinates&quot;: [[46.113079, 51.49614529999999], [46.113112229639384, 51.49619370270817]], &quot;type&quot;: &quot;LineString&quot;}, &quot;id&quot;: &quot;132&quot;, &quot;properties&quot;: {&quot;__folium_color&quot;: &quot;#1f77b4&quot;, &quot;desc&quot;: &quot;boarding&quot;, &quot;key&quot;: 0, &quot;route&quot;: &quot;247&quot;, &quot;type&quot;: null, &quot;u&quot;: 87, &quot;v&quot;: 37.0}, &quot;type&quot;: &quot;Feature&quot;}, {&quot;bbox&quot;: [46.113112229639384, 51.4958355669659, 46.11541486764231, 51.4969039], &quot;geometry&quot;: {&quot;coordinates&quot;: [[46.113112229639384, 51.49619370270817], [46.1131743, 51.49617709999999], [46.1132912, 51.49617880000001], [46.113407800000004, 51.496191399999994], [46.1135176, 51.49622089999999], [46.1136072, 51.496266299999995], [46.1138324, 51.49648140000001], [46.114105, 51.49673219999998], [46.114146, 51.496772], [46.1142364, 51.496842099999995], [46.1143275, 51.4969039], [46.115051400000006, 51.49619239999999], [46.1152034, 51.49604299999999], [46.11541486764231, 51.4958355669659]], &quot;type&quot;: &quot;LineString&quot;}, &quot;id&quot;: &quot;133&quot;, &quot;properties&quot;: {&quot;__folium_color&quot;: &quot;#1f77b4&quot;, &quot;desc&quot;: &quot;routing&quot;, &quot;key&quot;: 0, &quot;route&quot;: &quot;247&quot;, &quot;type&quot;: &quot;bus&quot;, &quot;u&quot;: 87, &quot;v&quot;: 88.0}, &quot;type&quot;: &quot;Feature&quot;}, {&quot;bbox&quot;: [46.1153077, 51.495793, 46.11541486764231, 51.4958355669659], &quot;geometry&quot;: {&quot;coordinates&quot;: [[46.1153077, 51.495793], [46.11541486764231, 51.4958355669659]], &quot;type&quot;: &quot;LineString&quot;}, &quot;id&quot;: &quot;134&quot;, &quot;properties&quot;: {&quot;__folium_color&quot;: &quot;#1f77b4&quot;, &quot;desc&quot;: &quot;boarding&quot;, &quot;key&quot;: 0, &quot;route&quot;: &quot;247&quot;, &quot;type&quot;: null, &quot;u&quot;: 88, &quot;v&quot;: 39.0}, &quot;type&quot;: &quot;Feature&quot;}, {&quot;bbox&quot;: [46.11541486764231, 51.49257329999999, 46.119650179286566, 51.4958355669659], &quot;geometry&quot;: {&quot;coordinates&quot;: [[46.11541486764231, 51.4958355669659], [46.1165209, 51.4947506], [46.1173785, 51.4939093], [46.117649, 51.493644], [46.1186216, 51.492689799999994], [46.1187404, 51.49257329999999], [46.1190001, 51.4926763], [46.1191592, 51.4927393], [46.1195316, 51.4928869], [46.119650179286566, 51.49293390546756]], &quot;type&quot;: &quot;LineString&quot;}, &quot;id&quot;: &quot;135&quot;, &quot;properties&quot;: {&quot;__folium_color&quot;: &quot;#1f77b4&quot;, &quot;desc&quot;: &quot;routing&quot;, &quot;key&quot;: 0, &quot;route&quot;: &quot;247&quot;, &quot;type&quot;: &quot;bus&quot;, &quot;u&quot;: 88, &quot;v&quot;: 89.0}, &quot;type&quot;: &quot;Feature&quot;}, {&quot;bbox&quot;: [46.119650179286566, 51.4928925, 46.1196923, 51.49293390546756], &quot;geometry&quot;: {&quot;coordinates&quot;: [[46.1196923, 51.4928925], [46.119650179286566, 51.49293390546756]], &quot;type&quot;: &quot;LineString&quot;}, &quot;id&quot;: &quot;136&quot;, &quot;properties&quot;: {&quot;__folium_color&quot;: &quot;#1f77b4&quot;, &quot;desc&quot;: &quot;boarding&quot;, &quot;key&quot;: 0, &quot;route&quot;: &quot;247&quot;, &quot;type&quot;: null, &quot;u&quot;: 89, &quot;v&quot;: 42.0}, &quot;type&quot;: &quot;Feature&quot;}, {&quot;bbox&quot;: [46.119650179286566, 51.49293390546756, 46.1281001, 51.50080239999999], &quot;geometry&quot;: {&quot;coordinates&quot;: [[46.119650179286566, 51.49293390546756], [46.1199264, 51.49304339999999], [46.1209727, 51.4934616], [46.121293800000004, 51.493595000000006], [46.1215619, 51.49373219999998], [46.1218247, 51.49391949999998], [46.1220747, 51.494152], [46.12228480000001, 51.494347299999994], [46.122538, 51.4946216], [46.1227561, 51.4949019], [46.1231995, 51.49565599999999], [46.1236807, 51.496474199999994], [46.1240166, 51.497049499999996], [46.1245081, 51.497881199999995], [46.1250396, 51.498785000000005], [46.125136, 51.498949], [46.1257548, 51.49984419999999], [46.1258774, 51.49988689999999], [46.1260274, 51.49991189999999], [46.1264459, 51.4998957], [46.126651, 51.49988999999999], [46.1281001, 51.4999338], [46.1280999, 51.500023399999996], [46.128099, 51.50054719999999], [46.1278339, 51.5007301], [46.1271524, 51.50080239999999]], &quot;type&quot;: &quot;LineString&quot;}, &quot;id&quot;: &quot;137&quot;, &quot;properties&quot;: {&quot;__folium_color&quot;: &quot;#1f77b4&quot;, &quot;desc&quot;: &quot;routing&quot;, &quot;key&quot;: 0, &quot;route&quot;: &quot;247&quot;, &quot;type&quot;: &quot;bus&quot;, &quot;u&quot;: 89, &quot;v&quot;: 90.0}, &quot;type&quot;: &quot;Feature&quot;}, {&quot;bbox&quot;: [46.1270045, 51.500745300000005, 46.1271524, 51.50080239999999], &quot;geometry&quot;: {&quot;coordinates&quot;: [[46.1270045, 51.500745300000005], [46.1271524, 51.50080239999999]], &quot;type&quot;: &quot;LineString&quot;}, &quot;id&quot;: &quot;138&quot;, &quot;properties&quot;: {&quot;__folium_color&quot;: &quot;#1f77b4&quot;, &quot;desc&quot;: &quot;boarding&quot;, &quot;key&quot;: 0, &quot;route&quot;: &quot;247&quot;, &quot;type&quot;: null, &quot;u&quot;: 90, &quot;v&quot;: 43.0}, &quot;type&quot;: &quot;Feature&quot;}], &quot;type&quot;: &quot;FeatureCollection&quot;});\n\n        \n    \n    geo_json_6882f26b41b5a45ad3224d5a58821043.bindTooltip(\n    function(layer){\n    let div = L.DomUtil.create(&#x27;div&#x27;);\n    \n    let handleObject = feature=&gt;typeof(feature)==&#x27;object&#x27; ? JSON.stringify(feature) : feature;\n    let fields = [&quot;u&quot;, &quot;v&quot;, &quot;key&quot;, &quot;desc&quot;, &quot;route&quot;, &quot;type&quot;];\n    let aliases = [&quot;u&quot;, &quot;v&quot;, &quot;key&quot;, &quot;desc&quot;, &quot;route&quot;, &quot;type&quot;];\n    let table = &#x27;&lt;table&gt;&#x27; +\n        String(\n        fields.map(\n        (v,i)=&gt;\n        `&lt;tr&gt;\n            &lt;th&gt;${aliases[i]}&lt;/th&gt;\n            \n            &lt;td&gt;${handleObject(layer.feature.properties[v])}&lt;/td&gt;\n        &lt;/tr&gt;`).join(&#x27;&#x27;))\n    +&#x27;&lt;/table&gt;&#x27;;\n    div.innerHTML=table;\n    \n    return div\n    }\n    ,{&quot;className&quot;: &quot;foliumtooltip&quot;, &quot;sticky&quot;: true});\n                     \n    \n            geo_json_6882f26b41b5a45ad3224d5a58821043.addTo(map_d1abd11671f3ce16a56785b12e945282);\n        \n&lt;/script&gt;\n&lt;/html&gt;\" style=\"position:absolute;width:100%;height:100%;left:0;top:0;border:none !important;\" allowfullscreen webkitallowfullscreen mozallowfullscreen></iframe></div></div>"
     },
     "execution_count": 49,
     "metadata": {},
     "output_type": "execute_result"
    }
   ],
   "execution_count": 49
  },
  {
   "cell_type": "code",
   "source": [
    "t = data_geom.iloc[3]\n",
    "platforms = gpd.GeoDataFrame(geometry=t['platforms'], crs=local_crs)\n",
    "stops = gpd.GeoDataFrame(geometry=t['stops'], crs=local_crs)\n",
    "\n",
    "connection = gpd.sjoin_nearest(platforms, stops)\n",
    "connection"
   ],
   "metadata": {
    "collapsed": false
   },
   "id": "d5bbca2af2040fe1",
   "outputs": [],
   "execution_count": null
  },
  {
   "cell_type": "code",
   "source": [
    "from shapely.ops import substring\n",
    "\n",
    "line = LineString([(0, 0), (2, 2), (5, 5), (10, 0)])\n",
    "\n",
    "start_distance = 4\n",
    "end_distance = 6\n",
    "\n",
    "sub_line = substring(line, 4, 10)\n",
    "line"
   ],
   "metadata": {
    "collapsed": false
   },
   "id": "3c533d00bb4ae367",
   "outputs": [],
   "execution_count": null
  },
  {
   "cell_type": "code",
   "source": [
    "m1 = gpd.GeoDataFrame(geometry=[LineString(x) for x in data_geom['path'].iloc[2:3]], crs=local_crs).explore()\n",
    "gpd.GeoDataFrame(geometry=graph_gdf.iloc[2], crs=local_crs).explore(m=m1, color='red')"
   ],
   "metadata": {
    "collapsed": false
   },
   "id": "30fbaae2877a3a66",
   "outputs": [],
   "execution_count": null
  },
  {
   "cell_type": "code",
   "source": [],
   "metadata": {
    "collapsed": false
   },
   "id": "f61609647ddc3190",
   "outputs": [],
   "execution_count": null
  },
  {
   "cell_type": "code",
   "source": [
    "from shapely import LineString\n",
    "import geopandas as gpd\n",
    "\n",
    "m1 = gpd.GeoDataFrame(geometry=[LineString(x) for x in data_geom['path']], crs=local_crs).reset_index().explore(\n",
    "    column='index', tiles='CartoDB positron')\n",
    "# gpd.GeoDataFrame(data_geom.iloc[1]['platforms'], crs=4326).reset_index().explore(m=m1, color='red')\n",
    "m1"
   ],
   "metadata": {
    "collapsed": false
   },
   "id": "def748b5b55141ed",
   "outputs": [],
   "execution_count": null
  },
  {
   "cell_type": "code",
   "source": [
    "t = [(1, 6), (0, 3), (2, 5)]\n",
    "for i in range(3):\n"
   ],
   "metadata": {
    "collapsed": false
   },
   "id": "5b7a2ceef62ed8b2",
   "outputs": [],
   "execution_count": null
  },
  {
   "cell_type": "code",
   "source": [
    "test = pd.DataFrame(data_osm.iloc[2]['members'])\n",
    "test = test[(test['type'] == 'node') & (test['role'].isin(['platform_entry_only', 'platform', 'platform_exit_only']))]\n",
    "test['geometry'] = test.apply(lambda x: (Point(x[\"lon\"], x[\"lat\"])), axis=1)\n",
    "test.reset_index(drop=True, inplace=True)\n",
    "gdf = gpd.GeoDataFrame(test.reset_index(), crs=4326)\n",
    "gdf.geometry = gdf.geometry.buffer(0.0001)\n",
    "gdf.explore()"
   ],
   "metadata": {
    "collapsed": false
   },
   "id": "ad765dd9d2d0e377",
   "outputs": [],
   "execution_count": null
  },
  {
   "cell_type": "code",
   "source": [
    "test = pd.DataFrame(data_osm.iloc[1]['members'])\n",
    "test = test[test['type'] == 'way']\n",
    "test = test[\"geometry\"]\n",
    "test = test.apply(lambda x: ([(coords[\"lon\"], coords[\"lat\"]) for coords in x]))\n",
    "# gdf = gpd.GeoDataFrame(test.reset_index(),geometry='geometry',crs=4326)\n",
    "# gdf.geometry = gdf.geometry.buffer(0.0001)\n",
    "# gdf.explore()\n",
    "test"
   ],
   "metadata": {
    "collapsed": false
   },
   "id": "2bf1a4227053f93a",
   "outputs": [],
   "execution_count": null
  },
  {
   "cell_type": "code",
   "source": [
    "test"
   ],
   "metadata": {
    "collapsed": false
   },
   "id": "f1efd44c9e1c772b",
   "outputs": [],
   "execution_count": null
  },
  {
   "cell_type": "markdown",
   "source": [
    "#### ПОПЫТКА СОЕДИНЯТЬ ДОРОГИ "
   ],
   "metadata": {
    "collapsed": false
   },
   "id": "be63856c89c2f05e"
  },
  {
   "cell_type": "code",
   "source": [
    "from scipy.spatial import cKDTree\n",
    "from shapely import LineString, Point\n",
    "import geopandas as gpd\n",
    "\n",
    "PLATFORM_ROLES = []\n",
    "\n",
    "\n",
    "def parse_overpass_route_response(loc: dict):\n",
    "    if 'ref' in loc['tags'].keys():\n",
    "        transport_name = loc['tags']['ref']\n",
    "    else:\n",
    "        transport_name = loc['tags']['name']\n",
    "    route = pd.DataFrame(loc[\"members\"])\n",
    "\n",
    "    ways = route[route[\"type\"] == \"way\"]\n",
    "\n",
    "    if len(ways) > 0:\n",
    "        ways = ways[\"geometry\"].reset_index(drop=True)\n",
    "        ways = ways.apply(lambda x: ([(coords[\"lon\"], coords[\"lat\"]) for coords in x])).tolist()\n",
    "        if ways[0][0] == ways[1][0] or ways[0][0] == ways[1][-1]:\n",
    "            complete_line = ways[0][::-1]\n",
    "        else:\n",
    "            complete_line = ways[0]\n",
    "        for coords in ways[1:]:\n",
    "            if complete_line[-1] == coords[0]:\n",
    "                complete_line += coords[1:]\n",
    "            elif complete_line[-1] == coords[-1]:\n",
    "                complete_line += coords[::-1][1:]\n",
    "            else:\n",
    "                if coords[0] == coords[-1]:\n",
    "                    continue\n",
    "                else:\n",
    "                    tree = cKDTree([coords[0], coords[-1]])\n",
    "                    _, ind = tree.query(complete_line[-1])\n",
    "                    if ind == 1:\n",
    "                        coords = coords[::-1]\n",
    "                    complete_line += coords\n",
    "        # print('^^^^^^^^^^')\n",
    "\n",
    "    else:\n",
    "        complete_line = None\n",
    "    if \"node\" in route[\"type\"].unique():\n",
    "        platforms = route[(route[\"type\"] == \"node\")].apply(lambda x: Point(x[\"lon\"], x[\"lat\"]), axis=1)\n",
    "    else:\n",
    "        platforms = None\n",
    "\n",
    "    return pd.Series({\"way\": complete_line, \"platforms\": platforms, 'name': transport_name})\n",
    "\n",
    "\n",
    "data_geom = data_osm.apply(parse_overpass_route_response, axis=1, result_type='expand')\n",
    "data_geom"
   ],
   "metadata": {
    "collapsed": false
   },
   "id": "30f423107fc5439",
   "outputs": [],
   "execution_count": null
  },
  {
   "cell_type": "code",
   "source": [
    "test = [LineString(\n",
    "    [(46.0046822, 51.5426408), (46.0046214, 51.5425402), (46.0042506, 51.541918), (46.0038134, 51.5411845),\n",
    "     (46.0036437, 51.5408997), (46.0035859, 51.5408011), (46.0035352, 51.5407158), (46.0031053, 51.5399929),\n",
    "     (46.0028598, 51.5395801), (46.0026303, 51.5391941), (46.0025706, 51.5390938), (46.0023997, 51.5391331),\n",
    "     (46.00211, 51.5391985), (46.0019414, 51.5392372), (46.0008809, 51.5394906), (46.00081, 51.5395332),\n",
    "     (46.000665, 51.5396234), (46.0006024, 51.5396705), (46.0005255, 51.5397869), (46.000459, 51.5399285),\n",
    "     (46.0005332, 51.54006), (46.0007185, 51.5403886), (46.0008003, 51.5405164), (46.0008441, 51.5405848)]), LineString(\n",
    "    [(46.0046822, 51.5426408), (46.0048226, 51.5426046), (46.0048853, 51.5425884), (46.0065015, 51.5422214),\n",
    "     (46.0067008, 51.5421762), (46.007038, 51.5420996), (46.0071807, 51.5420672)]), Point(46.0046822, 51.5426408)]\n",
    "\n",
    "gpd.GeoDataFrame(geometry=test, crs=4326).explore()"
   ],
   "metadata": {
    "collapsed": false
   },
   "id": "644eecaf69135bed",
   "outputs": [],
   "execution_count": null
  },
  {
   "cell_type": "code",
   "source": [
    "gpd.GeoDataFrame(geometry=data_geom['way'].apply(LineString), crs=4326).reset_index().explore(column='index')"
   ],
   "metadata": {
    "collapsed": false
   },
   "id": "664065a99455656",
   "outputs": [],
   "execution_count": null
  },
  {
   "cell_type": "code",
   "source": [
    "print(data_geom['way'].apply(LineString).iloc[1])"
   ],
   "metadata": {
    "collapsed": false
   },
   "id": "62b733c1fde4e799",
   "outputs": [],
   "execution_count": null
  },
  {
   "cell_type": "code",
   "source": [
    "data_geom.iloc[16]['way']"
   ],
   "metadata": {
    "collapsed": false
   },
   "id": "4c9a8fc4dd48026b",
   "outputs": [],
   "execution_count": null
  },
  {
   "cell_type": "code",
   "source": [
    "ways = data_geom.iloc[16]['way']\n",
    "ways = ways[\"geometry\"].reset_index(drop=True)\n",
    "lines = ways.apply(lambda x: ([(coords[\"lon\"], coords[\"lat\"]) for coords in x])).tolist()\n",
    "if lines[0][0] == lines[1][0]:\n",
    "    complete_line = lines[0][::-1]\n",
    "else:\n",
    "    complete_line = lines[0]\n",
    "for coords in lines[1:]:\n",
    "    if complete_line[-1] == coords[0]:\n",
    "        complete_line += coords[1:]\n",
    "    elif complete_line[-1] == coords[-1]:\n",
    "        complete_line += coords[::-1][1:]\n",
    "    else:\n",
    "        print('\\n\\nWTF\\n\\n')\n",
    "\n"
   ],
   "metadata": {
    "collapsed": false
   },
   "id": "8395e7884a6e5c60",
   "outputs": [],
   "execution_count": null
  },
  {
   "cell_type": "code",
   "source": [
    "gpd.GeoDataFrame(geometry=[LineString(complete_line)], crs=4326).explore()"
   ],
   "metadata": {
    "collapsed": false
   },
   "id": "cc5af2e4f5118d14",
   "outputs": [],
   "execution_count": null
  },
  {
   "cell_type": "code",
   "source": [
    "\n",
    "from shapely import MultiPoint\n",
    "\n",
    "gpd.GeoDataFrame(data=[{'kek': i} for i in data_geom.index.tolist()],\n",
    "                 geometry=data_geom['platforms'].apply(lambda x: MultiPoint(x)), crs=4326).explore(column='kek')"
   ],
   "metadata": {
    "collapsed": false
   },
   "id": "fbddc31159b0cff8",
   "outputs": [],
   "execution_count": null
  },
  {
   "cell_type": "code",
   "source": [
    "\n",
    "data_geom.index.tolist()"
   ],
   "metadata": {
    "collapsed": false
   },
   "id": "3a0f48a874028657",
   "outputs": [],
   "execution_count": null
  },
  {
   "cell_type": "markdown",
   "source": [
    "## Download from microsoft ML footprint"
   ],
   "metadata": {
    "collapsed": false
   },
   "id": "e07d4d51c3a6dec1"
  },
  {
   "cell_type": "markdown",
   "source": [
    "\"\"\"\n",
    "This snippet demonstrates how to access and convert the buildings\n",
    "data from .csv.gz to geojson for use in common GIS tools. You will\n",
    "need to install pandas, geopandas, and shapely.\n",
    "\"\"\"\n",
    "\n",
    "import pandas as pd\n",
    "import geopandas as gpd\n",
    "from shapely.geometry import shape\n",
    "\n",
    "location = 'Russia'\n",
    "\n",
    "dataset_links = pd.read_csv(\"https://minedbuildings.blob.core.windows.net/global-buildings/dataset-links.csv\")\n",
    "greece_links = dataset_links[dataset_links.Location == location]\n",
    "\n",
    "\n",
    "def convert_to_bytes(size):\n",
    "    size = str(size)\n",
    "    if 'KB' in size:\n",
    "        return float(size.replace('KB', '')) * 1024\n",
    "    elif 'MB' in size:\n",
    "        return float(size.replace('MB', '')) * 1024 * 1024\n",
    "    elif 'B' in size:\n",
    "        return float(size.replace('B', ''))\n",
    "    else:\n",
    "        return float(size)\n",
    "\n",
    "\n",
    "greece_links['Size_in_bytes'] = greece_links['Size'].apply(convert_to_bytes)\n",
    "greece_links = greece_links.sort_values(by='Size_in_bytes', ascending=False)\n",
    "greece_links = greece_links.head(10)\n",
    "\n",
    "greece_links = greece_links\n",
    "for _, row in greece_links.iterrows():\n",
    "    df = pd.read_json(row.Url, lines=True)\n",
    "    df['geometry'] = df['geometry'].apply(shape)\n",
    "    gdf = gpd.GeoDataFrame(df, crs=4326)\n",
    "    gdf.to_file(f\"{row.QuadKey}.geojson\", driver=\"GeoJSON\")\n"
   ],
   "metadata": {
    "collapsed": false
   },
   "id": "c1708183fc617aef"
  },
  {
   "cell_type": "markdown",
   "source": [
    "\n",
    "location = 'Russia'\n",
    "\n",
    "dataset_links = pd.read_csv(\"https://minedbuildings.blob.core.windows.net/global-buildings/dataset-links.csv\")\n",
    "greece_links = dataset_links[dataset_links.Location == location]\n",
    "\n",
    "\n",
    "def convert_to_bytes(size):\n",
    "    size = str(size)\n",
    "    if 'KB' in size:\n",
    "        return float(size.replace('KB', '')) * 1024\n",
    "    elif 'MB' in size:\n",
    "        return float(size.replace('MB', '')) * 1024 * 1024\n",
    "    elif 'B' in size:\n",
    "        return float(size.replace('B', ''))\n",
    "    else:\n",
    "        return float(size)\n",
    "\n",
    "\n",
    "greece_links['Size_in_bytes'] = greece_links['Size'].apply(convert_to_bytes)\n",
    "greece_links = greece_links.sort_values(by='Size_in_bytes', ascending=False)"
   ],
   "metadata": {
    "collapsed": false
   },
   "id": "101e0394e8df3bce"
  },
  {
   "cell_type": "code",
   "source": [],
   "metadata": {
    "collapsed": false
   },
   "id": "d1d916e6a3d62e00",
   "outputs": [],
   "execution_count": null
  },
  {
   "cell_type": "markdown",
   "source": [
    "## Для вшэ временно тут\n",
    "import math\n",
    "\n",
    "import geopandas as gpd\n",
    "f1 = 'Зоны видимости школ (без деревьев).geojson'\n",
    "f2 = 'Зоны видимости школ (с деревьями).geojson'\n",
    "\n",
    "d1 = gpd.read_file(f1).to_crs(32636)\n",
    "d2 = gpd.read_file(f2).to_crs(32636)\n",
    "\n",
    "d1.drop(columns=['area','perimeter'],inplace=True)\n",
    "d2.drop(columns=['area','perimeter'],inplace=True)\n",
    "\n",
    "import pandas as pd\n",
    "schools = gpd.read_file('Полигоны школ.geojson').to_crs(32636)\n",
    "schools['ID школы'] = schools['ID школы'].astype(int)\n",
    "schools['Площадь школы(м2)'] = round(schools.geometry.area,2)\n",
    "schools['school_geom'] = schools.geometry\n",
    "d1_ =  pd.merge(d1,schools[['Площадь школы(м2)','ID школы','school_geom']],on='ID школы')\n",
    "d2_ =  pd.merge(d2,schools[['Площадь школы(м2)','ID школы','school_geom']],on='ID школы')\n",
    "\n",
    "import math\n",
    "\n",
    "d1_['Площадь видимости(м2)'] = round(d1_.geometry.area,2)\n",
    "d2_['Площадь видимости(м2)'] = round(d2_.geometry.area,2)\n",
    "\n",
    "d1_['Коэффициент видимости'] = d1_.apply(lambda x: round(x.geometry.area / x['school_geom'].buffer(1000).area,5),axis=1)\n",
    "d2_['Коэффициент видимости'] = d2_.apply(lambda x: round(x.geometry.area / x['school_geom'].buffer(1000).area,5),axis=1)\n",
    "\n",
    "d1_.drop(columns='school_geom').to_file(f1)\n",
    "d2_.drop(columns='school_geom').to_file(f2)"
   ],
   "metadata": {
    "collapsed": false
   },
   "id": "53bbbb6ac696fbc1"
  },
  {
   "cell_type": "code",
   "source": [],
   "metadata": {
    "collapsed": false
   },
   "id": "c52fb5b5733cd1f9",
   "outputs": [],
   "execution_count": null
  }
 ],
 "metadata": {
  "kernelspec": {
   "display_name": "Python 3",
   "language": "python",
   "name": "python3"
  },
  "language_info": {
   "codemirror_mode": {
    "name": "ipython",
    "version": 2
   },
   "file_extension": ".py",
   "mimetype": "text/x-python",
   "name": "python",
   "nbconvert_exporter": "python",
   "pygments_lexer": "ipython2",
   "version": "2.7.6"
  }
 },
 "nbformat": 4,
 "nbformat_minor": 5
}
