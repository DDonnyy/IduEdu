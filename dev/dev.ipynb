{
 "cells": [
  {
   "metadata": {
    "ExecuteTime": {
     "end_time": "2024-09-04T15:43:12.358657Z",
     "start_time": "2024-09-04T15:42:52.044766Z"
    }
   },
   "cell_type": "code",
   "source": [
    "from iduedu import get_all_public_transport_graph,get_intermodal_graph,get_drive_graph\n",
    "\n",
    "wout_geom = get_all_public_transport_graph(osm_id=1114252)\n",
    "intermodal = get_intermodal_graph(osm_id=1114252)\n",
    "drive_graph = get_drive_graph(osm_id=1114252)"
   ],
   "id": "5a5ad1863a13aae6",
   "outputs": [
    {
     "data": {
      "text/html": [
       "\n",
       "\t\t\t<script type=\"text/javascript\">\n",
       "\t\t\t<!--\n",
       "\t\t\t\t\n",
       "\t\t\t{\n",
       "\t\t\t\tvar element = document.getElementById('NetworKit_script');\n",
       "\t\t\t\tif (element) {\n",
       "\t\t\t\t\telement.parentNode.removeChild(element);\n",
       "\t\t\t\t}\n",
       "\t\t\t\telement = document.createElement('script');\n",
       "\t\t\t\telement.type = 'text/javascript';\n",
       "\t\t\t\telement.innerHTML = 'function NetworKit_pageEmbed(id) { var i, j; var elements; elements = document.getElementById(id).getElementsByClassName(\"Plot\"); for (i=0; i<elements.length; i++) { elements[i].id = id + \"_Plot_\" + i; var data = elements[i].getAttribute(\"data-image\").split(\"|\"); elements[i].removeAttribute(\"data-image\"); var content = \"<div class=\\\\\"Image\\\\\" id=\\\\\"\" + elements[i].id + \"_Image\\\\\" />\"; elements[i].innerHTML = content; elements[i].setAttribute(\"data-image-index\", 0); elements[i].setAttribute(\"data-image-length\", data.length); for (j=0; j<data.length; j++) { elements[i].setAttribute(\"data-image-\" + j, data[j]); } NetworKit_plotUpdate(elements[i]); elements[i].onclick = function (e) { NetworKit_overlayShow((e.target) ? e.target : e.srcElement); } } elements = document.getElementById(id).getElementsByClassName(\"HeatCell\"); for (i=0; i<elements.length; i++) { var data = parseFloat(elements[i].getAttribute(\"data-heat\")); var color = \"#00FF00\"; if (data <= 1 && data > 0) { color = \"hsla(0, 100%, 75%, \" + (data) + \")\"; } else if (data <= 0 && data >= -1) { color = \"hsla(240, 100%, 75%, \" + (-data) + \")\"; } elements[i].style.backgroundColor = color; } elements = document.getElementById(id).getElementsByClassName(\"Details\"); for (i=0; i<elements.length; i++) { elements[i].setAttribute(\"data-title\", \"-\"); NetworKit_toggleDetails(elements[i]); elements[i].onclick = function (e) { NetworKit_toggleDetails((e.target) ? e.target : e.srcElement); } } elements = document.getElementById(id).getElementsByClassName(\"MathValue\"); for (i=elements.length-1; i>=0; i--) { value = elements[i].innerHTML.trim(); if (value === \"nan\") { elements[i].parentNode.innerHTML = \"\" } } elements = document.getElementById(id).getElementsByClassName(\"SubCategory\"); for (i=elements.length-1; i>=0; i--) { value = elements[i].innerHTML.trim(); if (value === \"\") { elements[i].parentNode.removeChild(elements[i]) } } elements = document.getElementById(id).getElementsByClassName(\"Category\"); for (i=elements.length-1; i>=0; i--) { value = elements[i].innerHTML.trim(); if (value === \"\") { elements[i].parentNode.removeChild(elements[i]) } } var isFirefox = false; try { isFirefox = typeof InstallTrigger !== \"undefined\"; } catch (e) {} if (!isFirefox) { alert(\"Currently the function\\'s output is only fully supported by Firefox.\"); } } function NetworKit_plotUpdate(source) { var index = source.getAttribute(\"data-image-index\"); var data = source.getAttribute(\"data-image-\" + index); var image = document.getElementById(source.id + \"_Image\"); image.style.backgroundImage = \"url(\" + data + \")\"; } function NetworKit_showElement(id, show) { var element = document.getElementById(id); element.style.display = (show) ? \"block\" : \"none\"; } function NetworKit_overlayShow(source) { NetworKit_overlayUpdate(source); NetworKit_showElement(\"NetworKit_Overlay\", true); } function NetworKit_overlayUpdate(source) { document.getElementById(\"NetworKit_Overlay_Title\").innerHTML = source.title; var index = source.getAttribute(\"data-image-index\"); var data = source.getAttribute(\"data-image-\" + index); var image = document.getElementById(\"NetworKit_Overlay_Image\"); image.setAttribute(\"data-id\", source.id); image.style.backgroundImage = \"url(\" + data + \")\"; var link = document.getElementById(\"NetworKit_Overlay_Toolbar_Bottom_Save\"); link.href = data; link.download = source.title + \".svg\"; } function NetworKit_overlayImageShift(delta) { var image = document.getElementById(\"NetworKit_Overlay_Image\"); var source = document.getElementById(image.getAttribute(\"data-id\")); var index = parseInt(source.getAttribute(\"data-image-index\")); var length = parseInt(source.getAttribute(\"data-image-length\")); var index = (index+delta) % length; if (index < 0) { index = length + index; } source.setAttribute(\"data-image-index\", index); NetworKit_overlayUpdate(source); } function NetworKit_toggleDetails(source) { var childs = source.children; var show = false; if (source.getAttribute(\"data-title\") == \"-\") { source.setAttribute(\"data-title\", \"+\"); show = false; } else { source.setAttribute(\"data-title\", \"-\"); show = true; } for (i=0; i<childs.length; i++) { if (show) { childs[i].style.display = \"block\"; } else { childs[i].style.display = \"none\"; } } }';\n",
       "\t\t\t\telement.setAttribute('id', 'NetworKit_script');\n",
       "\t\t\t\tdocument.head.appendChild(element);\n",
       "\t\t\t}\n",
       "\t\t\n",
       "\t\t\t\t\n",
       "\t\t\t{\n",
       "\t\t\t\tvar element = document.getElementById('NetworKit_style');\n",
       "\t\t\t\tif (element) {\n",
       "\t\t\t\t\telement.parentNode.removeChild(element);\n",
       "\t\t\t\t}\n",
       "\t\t\t\telement = document.createElement('style');\n",
       "\t\t\t\telement.type = 'text/css';\n",
       "\t\t\t\telement.innerHTML = '.NetworKit_Page { font-family: Arial, Helvetica, sans-serif; font-size: 14px; } .NetworKit_Page .Value:before { font-family: Arial, Helvetica, sans-serif; font-size: 1.05em; content: attr(data-title) \":\"; margin-left: -2.5em; padding-right: 0.5em; } .NetworKit_Page .Details .Value:before { display: block; } .NetworKit_Page .Value { font-family: monospace; white-space: pre; padding-left: 2.5em; white-space: -moz-pre-wrap !important; white-space: -pre-wrap; white-space: -o-pre-wrap; white-space: pre-wrap; word-wrap: break-word; tab-size: 4; -moz-tab-size: 4; } .NetworKit_Page .Category { clear: both; padding-left: 1em; margin-bottom: 1.5em; } .NetworKit_Page .Category:before { content: attr(data-title); font-size: 1.75em; display: block; margin-left: -0.8em; margin-bottom: 0.5em; } .NetworKit_Page .SubCategory { margin-bottom: 1.5em; padding-left: 1em; } .NetworKit_Page .SubCategory:before { font-size: 1.6em; display: block; margin-left: -0.8em; margin-bottom: 0.5em; } .NetworKit_Page .SubCategory[data-title]:before { content: attr(data-title); } .NetworKit_Page .Block { display: block; } .NetworKit_Page .Block:after { content: \".\"; visibility: hidden; display: block; height: 0; clear: both; } .NetworKit_Page .Block .Thumbnail_Overview, .NetworKit_Page .Block .Thumbnail_ScatterPlot { width: 260px; float: left; } .NetworKit_Page .Block .Thumbnail_Overview img, .NetworKit_Page .Block .Thumbnail_ScatterPlot img { width: 260px; } .NetworKit_Page .Block .Thumbnail_Overview:before, .NetworKit_Page .Block .Thumbnail_ScatterPlot:before { display: block; text-align: center; font-weight: bold; } .NetworKit_Page .Block .Thumbnail_Overview:before { content: attr(data-title); } .NetworKit_Page .HeatCell { font-family: \"Courier New\", Courier, monospace; cursor: pointer; } .NetworKit_Page .HeatCell, .NetworKit_Page .HeatCellName { display: inline; padding: 0.1em; margin-right: 2px; background-color: #FFFFFF } .NetworKit_Page .HeatCellName { margin-left: 0.25em; } .NetworKit_Page .HeatCell:before { content: attr(data-heat); display: inline-block; color: #000000; width: 4em; text-align: center; } .NetworKit_Page .Measure { clear: both; } .NetworKit_Page .Measure .Details { cursor: pointer; } .NetworKit_Page .Measure .Details:before { content: \"[\" attr(data-title) \"]\"; display: block; } .NetworKit_Page .Measure .Details .Value { border-left: 1px dotted black; margin-left: 0.4em; padding-left: 3.5em; pointer-events: none; } .NetworKit_Page .Measure .Details .Spacer:before { content: \".\"; opacity: 0.0; pointer-events: none; } .NetworKit_Page .Measure .Plot { width: 440px; height: 440px; cursor: pointer; float: left; margin-left: -0.9em; margin-right: 20px; } .NetworKit_Page .Measure .Plot .Image { background-repeat: no-repeat; background-position: center center; background-size: contain; height: 100%; pointer-events: none; } .NetworKit_Page .Measure .Stat { width: 500px; float: left; } .NetworKit_Page .Measure .Stat .Group { padding-left: 1.25em; margin-bottom: 0.75em; } .NetworKit_Page .Measure .Stat .Group .Title { font-size: 1.1em; display: block; margin-bottom: 0.3em; margin-left: -0.75em; border-right-style: dotted; border-right-width: 1px; border-bottom-style: dotted; border-bottom-width: 1px; background-color: #D0D0D0; padding-left: 0.2em; } .NetworKit_Page .Measure .Stat .Group .List { -webkit-column-count: 3; -moz-column-count: 3; column-count: 3; } .NetworKit_Page .Measure .Stat .Group .List .Entry { position: relative; line-height: 1.75em; } .NetworKit_Page .Measure .Stat .Group .List .Entry[data-tooltip]:before { position: absolute; left: 0; top: -40px; background-color: #808080; color: #ffffff; height: 30px; line-height: 30px; border-radius: 5px; padding: 0 15px; content: attr(data-tooltip); white-space: nowrap; display: none; } .NetworKit_Page .Measure .Stat .Group .List .Entry[data-tooltip]:after { position: absolute; left: 15px; top: -10px; border-top: 7px solid #808080; border-left: 7px solid transparent; border-right: 7px solid transparent; content: \"\"; display: none; } .NetworKit_Page .Measure .Stat .Group .List .Entry[data-tooltip]:hover:after, .NetworKit_Page .Measure .Stat .Group .List .Entry[data-tooltip]:hover:before { display: block; } .NetworKit_Page .Measure .Stat .Group .List .Entry .MathValue { font-family: \"Courier New\", Courier, monospace; } .NetworKit_Page .Measure:after { content: \".\"; visibility: hidden; display: block; height: 0; clear: both; } .NetworKit_Page .PartitionPie { clear: both; } .NetworKit_Page .PartitionPie img { width: 600px; } #NetworKit_Overlay { left: 0px; top: 0px; display: none; position: absolute; width: 100%; height: 100%; background-color: rgba(0,0,0,0.6); z-index: 1000; } #NetworKit_Overlay_Title { position: absolute; color: white; transform: rotate(-90deg); width: 32em; height: 32em; padding-right: 0.5em; padding-top: 0.5em; text-align: right; font-size: 40px; } #NetworKit_Overlay .button { background: white; cursor: pointer; } #NetworKit_Overlay .button:before { size: 13px; display: inline-block; text-align: center; margin-top: 0.5em; margin-bottom: 0.5em; width: 1.5em; height: 1.5em; } #NetworKit_Overlay .icon-close:before { content: \"X\"; } #NetworKit_Overlay .icon-previous:before { content: \"P\"; } #NetworKit_Overlay .icon-next:before { content: \"N\"; } #NetworKit_Overlay .icon-save:before { content: \"S\"; } #NetworKit_Overlay_Toolbar_Top, #NetworKit_Overlay_Toolbar_Bottom { position: absolute; width: 40px; right: 13px; text-align: right; z-index: 1100; } #NetworKit_Overlay_Toolbar_Top { top: 0.5em; } #NetworKit_Overlay_Toolbar_Bottom { Bottom: 0.5em; } #NetworKit_Overlay_ImageContainer { position: absolute; top: 5%; left: 5%; height: 90%; width: 90%; background-repeat: no-repeat; background-position: center center; background-size: contain; } #NetworKit_Overlay_Image { height: 100%; width: 100%; background-repeat: no-repeat; background-position: center center; background-size: contain; }';\n",
       "\t\t\t\telement.setAttribute('id', 'NetworKit_style');\n",
       "\t\t\t\tdocument.head.appendChild(element);\n",
       "\t\t\t}\n",
       "\t\t\n",
       "\t\t\t\t\n",
       "\t\t\t{\n",
       "\t\t\t\tvar element = document.getElementById('NetworKit_Overlay');\n",
       "\t\t\t\tif (element) {\n",
       "\t\t\t\t\telement.parentNode.removeChild(element);\n",
       "\t\t\t\t}\n",
       "\t\t\t\telement = document.createElement('div');\n",
       "\t\t\t\telement.innerHTML = '<div id=\"NetworKit_Overlay_Toolbar_Top\"><div class=\"button icon-close\" id=\"NetworKit_Overlay_Close\" /></div><div id=\"NetworKit_Overlay_Title\" /> <div id=\"NetworKit_Overlay_ImageContainer\"> <div id=\"NetworKit_Overlay_Image\" /> </div> <div id=\"NetworKit_Overlay_Toolbar_Bottom\"> <div class=\"button icon-previous\" onclick=\"NetworKit_overlayImageShift(-1)\" /> <div class=\"button icon-next\" onclick=\"NetworKit_overlayImageShift(1)\" /> <a id=\"NetworKit_Overlay_Toolbar_Bottom_Save\"><div class=\"button icon-save\" /></a> </div>';\n",
       "\t\t\t\telement.setAttribute('id', 'NetworKit_Overlay');\n",
       "\t\t\t\tdocument.body.appendChild(element);\n",
       "\t\t\t\tdocument.getElementById('NetworKit_Overlay_Close').onclick = function (e) {\n",
       "\t\t\t\t\tdocument.getElementById('NetworKit_Overlay').style.display = 'none';\n",
       "\t\t\t\t}\n",
       "\t\t\t}\n",
       "\t\t\n",
       "\t\t\t-->\n",
       "\t\t\t</script>\n",
       "\t\t"
      ]
     },
     "metadata": {},
     "output_type": "display_data"
    },
    {
     "name": "stderr",
     "output_type": "stream",
     "text": [
      "\u001B[32m2024-09-04 18:42:53.736\u001B[0m | \u001B[34m\u001B[1mDEBUG   \u001B[0m | \u001B[36miduedu.modules.downloaders\u001B[0m:\u001B[36mget_boundary_by_osm_id\u001B[0m:\u001B[36m20\u001B[0m - \u001B[34m\u001B[1mDownloading territory bounds with osm_id <1114252> ...\u001B[0m\n"
     ]
    },
    {
     "data": {
      "text/plain": [
       "Downloading routes:   0%|          | 0/4 [00:00<?, ?it/s]"
      ],
      "application/vnd.jupyter.widget-view+json": {
       "version_major": 2,
       "version_minor": 0,
       "model_id": "7e2d84a37dc248608fdda7c3ffccc3ad"
      }
     },
     "metadata": {},
     "output_type": "display_data"
    },
    {
     "name": "stderr",
     "output_type": "stream",
     "text": [
      "\u001B[32m2024-09-04 18:42:57.069\u001B[0m | \u001B[1mINFO    \u001B[0m | \u001B[36miduedu.utils.utils\u001B[0m:\u001B[36mestimate_crs_for_bounds\u001B[0m:\u001B[36m50\u001B[0m - \u001B[1mEstimated CRS for territory EPSG:32636\u001B[0m\n"
     ]
    },
    {
     "data": {
      "text/plain": [
       "Parsing routes data...:   0%|          | 0/57 [00:00<?, ?it/s]"
      ],
      "application/vnd.jupyter.widget-view+json": {
       "version_major": 2,
       "version_minor": 0,
       "model_id": "de7fca93836a4c23b8e213733ce15f21"
      }
     },
     "metadata": {},
     "output_type": "display_data"
    },
    {
     "name": "stderr",
     "output_type": "stream",
     "text": [
      "\u001B[32m2024-09-04 18:42:58.217\u001B[0m | \u001B[34m\u001B[1mDEBUG   \u001B[0m | \u001B[36miduedu.modules.downloaders\u001B[0m:\u001B[36mget_boundary_by_osm_id\u001B[0m:\u001B[36m20\u001B[0m - \u001B[34m\u001B[1mDownloading territory bounds with osm_id <1114252> ...\u001B[0m\n",
      "\u001B[32m2024-09-04 18:42:58.338\u001B[0m | \u001B[34m\u001B[1mDEBUG   \u001B[0m | \u001B[36miduedu.modules.intermodal_builder\u001B[0m:\u001B[36mget_intermodal_graph\u001B[0m:\u001B[36m66\u001B[0m - \u001B[34m\u001B[1mStarted downloading and parsing walk graph...\u001B[0m\n",
      "\u001B[32m2024-09-04 18:42:58.344\u001B[0m | \u001B[34m\u001B[1mDEBUG   \u001B[0m | \u001B[36miduedu.modules.intermodal_builder\u001B[0m:\u001B[36mget_intermodal_graph\u001B[0m:\u001B[36m70\u001B[0m - \u001B[34m\u001B[1mStarted downloading and parsing public trasport graph...\u001B[0m\n",
      "\u001B[32m2024-09-04 18:43:04.570\u001B[0m | \u001B[34m\u001B[1mDEBUG   \u001B[0m | \u001B[36miduedu.modules.intermodal_builder\u001B[0m:\u001B[36mget_intermodal_graph\u001B[0m:\u001B[36m72\u001B[0m - \u001B[34m\u001B[1mPublic trasport graph done!\u001B[0m\n",
      "\u001B[32m2024-09-04 18:43:08.870\u001B[0m | \u001B[34m\u001B[1mDEBUG   \u001B[0m | \u001B[36miduedu.modules.intermodal_builder\u001B[0m:\u001B[36mget_intermodal_graph\u001B[0m:\u001B[36m74\u001B[0m - \u001B[34m\u001B[1mWalk graph done!\u001B[0m\n",
      "\u001B[32m2024-09-04 18:43:09.154\u001B[0m | \u001B[1mINFO    \u001B[0m | \u001B[36miduedu.modules.pt_walk_joiner\u001B[0m:\u001B[36mjoin_pt_walk_graph\u001B[0m:\u001B[36m45\u001B[0m - \u001B[1mComposing intermodal graph...\u001B[0m\n",
      "\u001B[32m2024-09-04 18:43:10.294\u001B[0m | \u001B[1mINFO    \u001B[0m | \u001B[36miduedu.modules.pt_walk_joiner\u001B[0m:\u001B[36mjoin_pt_walk_graph\u001B[0m:\u001B[36m173\u001B[0m - \u001B[1mDone composing!\u001B[0m\n",
      "\u001B[32m2024-09-04 18:43:10.297\u001B[0m | \u001B[34m\u001B[1mDEBUG   \u001B[0m | \u001B[36miduedu.modules.downloaders\u001B[0m:\u001B[36mget_boundary_by_osm_id\u001B[0m:\u001B[36m20\u001B[0m - \u001B[34m\u001B[1mDownloading territory bounds with osm_id <1114252> ...\u001B[0m\n",
      "\u001B[32m2024-09-04 18:43:12.251\u001B[0m | \u001B[1mINFO    \u001B[0m | \u001B[36miduedu.utils.utils\u001B[0m:\u001B[36mestimate_crs_for_bounds\u001B[0m:\u001B[36m50\u001B[0m - \u001B[1mEstimated CRS for territory EPSG:32636\u001B[0m\n"
     ]
    }
   ],
   "execution_count": 1
  },
  {
   "metadata": {
    "ExecuteTime": {
     "end_time": "2024-09-04T12:48:36.156326Z",
     "start_time": "2024-09-04T12:48:35.890076Z"
    }
   },
   "cell_type": "code",
   "source": [
    "import networkx as nx\n",
    "def convert(val):\n",
    "    return str(val)\n",
    "\n",
    "\n",
    "nx.write_gml(w_geom, 'w_geom.gml', convert)\n",
    "nx.write_gml(wout_geom, 'wout_geom.gml', convert)\n"
   ],
   "id": "2399e4b284509221",
   "outputs": [],
   "execution_count": 28
  },
  {
   "cell_type": "code",
   "source": [
    "from geopandas import GeoDataFrame\n",
    "from jedi.plugins.django import mapping\n",
    "from networkit import Graph\n",
    "from ntsecuritycon import GENERIC_READ\n",
    "from numpy.matrixlib.defmatrix import matrix\n",
    "\n",
    "from src.iduedu.modules.intermodal_builder import get_intermodal_graph\n",
    "\n",
    "intermodal_graph = get_intermodal_graph(osm_id=1114252)"
   ],
   "metadata": {
    "collapsed": false,
    "ExecuteTime": {
     "end_time": "2024-09-04T10:24:44.622246Z",
     "start_time": "2024-09-04T10:24:31.679318Z"
    }
   },
   "id": "457c89a209e3d54f",
   "outputs": [
    {
     "name": "stderr",
     "output_type": "stream",
     "text": [
      "\u001B[32m2024-09-04 13:24:31.729\u001B[0m | \u001B[34m\u001B[1mDEBUG   \u001B[0m | \u001B[36miduedu.modules.downloaders\u001B[0m:\u001B[36mget_boundary_by_osm_id\u001B[0m:\u001B[36m20\u001B[0m - \u001B[34m\u001B[1mDownloading territory bounds with osm_id <1114252> ...\u001B[0m\n",
      "\u001B[32m2024-09-04 13:24:31.874\u001B[0m | \u001B[34m\u001B[1mDEBUG   \u001B[0m | \u001B[36msrc.iduedu.modules.intermodal_builder\u001B[0m:\u001B[36mget_intermodal_graph\u001B[0m:\u001B[36m31\u001B[0m - \u001B[34m\u001B[1mStarted downloading and parsing walk graph...\u001B[0m\n",
      "\u001B[32m2024-09-04 13:24:31.878\u001B[0m | \u001B[34m\u001B[1mDEBUG   \u001B[0m | \u001B[36msrc.iduedu.modules.intermodal_builder\u001B[0m:\u001B[36mget_intermodal_graph\u001B[0m:\u001B[36m35\u001B[0m - \u001B[34m\u001B[1mStarted downloading and parsing public trasport graph...\u001B[0m\n",
      "\u001B[32m2024-09-04 13:24:38.434\u001B[0m | \u001B[34m\u001B[1mDEBUG   \u001B[0m | \u001B[36msrc.iduedu.modules.intermodal_builder\u001B[0m:\u001B[36mget_intermodal_graph\u001B[0m:\u001B[36m37\u001B[0m - \u001B[34m\u001B[1mPublic trasport graph done!\u001B[0m\n",
      "\u001B[32m2024-09-04 13:24:43.296\u001B[0m | \u001B[34m\u001B[1mDEBUG   \u001B[0m | \u001B[36msrc.iduedu.modules.intermodal_builder\u001B[0m:\u001B[36mget_intermodal_graph\u001B[0m:\u001B[36m39\u001B[0m - \u001B[34m\u001B[1mWalk graph done!\u001B[0m\n",
      "\u001B[32m2024-09-04 13:24:43.502\u001B[0m | \u001B[1mINFO    \u001B[0m | \u001B[36miduedu.modules.pt_walk_joiner\u001B[0m:\u001B[36mjoin_pt_walk_graph\u001B[0m:\u001B[36m12\u001B[0m - \u001B[1mComposing intermodal graph...\u001B[0m\n",
      "\u001B[32m2024-09-04 13:24:44.616\u001B[0m | \u001B[1mINFO    \u001B[0m | \u001B[36miduedu.modules.pt_walk_joiner\u001B[0m:\u001B[36mjoin_pt_walk_graph\u001B[0m:\u001B[36m140\u001B[0m - \u001B[1mDone composing!\u001B[0m\n"
     ]
    }
   ],
   "execution_count": 8
  },
  {
   "cell_type": "code",
   "source": [
    "    \n",
    "\n",
    "\n",
    "data = gpd.read_parquet('spb_buildings.parquet').to_crs(32636)\n",
    "data.set_index('building_id', inplace=True)\n",
    "services = gpd.read_parquet('spb_services.parquet')\n",
    "services.set_index('id', inplace=True)\n",
    "calc_adj_matrix_gdf_to_gdf(data, services, intermodal_graph, dtype=np.float32)"
   ],
   "metadata": {
    "collapsed": false,
    "ExecuteTime": {
     "end_time": "2024-09-04T10:49:23.751648Z",
     "start_time": "2024-09-04T10:49:23.646647Z"
    }
   },
   "id": "90ca9e2c228ace15",
   "outputs": [
    {
     "ename": "AssertionError",
     "evalue": "CRS mismatch, gdf_from.crs = 32636, gft_to.crs = 4326, graph[\"crs\"] = 32636",
     "output_type": "error",
     "traceback": [
      "\u001B[1;31m---------------------------------------------------------------------------\u001B[0m",
      "\u001B[1;31mAssertionError\u001B[0m                            Traceback (most recent call last)",
      "Cell \u001B[1;32mIn[25], line 72\u001B[0m\n\u001B[0;32m     70\u001B[0m services \u001B[38;5;241m=\u001B[39m gpd\u001B[38;5;241m.\u001B[39mread_parquet(\u001B[38;5;124m'\u001B[39m\u001B[38;5;124mspb_services.parquet\u001B[39m\u001B[38;5;124m'\u001B[39m)\n\u001B[0;32m     71\u001B[0m services\u001B[38;5;241m.\u001B[39mset_index(\u001B[38;5;124m'\u001B[39m\u001B[38;5;124mid\u001B[39m\u001B[38;5;124m'\u001B[39m, inplace\u001B[38;5;241m=\u001B[39m\u001B[38;5;28;01mTrue\u001B[39;00m)\n\u001B[1;32m---> 72\u001B[0m \u001B[43mcalc_adj_matrix_gdf_to_gdf\u001B[49m\u001B[43m(\u001B[49m\u001B[43mdata\u001B[49m\u001B[43m,\u001B[49m\u001B[43m \u001B[49m\u001B[43mservices\u001B[49m\u001B[43m,\u001B[49m\u001B[43m \u001B[49m\u001B[43mintermodal_graph\u001B[49m\u001B[43m,\u001B[49m\u001B[43m \u001B[49m\u001B[43mdtype\u001B[49m\u001B[38;5;241;43m=\u001B[39;49m\u001B[43mnp\u001B[49m\u001B[38;5;241;43m.\u001B[39;49m\u001B[43mfloat32\u001B[49m\u001B[43m)\u001B[49m\n",
      "Cell \u001B[1;32mIn[25], line 52\u001B[0m, in \u001B[0;36mcalc_adj_matrix_gdf_to_gdf\u001B[1;34m(gdf_from, gft_to, to_nx_graph, weight, dtype)\u001B[0m\n\u001B[0;32m     40\u001B[0m \u001B[38;5;28;01mdef\u001B[39;00m \u001B[38;5;21mcalc_adj_matrix_gdf_to_gdf\u001B[39m(gdf_from: gpd\u001B[38;5;241m.\u001B[39mGeoDataFrame, gft_to: gpd\u001B[38;5;241m.\u001B[39mGeoDataFrame, to_nx_graph: nx\u001B[38;5;241m.\u001B[39mGraph,\n\u001B[0;32m     41\u001B[0m                                weight: \u001B[38;5;28mstr\u001B[39m \u001B[38;5;241m=\u001B[39m \u001B[38;5;124m'\u001B[39m\u001B[38;5;124mlength\u001B[39m\u001B[38;5;124m'\u001B[39m, dtype: np\u001B[38;5;241m.\u001B[39mdtype \u001B[38;5;241m=\u001B[39m np\u001B[38;5;241m.\u001B[39mfloat16) \u001B[38;5;241m-\u001B[39m\u001B[38;5;241m>\u001B[39m pd\u001B[38;5;241m.\u001B[39mDataFrame:\n\u001B[0;32m     42\u001B[0m \u001B[38;5;250m    \u001B[39m\u001B[38;5;124;03m\"\"\"\u001B[39;00m\n\u001B[0;32m     43\u001B[0m \u001B[38;5;124;03m    \u001B[39;00m\n\u001B[0;32m     44\u001B[0m \u001B[38;5;124;03m    :param gdf_from: \u001B[39;00m\n\u001B[1;32m   (...)\u001B[0m\n\u001B[0;32m     49\u001B[0m \u001B[38;5;124;03m    :return: \u001B[39;00m\n\u001B[0;32m     50\u001B[0m \u001B[38;5;124;03m    \"\"\"\u001B[39;00m\n\u001B[1;32m---> 52\u001B[0m     \u001B[38;5;28;01massert\u001B[39;00m gdf_from\u001B[38;5;241m.\u001B[39mcrs \u001B[38;5;241m==\u001B[39m gft_to\u001B[38;5;241m.\u001B[39mcrs \u001B[38;5;241m==\u001B[39m CRS\u001B[38;5;241m.\u001B[39mfrom_epsg(to_nx_graph\u001B[38;5;241m.\u001B[39mgraph[\u001B[38;5;124m'\u001B[39m\u001B[38;5;124mcrs\u001B[39m\u001B[38;5;124m'\u001B[39m]), \\\n\u001B[0;32m     53\u001B[0m         \u001B[38;5;124mf\u001B[39m\u001B[38;5;124m'\u001B[39m\u001B[38;5;124mCRS mismatch, gdf_from.crs = \u001B[39m\u001B[38;5;132;01m{\u001B[39;00mgdf_from\u001B[38;5;241m.\u001B[39mcrs\u001B[38;5;241m.\u001B[39mto_epsg()\u001B[38;5;132;01m}\u001B[39;00m\u001B[38;5;124m, gft_to.crs = \u001B[39m\u001B[38;5;132;01m{\u001B[39;00mgft_to\u001B[38;5;241m.\u001B[39mcrs\u001B[38;5;241m.\u001B[39mto_epsg()\u001B[38;5;132;01m}\u001B[39;00m\u001B[38;5;124m, graph[\u001B[39m\u001B[38;5;124m\"\u001B[39m\u001B[38;5;124mcrs\u001B[39m\u001B[38;5;124m\"\u001B[39m\u001B[38;5;124m] = \u001B[39m\u001B[38;5;132;01m{\u001B[39;00mto_nx_graph\u001B[38;5;241m.\u001B[39mgraph[\u001B[38;5;124m\"\u001B[39m\u001B[38;5;124mcrs\u001B[39m\u001B[38;5;124m\"\u001B[39m]\u001B[38;5;132;01m}\u001B[39;00m\u001B[38;5;124m'\u001B[39m\n\u001B[0;32m     54\u001B[0m     \u001B[38;5;28;01mif\u001B[39;00m gdf_from\u001B[38;5;241m.\u001B[39mequals(gft_to):\n\u001B[0;32m     55\u001B[0m         closest_nodes \u001B[38;5;241m=\u001B[39m get_closest_nodes(gdf_from, to_nx_graph)\n",
      "\u001B[1;31mAssertionError\u001B[0m: CRS mismatch, gdf_from.crs = 32636, gft_to.crs = 4326, graph[\"crs\"] = 32636"
     ]
    }
   ],
   "execution_count": 25
  },
  {
   "metadata": {
    "ExecuteTime": {
     "end_time": "2024-09-04T10:44:46.415939Z",
     "start_time": "2024-09-04T10:44:46.357439Z"
    }
   },
   "cell_type": "code",
   "source": "data",
   "id": "68417fec226a2495",
   "outputs": [
    {
     "data": {
      "text/plain": [
       "             living_area  storeys_count  resident_number  is_living  \\\n",
       "building_id                                                           \n",
       "45678                NaN            NaN              0.0      False   \n",
       "47991                NaN            NaN              0.0      False   \n",
       "1721168       439.563049            5.0              NaN       True   \n",
       "1721167       615.321228            3.0              NaN       True   \n",
       "1721166              NaN            NaN              NaN      False   \n",
       "...                  ...            ...              ...        ...   \n",
       "45046        4144.259766            7.0            140.0       True   \n",
       "44965        1245.540039            4.0             43.0       True   \n",
       "44524        2361.979980            4.0             80.0       True   \n",
       "42379        1372.250000            5.0             47.0       True   \n",
       "41399                NaN            NaN              0.0      False   \n",
       "\n",
       "                                                      geometry  \n",
       "building_id                                                     \n",
       "45678        MULTIPOLYGON (((347348.236 6646484.280, 347350...  \n",
       "47991        MULTIPOLYGON (((347734.981 6646973.473, 347745...  \n",
       "1721168      POLYGON ((348345.947 6648013.525, 348352.612 6...  \n",
       "1721167      POLYGON ((348353.063 6647997.569, 348359.599 6...  \n",
       "1721166      POLYGON ((348503.601 6648312.880, 348492.240 6...  \n",
       "...                                                        ...  \n",
       "45046        MULTIPOLYGON (((347287.886 6647790.108, 347298...  \n",
       "44965        MULTIPOLYGON (((347272.663 6647818.811, 347301...  \n",
       "44524        MULTIPOLYGON (((347176.539 6647165.039, 347202...  \n",
       "42379        MULTIPOLYGON (((346713.384 6646851.305, 346716...  \n",
       "41399        POLYGON ((346497.519 6646779.940, 346506.201 6...  \n",
       "\n",
       "[1258 rows x 5 columns]"
      ],
      "text/html": [
       "<div>\n",
       "<style scoped>\n",
       "    .dataframe tbody tr th:only-of-type {\n",
       "        vertical-align: middle;\n",
       "    }\n",
       "\n",
       "    .dataframe tbody tr th {\n",
       "        vertical-align: top;\n",
       "    }\n",
       "\n",
       "    .dataframe thead th {\n",
       "        text-align: right;\n",
       "    }\n",
       "</style>\n",
       "<table border=\"1\" class=\"dataframe\">\n",
       "  <thead>\n",
       "    <tr style=\"text-align: right;\">\n",
       "      <th></th>\n",
       "      <th>living_area</th>\n",
       "      <th>storeys_count</th>\n",
       "      <th>resident_number</th>\n",
       "      <th>is_living</th>\n",
       "      <th>geometry</th>\n",
       "    </tr>\n",
       "    <tr>\n",
       "      <th>building_id</th>\n",
       "      <th></th>\n",
       "      <th></th>\n",
       "      <th></th>\n",
       "      <th></th>\n",
       "      <th></th>\n",
       "    </tr>\n",
       "  </thead>\n",
       "  <tbody>\n",
       "    <tr>\n",
       "      <th>45678</th>\n",
       "      <td>NaN</td>\n",
       "      <td>NaN</td>\n",
       "      <td>0.0</td>\n",
       "      <td>False</td>\n",
       "      <td>MULTIPOLYGON (((347348.236 6646484.280, 347350...</td>\n",
       "    </tr>\n",
       "    <tr>\n",
       "      <th>47991</th>\n",
       "      <td>NaN</td>\n",
       "      <td>NaN</td>\n",
       "      <td>0.0</td>\n",
       "      <td>False</td>\n",
       "      <td>MULTIPOLYGON (((347734.981 6646973.473, 347745...</td>\n",
       "    </tr>\n",
       "    <tr>\n",
       "      <th>1721168</th>\n",
       "      <td>439.563049</td>\n",
       "      <td>5.0</td>\n",
       "      <td>NaN</td>\n",
       "      <td>True</td>\n",
       "      <td>POLYGON ((348345.947 6648013.525, 348352.612 6...</td>\n",
       "    </tr>\n",
       "    <tr>\n",
       "      <th>1721167</th>\n",
       "      <td>615.321228</td>\n",
       "      <td>3.0</td>\n",
       "      <td>NaN</td>\n",
       "      <td>True</td>\n",
       "      <td>POLYGON ((348353.063 6647997.569, 348359.599 6...</td>\n",
       "    </tr>\n",
       "    <tr>\n",
       "      <th>1721166</th>\n",
       "      <td>NaN</td>\n",
       "      <td>NaN</td>\n",
       "      <td>NaN</td>\n",
       "      <td>False</td>\n",
       "      <td>POLYGON ((348503.601 6648312.880, 348492.240 6...</td>\n",
       "    </tr>\n",
       "    <tr>\n",
       "      <th>...</th>\n",
       "      <td>...</td>\n",
       "      <td>...</td>\n",
       "      <td>...</td>\n",
       "      <td>...</td>\n",
       "      <td>...</td>\n",
       "    </tr>\n",
       "    <tr>\n",
       "      <th>45046</th>\n",
       "      <td>4144.259766</td>\n",
       "      <td>7.0</td>\n",
       "      <td>140.0</td>\n",
       "      <td>True</td>\n",
       "      <td>MULTIPOLYGON (((347287.886 6647790.108, 347298...</td>\n",
       "    </tr>\n",
       "    <tr>\n",
       "      <th>44965</th>\n",
       "      <td>1245.540039</td>\n",
       "      <td>4.0</td>\n",
       "      <td>43.0</td>\n",
       "      <td>True</td>\n",
       "      <td>MULTIPOLYGON (((347272.663 6647818.811, 347301...</td>\n",
       "    </tr>\n",
       "    <tr>\n",
       "      <th>44524</th>\n",
       "      <td>2361.979980</td>\n",
       "      <td>4.0</td>\n",
       "      <td>80.0</td>\n",
       "      <td>True</td>\n",
       "      <td>MULTIPOLYGON (((347176.539 6647165.039, 347202...</td>\n",
       "    </tr>\n",
       "    <tr>\n",
       "      <th>42379</th>\n",
       "      <td>1372.250000</td>\n",
       "      <td>5.0</td>\n",
       "      <td>47.0</td>\n",
       "      <td>True</td>\n",
       "      <td>MULTIPOLYGON (((346713.384 6646851.305, 346716...</td>\n",
       "    </tr>\n",
       "    <tr>\n",
       "      <th>41399</th>\n",
       "      <td>NaN</td>\n",
       "      <td>NaN</td>\n",
       "      <td>0.0</td>\n",
       "      <td>False</td>\n",
       "      <td>POLYGON ((346497.519 6646779.940, 346506.201 6...</td>\n",
       "    </tr>\n",
       "  </tbody>\n",
       "</table>\n",
       "<p>1258 rows × 5 columns</p>\n",
       "</div>"
      ]
     },
     "execution_count": 17,
     "metadata": {},
     "output_type": "execute_result"
    }
   ],
   "execution_count": 17
  },
  {
   "cell_type": "code",
   "source": [
    "%load_ext autoreload\n",
    "%autoreload 2\n",
    "from src.iduedu.modules import get_drive_graph\n",
    "\n",
    "drive = get_drive_graph(osm_id=1703911, additional_edgedata=['name'])"
   ],
   "metadata": {
    "collapsed": false
   },
   "id": "3f4a2f52c3934394",
   "outputs": [],
   "execution_count": null
  },
  {
   "cell_type": "code",
   "source": "list(drive.edges(data=True))",
   "metadata": {
    "collapsed": false
   },
   "id": "a36b9eec532e484e",
   "outputs": [],
   "execution_count": null
  },
  {
   "cell_type": "code",
   "source": [
    "%load_ext autoreload\n",
    "%autoreload 2\n",
    "from src.iduedu.modules.public_transport_builder import get_all_public_transport_graph\n",
    "from src.iduedu.modules.intermodal_builder import get_intermodal_graph\n",
    "\n",
    "# transport = get_all_public_transport_graph(osm_id=7226665)\n",
    "intermodal_graph = get_intermodal_graph(osm_id=7226665)"
   ],
   "metadata": {
    "collapsed": false,
    "ExecuteTime": {
     "end_time": "2024-09-04T10:18:01.616896Z",
     "start_time": "2024-09-04T10:17:56.843898Z"
    }
   },
   "id": "7fb35c7a392d9272",
   "outputs": [
    {
     "name": "stderr",
     "output_type": "stream",
     "text": [
      "\u001B[32m2024-09-04 13:17:56.894\u001B[0m | \u001B[34m\u001B[1mDEBUG   \u001B[0m | \u001B[36miduedu.modules.downloaders\u001B[0m:\u001B[36mget_boundary_by_osm_id\u001B[0m:\u001B[36m20\u001B[0m - \u001B[34m\u001B[1mDownloading territory bounds with osm_id <7226665> ...\u001B[0m\n",
      "\u001B[32m2024-09-04 13:17:57.018\u001B[0m | \u001B[1mINFO    \u001B[0m | \u001B[36msrc.iduedu.modules.intermodal_builder\u001B[0m:\u001B[36mget_intermodal_graph\u001B[0m:\u001B[36m31\u001B[0m - \u001B[1mStarted downloading and parsing walk graph...\u001B[0m\n",
      "\u001B[32m2024-09-04 13:17:57.023\u001B[0m | \u001B[1mINFO    \u001B[0m | \u001B[36msrc.iduedu.modules.intermodal_builder\u001B[0m:\u001B[36mget_intermodal_graph\u001B[0m:\u001B[36m35\u001B[0m - \u001B[1mStarted downloading and parsing public trasport graph...\u001B[0m\n"
     ]
    },
    {
     "name": "stdout",
     "output_type": "stream",
     "text": [
      "The autoreload extension is already loaded. To reload it, use:\n",
      "  %reload_ext autoreload\n"
     ]
    },
    {
     "name": "stderr",
     "output_type": "stream",
     "text": [
      "\u001B[32m2024-09-04 13:18:01.403\u001B[0m | \u001B[1mINFO    \u001B[0m | \u001B[36msrc.iduedu.modules.intermodal_builder\u001B[0m:\u001B[36mget_intermodal_graph\u001B[0m:\u001B[36m37\u001B[0m - \u001B[1mPublic trasport graph done!\u001B[0m\n",
      "\u001B[32m2024-09-04 13:18:01.404\u001B[0m | \u001B[1mINFO    \u001B[0m | \u001B[36msrc.iduedu.modules.intermodal_builder\u001B[0m:\u001B[36mget_intermodal_graph\u001B[0m:\u001B[36m39\u001B[0m - \u001B[1mWalk graph done!\u001B[0m\n",
      "\u001B[32m2024-09-04 13:18:01.614\u001B[0m | \u001B[33m\u001B[1mWARNING \u001B[0m | \u001B[36msrc.iduedu.modules.intermodal_builder\u001B[0m:\u001B[36mget_intermodal_graph\u001B[0m:\u001B[36m41\u001B[0m - \u001B[33m\u001B[1mPublic trasport graph is empty! Returning only walk graph.\u001B[0m\n"
     ]
    }
   ],
   "execution_count": 5
  },
  {
   "cell_type": "code",
   "source": "intermodal.graph",
   "metadata": {
    "collapsed": false
   },
   "id": "a644e66175cc4e94",
   "outputs": [],
   "execution_count": null
  },
  {
   "cell_type": "code",
   "source": [
    "import networkx as nx\n",
    "\n",
    "\n",
    "def convert(val):\n",
    "    return str(val)\n",
    "\n",
    "\n",
    "nx.write_gml(intermodal, 'intermodal_vaska.gml', convert)"
   ],
   "metadata": {
    "collapsed": false
   },
   "id": "b2cdac4c62556242",
   "outputs": [],
   "execution_count": null
  },
  {
   "cell_type": "code",
   "source": [
    "import numpy as np\n",
    "%load_ext autoreload\n",
    "%autoreload 2\n",
    "from src.iduedu.modules.downloaders import get_routes_by_terr_name\n",
    "from src.iduedu.modules.public_transport_builder import get_single_public_transport_graph, \\\n",
    "    get_all_public_transport_graph\n",
    "from src.iduedu.modules.drive_walk_builder import get_drive_graph, get_walk_graph\n",
    "import pandas as pd\n",
    "import geopandas as gpd\n",
    "from\n",
    "\n",
    "g = get_single_public_transport_graph('subway', osm_id=3767134)\n",
    "# transport = get_all_public_transport_graph(osm_id=1114252, clip_by_bounds=False)\n",
    "# drive = get_drive_graph(osm_id=2725551)\n",
    "\n",
    "# g = get_single_public_transport_graph('bus', osm_id=3767134)"
   ],
   "metadata": {
    "collapsed": false
   },
   "id": "c47d4aae893f5976",
   "outputs": [],
   "execution_count": null
  },
  {
   "cell_type": "code",
   "source": "",
   "metadata": {
    "collapsed": false
   },
   "id": "30d780f549fe4010",
   "outputs": [],
   "execution_count": null
  },
  {
   "cell_type": "code",
   "source": "walk = get_walk_graph(osm_id=1114252)",
   "metadata": {
    "collapsed": false
   },
   "id": "caaa5a51c7ee49f",
   "outputs": [],
   "execution_count": null
  },
  {
   "cell_type": "code",
   "source": [
    "import networkx as nx\n",
    "\n",
    "num_nodes_G1 = len(transport.nodes)\n",
    "\n",
    "# Создаём отображение (relabel) для нод в первом графе (нумерация с 0)\n",
    "mapping_G1 = {node: idx for idx, node in enumerate(transport.nodes)}\n",
    "\n",
    "# Создаём отображение для нод во втором графе (нумерация начиная с num_nodes_G1)\n",
    "mapping_G2 = {node: idx + num_nodes_G1 for idx, node in enumerate(walk.nodes)}\n",
    "\n",
    "# Применяем relabel для графов\n",
    "transport: nx.MultiDiGraph = nx.relabel_nodes(transport, mapping_G1)\n",
    "walk: nx.MultiDiGraph = nx.relabel_nodes(walk, mapping_G2)"
   ],
   "metadata": {
    "collapsed": false
   },
   "id": "dd185ba2f789cf55",
   "outputs": [],
   "execution_count": null
  },
  {
   "cell_type": "code",
   "source": [
    "import geopandas as gpd\n",
    "import networkx as nx\n",
    "from shapely import Point\n",
    "\n",
    "platforms = pd.DataFrame.from_dict(dict(transport.nodes(data=True)), orient='index')\n",
    "platforms = platforms[platforms['desc'] == 'platform']\n",
    "platforms['geometry'] = platforms.apply(lambda x: Point(x.x, x.y), axis=1)\n",
    "platforms = gpd.GeoDataFrame(platforms, crs=walk.graph['crs'])\n",
    "walk_edges = gpd.GeoDataFrame(nx.to_pandas_edgelist(walk, source='u', target='v', edge_key='k'), crs=walk.graph['crs'])"
   ],
   "metadata": {
    "collapsed": false
   },
   "id": "df29abafca3a07c2",
   "outputs": [],
   "execution_count": null
  },
  {
   "cell_type": "code",
   "source": "projection_join = platforms.sjoin_nearest(walk_edges, max_distance=20, distance_col='dist')",
   "metadata": {
    "collapsed": false
   },
   "id": "9b95b90671843692",
   "outputs": [],
   "execution_count": null
  },
  {
   "cell_type": "code",
   "source": [
    "points_grouped_by_edge = projection_join.reset_index().groupby('index_right', group_keys=True).agg(\n",
    "    {'index': tuple, \"geometry\": tuple, \"u\": 'first', \"v\": 'first', \"k\": 'first'})"
   ],
   "metadata": {
    "collapsed": false
   },
   "id": "91e184931ee8f729",
   "outputs": [],
   "execution_count": null
  },
  {
   "cell_type": "code",
   "source": [
    "g1 = walk.copy()\n",
    "g2 = transport.copy()\n"
   ],
   "metadata": {
    "collapsed": false
   },
   "id": "22e9c454460929ad",
   "outputs": [],
   "execution_count": null
  },
  {
   "cell_type": "code",
   "source": [
    "walk = g1.copy()\n",
    "transport = g2.copy()"
   ],
   "metadata": {
    "collapsed": false
   },
   "id": "edc0f62fda6bb57e",
   "outputs": [],
   "execution_count": null
  },
  {
   "cell_type": "code",
   "source": [
    "from shapely.ops import substring\n",
    "from shapely import LineString\n",
    "\n",
    "try:\n",
    "    speed = walk.graph['walk_speed']\n",
    "except KeyError:\n",
    "    print(\"Нету скорости\")  # TODO посчитать примерную скорость по length timemin для любой эджи\n",
    "    speed = 83\n",
    "\n",
    "edges_to_del = []\n",
    "\n",
    "for _, row in points_grouped_by_edge.iterrows():\n",
    "    u, v, k = row[['u', 'v', 'k']]\n",
    "    edge: LineString = walk_edges.loc[row.name].geometry\n",
    "\n",
    "    if len(row['index']) == 1:\n",
    "        dist = edge.project(row.geometry[0])\n",
    "        projected_point = edge.interpolate(dist)\n",
    "        if dist == 0:\n",
    "            #Если платформа проецируется на начало эджа\n",
    "            mapping = {u: row['index'][0]}\n",
    "            nx.relabel_nodes(walk, mapping, copy=False)\n",
    "\n",
    "        elif dist == edge.length:\n",
    "            # Если на конец\n",
    "            mapping = {v: row['index'][0]}\n",
    "            nx.relabel_nodes(walk, mapping, copy=False)\n",
    "\n",
    "        else:\n",
    "\n",
    "            line1 = substring(edge, 0, dist)\n",
    "            line2 = substring(edge, dist, edge.length)\n",
    "            # Убираем старую эджу и добавляем новые, в серединке нода - наша платформа для соединения\n",
    "            # walk.remove_edge(u, v, k)\n",
    "            edges_to_del.append((u, v, k))\n",
    "            walk.add_node(row['index'][0], x=projected_point.x, y=projected_point.y)\n",
    "            walk.add_edge(u, row['index'][0], geometry=line1, length=round(line1.length, 3),\n",
    "                          time_min=round(line1.length / speed, 3),\n",
    "                          type='walk')  # TODO заменить type на walk\n",
    "            walk.add_edge(row['index'][0], v, geometry=line2, length=round(line2.length, 3),\n",
    "                          time_min=round(line2.length / speed, 3), type='walk')\n",
    "\n",
    "    else:\n",
    "        # walk.remove_edge(u, v, k)\n",
    "\n",
    "        edges_to_del.append((u, v, k))\n",
    "        dist_project = [(edge.project(platform), edge.interpolate(edge.project(platform)), ind) for ind, platform in\n",
    "                        zip(row['index'], row.geometry)]\n",
    "        dist_project.sort(key=lambda x: x[0])\n",
    "        last_dist = 0\n",
    "        last_u = u\n",
    "        for dist, projected_point, cur_index in dist_project:\n",
    "\n",
    "            if dist == 0:\n",
    "                #Если платформа проецируется на начало эджа\n",
    "                mapping = {u: cur_index}\n",
    "                nx.relabel_nodes(walk, mapping, copy=False)\n",
    "\n",
    "\n",
    "            elif dist == edge.length:\n",
    "                # Если на конец\n",
    "                mapping = {v: cur_index}\n",
    "                nx.relabel_nodes(walk, mapping, copy=False)\n",
    "\n",
    "\n",
    "            else:\n",
    "                # По очереди добавляем ноды/линии\n",
    "\n",
    "                line = substring(edge, last_dist, dist)\n",
    "                #\n",
    "                walk.add_node(cur_index, x=projected_point.x, y=projected_point.y)\n",
    "                walk.add_edge(last_u, cur_index, geometry=line, length=round(line.length, 3),\n",
    "                              time_min=round(line.length / speed, 3),\n",
    "                              type='walk')  # TODO заменить type на walk\n",
    "\n",
    "                last_u = cur_index\n",
    "            last_dist = dist\n",
    "        # Если последняя остановка спроецировалась не на конец эджа, надо добавить остаток \n",
    "        if last_dist != edge.length:\n",
    "            line = substring(edge, last_dist, edge.length)\n",
    "            walk.add_edge(last_u, v, geometry=line, length=round(line.length, 3),\n",
    "                          time_min=round(line.length / speed, 3),\n",
    "                          type='walk')"
   ],
   "metadata": {
    "collapsed": false
   },
   "id": "9192b56db5a3e3e5",
   "outputs": [],
   "execution_count": null
  },
  {
   "cell_type": "code",
   "source": "walk.remove_edges_from(edges_to_del)",
   "metadata": {
    "collapsed": false
   },
   "id": "fd3e44189523ebda",
   "outputs": [],
   "execution_count": null
  },
  {
   "cell_type": "code",
   "source": [
    "def convert(val):\n",
    "    return str(val)\n",
    "\n",
    "\n",
    "compose = nx.compose(nx.MultiDiGraph(transport), walk)\n",
    "\n",
    "nx.write_gml(compose, 'compose.gml', convert)"
   ],
   "metadata": {
    "collapsed": false
   },
   "id": "4d3723c8cf0fc949",
   "outputs": [],
   "execution_count": null
  },
  {
   "cell_type": "code",
   "source": [
    "import osmnx as ox\n",
    "import networkx as nx\n",
    "import folium\n",
    "\n",
    "nodes, edges = ox.graph_to_gdfs(compose)\n",
    "m1 = edges.explore(column='type', tiles='CartoDB positron')\n",
    "nodes.explore(column='desc', cmap='plasma', m=m1)\n",
    "folium.LayerControl().add_to(m1)\n",
    "m1.save('kek.html')"
   ],
   "metadata": {
    "collapsed": false
   },
   "id": "2652b58cf9774dad",
   "outputs": [],
   "execution_count": null
  },
  {
   "cell_type": "code",
   "source": [
    "import networkx as nx\n",
    "from shapely import Polygon\n",
    "from src.iduedu.modules.downloaders import get_boundary_by_osm_id\n",
    "from src.iduedu.utils.utils import estimate_crs_for_bounds\n",
    "\n",
    "\n",
    "def clip_nx_graph(graph: nx.Graph, polygon: Polygon):\n",
    "    local_crs = graph.graph['crs']\n",
    "\n",
    "\n",
    "def reproject_nx_graph(graph: nx.Graph, crs=None):\n",
    "    \"\"\"\n",
    "\n",
    "    :param graph:\n",
    "    :param crs: by default None, will be determine automatically\n",
    "    :return:\n",
    "    \"\"\"\n",
    "    print(1)\n",
    "\n",
    "\n",
    "poly: Polygon = get_boundary_by_osm_id(3767134)\n",
    "estimate_crs_for_bounds(*poly.bounds)"
   ],
   "metadata": {
    "collapsed": false
   },
   "id": "6b583572396ebd67",
   "outputs": [],
   "execution_count": null
  },
  {
   "cell_type": "code",
   "source": [
    "import geopandas as gpd\n",
    "\n",
    "gpd.GeoDataFrame(geometry=[poly], crs=4326).estimate_utm_crs()"
   ],
   "metadata": {
    "collapsed": false
   },
   "id": "63db8e48d5db4a57",
   "outputs": [],
   "execution_count": null
  },
  {
   "cell_type": "code",
   "source": [
    "import networkx as nx\n",
    "\n",
    "nx.write_gml(g2, 'test_saratov_all.gml')"
   ],
   "metadata": {
    "collapsed": false
   },
   "id": "38af5a7e92e30807",
   "outputs": [],
   "execution_count": null
  },
  {
   "cell_type": "code",
   "source": [
    "from scipy.spatial.distance import cdist\n",
    "import numpy as np\n",
    "import pandas as pd\n",
    "\n",
    "connect_points = [point for coords in connected_ways for point in (coords[0], coords[-1])]\n",
    "distances = cdist(connect_points, connect_points)\n",
    "n = distances.shape[0]\n",
    "mask = (np.arange(n)[:, None] // 2) == (np.arange(n) // 2)\n",
    "distances[mask] = np.inf\n",
    "\n",
    "indexes = []\n",
    "\n",
    "\n",
    "def relative_point(point: int):\n",
    "    rel_point = point // 2 * 2\n",
    "    return rel_point if rel_point != point else rel_point + 1\n",
    "\n",
    "\n",
    "lines = []\n",
    "\n",
    "connected_line = []\n",
    "debug = []\n",
    "first_con_1, first_con_2 = np.unravel_index(np.argmin(distances), distances.shape)\n",
    "distances[first_con_1, :] = np.inf\n",
    "distances[first_con_2, :] = np.inf\n",
    "distances[:, first_con_2] = np.inf\n",
    "distances[:, first_con_1] = np.inf\n",
    "first_con_1_rel, first_con_2_rel = [relative_point(x) for x in (first_con_1, first_con_2)]\n",
    "distances[first_con_1_rel, first_con_2_rel] = np.inf\n",
    "distances[first_con_2_rel, first_con_1_rel] = np.inf\n",
    "indexes.append((first_con_1, first_con_2))\n",
    "\n",
    "line1, line2 = first_con_1 // 2, first_con_2 // 2\n",
    "\n",
    "lines.append(line1)\n",
    "lines.append(line2)\n",
    "if first_con_1 % 2 == 1:\n",
    "    connected_line += connected_ways[line1]\n",
    "    debug.append(connected_ways[line1])\n",
    "else:\n",
    "    connected_line += connected_ways[line1][::-1]\n",
    "    debug.append(connected_ways[line1][::-1])\n",
    "\n",
    "if first_con_2 % 2 == 0:\n",
    "    connected_line += connected_ways[line2]\n",
    "    debug.append(connected_ways[line2])\n",
    "else:\n",
    "    connected_line += connected_ways[line2][::-1]\n",
    "    debug.append(connected_ways[line2][::-1])\n",
    "\n",
    "extreme_points = [first_con_1_rel, first_con_2_rel]\n",
    "\n",
    "print(f'extrem_from_start {extreme_points}')\n",
    "\n",
    "for i in range(len(connected_ways) - 2):\n",
    "    position, ind = np.unravel_index(np.argmin(distances[extreme_points]), (2, n))\n",
    "    next_con = (extreme_points[position], ind)\n",
    "    rel_point = relative_point(next_con[1])\n",
    "    distances[:, rel_point] = np.inf\n",
    "    line = ind // 2\n",
    "    lines.append(line)\n",
    "    if position == 0:\n",
    "        connected_line = connected_ways[line] + connected_line if ind % 2 == 1 else (\n",
    "                connected_ways[line][::-1] + connected_line)\n",
    "        debug.insert(0, connected_ways[line]) if ind % 2 == 1 else debug.insert(0, connected_ways[line][::-1])\n",
    "        indexes.insert(0, next_con[::-1])\n",
    "        extreme_points = [rel_point, extreme_points[1]]\n",
    "    else:\n",
    "        connected_line = connected_line + connected_ways[line] if ind % 2 == 0 else (\n",
    "                connected_line + connected_ways[line][::-1])\n",
    "        debug.append(connected_ways[line]) if ind % 2 == 1 else debug.append(connected_ways[line][::-1])\n",
    "        indexes.append(next_con)\n",
    "        extreme_points = [extreme_points[0], rel_point]\n",
    "\n",
    "    distances[next_con[0], :] = np.inf\n",
    "    distances[next_con[1], :] = np.inf\n",
    "    distances[:, next_con[0]] = np.inf\n",
    "    distances[:, next_con[1]] = np.inf\n",
    "    rel_point_2 = relative_point(next_con[0])\n",
    "    distances[rel_point, rel_point_2] = np.inf\n",
    "    distances[rel_point_2, rel_point] = np.inf\n",
    "    print('---------------')\n",
    "    print(f'index: {i}')\n",
    "    print(indexes)\n",
    "    print(f'extreme_points {extreme_points}')\n",
    "    print(f'added con {next_con}')\n"
   ],
   "metadata": {
    "collapsed": false
   },
   "id": "8eb1aa9f17d1d63f",
   "outputs": [],
   "execution_count": null
  },
  {
   "metadata": {},
   "cell_type": "code",
   "source": "connected_ways",
   "id": "e1c83ae9725c912c",
   "outputs": [],
   "execution_count": null
  },
  {
   "cell_type": "code",
   "source": [
    "from shapely import LineString\n",
    "import geopandas as gpd\n",
    "\n",
    "gpd.GeoDataFrame(geometry=[LineString(new_connected_ways)], crs=32635).explore(tiles='CartoDB positron')"
   ],
   "metadata": {
    "collapsed": false
   },
   "id": "24b853235852d4d0",
   "outputs": [],
   "execution_count": null
  },
  {
   "cell_type": "code",
   "source": [
    "t = [1, 2]\n",
    "[(x // 2) * 2 if ((x // 2) * 2 != x) else ((x // 2) * 2 + 1) for x in t]"
   ],
   "metadata": {
    "collapsed": false
   },
   "id": "1bc342ff170dfc6d",
   "outputs": [],
   "execution_count": null
  },
  {
   "cell_type": "code",
   "source": [
    "%load_ext autoreload\n",
    "%autoreload 2\n",
    "from iduedu.modules.graph_builder import get_all_public_transport_graph\n",
    "\n",
    "res = get_all_public_transport_graph(osm_id=3767134)"
   ],
   "metadata": {
    "collapsed": false
   },
   "id": "9149068c348d01c6",
   "outputs": [],
   "execution_count": null
  },
  {
   "cell_type": "code",
   "source": [
    "import networkx as nx\n",
    "\n",
    "nx.write_gml(res, 'spb+lo_iduedu.gml')"
   ],
   "metadata": {
    "collapsed": false
   },
   "id": "d5bbca2af2040fe1",
   "outputs": [],
   "execution_count": null
  },
  {
   "cell_type": "code",
   "source": "\n",
   "metadata": {
    "collapsed": false
   },
   "id": "3c533d00bb4ae367",
   "outputs": [],
   "execution_count": null
  },
  {
   "cell_type": "code",
   "source": [
    "from shapely import from_wkt\n",
    "import osmnx as ox\n",
    "import geopandas as gpd\n",
    "import networkx as nx\n",
    "\n",
    "\n",
    "def nx_to_gdf(\n",
    "        graph: nx.MultiDiGraph, nodes: bool = False, edges: bool = False, node_geometry=False, fill_edge_geometry=False\n",
    ") -> gpd.GeoDataFrame | tuple[gpd.GeoDataFrame, gpd.GeoDataFrame]:\n",
    "    for _, _, data in graph.edges(data=True):\n",
    "        if \"geometry\" in data:\n",
    "            data[\"geometry\"] = from_wkt(str(data[\"geometry\"]))\n",
    "\n",
    "    if edges and nodes:\n",
    "        gdf_graph_nodes, gdf_graph_edges = ox.graph_to_gdfs(\n",
    "            graph, nodes=True, edges=True, node_geometry=node_geometry, fill_edge_geometry=fill_edge_geometry\n",
    "        )\n",
    "        gdf_graph_edges = gdf_graph_edges.reset_index()\n",
    "        return gdf_graph_nodes, gdf_graph_edges\n",
    "    elif edges:\n",
    "        gdf_graph_edges = ox.graph_to_gdfs(graph, nodes=False, edges=True, fill_edge_geometry=fill_edge_geometry)\n",
    "        gdf_graph_edges = gdf_graph_edges.reset_index()\n",
    "        return gdf_graph_edges\n",
    "    elif nodes:\n",
    "        gdf_graph_nodes = ox.graph_to_gdfs(graph, nodes=True, edges=False, node_geometry=node_geometry)\n",
    "        return gdf_graph_nodes\n",
    "    raise ValueError(\"You must specify either nodes or edges as True.\")\n",
    "\n",
    "\n",
    "g.graph['crs'] = 32638\n",
    "nodes, edges = nx_to_gdf(nx.MultiDiGraph(g), nodes=True, edges=True, node_geometry=True)"
   ],
   "metadata": {
    "collapsed": false
   },
   "id": "30fbaae2877a3a66",
   "outputs": [],
   "execution_count": null
  },
  {
   "cell_type": "code",
   "source": [
    "m1 = edges.explore(column='route', tiles='CartoDB positron')\n",
    "# nodes.explore(m=m1)\n",
    "m1"
   ],
   "metadata": {
    "collapsed": false
   },
   "id": "f61609647ddc3190",
   "outputs": [],
   "execution_count": null
  },
  {
   "cell_type": "code",
   "source": [
    "t = data_geom.iloc[3]\n",
    "platforms = gpd.GeoDataFrame(geometry=t['platforms'], crs=local_crs)\n",
    "stops = gpd.GeoDataFrame(geometry=t['stops'], crs=local_crs)\n",
    "\n",
    "connection = gpd.sjoin_nearest(platforms, stops)\n",
    "connection"
   ],
   "metadata": {
    "collapsed": false
   },
   "id": "def748b5b55141ed",
   "outputs": [],
   "execution_count": null
  },
  {
   "cell_type": "code",
   "source": [
    "from shapely.ops import substring\n",
    "\n",
    "line = LineString([(0, 0), (2, 2), (5, 5), (10, 0)])\n",
    "\n",
    "start_distance = 4\n",
    "end_distance = 6\n",
    "\n",
    "sub_line = substring(line, 4, 10)\n",
    "line"
   ],
   "metadata": {
    "collapsed": false
   },
   "id": "5b7a2ceef62ed8b2",
   "outputs": [],
   "execution_count": null
  },
  {
   "cell_type": "code",
   "source": [
    "m1 = gpd.GeoDataFrame(geometry=[LineString(x) for x in data_geom['path'].iloc[2:3]], crs=local_crs).explore()\n",
    "gpd.GeoDataFrame(geometry=graph_gdf.iloc[2], crs=local_crs).explore(m=m1, color='red')"
   ],
   "metadata": {
    "collapsed": false
   },
   "id": "ad765dd9d2d0e377",
   "outputs": [],
   "execution_count": null
  },
  {
   "cell_type": "code",
   "source": "",
   "metadata": {
    "collapsed": false
   },
   "id": "2bf1a4227053f93a",
   "outputs": [],
   "execution_count": null
  },
  {
   "cell_type": "code",
   "source": [
    "from shapely import LineString\n",
    "import geopandas as gpd\n",
    "\n",
    "m1 = gpd.GeoDataFrame(geometry=[LineString(x) for x in data_geom['path']], crs=local_crs).reset_index().explore(\n",
    "    column='index', tiles='CartoDB positron')\n",
    "# gpd.GeoDataFrame(data_geom.iloc[1]['platforms'], crs=4326).reset_index().explore(m=m1, color='red')\n",
    "m1"
   ],
   "metadata": {
    "collapsed": false
   },
   "id": "f1efd44c9e1c772b",
   "outputs": [],
   "execution_count": null
  },
  {
   "metadata": {},
   "cell_type": "code",
   "source": [
    "t = [(1, 6), (0, 3), (2, 5)]\n",
    "for i in range(3):\n"
   ],
   "id": "2dda487174f6e53f",
   "outputs": [],
   "execution_count": null
  },
  {
   "cell_type": "code",
   "source": [
    "test = pd.DataFrame(data_osm.iloc[2]['members'])\n",
    "test = test[(test['type'] == 'node') & (test['role'].isin(['platform_entry_only', 'platform', 'platform_exit_only']))]\n",
    "test['geometry'] = test.apply(lambda x: (Point(x[\"lon\"], x[\"lat\"])), axis=1)\n",
    "test.reset_index(drop=True, inplace=True)\n",
    "gdf = gpd.GeoDataFrame(test.reset_index(), crs=4326)\n",
    "gdf.geometry = gdf.geometry.buffer(0.0001)\n",
    "gdf.explore()"
   ],
   "metadata": {
    "collapsed": false
   },
   "id": "30f423107fc5439",
   "outputs": [],
   "execution_count": null
  },
  {
   "cell_type": "code",
   "source": [
    "test = pd.DataFrame(data_osm.iloc[1]['members'])\n",
    "test = test[test['type'] == 'way']\n",
    "test = test[\"geometry\"]\n",
    "test = test.apply(lambda x: ([(coords[\"lon\"], coords[\"lat\"]) for coords in x]))\n",
    "# gdf = gpd.GeoDataFrame(test.reset_index(),geometry='geometry',crs=4326)\n",
    "# gdf.geometry = gdf.geometry.buffer(0.0001)\n",
    "# gdf.explore()\n",
    "test"
   ],
   "metadata": {
    "collapsed": false
   },
   "id": "644eecaf69135bed",
   "outputs": [],
   "execution_count": null
  },
  {
   "cell_type": "code",
   "source": "test",
   "metadata": {
    "collapsed": false
   },
   "id": "664065a99455656",
   "outputs": [],
   "execution_count": null
  },
  {
   "metadata": {},
   "cell_type": "markdown",
   "source": "#### ПОПЫТКА СОЕДИНЯТЬ ДОРОГИ ",
   "id": "df9d55688b52385e"
  },
  {
   "cell_type": "code",
   "source": [
    "from scipy.spatial import cKDTree\n",
    "from shapely import LineString, Point\n",
    "import geopandas as gpd\n",
    "\n",
    "PLATFORM_ROLES = []\n",
    "\n",
    "\n",
    "def parse_overpass_route_response(loc: dict):\n",
    "    if 'ref' in loc['tags'].keys():\n",
    "        transport_name = loc['tags']['ref']\n",
    "    else:\n",
    "        transport_name = loc['tags']['name']\n",
    "    route = pd.DataFrame(loc[\"members\"])\n",
    "\n",
    "    ways = route[route[\"type\"] == \"way\"]\n",
    "\n",
    "    if len(ways) > 0:\n",
    "        ways = ways[\"geometry\"].reset_index(drop=True)\n",
    "        ways = ways.apply(lambda x: ([(coords[\"lon\"], coords[\"lat\"]) for coords in x])).tolist()\n",
    "        if ways[0][0] == ways[1][0] or ways[0][0] == ways[1][-1]:\n",
    "            complete_line = ways[0][::-1]\n",
    "        else:\n",
    "            complete_line = ways[0]\n",
    "        for coords in ways[1:]:\n",
    "            if complete_line[-1] == coords[0]:\n",
    "                complete_line += coords[1:]\n",
    "            elif complete_line[-1] == coords[-1]:\n",
    "                complete_line += coords[::-1][1:]\n",
    "            else:\n",
    "                if coords[0] == coords[-1]:\n",
    "                    continue\n",
    "                else:\n",
    "                    tree = cKDTree([coords[0], coords[-1]])\n",
    "                    _, ind = tree.query(complete_line[-1])\n",
    "                    if ind == 1:\n",
    "                        coords = coords[::-1]\n",
    "                    complete_line += coords\n",
    "        # print('^^^^^^^^^^')\n",
    "\n",
    "    else:\n",
    "        complete_line = None\n",
    "    if \"node\" in route[\"type\"].unique():\n",
    "        platforms = route[(route[\"type\"] == \"node\")].apply(lambda x: Point(x[\"lon\"], x[\"lat\"]), axis=1)\n",
    "    else:\n",
    "        platforms = None\n",
    "\n",
    "    return pd.Series({\"way\": complete_line, \"platforms\": platforms, 'name': transport_name})\n",
    "\n",
    "\n",
    "data_geom = data_osm.apply(parse_overpass_route_response, axis=1, result_type='expand')\n",
    "data_geom"
   ],
   "metadata": {
    "collapsed": false
   },
   "id": "4c9a8fc4dd48026b",
   "outputs": [],
   "execution_count": null
  },
  {
   "cell_type": "code",
   "source": [
    "test = [LineString(\n",
    "    [(46.0046822, 51.5426408), (46.0046214, 51.5425402), (46.0042506, 51.541918), (46.0038134, 51.5411845),\n",
    "     (46.0036437, 51.5408997), (46.0035859, 51.5408011), (46.0035352, 51.5407158), (46.0031053, 51.5399929),\n",
    "     (46.0028598, 51.5395801), (46.0026303, 51.5391941), (46.0025706, 51.5390938), (46.0023997, 51.5391331),\n",
    "     (46.00211, 51.5391985), (46.0019414, 51.5392372), (46.0008809, 51.5394906), (46.00081, 51.5395332),\n",
    "     (46.000665, 51.5396234), (46.0006024, 51.5396705), (46.0005255, 51.5397869), (46.000459, 51.5399285),\n",
    "     (46.0005332, 51.54006), (46.0007185, 51.5403886), (46.0008003, 51.5405164), (46.0008441, 51.5405848)]), LineString(\n",
    "    [(46.0046822, 51.5426408), (46.0048226, 51.5426046), (46.0048853, 51.5425884), (46.0065015, 51.5422214),\n",
    "     (46.0067008, 51.5421762), (46.007038, 51.5420996), (46.0071807, 51.5420672)]), Point(46.0046822, 51.5426408)]\n",
    "\n",
    "gpd.GeoDataFrame(geometry=test, crs=4326).explore()"
   ],
   "metadata": {
    "collapsed": false
   },
   "id": "8395e7884a6e5c60",
   "outputs": [],
   "execution_count": null
  },
  {
   "cell_type": "code",
   "source": "gpd.GeoDataFrame(geometry=data_geom['way'].apply(LineString), crs=4326).reset_index().explore(column='index')",
   "metadata": {
    "collapsed": false
   },
   "id": "cc5af2e4f5118d14",
   "outputs": [],
   "execution_count": null
  },
  {
   "cell_type": "code",
   "source": "print(data_geom['way'].apply(LineString).iloc[1])",
   "metadata": {
    "collapsed": false
   },
   "id": "fbddc31159b0cff8",
   "outputs": [],
   "execution_count": null
  },
  {
   "cell_type": "code",
   "source": "data_geom.iloc[16]['way']",
   "metadata": {
    "collapsed": false
   },
   "id": "3a0f48a874028657",
   "outputs": [],
   "execution_count": null
  },
  {
   "metadata": {},
   "cell_type": "code",
   "source": [
    "ways = data_geom.iloc[16]['way']\n",
    "ways = ways[\"geometry\"].reset_index(drop=True)\n",
    "lines = ways.apply(lambda x: ([(coords[\"lon\"], coords[\"lat\"]) for coords in x])).tolist()\n",
    "if lines[0][0] == lines[1][0]:\n",
    "    complete_line = lines[0][::-1]\n",
    "else:\n",
    "    complete_line = lines[0]\n",
    "for coords in lines[1:]:\n",
    "    if complete_line[-1] == coords[0]:\n",
    "        complete_line += coords[1:]\n",
    "    elif complete_line[-1] == coords[-1]:\n",
    "        complete_line += coords[::-1][1:]\n",
    "    else:\n",
    "        print('\\n\\nWTF\\n\\n')\n",
    "\n"
   ],
   "id": "c6e3649330c58b84",
   "outputs": [],
   "execution_count": null
  },
  {
   "metadata": {},
   "cell_type": "code",
   "source": "gpd.GeoDataFrame(geometry=[LineString(complete_line)], crs=4326).explore()",
   "id": "66caebcf071ed7d5",
   "outputs": [],
   "execution_count": null
  },
  {
   "metadata": {},
   "cell_type": "code",
   "source": [
    "\n",
    "from shapely import MultiPoint\n",
    "\n",
    "gpd.GeoDataFrame(data=[{'kek': i} for i in data_geom.index.tolist()],\n",
    "                 geometry=data_geom['platforms'].apply(lambda x: MultiPoint(x)), crs=4326).explore(column='kek')"
   ],
   "id": "d4f24bd416d7134e",
   "outputs": [],
   "execution_count": null
  },
  {
   "cell_type": "code",
   "source": [
    "\n",
    "data_geom.index.tolist()"
   ],
   "metadata": {
    "collapsed": false
   },
   "id": "d1d916e6a3d62e00",
   "outputs": [],
   "execution_count": null
  },
  {
   "cell_type": "markdown",
   "source": "## Download from microsoft ML footprint",
   "metadata": {
    "collapsed": false
   },
   "id": "53bbbb6ac696fbc1"
  },
  {
   "metadata": {},
   "cell_type": "markdown",
   "source": [
    "\"\"\"\n",
    "This snippet demonstrates how to access and convert the buildings\n",
    "data from .csv.gz to geojson for use in common GIS tools. You will\n",
    "need to install pandas, geopandas, and shapely.\n",
    "\"\"\"\n",
    "\n",
    "import pandas as pd\n",
    "import geopandas as gpd\n",
    "from shapely.geometry import shape\n",
    "\n",
    "location = 'Russia'\n",
    "\n",
    "dataset_links = pd.read_csv(\"https://minedbuildings.blob.core.windows.net/global-buildings/dataset-links.csv\")\n",
    "greece_links = dataset_links[dataset_links.Location == location]\n",
    "\n",
    "\n",
    "def convert_to_bytes(size):\n",
    "    size = str(size)\n",
    "    if 'KB' in size:\n",
    "        return float(size.replace('KB', '')) * 1024\n",
    "    elif 'MB' in size:\n",
    "        return float(size.replace('MB', '')) * 1024 * 1024\n",
    "    elif 'B' in size:\n",
    "        return float(size.replace('B', ''))\n",
    "    else:\n",
    "        return float(size)\n",
    "\n",
    "\n",
    "greece_links['Size_in_bytes'] = greece_links['Size'].apply(convert_to_bytes)\n",
    "greece_links = greece_links.sort_values(by='Size_in_bytes', ascending=False)\n",
    "greece_links = greece_links.head(10)\n",
    "\n",
    "greece_links = greece_links\n",
    "for _, row in greece_links.iterrows():\n",
    "    df = pd.read_json(row.Url, lines=True)\n",
    "    df['geometry'] = df['geometry'].apply(shape)\n",
    "    gdf = gpd.GeoDataFrame(df, crs=4326)\n",
    "    gdf.to_file(f\"{row.QuadKey}.geojson\", driver=\"GeoJSON\")\n"
   ],
   "id": "bcd2623e75654bee"
  },
  {
   "metadata": {},
   "cell_type": "markdown",
   "source": [
    "\n",
    "location = 'Russia'\n",
    "\n",
    "dataset_links = pd.read_csv(\"https://minedbuildings.blob.core.windows.net/global-buildings/dataset-links.csv\")\n",
    "greece_links = dataset_links[dataset_links.Location == location]\n",
    "\n",
    "\n",
    "def convert_to_bytes(size):\n",
    "    size = str(size)\n",
    "    if 'KB' in size:\n",
    "        return float(size.replace('KB', '')) * 1024\n",
    "    elif 'MB' in size:\n",
    "        return float(size.replace('MB', '')) * 1024 * 1024\n",
    "    elif 'B' in size:\n",
    "        return float(size.replace('B', ''))\n",
    "    else:\n",
    "        return float(size)\n",
    "\n",
    "\n",
    "greece_links['Size_in_bytes'] = greece_links['Size'].apply(convert_to_bytes)\n",
    "greece_links = greece_links.sort_values(by='Size_in_bytes', ascending=False)"
   ],
   "id": "14c7a37c6e86c9ee"
  },
  {
   "metadata": {},
   "cell_type": "code",
   "source": "",
   "id": "f0d910cf5affc502",
   "outputs": [],
   "execution_count": null
  },
  {
   "metadata": {},
   "cell_type": "markdown",
   "source": [
    "## Для вшэ временно тут\n",
    "import math\n",
    "\n",
    "import geopandas as gpd\n",
    "f1 = 'Зоны видимости школ (без деревьев).geojson'\n",
    "f2 = 'Зоны видимости школ (с деревьями).geojson'\n",
    "\n",
    "d1 = gpd.read_file(f1).to_crs(32636)\n",
    "d2 = gpd.read_file(f2).to_crs(32636)\n",
    "\n",
    "d1.drop(columns=['area','perimeter'],inplace=True)\n",
    "d2.drop(columns=['area','perimeter'],inplace=True)\n",
    "\n",
    "import pandas as pd\n",
    "schools = gpd.read_file('Полигоны школ.geojson').to_crs(32636)\n",
    "schools['ID школы'] = schools['ID школы'].astype(int)\n",
    "schools['Площадь школы(м2)'] = round(schools.geometry.area,2)\n",
    "schools['school_geom'] = schools.geometry\n",
    "d1_ =  pd.merge(d1,schools[['Площадь школы(м2)','ID школы','school_geom']],on='ID школы')\n",
    "d2_ =  pd.merge(d2,schools[['Площадь школы(м2)','ID школы','school_geom']],on='ID школы')\n",
    "\n",
    "import math\n",
    "\n",
    "d1_['Площадь видимости(м2)'] = round(d1_.geometry.area,2)\n",
    "d2_['Площадь видимости(м2)'] = round(d2_.geometry.area,2)\n",
    "\n",
    "d1_['Коэффициент видимости'] = d1_.apply(lambda x: round(x.geometry.area / x['school_geom'].buffer(1000).area,5),axis=1)\n",
    "d2_['Коэффициент видимости'] = d2_.apply(lambda x: round(x.geometry.area / x['school_geom'].buffer(1000).area,5),axis=1)\n",
    "\n",
    "d1_.drop(columns='school_geom').to_file(f1)\n",
    "d2_.drop(columns='school_geom').to_file(f2)"
   ],
   "id": "f8d527cf65539f7b"
  },
  {
   "metadata": {},
   "cell_type": "code",
   "source": "",
   "id": "5a8f6b88675fdb66",
   "outputs": [],
   "execution_count": null
  }
 ],
 "metadata": {
  "kernelspec": {
   "display_name": "Python 3",
   "language": "python",
   "name": "python3"
  },
  "language_info": {
   "codemirror_mode": {
    "name": "ipython",
    "version": 2
   },
   "file_extension": ".py",
   "mimetype": "text/x-python",
   "name": "python",
   "nbconvert_exporter": "python",
   "pygments_lexer": "ipython2",
   "version": "2.7.6"
  }
 },
 "nbformat": 4,
 "nbformat_minor": 5
}
