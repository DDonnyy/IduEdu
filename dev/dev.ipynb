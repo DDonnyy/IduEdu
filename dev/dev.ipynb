{
 "cells": [
  {
   "cell_type": "code",
   "execution_count": null,
   "outputs": [],
   "source": [
    "import numpy as np\n",
    "%load_ext autoreload\n",
    "%autoreload 2\n",
    "from src.iduedu.modules.downloaders import get_routes_by_terr_name\n",
    "from src.iduedu.modules.public_transport_builder import get_single_public_transport_graph, \\\n",
    "    get_all_public_transport_graph\n",
    "from src.iduedu.modules.drive_walk_builder import get_drive_graph, get_walk_graph\n",
    "import pandas as pd\n",
    "\n",
    "# g = get_single_public_transport_graph('subway', osm_id=3767134)\n",
    "# g2 = get_all_public_transport_graph(osm_id=2725551, clip_by_bounds=True)\n",
    "# drive = get_drive_graph(osm_id=2725551)\n",
    "walk = get_walk_graph(osm_id=2725551)\n",
    "# g = get_single_public_transport_graph('bus', osm_id=3767134)"
   ],
   "metadata": {
    "collapsed": false
   },
   "id": "a36b9eec532e484e"
  },
  {
   "cell_type": "code",
   "execution_count": null,
   "outputs": [],
   "source": [
    "walk.graph"
   ],
   "metadata": {
    "collapsed": false
   },
   "id": "15b3b0ff38c9aa3b"
  },
  {
   "cell_type": "code",
   "execution_count": 33,
   "outputs": [],
   "source": [
    "import osmnx as ox\n",
    "import networkx as nx\n",
    "\n",
    "nodes, edges = ox.graph_to_gdfs(nx.MultiDiGraph(walk))\n",
    "m1=edges.explore()\n",
    "nodes.explore(color='red',m=m1)\n",
    "m1.save('kek.html')"
   ],
   "metadata": {
    "collapsed": false,
    "ExecuteTime": {
     "end_time": "2024-08-28T16:48:16.754789300Z",
     "start_time": "2024-08-28T16:48:02.357873700Z"
    }
   },
   "id": "edc0f62fda6bb57e"
  },
  {
   "cell_type": "code",
   "execution_count": null,
   "outputs": [],
   "source": [
    "import networkx as nx\n",
    "from shapely import Polygon\n",
    "from src.iduedu.modules.downloaders import get_boundary_by_osm_id\n",
    "from src.iduedu.utils.utils import estimate_crs_for_bounds\n",
    "\n",
    "\n",
    "def clip_nx_graph(graph: nx.Graph, polygon: Polygon):\n",
    "    local_crs = graph.graph['crs']\n",
    "\n",
    "\n",
    "def reproject_nx_graph(graph: nx.Graph, crs=None):\n",
    "    \"\"\"\n",
    "\n",
    "    :param graph:\n",
    "    :param crs: by default None, will be determine automatically\n",
    "    :return:\n",
    "    \"\"\"\n",
    "    print(1)\n",
    "\n",
    "\n",
    "poly: Polygon = get_boundary_by_osm_id(3767134)\n",
    "estimate_crs_for_bounds(*poly.bounds)"
   ],
   "metadata": {
    "collapsed": false
   },
   "id": "9192b56db5a3e3e5"
  },
  {
   "cell_type": "code",
   "execution_count": null,
   "outputs": [],
   "source": [
    "import geopandas as gpd\n",
    "\n",
    "gpd.GeoDataFrame(geometry=[poly], crs=4326).estimate_utm_crs()"
   ],
   "metadata": {
    "collapsed": false
   },
   "id": "fd3e44189523ebda"
  },
  {
   "cell_type": "code",
   "execution_count": null,
   "outputs": [],
   "source": [
    "import networkx as nx\n",
    "\n",
    "nx.write_gml(g2, 'test_saratov_all.gml')"
   ],
   "metadata": {
    "collapsed": false
   },
   "id": "4d3723c8cf0fc949"
  },
  {
   "cell_type": "code",
   "execution_count": null,
   "outputs": [],
   "source": [
    "from scipy.spatial.distance import cdist\n",
    "import numpy as np\n",
    "import pandas as pd\n",
    "\n",
    "connect_points = [point for coords in connected_ways for point in (coords[0], coords[-1])]\n",
    "distances = cdist(connect_points, connect_points)\n",
    "n = distances.shape[0]\n",
    "mask = (np.arange(n)[:, None] // 2) == (np.arange(n) // 2)\n",
    "distances[mask] = np.inf\n",
    "\n",
    "indexes = []\n",
    "\n",
    "\n",
    "def relative_point(point: int):\n",
    "    rel_point = point // 2 * 2\n",
    "    return rel_point if rel_point != point else rel_point + 1\n",
    "\n",
    "\n",
    "lines = []\n",
    "\n",
    "connected_line = []\n",
    "debug = []\n",
    "first_con_1, first_con_2 = np.unravel_index(np.argmin(distances), distances.shape)\n",
    "distances[first_con_1, :] = np.inf\n",
    "distances[first_con_2, :] = np.inf\n",
    "distances[:, first_con_2] = np.inf\n",
    "distances[:, first_con_1] = np.inf\n",
    "first_con_1_rel, first_con_2_rel = [relative_point(x) for x in (first_con_1, first_con_2)]\n",
    "distances[first_con_1_rel, first_con_2_rel] = np.inf\n",
    "distances[first_con_2_rel, first_con_1_rel] = np.inf\n",
    "indexes.append((first_con_1, first_con_2))\n",
    "\n",
    "line1, line2 = first_con_1 // 2, first_con_2 // 2\n",
    "\n",
    "lines.append(line1)\n",
    "lines.append(line2)\n",
    "if first_con_1 % 2 == 1:\n",
    "    connected_line += connected_ways[line1]\n",
    "    debug.append(connected_ways[line1])\n",
    "else:\n",
    "    connected_line += connected_ways[line1][::-1]\n",
    "    debug.append(connected_ways[line1][::-1])\n",
    "\n",
    "if first_con_2 % 2 == 0:\n",
    "    connected_line += connected_ways[line2]\n",
    "    debug.append(connected_ways[line2])\n",
    "else:\n",
    "    connected_line += connected_ways[line2][::-1]\n",
    "    debug.append(connected_ways[line2][::-1])\n",
    "\n",
    "extreme_points = [first_con_1_rel, first_con_2_rel]\n",
    "\n",
    "print(f'extrem_from_start {extreme_points}')\n",
    "\n",
    "for i in range(len(connected_ways) - 2):\n",
    "    position, ind = np.unravel_index(np.argmin(distances[extreme_points]), (2, n))\n",
    "    next_con = (extreme_points[position], ind)\n",
    "    rel_point = relative_point(next_con[1])\n",
    "    distances[:, rel_point] = np.inf\n",
    "    line = ind // 2\n",
    "    lines.append(line)\n",
    "    if position == 0:\n",
    "        connected_line = connected_ways[line] + connected_line if ind % 2 == 1 else (\n",
    "                connected_ways[line][::-1] + connected_line)\n",
    "        debug.insert(0, connected_ways[line]) if ind % 2 == 1 else debug.insert(0, connected_ways[line][::-1])\n",
    "        indexes.insert(0, next_con[::-1])\n",
    "        extreme_points = [rel_point, extreme_points[1]]\n",
    "    else:\n",
    "        connected_line = connected_line + connected_ways[line] if ind % 2 == 0 else (\n",
    "                connected_line + connected_ways[line][::-1])\n",
    "        debug.append(connected_ways[line]) if ind % 2 == 1 else debug.append(connected_ways[line][::-1])\n",
    "        indexes.append(next_con)\n",
    "        extreme_points = [extreme_points[0], rel_point]\n",
    "\n",
    "    distances[next_con[0], :] = np.inf\n",
    "    distances[next_con[1], :] = np.inf\n",
    "    distances[:, next_con[0]] = np.inf\n",
    "    distances[:, next_con[1]] = np.inf\n",
    "    rel_point_2 = relative_point(next_con[0])\n",
    "    distances[rel_point, rel_point_2] = np.inf\n",
    "    distances[rel_point_2, rel_point] = np.inf\n",
    "    print('---------------')\n",
    "    print(f'index: {i}')\n",
    "    print(indexes)\n",
    "    print(f'extreme_points {extreme_points}')\n",
    "    print(f'added con {next_con}')\n"
   ],
   "metadata": {
    "collapsed": false
   },
   "id": "2652b58cf9774dad"
  },
  {
   "cell_type": "code",
   "execution_count": null,
   "outputs": [],
   "source": [
    "connected_ways"
   ],
   "metadata": {
    "collapsed": false
   },
   "id": "6b583572396ebd67"
  },
  {
   "cell_type": "code",
   "execution_count": null,
   "outputs": [],
   "source": [
    "from shapely import LineString\n",
    "import geopandas as gpd\n",
    "\n",
    "gpd.GeoDataFrame(geometry=[LineString(new_connected_ways)], crs=32635).explore(tiles='CartoDB positron')"
   ],
   "metadata": {
    "collapsed": false
   },
   "id": "63db8e48d5db4a57"
  },
  {
   "cell_type": "code",
   "execution_count": null,
   "outputs": [],
   "source": [
    "t = [1, 2]\n",
    "[(x // 2) * 2 if ((x // 2) * 2 != x) else ((x // 2) * 2 + 1) for x in t]"
   ],
   "metadata": {
    "collapsed": false
   },
   "id": "38af5a7e92e30807"
  },
  {
   "cell_type": "code",
   "execution_count": null,
   "outputs": [],
   "source": [
    "%load_ext autoreload\n",
    "%autoreload 2\n",
    "from iduedu.modules.graph_builder import get_all_public_transport_graph\n",
    "\n",
    "res = get_all_public_transport_graph(osm_id=3767134)"
   ],
   "metadata": {
    "collapsed": false
   },
   "id": "8eb1aa9f17d1d63f"
  },
  {
   "metadata": {},
   "cell_type": "code",
   "source": [
    "import networkx as nx\n",
    "\n",
    "nx.write_gml(res, 'spb+lo_iduedu.gml')"
   ],
   "id": "e1c83ae9725c912c",
   "outputs": [],
   "execution_count": null
  },
  {
   "cell_type": "code",
   "source": [
    "\n"
   ],
   "metadata": {
    "collapsed": false
   },
   "id": "24b853235852d4d0",
   "outputs": [],
   "execution_count": null
  },
  {
   "cell_type": "code",
   "source": [
    "from shapely import from_wkt\n",
    "import osmnx as ox\n",
    "import geopandas as gpd\n",
    "import networkx as nx\n",
    "\n",
    "\n",
    "def nx_to_gdf(\n",
    "        graph: nx.MultiDiGraph, nodes: bool = False, edges: bool = False, node_geometry=False, fill_edge_geometry=False\n",
    ") -> gpd.GeoDataFrame | tuple[gpd.GeoDataFrame, gpd.GeoDataFrame]:\n",
    "    for _, _, data in graph.edges(data=True):\n",
    "        if \"geometry\" in data:\n",
    "            data[\"geometry\"] = from_wkt(str(data[\"geometry\"]))\n",
    "\n",
    "    if edges and nodes:\n",
    "        gdf_graph_nodes, gdf_graph_edges = ox.graph_to_gdfs(\n",
    "            graph, nodes=True, edges=True, node_geometry=node_geometry, fill_edge_geometry=fill_edge_geometry\n",
    "        )\n",
    "        gdf_graph_edges = gdf_graph_edges.reset_index()\n",
    "        return gdf_graph_nodes, gdf_graph_edges\n",
    "    elif edges:\n",
    "        gdf_graph_edges = ox.graph_to_gdfs(graph, nodes=False, edges=True, fill_edge_geometry=fill_edge_geometry)\n",
    "        gdf_graph_edges = gdf_graph_edges.reset_index()\n",
    "        return gdf_graph_edges\n",
    "    elif nodes:\n",
    "        gdf_graph_nodes = ox.graph_to_gdfs(graph, nodes=True, edges=False, node_geometry=node_geometry)\n",
    "        return gdf_graph_nodes\n",
    "    raise ValueError(\"You must specify either nodes or edges as True.\")\n",
    "\n",
    "\n",
    "g.graph['crs'] = 32638\n",
    "nodes, edges = nx_to_gdf(nx.MultiDiGraph(g), nodes=True, edges=True, node_geometry=True)"
   ],
   "metadata": {
    "collapsed": false
   },
   "id": "1bc342ff170dfc6d",
   "outputs": [],
   "execution_count": null
  },
  {
   "cell_type": "code",
   "source": [
    "m1 = edges.explore(column='route', tiles='CartoDB positron')\n",
    "# nodes.explore(m=m1)\n",
    "m1"
   ],
   "metadata": {
    "collapsed": false
   },
   "id": "9149068c348d01c6",
   "outputs": [],
   "execution_count": null
  },
  {
   "cell_type": "code",
   "source": [
    "t = data_geom.iloc[3]\n",
    "platforms = gpd.GeoDataFrame(geometry=t['platforms'], crs=local_crs)\n",
    "stops = gpd.GeoDataFrame(geometry=t['stops'], crs=local_crs)\n",
    "\n",
    "connection = gpd.sjoin_nearest(platforms, stops)\n",
    "connection"
   ],
   "metadata": {
    "collapsed": false
   },
   "id": "d5bbca2af2040fe1",
   "outputs": [],
   "execution_count": null
  },
  {
   "cell_type": "code",
   "source": [
    "from shapely.ops import substring\n",
    "\n",
    "line = LineString([(0, 0), (2, 2), (5, 5), (10, 0)])\n",
    "\n",
    "start_distance = 4\n",
    "end_distance = 6\n",
    "\n",
    "sub_line = substring(line, 4, 10)\n",
    "line"
   ],
   "metadata": {
    "collapsed": false
   },
   "id": "3c533d00bb4ae367",
   "outputs": [],
   "execution_count": null
  },
  {
   "cell_type": "code",
   "source": [
    "m1 = gpd.GeoDataFrame(geometry=[LineString(x) for x in data_geom['path'].iloc[2:3]], crs=local_crs).explore()\n",
    "gpd.GeoDataFrame(geometry=graph_gdf.iloc[2], crs=local_crs).explore(m=m1, color='red')"
   ],
   "metadata": {
    "collapsed": false
   },
   "id": "30fbaae2877a3a66",
   "outputs": [],
   "execution_count": null
  },
  {
   "cell_type": "code",
   "source": [],
   "metadata": {
    "collapsed": false
   },
   "id": "f61609647ddc3190",
   "outputs": [],
   "execution_count": null
  },
  {
   "cell_type": "code",
   "source": [
    "from shapely import LineString\n",
    "import geopandas as gpd\n",
    "\n",
    "m1 = gpd.GeoDataFrame(geometry=[LineString(x) for x in data_geom['path']], crs=local_crs).reset_index().explore(\n",
    "    column='index', tiles='CartoDB positron')\n",
    "# gpd.GeoDataFrame(data_geom.iloc[1]['platforms'], crs=4326).reset_index().explore(m=m1, color='red')\n",
    "m1"
   ],
   "metadata": {
    "collapsed": false
   },
   "id": "def748b5b55141ed",
   "outputs": [],
   "execution_count": null
  },
  {
   "cell_type": "code",
   "source": [
    "t = [(1, 6), (0, 3), (2, 5)]\n",
    "for i in range(3):\n"
   ],
   "metadata": {
    "collapsed": false
   },
   "id": "5b7a2ceef62ed8b2",
   "outputs": [],
   "execution_count": null
  },
  {
   "cell_type": "code",
   "source": [
    "test = pd.DataFrame(data_osm.iloc[2]['members'])\n",
    "test = test[(test['type'] == 'node') & (test['role'].isin(['platform_entry_only', 'platform', 'platform_exit_only']))]\n",
    "test['geometry'] = test.apply(lambda x: (Point(x[\"lon\"], x[\"lat\"])), axis=1)\n",
    "test.reset_index(drop=True, inplace=True)\n",
    "gdf = gpd.GeoDataFrame(test.reset_index(), crs=4326)\n",
    "gdf.geometry = gdf.geometry.buffer(0.0001)\n",
    "gdf.explore()"
   ],
   "metadata": {
    "collapsed": false
   },
   "id": "ad765dd9d2d0e377",
   "outputs": [],
   "execution_count": null
  },
  {
   "cell_type": "code",
   "source": [
    "test = pd.DataFrame(data_osm.iloc[1]['members'])\n",
    "test = test[test['type'] == 'way']\n",
    "test = test[\"geometry\"]\n",
    "test = test.apply(lambda x: ([(coords[\"lon\"], coords[\"lat\"]) for coords in x]))\n",
    "# gdf = gpd.GeoDataFrame(test.reset_index(),geometry='geometry',crs=4326)\n",
    "# gdf.geometry = gdf.geometry.buffer(0.0001)\n",
    "# gdf.explore()\n",
    "test"
   ],
   "metadata": {
    "collapsed": false
   },
   "id": "2bf1a4227053f93a",
   "outputs": [],
   "execution_count": null
  },
  {
   "cell_type": "code",
   "source": [
    "test"
   ],
   "metadata": {
    "collapsed": false
   },
   "id": "f1efd44c9e1c772b",
   "outputs": [],
   "execution_count": null
  },
  {
   "cell_type": "markdown",
   "source": [
    "#### ПОПЫТКА СОЕДИНЯТЬ ДОРОГИ "
   ],
   "metadata": {
    "collapsed": false
   },
   "id": "be63856c89c2f05e"
  },
  {
   "cell_type": "code",
   "source": [
    "from scipy.spatial import cKDTree\n",
    "from shapely import LineString, Point\n",
    "import geopandas as gpd\n",
    "\n",
    "PLATFORM_ROLES = []\n",
    "\n",
    "\n",
    "def parse_overpass_route_response(loc: dict):\n",
    "    if 'ref' in loc['tags'].keys():\n",
    "        transport_name = loc['tags']['ref']\n",
    "    else:\n",
    "        transport_name = loc['tags']['name']\n",
    "    route = pd.DataFrame(loc[\"members\"])\n",
    "\n",
    "    ways = route[route[\"type\"] == \"way\"]\n",
    "\n",
    "    if len(ways) > 0:\n",
    "        ways = ways[\"geometry\"].reset_index(drop=True)\n",
    "        ways = ways.apply(lambda x: ([(coords[\"lon\"], coords[\"lat\"]) for coords in x])).tolist()\n",
    "        if ways[0][0] == ways[1][0] or ways[0][0] == ways[1][-1]:\n",
    "            complete_line = ways[0][::-1]\n",
    "        else:\n",
    "            complete_line = ways[0]\n",
    "        for coords in ways[1:]:\n",
    "            if complete_line[-1] == coords[0]:\n",
    "                complete_line += coords[1:]\n",
    "            elif complete_line[-1] == coords[-1]:\n",
    "                complete_line += coords[::-1][1:]\n",
    "            else:\n",
    "                if coords[0] == coords[-1]:\n",
    "                    continue\n",
    "                else:\n",
    "                    tree = cKDTree([coords[0], coords[-1]])\n",
    "                    _, ind = tree.query(complete_line[-1])\n",
    "                    if ind == 1:\n",
    "                        coords = coords[::-1]\n",
    "                    complete_line += coords\n",
    "        # print('^^^^^^^^^^')\n",
    "\n",
    "    else:\n",
    "        complete_line = None\n",
    "    if \"node\" in route[\"type\"].unique():\n",
    "        platforms = route[(route[\"type\"] == \"node\")].apply(lambda x: Point(x[\"lon\"], x[\"lat\"]), axis=1)\n",
    "    else:\n",
    "        platforms = None\n",
    "\n",
    "    return pd.Series({\"way\": complete_line, \"platforms\": platforms, 'name': transport_name})\n",
    "\n",
    "\n",
    "data_geom = data_osm.apply(parse_overpass_route_response, axis=1, result_type='expand')\n",
    "data_geom"
   ],
   "metadata": {
    "collapsed": false
   },
   "id": "30f423107fc5439",
   "outputs": [],
   "execution_count": null
  },
  {
   "cell_type": "code",
   "source": [
    "test = [LineString(\n",
    "    [(46.0046822, 51.5426408), (46.0046214, 51.5425402), (46.0042506, 51.541918), (46.0038134, 51.5411845),\n",
    "     (46.0036437, 51.5408997), (46.0035859, 51.5408011), (46.0035352, 51.5407158), (46.0031053, 51.5399929),\n",
    "     (46.0028598, 51.5395801), (46.0026303, 51.5391941), (46.0025706, 51.5390938), (46.0023997, 51.5391331),\n",
    "     (46.00211, 51.5391985), (46.0019414, 51.5392372), (46.0008809, 51.5394906), (46.00081, 51.5395332),\n",
    "     (46.000665, 51.5396234), (46.0006024, 51.5396705), (46.0005255, 51.5397869), (46.000459, 51.5399285),\n",
    "     (46.0005332, 51.54006), (46.0007185, 51.5403886), (46.0008003, 51.5405164), (46.0008441, 51.5405848)]), LineString(\n",
    "    [(46.0046822, 51.5426408), (46.0048226, 51.5426046), (46.0048853, 51.5425884), (46.0065015, 51.5422214),\n",
    "     (46.0067008, 51.5421762), (46.007038, 51.5420996), (46.0071807, 51.5420672)]), Point(46.0046822, 51.5426408)]\n",
    "\n",
    "gpd.GeoDataFrame(geometry=test, crs=4326).explore()"
   ],
   "metadata": {
    "collapsed": false
   },
   "id": "644eecaf69135bed",
   "outputs": [],
   "execution_count": null
  },
  {
   "cell_type": "code",
   "source": [
    "gpd.GeoDataFrame(geometry=data_geom['way'].apply(LineString), crs=4326).reset_index().explore(column='index')"
   ],
   "metadata": {
    "collapsed": false
   },
   "id": "664065a99455656",
   "outputs": [],
   "execution_count": null
  },
  {
   "cell_type": "code",
   "source": [
    "print(data_geom['way'].apply(LineString).iloc[1])"
   ],
   "metadata": {
    "collapsed": false
   },
   "id": "62b733c1fde4e799",
   "outputs": [],
   "execution_count": null
  },
  {
   "cell_type": "code",
   "source": [
    "data_geom.iloc[16]['way']"
   ],
   "metadata": {
    "collapsed": false
   },
   "id": "4c9a8fc4dd48026b",
   "outputs": [],
   "execution_count": null
  },
  {
   "cell_type": "code",
   "source": [
    "ways = data_geom.iloc[16]['way']\n",
    "ways = ways[\"geometry\"].reset_index(drop=True)\n",
    "lines = ways.apply(lambda x: ([(coords[\"lon\"], coords[\"lat\"]) for coords in x])).tolist()\n",
    "if lines[0][0] == lines[1][0]:\n",
    "    complete_line = lines[0][::-1]\n",
    "else:\n",
    "    complete_line = lines[0]\n",
    "for coords in lines[1:]:\n",
    "    if complete_line[-1] == coords[0]:\n",
    "        complete_line += coords[1:]\n",
    "    elif complete_line[-1] == coords[-1]:\n",
    "        complete_line += coords[::-1][1:]\n",
    "    else:\n",
    "        print('\\n\\nWTF\\n\\n')\n",
    "\n"
   ],
   "metadata": {
    "collapsed": false
   },
   "id": "8395e7884a6e5c60",
   "outputs": [],
   "execution_count": null
  },
  {
   "cell_type": "code",
   "source": [
    "gpd.GeoDataFrame(geometry=[LineString(complete_line)], crs=4326).explore()"
   ],
   "metadata": {
    "collapsed": false
   },
   "id": "cc5af2e4f5118d14",
   "outputs": [],
   "execution_count": null
  },
  {
   "cell_type": "code",
   "source": [
    "\n",
    "from shapely import MultiPoint\n",
    "\n",
    "gpd.GeoDataFrame(data=[{'kek': i} for i in data_geom.index.tolist()],\n",
    "                 geometry=data_geom['platforms'].apply(lambda x: MultiPoint(x)), crs=4326).explore(column='kek')"
   ],
   "metadata": {
    "collapsed": false
   },
   "id": "fbddc31159b0cff8",
   "outputs": [],
   "execution_count": null
  },
  {
   "cell_type": "code",
   "source": [
    "\n",
    "data_geom.index.tolist()"
   ],
   "metadata": {
    "collapsed": false
   },
   "id": "3a0f48a874028657",
   "outputs": [],
   "execution_count": null
  },
  {
   "cell_type": "markdown",
   "source": [
    "## Download from microsoft ML footprint"
   ],
   "metadata": {
    "collapsed": false
   },
   "id": "e07d4d51c3a6dec1"
  },
  {
   "cell_type": "markdown",
   "source": [
    "\"\"\"\n",
    "This snippet demonstrates how to access and convert the buildings\n",
    "data from .csv.gz to geojson for use in common GIS tools. You will\n",
    "need to install pandas, geopandas, and shapely.\n",
    "\"\"\"\n",
    "\n",
    "import pandas as pd\n",
    "import geopandas as gpd\n",
    "from shapely.geometry import shape\n",
    "\n",
    "location = 'Russia'\n",
    "\n",
    "dataset_links = pd.read_csv(\"https://minedbuildings.blob.core.windows.net/global-buildings/dataset-links.csv\")\n",
    "greece_links = dataset_links[dataset_links.Location == location]\n",
    "\n",
    "\n",
    "def convert_to_bytes(size):\n",
    "    size = str(size)\n",
    "    if 'KB' in size:\n",
    "        return float(size.replace('KB', '')) * 1024\n",
    "    elif 'MB' in size:\n",
    "        return float(size.replace('MB', '')) * 1024 * 1024\n",
    "    elif 'B' in size:\n",
    "        return float(size.replace('B', ''))\n",
    "    else:\n",
    "        return float(size)\n",
    "\n",
    "\n",
    "greece_links['Size_in_bytes'] = greece_links['Size'].apply(convert_to_bytes)\n",
    "greece_links = greece_links.sort_values(by='Size_in_bytes', ascending=False)\n",
    "greece_links = greece_links.head(10)\n",
    "\n",
    "greece_links = greece_links\n",
    "for _, row in greece_links.iterrows():\n",
    "    df = pd.read_json(row.Url, lines=True)\n",
    "    df['geometry'] = df['geometry'].apply(shape)\n",
    "    gdf = gpd.GeoDataFrame(df, crs=4326)\n",
    "    gdf.to_file(f\"{row.QuadKey}.geojson\", driver=\"GeoJSON\")\n"
   ],
   "metadata": {
    "collapsed": false
   },
   "id": "c1708183fc617aef"
  },
  {
   "cell_type": "markdown",
   "source": [
    "\n",
    "location = 'Russia'\n",
    "\n",
    "dataset_links = pd.read_csv(\"https://minedbuildings.blob.core.windows.net/global-buildings/dataset-links.csv\")\n",
    "greece_links = dataset_links[dataset_links.Location == location]\n",
    "\n",
    "\n",
    "def convert_to_bytes(size):\n",
    "    size = str(size)\n",
    "    if 'KB' in size:\n",
    "        return float(size.replace('KB', '')) * 1024\n",
    "    elif 'MB' in size:\n",
    "        return float(size.replace('MB', '')) * 1024 * 1024\n",
    "    elif 'B' in size:\n",
    "        return float(size.replace('B', ''))\n",
    "    else:\n",
    "        return float(size)\n",
    "\n",
    "\n",
    "greece_links['Size_in_bytes'] = greece_links['Size'].apply(convert_to_bytes)\n",
    "greece_links = greece_links.sort_values(by='Size_in_bytes', ascending=False)"
   ],
   "metadata": {
    "collapsed": false
   },
   "id": "101e0394e8df3bce"
  },
  {
   "cell_type": "code",
   "source": [],
   "metadata": {
    "collapsed": false
   },
   "id": "d1d916e6a3d62e00",
   "outputs": [],
   "execution_count": null
  },
  {
   "cell_type": "markdown",
   "source": [
    "## Для вшэ временно тут\n",
    "import math\n",
    "\n",
    "import geopandas as gpd\n",
    "f1 = 'Зоны видимости школ (без деревьев).geojson'\n",
    "f2 = 'Зоны видимости школ (с деревьями).geojson'\n",
    "\n",
    "d1 = gpd.read_file(f1).to_crs(32636)\n",
    "d2 = gpd.read_file(f2).to_crs(32636)\n",
    "\n",
    "d1.drop(columns=['area','perimeter'],inplace=True)\n",
    "d2.drop(columns=['area','perimeter'],inplace=True)\n",
    "\n",
    "import pandas as pd\n",
    "schools = gpd.read_file('Полигоны школ.geojson').to_crs(32636)\n",
    "schools['ID школы'] = schools['ID школы'].astype(int)\n",
    "schools['Площадь школы(м2)'] = round(schools.geometry.area,2)\n",
    "schools['school_geom'] = schools.geometry\n",
    "d1_ =  pd.merge(d1,schools[['Площадь школы(м2)','ID школы','school_geom']],on='ID школы')\n",
    "d2_ =  pd.merge(d2,schools[['Площадь школы(м2)','ID школы','school_geom']],on='ID школы')\n",
    "\n",
    "import math\n",
    "\n",
    "d1_['Площадь видимости(м2)'] = round(d1_.geometry.area,2)\n",
    "d2_['Площадь видимости(м2)'] = round(d2_.geometry.area,2)\n",
    "\n",
    "d1_['Коэффициент видимости'] = d1_.apply(lambda x: round(x.geometry.area / x['school_geom'].buffer(1000).area,5),axis=1)\n",
    "d2_['Коэффициент видимости'] = d2_.apply(lambda x: round(x.geometry.area / x['school_geom'].buffer(1000).area,5),axis=1)\n",
    "\n",
    "d1_.drop(columns='school_geom').to_file(f1)\n",
    "d2_.drop(columns='school_geom').to_file(f2)"
   ],
   "metadata": {
    "collapsed": false
   },
   "id": "53bbbb6ac696fbc1"
  },
  {
   "cell_type": "code",
   "source": [],
   "metadata": {
    "collapsed": false
   },
   "id": "c52fb5b5733cd1f9",
   "outputs": [],
   "execution_count": null
  }
 ],
 "metadata": {
  "kernelspec": {
   "display_name": "Python 3",
   "language": "python",
   "name": "python3"
  },
  "language_info": {
   "codemirror_mode": {
    "name": "ipython",
    "version": 2
   },
   "file_extension": ".py",
   "mimetype": "text/x-python",
   "name": "python",
   "nbconvert_exporter": "python",
   "pygments_lexer": "ipython2",
   "version": "2.7.6"
  }
 },
 "nbformat": 4,
 "nbformat_minor": 5
}
