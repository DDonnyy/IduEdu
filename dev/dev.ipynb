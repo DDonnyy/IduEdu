{
 "cells": [
  {
   "cell_type": "code",
   "execution_count": 8,
   "outputs": [
    {
     "name": "stderr",
     "output_type": "stream",
     "text": [
      "\u001B[32m2024-09-01 14:13:35.023\u001B[0m | \u001B[34m\u001B[1mDEBUG   \u001B[0m | \u001B[36miduedu.modules.downloaders\u001B[0m:\u001B[36mget_boundary_by_osm_id\u001B[0m:\u001B[36m20\u001B[0m - \u001B[34m\u001B[1mDownloading territory bounds with osm_id <1114252> ...\u001B[0m\n",
      "\u001B[32m2024-09-01 14:13:35.154\u001B[0m | \u001B[1mINFO    \u001B[0m | \u001B[36msrc.iduedu.modules.intermodal_builder\u001B[0m:\u001B[36mget_intermodal_graph\u001B[0m:\u001B[36m31\u001B[0m - \u001B[1mStarted downloading and parsing walk graph...\u001B[0m\n",
      "\u001B[32m2024-09-01 14:13:35.159\u001B[0m | \u001B[1mINFO    \u001B[0m | \u001B[36msrc.iduedu.modules.intermodal_builder\u001B[0m:\u001B[36mget_intermodal_graph\u001B[0m:\u001B[36m35\u001B[0m - \u001B[1mStarted downloading and parsing public trasport graph...\u001B[0m\n",
      "\u001B[32m2024-09-01 14:13:40.944\u001B[0m | \u001B[1mINFO    \u001B[0m | \u001B[36msrc.iduedu.modules.intermodal_builder\u001B[0m:\u001B[36mget_intermodal_graph\u001B[0m:\u001B[36m37\u001B[0m - \u001B[1mPublic trasport graph done!\u001B[0m\n",
      "\u001B[32m2024-09-01 14:13:46.202\u001B[0m | \u001B[1mINFO    \u001B[0m | \u001B[36msrc.iduedu.modules.intermodal_builder\u001B[0m:\u001B[36mget_intermodal_graph\u001B[0m:\u001B[36m39\u001B[0m - \u001B[1mWalk graph done!\u001B[0m\n",
      "\u001B[32m2024-09-01 14:13:46.482\u001B[0m | \u001B[1mINFO    \u001B[0m | \u001B[36miduedu.modules.pt_walk_joiner\u001B[0m:\u001B[36mjoin_pt_walk_graph\u001B[0m:\u001B[36m12\u001B[0m - \u001B[1mComposing intermodal graph...\u001B[0m\n",
      "\u001B[32m2024-09-01 14:13:47.758\u001B[0m | \u001B[1mINFO    \u001B[0m | \u001B[36miduedu.modules.pt_walk_joiner\u001B[0m:\u001B[36mjoin_pt_walk_graph\u001B[0m:\u001B[36m140\u001B[0m - \u001B[1mDone composing!\u001B[0m\n"
     ]
    }
   ],
   "source": [
    "\n",
    "from src.iduedu.modules.intermodal_builder import get_intermodal_graph\n",
    "\n",
    "\n",
    "intermodal = get_intermodal_graph(osm_id=1114252)"
   ],
   "metadata": {
    "collapsed": false,
    "ExecuteTime": {
     "end_time": "2024-09-01T11:13:47.765336200Z",
     "start_time": "2024-09-01T11:13:34.970495400Z"
    }
   },
   "id": "457c89a209e3d54f"
  },
  {
   "cell_type": "code",
   "execution_count": 6,
   "outputs": [
    {
     "name": "stderr",
     "output_type": "stream",
     "text": [
      "\u001B[32m2024-09-01 13:58:14.348\u001B[0m | \u001B[34m\u001B[1mDEBUG   \u001B[0m | \u001B[36msrc.iduedu.modules.downloaders\u001B[0m:\u001B[36mget_boundary_by_osm_id\u001B[0m:\u001B[36m20\u001B[0m - \u001B[34m\u001B[1mDownloading territory bounds with osm_id <3955288> ...\u001B[0m\n"
     ]
    },
    {
     "data": {
      "text/plain": "Downloading routes:   0%|          | 0/4 [00:00<?, ?it/s]",
      "application/vnd.jupyter.widget-view+json": {
       "version_major": 2,
       "version_minor": 0,
       "model_id": "3eb9414219804bd386a6ca7b4aac4f0b"
      }
     },
     "metadata": {},
     "output_type": "display_data"
    },
    {
     "name": "stderr",
     "output_type": "stream",
     "text": [
      "\u001B[32m2024-09-01 13:58:17.623\u001B[0m | \u001B[1mINFO    \u001B[0m | \u001B[36msrc.iduedu.utils.utils\u001B[0m:\u001B[36mestimate_crs_for_bounds\u001B[0m:\u001B[36m50\u001B[0m - \u001B[1mEstimated CRS for territory EPSG:32638\u001B[0m\n"
     ]
    },
    {
     "data": {
      "text/plain": "Parsing routes:   0%|          | 0/157 [00:00<?, ?it/s]",
      "application/vnd.jupyter.widget-view+json": {
       "version_major": 2,
       "version_minor": 0,
       "model_id": "551c97b2f7f342b2a22868509c1988cf"
      }
     },
     "metadata": {},
     "output_type": "display_data"
    }
   ],
   "source": [
    "from src.iduedu.modules.public_transport_builder import get_all_public_transport_graph\n",
    "\n",
    "transport = get_all_public_transport_graph(osm_id=3955288)"
   ],
   "metadata": {
    "collapsed": false,
    "ExecuteTime": {
     "end_time": "2024-09-01T10:58:24.628786800Z",
     "start_time": "2024-09-01T10:58:14.301816600Z"
    }
   },
   "id": "90ca9e2c228ace15"
  },
  {
   "cell_type": "code",
   "execution_count": 4,
   "outputs": [
    {
     "data": {
      "text/plain": "{'crs': 32638, 'walk_speed': 83.33333333333333}"
     },
     "execution_count": 4,
     "metadata": {},
     "output_type": "execute_result"
    }
   ],
   "source": [
    "intermodal.graph"
   ],
   "metadata": {
    "collapsed": false,
    "ExecuteTime": {
     "end_time": "2024-09-01T10:52:56.841146100Z",
     "start_time": "2024-09-01T10:52:56.779047900Z"
    }
   },
   "id": "c1f169cbe2a9b674"
  },
  {
   "cell_type": "code",
   "execution_count": 9,
   "outputs": [],
   "source": [
    "import networkx as nx\n",
    "def convert(val):\n",
    "    return str(val)\n",
    "\n",
    "nx.write_gml(intermodal, 'intermodal_vaska.gml', convert)"
   ],
   "metadata": {
    "collapsed": false,
    "ExecuteTime": {
     "end_time": "2024-09-01T11:16:07.464157200Z",
     "start_time": "2024-09-01T11:16:06.236460700Z"
    }
   },
   "id": "3f4a2f52c3934394"
  },
  {
   "cell_type": "code",
   "execution_count": 98,
   "outputs": [
    {
     "name": "stderr",
     "output_type": "stream",
     "text": [
      "\u001B[32m2024-08-30 14:51:23.798\u001B[0m | \u001B[34m\u001B[1mDEBUG   \u001B[0m | \u001B[36msrc.iduedu.modules.downloaders\u001B[0m:\u001B[36mget_boundary_by_osm_id\u001B[0m:\u001B[36m20\u001B[0m - \u001B[34m\u001B[1mDownloading territory bounds with osm_id <1114252> ...\u001B[0m\n"
     ]
    },
    {
     "name": "stdout",
     "output_type": "stream",
     "text": [
      "The autoreload extension is already loaded. To reload it, use:\n",
      "  %reload_ext autoreload\n"
     ]
    },
    {
     "data": {
      "text/plain": "Downloading routes:   0%|          | 0/4 [00:00<?, ?it/s]",
      "application/vnd.jupyter.widget-view+json": {
       "version_major": 2,
       "version_minor": 0,
       "model_id": "42c0fe7c1ac547819aaa5f0017585e4f"
      }
     },
     "metadata": {},
     "output_type": "display_data"
    },
    {
     "name": "stderr",
     "output_type": "stream",
     "text": [
      "\u001B[32m2024-08-30 14:51:27.155\u001B[0m | \u001B[1mINFO    \u001B[0m | \u001B[36msrc.iduedu.utils.utils\u001B[0m:\u001B[36mestimate_crs_for_bounds\u001B[0m:\u001B[36m50\u001B[0m - \u001B[1mEstimated CRS for territory EPSG:32636\u001B[0m\n"
     ]
    },
    {
     "data": {
      "text/plain": "Parsing routes data...:   0%|          | 0/57 [00:00<?, ?it/s]",
      "application/vnd.jupyter.widget-view+json": {
       "version_major": 2,
       "version_minor": 0,
       "model_id": "510adf883fe44975b221e593421e6cf2"
      }
     },
     "metadata": {},
     "output_type": "display_data"
    }
   ],
   "source": [
    "import numpy as np\n",
    "%load_ext autoreload\n",
    "%autoreload 2\n",
    "from src.iduedu.modules.downloaders import get_routes_by_terr_name\n",
    "from src.iduedu.modules.public_transport_builder import get_single_public_transport_graph, \\\n",
    "    get_all_public_transport_graph\n",
    "from src.iduedu.modules.drive_walk_builder import get_drive_graph, get_walk_graph\n",
    "import pandas as pd\n",
    "import geopandas as gpd\n",
    "\n",
    "# g = get_single_public_transport_graph('subway', osm_id=3767134)\n",
    "transport = get_all_public_transport_graph(osm_id=1114252, clip_by_bounds=False)\n",
    "# drive = get_drive_graph(osm_id=2725551)\n",
    "\n",
    "# g = get_single_public_transport_graph('bus', osm_id=3767134)"
   ],
   "metadata": {
    "collapsed": false,
    "ExecuteTime": {
     "end_time": "2024-08-30T11:51:28.288500400Z",
     "start_time": "2024-08-30T11:51:23.746777700Z"
    }
   },
   "id": "a36b9eec532e484e"
  },
  {
   "cell_type": "code",
   "execution_count": null,
   "outputs": [],
   "source": [],
   "metadata": {
    "collapsed": false
   },
   "id": "7fb35c7a392d9272"
  },
  {
   "cell_type": "code",
   "execution_count": 99,
   "outputs": [
    {
     "name": "stderr",
     "output_type": "stream",
     "text": [
      "\u001B[32m2024-08-30 14:51:32.247\u001B[0m | \u001B[34m\u001B[1mDEBUG   \u001B[0m | \u001B[36miduedu.modules.downloaders\u001B[0m:\u001B[36mget_boundary_by_osm_id\u001B[0m:\u001B[36m20\u001B[0m - \u001B[34m\u001B[1mDownloading territory bounds with osm_id <1114252> ...\u001B[0m\n",
      "\u001B[32m2024-08-30 14:51:32.375\u001B[0m | \u001B[34m\u001B[1mDEBUG   \u001B[0m | \u001B[36msrc.iduedu.modules.drive_walk_builder\u001B[0m:\u001B[36mget_walk_graph\u001B[0m:\u001B[36m179\u001B[0m - \u001B[34m\u001B[1mDownloading walk graph from OSM ...\u001B[0m\n",
      "\u001B[32m2024-08-30 14:51:42.583\u001B[0m | \u001B[1mINFO    \u001B[0m | \u001B[36miduedu.utils.utils\u001B[0m:\u001B[36mestimate_crs_for_bounds\u001B[0m:\u001B[36m50\u001B[0m - \u001B[1mEstimated CRS for territory EPSG:32636\u001B[0m\n",
      "\u001B[32m2024-08-30 14:51:42.584\u001B[0m | \u001B[34m\u001B[1mDEBUG   \u001B[0m | \u001B[36msrc.iduedu.modules.drive_walk_builder\u001B[0m:\u001B[36mget_walk_graph\u001B[0m:\u001B[36m183\u001B[0m - \u001B[34m\u001B[1mCalculating the weights of the graph ...\u001B[0m\n"
     ]
    }
   ],
   "source": [
    "walk = get_walk_graph(osm_id=1114252)"
   ],
   "metadata": {
    "collapsed": false,
    "ExecuteTime": {
     "end_time": "2024-08-30T11:51:46.022766Z",
     "start_time": "2024-08-30T11:51:32.202774100Z"
    }
   },
   "id": "a644e66175cc4e94"
  },
  {
   "cell_type": "code",
   "execution_count": 100,
   "outputs": [],
   "source": [
    "import networkx as nx\n",
    "\n",
    "num_nodes_G1 = len(transport.nodes)\n",
    "\n",
    "# Создаём отображение (relabel) для нод в первом графе (нумерация с 0)\n",
    "mapping_G1 = {node: idx for idx, node in enumerate(transport.nodes)}\n",
    "\n",
    "# Создаём отображение для нод во втором графе (нумерация начиная с num_nodes_G1)\n",
    "mapping_G2 = {node: idx + num_nodes_G1 for idx, node in enumerate(walk.nodes)}\n",
    "\n",
    "# Применяем relabel для графов\n",
    "transport: nx.MultiDiGraph = nx.relabel_nodes(transport, mapping_G1)\n",
    "walk: nx.MultiDiGraph = nx.relabel_nodes(walk, mapping_G2)"
   ],
   "metadata": {
    "collapsed": false,
    "ExecuteTime": {
     "end_time": "2024-08-30T11:51:46.241332900Z",
     "start_time": "2024-08-30T11:51:46.023516500Z"
    }
   },
   "id": "b2cdac4c62556242"
  },
  {
   "cell_type": "code",
   "execution_count": 101,
   "outputs": [],
   "source": [
    "import geopandas as gpd\n",
    "import networkx as nx\n",
    "from shapely import Point\n",
    "\n",
    "platforms = pd.DataFrame.from_dict(dict(transport.nodes(data=True)), orient='index')\n",
    "platforms = platforms[platforms['desc'] == 'platform']\n",
    "platforms['geometry'] = platforms.apply(lambda x: Point(x.x, x.y), axis=1)\n",
    "platforms = gpd.GeoDataFrame(platforms, crs=walk.graph['crs'])\n",
    "walk_edges = gpd.GeoDataFrame(nx.to_pandas_edgelist(walk, source='u', target='v', edge_key='k'), crs=walk.graph['crs'])"
   ],
   "metadata": {
    "collapsed": false,
    "ExecuteTime": {
     "end_time": "2024-08-30T11:51:46.521493300Z",
     "start_time": "2024-08-30T11:51:46.242660Z"
    }
   },
   "id": "c47d4aae893f5976"
  },
  {
   "cell_type": "code",
   "execution_count": 102,
   "outputs": [],
   "source": [
    "projection_join = platforms.sjoin_nearest(walk_edges, max_distance=20, distance_col='dist')"
   ],
   "metadata": {
    "collapsed": false,
    "ExecuteTime": {
     "end_time": "2024-08-30T11:51:46.595221900Z",
     "start_time": "2024-08-30T11:51:46.522243100Z"
    }
   },
   "id": "30d780f549fe4010"
  },
  {
   "cell_type": "code",
   "execution_count": 103,
   "outputs": [],
   "source": [
    "points_grouped_by_edge = projection_join.reset_index().groupby('index_right', group_keys=True).agg(\n",
    "    {'index': tuple, \"geometry\": tuple, \"u\": 'first', \"v\": 'first', \"k\": 'first'})"
   ],
   "metadata": {
    "collapsed": false,
    "ExecuteTime": {
     "end_time": "2024-08-30T11:51:46.651825Z",
     "start_time": "2024-08-30T11:51:46.595968800Z"
    }
   },
   "id": "caaa5a51c7ee49f"
  },
  {
   "cell_type": "code",
   "execution_count": 104,
   "outputs": [],
   "source": [
    "g1 = walk.copy()\n",
    "g2 = transport.copy()\n"
   ],
   "metadata": {
    "collapsed": false,
    "ExecuteTime": {
     "end_time": "2024-08-30T11:51:46.818828100Z",
     "start_time": "2024-08-30T11:51:46.651825Z"
    }
   },
   "id": "dd185ba2f789cf55"
  },
  {
   "cell_type": "code",
   "execution_count": 144,
   "outputs": [],
   "source": [
    "walk = g1.copy()\n",
    "transport = g2.copy()"
   ],
   "metadata": {
    "collapsed": false,
    "ExecuteTime": {
     "end_time": "2024-08-30T12:38:26.573103600Z",
     "start_time": "2024-08-30T12:38:26.392147400Z"
    }
   },
   "id": "df29abafca3a07c2"
  },
  {
   "cell_type": "code",
   "execution_count": 145,
   "outputs": [],
   "source": [
    "from shapely.ops import substring\n",
    "from shapely import LineString\n",
    "\n",
    "try:\n",
    "    speed = walk.graph['walk_speed']\n",
    "except KeyError:\n",
    "    print(\"Нету скорости\")  # TODO посчитать примерную скорость по length timemin для любой эджи\n",
    "    speed = 83\n",
    "\n",
    "edges_to_del = []\n",
    "\n",
    "for _, row in points_grouped_by_edge.iterrows():\n",
    "    u, v, k = row[['u', 'v', 'k']]\n",
    "    edge: LineString = walk_edges.loc[row.name].geometry\n",
    "\n",
    "    if len(row['index']) == 1:\n",
    "        dist = edge.project(row.geometry[0])\n",
    "        projected_point = edge.interpolate(dist)\n",
    "        if dist == 0:\n",
    "            #Если платформа проецируется на начало эджа\n",
    "            mapping = {u: row['index'][0]}\n",
    "            nx.relabel_nodes(walk, mapping, copy=False)\n",
    "            \n",
    "        elif dist == edge.length:\n",
    "            # Если на конец\n",
    "            mapping = {v: row['index'][0]}\n",
    "            nx.relabel_nodes(walk, mapping, copy=False)\n",
    "\n",
    "        else:\n",
    "\n",
    "            line1 = substring(edge, 0, dist)\n",
    "            line2 = substring(edge, dist, edge.length)\n",
    "            # Убираем старую эджу и добавляем новые, в серединке нода - наша платформа для соединения\n",
    "            # walk.remove_edge(u, v, k)\n",
    "            edges_to_del.append((u, v, k))\n",
    "            walk.add_node(row['index'][0], x=projected_point.x, y=projected_point.y)\n",
    "            walk.add_edge(u, row['index'][0], geometry=line1, length=round(line1.length, 3),\n",
    "                          time_min=round(line1.length / speed, 3),\n",
    "                          type='walk')  # TODO заменить type на walk\n",
    "            walk.add_edge(row['index'][0], v, geometry=line2, length=round(line2.length, 3),\n",
    "                          time_min=round(line2.length / speed, 3), type='walk')\n",
    "\n",
    "    else:\n",
    "        # walk.remove_edge(u, v, k)\n",
    "\n",
    "        edges_to_del.append((u, v, k))\n",
    "        dist_project = [(edge.project(platform), edge.interpolate(edge.project(platform)), ind) for ind, platform in\n",
    "                        zip(row['index'], row.geometry)]\n",
    "        dist_project.sort(key=lambda x: x[0])\n",
    "        last_dist = 0\n",
    "        last_u = u\n",
    "        for dist, projected_point, cur_index in dist_project:\n",
    "\n",
    "            if dist == 0:\n",
    "                #Если платформа проецируется на начало эджа\n",
    "                mapping = {u: cur_index}\n",
    "                nx.relabel_nodes(walk, mapping, copy=False)\n",
    "\n",
    "\n",
    "            elif dist == edge.length:\n",
    "                # Если на конец\n",
    "                mapping = {v: cur_index}\n",
    "                nx.relabel_nodes(walk, mapping, copy=False)\n",
    "\n",
    "\n",
    "            else:\n",
    "                # По очереди добавляем ноды/линии\n",
    "\n",
    "                line = substring(edge, last_dist, dist)\n",
    "                #\n",
    "                walk.add_node(cur_index, x=projected_point.x, y=projected_point.y)\n",
    "                walk.add_edge(last_u, cur_index, geometry=line, length=round(line.length, 3),\n",
    "                              time_min=round(line.length / speed, 3),\n",
    "                              type='walk')  # TODO заменить type на walk\n",
    "\n",
    "                last_u = cur_index\n",
    "            last_dist = dist\n",
    "        # Если последняя остановка спроецировалась не на конец эджа, надо добавить остаток \n",
    "        if last_dist != edge.length:\n",
    "            line = substring(edge, last_dist, edge.length)\n",
    "            walk.add_edge(last_u, v, geometry=line, length=round(line.length, 3),\n",
    "                          time_min=round(line.length / speed, 3),\n",
    "                          type='walk')"
   ],
   "metadata": {
    "collapsed": false,
    "ExecuteTime": {
     "end_time": "2024-08-30T12:38:27.585508700Z",
     "start_time": "2024-08-30T12:38:26.663529Z"
    }
   },
   "id": "9b95b90671843692"
  },
  {
   "cell_type": "code",
   "execution_count": 146,
   "outputs": [],
   "source": [
    "walk.remove_edges_from(edges_to_del)"
   ],
   "metadata": {
    "collapsed": false,
    "ExecuteTime": {
     "end_time": "2024-08-30T12:38:28.490978400Z",
     "start_time": "2024-08-30T12:38:28.436295300Z"
    }
   },
   "id": "91e184931ee8f729"
  },
  {
   "cell_type": "code",
   "execution_count": 147,
   "outputs": [],
   "source": [
    "def convert(val):\n",
    "    return str(val)\n",
    "\n",
    "\n",
    "compose = nx.compose(nx.MultiDiGraph(transport), walk)\n",
    "\n",
    "nx.write_gml(compose, 'compose.gml', convert)"
   ],
   "metadata": {
    "collapsed": false,
    "ExecuteTime": {
     "end_time": "2024-08-30T12:38:30.465698800Z",
     "start_time": "2024-08-30T12:38:29.014644700Z"
    }
   },
   "id": "22e9c454460929ad"
  },
  {
   "cell_type": "code",
   "execution_count": 97,
   "outputs": [],
   "source": [
    "import osmnx as ox\n",
    "import networkx as nx\n",
    "import folium\n",
    "\n",
    "nodes, edges = ox.graph_to_gdfs(compose)\n",
    "m1 = edges.explore(column='type', tiles='CartoDB positron')\n",
    "nodes.explore(column='desc', cmap='plasma', m=m1)\n",
    "folium.LayerControl().add_to(m1)\n",
    "m1.save('kek.html')"
   ],
   "metadata": {
    "collapsed": false,
    "ExecuteTime": {
     "end_time": "2024-08-30T11:51:08.687655800Z",
     "start_time": "2024-08-30T11:50:51.537556500Z"
    }
   },
   "id": "edc0f62fda6bb57e"
  },
  {
   "cell_type": "code",
   "execution_count": null,
   "outputs": [],
   "source": [
    "import networkx as nx\n",
    "from shapely import Polygon\n",
    "from src.iduedu.modules.downloaders import get_boundary_by_osm_id\n",
    "from src.iduedu.utils.utils import estimate_crs_for_bounds\n",
    "\n",
    "\n",
    "def clip_nx_graph(graph: nx.Graph, polygon: Polygon):\n",
    "    local_crs = graph.graph['crs']\n",
    "\n",
    "\n",
    "def reproject_nx_graph(graph: nx.Graph, crs=None):\n",
    "    \"\"\"\n",
    "\n",
    "    :param graph:\n",
    "    :param crs: by default None, will be determine automatically\n",
    "    :return:\n",
    "    \"\"\"\n",
    "    print(1)\n",
    "\n",
    "\n",
    "poly: Polygon = get_boundary_by_osm_id(3767134)\n",
    "estimate_crs_for_bounds(*poly.bounds)"
   ],
   "metadata": {
    "collapsed": false
   },
   "id": "9192b56db5a3e3e5"
  },
  {
   "cell_type": "code",
   "execution_count": null,
   "outputs": [],
   "source": [
    "import geopandas as gpd\n",
    "\n",
    "gpd.GeoDataFrame(geometry=[poly], crs=4326).estimate_utm_crs()"
   ],
   "metadata": {
    "collapsed": false
   },
   "id": "fd3e44189523ebda"
  },
  {
   "cell_type": "code",
   "execution_count": null,
   "outputs": [],
   "source": [
    "import networkx as nx\n",
    "\n",
    "nx.write_gml(g2, 'test_saratov_all.gml')"
   ],
   "metadata": {
    "collapsed": false
   },
   "id": "4d3723c8cf0fc949"
  },
  {
   "cell_type": "code",
   "execution_count": null,
   "outputs": [],
   "source": [
    "from scipy.spatial.distance import cdist\n",
    "import numpy as np\n",
    "import pandas as pd\n",
    "\n",
    "connect_points = [point for coords in connected_ways for point in (coords[0], coords[-1])]\n",
    "distances = cdist(connect_points, connect_points)\n",
    "n = distances.shape[0]\n",
    "mask = (np.arange(n)[:, None] // 2) == (np.arange(n) // 2)\n",
    "distances[mask] = np.inf\n",
    "\n",
    "indexes = []\n",
    "\n",
    "\n",
    "def relative_point(point: int):\n",
    "    rel_point = point // 2 * 2\n",
    "    return rel_point if rel_point != point else rel_point + 1\n",
    "\n",
    "\n",
    "lines = []\n",
    "\n",
    "connected_line = []\n",
    "debug = []\n",
    "first_con_1, first_con_2 = np.unravel_index(np.argmin(distances), distances.shape)\n",
    "distances[first_con_1, :] = np.inf\n",
    "distances[first_con_2, :] = np.inf\n",
    "distances[:, first_con_2] = np.inf\n",
    "distances[:, first_con_1] = np.inf\n",
    "first_con_1_rel, first_con_2_rel = [relative_point(x) for x in (first_con_1, first_con_2)]\n",
    "distances[first_con_1_rel, first_con_2_rel] = np.inf\n",
    "distances[first_con_2_rel, first_con_1_rel] = np.inf\n",
    "indexes.append((first_con_1, first_con_2))\n",
    "\n",
    "line1, line2 = first_con_1 // 2, first_con_2 // 2\n",
    "\n",
    "lines.append(line1)\n",
    "lines.append(line2)\n",
    "if first_con_1 % 2 == 1:\n",
    "    connected_line += connected_ways[line1]\n",
    "    debug.append(connected_ways[line1])\n",
    "else:\n",
    "    connected_line += connected_ways[line1][::-1]\n",
    "    debug.append(connected_ways[line1][::-1])\n",
    "\n",
    "if first_con_2 % 2 == 0:\n",
    "    connected_line += connected_ways[line2]\n",
    "    debug.append(connected_ways[line2])\n",
    "else:\n",
    "    connected_line += connected_ways[line2][::-1]\n",
    "    debug.append(connected_ways[line2][::-1])\n",
    "\n",
    "extreme_points = [first_con_1_rel, first_con_2_rel]\n",
    "\n",
    "print(f'extrem_from_start {extreme_points}')\n",
    "\n",
    "for i in range(len(connected_ways) - 2):\n",
    "    position, ind = np.unravel_index(np.argmin(distances[extreme_points]), (2, n))\n",
    "    next_con = (extreme_points[position], ind)\n",
    "    rel_point = relative_point(next_con[1])\n",
    "    distances[:, rel_point] = np.inf\n",
    "    line = ind // 2\n",
    "    lines.append(line)\n",
    "    if position == 0:\n",
    "        connected_line = connected_ways[line] + connected_line if ind % 2 == 1 else (\n",
    "                connected_ways[line][::-1] + connected_line)\n",
    "        debug.insert(0, connected_ways[line]) if ind % 2 == 1 else debug.insert(0, connected_ways[line][::-1])\n",
    "        indexes.insert(0, next_con[::-1])\n",
    "        extreme_points = [rel_point, extreme_points[1]]\n",
    "    else:\n",
    "        connected_line = connected_line + connected_ways[line] if ind % 2 == 0 else (\n",
    "                connected_line + connected_ways[line][::-1])\n",
    "        debug.append(connected_ways[line]) if ind % 2 == 1 else debug.append(connected_ways[line][::-1])\n",
    "        indexes.append(next_con)\n",
    "        extreme_points = [extreme_points[0], rel_point]\n",
    "\n",
    "    distances[next_con[0], :] = np.inf\n",
    "    distances[next_con[1], :] = np.inf\n",
    "    distances[:, next_con[0]] = np.inf\n",
    "    distances[:, next_con[1]] = np.inf\n",
    "    rel_point_2 = relative_point(next_con[0])\n",
    "    distances[rel_point, rel_point_2] = np.inf\n",
    "    distances[rel_point_2, rel_point] = np.inf\n",
    "    print('---------------')\n",
    "    print(f'index: {i}')\n",
    "    print(indexes)\n",
    "    print(f'extreme_points {extreme_points}')\n",
    "    print(f'added con {next_con}')\n"
   ],
   "metadata": {
    "collapsed": false
   },
   "id": "2652b58cf9774dad"
  },
  {
   "cell_type": "code",
   "execution_count": null,
   "outputs": [],
   "source": [
    "connected_ways"
   ],
   "metadata": {
    "collapsed": false
   },
   "id": "6b583572396ebd67"
  },
  {
   "cell_type": "code",
   "execution_count": null,
   "outputs": [],
   "source": [
    "from shapely import LineString\n",
    "import geopandas as gpd\n",
    "\n",
    "gpd.GeoDataFrame(geometry=[LineString(new_connected_ways)], crs=32635).explore(tiles='CartoDB positron')"
   ],
   "metadata": {
    "collapsed": false
   },
   "id": "63db8e48d5db4a57"
  },
  {
   "cell_type": "code",
   "execution_count": null,
   "outputs": [],
   "source": [
    "t = [1, 2]\n",
    "[(x // 2) * 2 if ((x // 2) * 2 != x) else ((x // 2) * 2 + 1) for x in t]"
   ],
   "metadata": {
    "collapsed": false
   },
   "id": "38af5a7e92e30807"
  },
  {
   "cell_type": "code",
   "execution_count": null,
   "outputs": [],
   "source": [
    "%load_ext autoreload\n",
    "%autoreload 2\n",
    "from iduedu.modules.graph_builder import get_all_public_transport_graph\n",
    "\n",
    "res = get_all_public_transport_graph(osm_id=3767134)"
   ],
   "metadata": {
    "collapsed": false
   },
   "id": "8eb1aa9f17d1d63f"
  },
  {
   "metadata": {},
   "cell_type": "code",
   "source": [
    "import networkx as nx\n",
    "\n",
    "nx.write_gml(res, 'spb+lo_iduedu.gml')"
   ],
   "id": "e1c83ae9725c912c",
   "outputs": [],
   "execution_count": null
  },
  {
   "cell_type": "code",
   "source": [
    "\n"
   ],
   "metadata": {
    "collapsed": false
   },
   "id": "24b853235852d4d0",
   "outputs": [],
   "execution_count": null
  },
  {
   "cell_type": "code",
   "source": [
    "from shapely import from_wkt\n",
    "import osmnx as ox\n",
    "import geopandas as gpd\n",
    "import networkx as nx\n",
    "\n",
    "\n",
    "def nx_to_gdf(\n",
    "        graph: nx.MultiDiGraph, nodes: bool = False, edges: bool = False, node_geometry=False, fill_edge_geometry=False\n",
    ") -> gpd.GeoDataFrame | tuple[gpd.GeoDataFrame, gpd.GeoDataFrame]:\n",
    "    for _, _, data in graph.edges(data=True):\n",
    "        if \"geometry\" in data:\n",
    "            data[\"geometry\"] = from_wkt(str(data[\"geometry\"]))\n",
    "\n",
    "    if edges and nodes:\n",
    "        gdf_graph_nodes, gdf_graph_edges = ox.graph_to_gdfs(\n",
    "            graph, nodes=True, edges=True, node_geometry=node_geometry, fill_edge_geometry=fill_edge_geometry\n",
    "        )\n",
    "        gdf_graph_edges = gdf_graph_edges.reset_index()\n",
    "        return gdf_graph_nodes, gdf_graph_edges\n",
    "    elif edges:\n",
    "        gdf_graph_edges = ox.graph_to_gdfs(graph, nodes=False, edges=True, fill_edge_geometry=fill_edge_geometry)\n",
    "        gdf_graph_edges = gdf_graph_edges.reset_index()\n",
    "        return gdf_graph_edges\n",
    "    elif nodes:\n",
    "        gdf_graph_nodes = ox.graph_to_gdfs(graph, nodes=True, edges=False, node_geometry=node_geometry)\n",
    "        return gdf_graph_nodes\n",
    "    raise ValueError(\"You must specify either nodes or edges as True.\")\n",
    "\n",
    "\n",
    "g.graph['crs'] = 32638\n",
    "nodes, edges = nx_to_gdf(nx.MultiDiGraph(g), nodes=True, edges=True, node_geometry=True)"
   ],
   "metadata": {
    "collapsed": false
   },
   "id": "1bc342ff170dfc6d",
   "outputs": [],
   "execution_count": null
  },
  {
   "cell_type": "code",
   "source": [
    "m1 = edges.explore(column='route', tiles='CartoDB positron')\n",
    "# nodes.explore(m=m1)\n",
    "m1"
   ],
   "metadata": {
    "collapsed": false
   },
   "id": "9149068c348d01c6",
   "outputs": [],
   "execution_count": null
  },
  {
   "cell_type": "code",
   "source": [
    "t = data_geom.iloc[3]\n",
    "platforms = gpd.GeoDataFrame(geometry=t['platforms'], crs=local_crs)\n",
    "stops = gpd.GeoDataFrame(geometry=t['stops'], crs=local_crs)\n",
    "\n",
    "connection = gpd.sjoin_nearest(platforms, stops)\n",
    "connection"
   ],
   "metadata": {
    "collapsed": false
   },
   "id": "d5bbca2af2040fe1",
   "outputs": [],
   "execution_count": null
  },
  {
   "cell_type": "code",
   "source": [
    "from shapely.ops import substring\n",
    "\n",
    "line = LineString([(0, 0), (2, 2), (5, 5), (10, 0)])\n",
    "\n",
    "start_distance = 4\n",
    "end_distance = 6\n",
    "\n",
    "sub_line = substring(line, 4, 10)\n",
    "line"
   ],
   "metadata": {
    "collapsed": false
   },
   "id": "3c533d00bb4ae367",
   "outputs": [],
   "execution_count": null
  },
  {
   "cell_type": "code",
   "source": [
    "m1 = gpd.GeoDataFrame(geometry=[LineString(x) for x in data_geom['path'].iloc[2:3]], crs=local_crs).explore()\n",
    "gpd.GeoDataFrame(geometry=graph_gdf.iloc[2], crs=local_crs).explore(m=m1, color='red')"
   ],
   "metadata": {
    "collapsed": false
   },
   "id": "30fbaae2877a3a66",
   "outputs": [],
   "execution_count": null
  },
  {
   "cell_type": "code",
   "source": [],
   "metadata": {
    "collapsed": false
   },
   "id": "f61609647ddc3190",
   "outputs": [],
   "execution_count": null
  },
  {
   "cell_type": "code",
   "source": [
    "from shapely import LineString\n",
    "import geopandas as gpd\n",
    "\n",
    "m1 = gpd.GeoDataFrame(geometry=[LineString(x) for x in data_geom['path']], crs=local_crs).reset_index().explore(\n",
    "    column='index', tiles='CartoDB positron')\n",
    "# gpd.GeoDataFrame(data_geom.iloc[1]['platforms'], crs=4326).reset_index().explore(m=m1, color='red')\n",
    "m1"
   ],
   "metadata": {
    "collapsed": false
   },
   "id": "def748b5b55141ed",
   "outputs": [],
   "execution_count": null
  },
  {
   "cell_type": "code",
   "source": [
    "t = [(1, 6), (0, 3), (2, 5)]\n",
    "for i in range(3):\n"
   ],
   "metadata": {
    "collapsed": false
   },
   "id": "5b7a2ceef62ed8b2",
   "outputs": [],
   "execution_count": null
  },
  {
   "cell_type": "code",
   "source": [
    "test = pd.DataFrame(data_osm.iloc[2]['members'])\n",
    "test = test[(test['type'] == 'node') & (test['role'].isin(['platform_entry_only', 'platform', 'platform_exit_only']))]\n",
    "test['geometry'] = test.apply(lambda x: (Point(x[\"lon\"], x[\"lat\"])), axis=1)\n",
    "test.reset_index(drop=True, inplace=True)\n",
    "gdf = gpd.GeoDataFrame(test.reset_index(), crs=4326)\n",
    "gdf.geometry = gdf.geometry.buffer(0.0001)\n",
    "gdf.explore()"
   ],
   "metadata": {
    "collapsed": false
   },
   "id": "ad765dd9d2d0e377",
   "outputs": [],
   "execution_count": null
  },
  {
   "cell_type": "code",
   "source": [
    "test = pd.DataFrame(data_osm.iloc[1]['members'])\n",
    "test = test[test['type'] == 'way']\n",
    "test = test[\"geometry\"]\n",
    "test = test.apply(lambda x: ([(coords[\"lon\"], coords[\"lat\"]) for coords in x]))\n",
    "# gdf = gpd.GeoDataFrame(test.reset_index(),geometry='geometry',crs=4326)\n",
    "# gdf.geometry = gdf.geometry.buffer(0.0001)\n",
    "# gdf.explore()\n",
    "test"
   ],
   "metadata": {
    "collapsed": false
   },
   "id": "2bf1a4227053f93a",
   "outputs": [],
   "execution_count": null
  },
  {
   "cell_type": "code",
   "source": [
    "test"
   ],
   "metadata": {
    "collapsed": false
   },
   "id": "f1efd44c9e1c772b",
   "outputs": [],
   "execution_count": null
  },
  {
   "cell_type": "markdown",
   "source": [
    "#### ПОПЫТКА СОЕДИНЯТЬ ДОРОГИ "
   ],
   "metadata": {
    "collapsed": false
   },
   "id": "be63856c89c2f05e"
  },
  {
   "cell_type": "code",
   "source": [
    "from scipy.spatial import cKDTree\n",
    "from shapely import LineString, Point\n",
    "import geopandas as gpd\n",
    "\n",
    "PLATFORM_ROLES = []\n",
    "\n",
    "\n",
    "def parse_overpass_route_response(loc: dict):\n",
    "    if 'ref' in loc['tags'].keys():\n",
    "        transport_name = loc['tags']['ref']\n",
    "    else:\n",
    "        transport_name = loc['tags']['name']\n",
    "    route = pd.DataFrame(loc[\"members\"])\n",
    "\n",
    "    ways = route[route[\"type\"] == \"way\"]\n",
    "\n",
    "    if len(ways) > 0:\n",
    "        ways = ways[\"geometry\"].reset_index(drop=True)\n",
    "        ways = ways.apply(lambda x: ([(coords[\"lon\"], coords[\"lat\"]) for coords in x])).tolist()\n",
    "        if ways[0][0] == ways[1][0] or ways[0][0] == ways[1][-1]:\n",
    "            complete_line = ways[0][::-1]\n",
    "        else:\n",
    "            complete_line = ways[0]\n",
    "        for coords in ways[1:]:\n",
    "            if complete_line[-1] == coords[0]:\n",
    "                complete_line += coords[1:]\n",
    "            elif complete_line[-1] == coords[-1]:\n",
    "                complete_line += coords[::-1][1:]\n",
    "            else:\n",
    "                if coords[0] == coords[-1]:\n",
    "                    continue\n",
    "                else:\n",
    "                    tree = cKDTree([coords[0], coords[-1]])\n",
    "                    _, ind = tree.query(complete_line[-1])\n",
    "                    if ind == 1:\n",
    "                        coords = coords[::-1]\n",
    "                    complete_line += coords\n",
    "        # print('^^^^^^^^^^')\n",
    "\n",
    "    else:\n",
    "        complete_line = None\n",
    "    if \"node\" in route[\"type\"].unique():\n",
    "        platforms = route[(route[\"type\"] == \"node\")].apply(lambda x: Point(x[\"lon\"], x[\"lat\"]), axis=1)\n",
    "    else:\n",
    "        platforms = None\n",
    "\n",
    "    return pd.Series({\"way\": complete_line, \"platforms\": platforms, 'name': transport_name})\n",
    "\n",
    "\n",
    "data_geom = data_osm.apply(parse_overpass_route_response, axis=1, result_type='expand')\n",
    "data_geom"
   ],
   "metadata": {
    "collapsed": false
   },
   "id": "30f423107fc5439",
   "outputs": [],
   "execution_count": null
  },
  {
   "cell_type": "code",
   "source": [
    "test = [LineString(\n",
    "    [(46.0046822, 51.5426408), (46.0046214, 51.5425402), (46.0042506, 51.541918), (46.0038134, 51.5411845),\n",
    "     (46.0036437, 51.5408997), (46.0035859, 51.5408011), (46.0035352, 51.5407158), (46.0031053, 51.5399929),\n",
    "     (46.0028598, 51.5395801), (46.0026303, 51.5391941), (46.0025706, 51.5390938), (46.0023997, 51.5391331),\n",
    "     (46.00211, 51.5391985), (46.0019414, 51.5392372), (46.0008809, 51.5394906), (46.00081, 51.5395332),\n",
    "     (46.000665, 51.5396234), (46.0006024, 51.5396705), (46.0005255, 51.5397869), (46.000459, 51.5399285),\n",
    "     (46.0005332, 51.54006), (46.0007185, 51.5403886), (46.0008003, 51.5405164), (46.0008441, 51.5405848)]), LineString(\n",
    "    [(46.0046822, 51.5426408), (46.0048226, 51.5426046), (46.0048853, 51.5425884), (46.0065015, 51.5422214),\n",
    "     (46.0067008, 51.5421762), (46.007038, 51.5420996), (46.0071807, 51.5420672)]), Point(46.0046822, 51.5426408)]\n",
    "\n",
    "gpd.GeoDataFrame(geometry=test, crs=4326).explore()"
   ],
   "metadata": {
    "collapsed": false
   },
   "id": "644eecaf69135bed",
   "outputs": [],
   "execution_count": null
  },
  {
   "cell_type": "code",
   "source": [
    "gpd.GeoDataFrame(geometry=data_geom['way'].apply(LineString), crs=4326).reset_index().explore(column='index')"
   ],
   "metadata": {
    "collapsed": false
   },
   "id": "664065a99455656",
   "outputs": [],
   "execution_count": null
  },
  {
   "cell_type": "code",
   "source": [
    "print(data_geom['way'].apply(LineString).iloc[1])"
   ],
   "metadata": {
    "collapsed": false
   },
   "id": "62b733c1fde4e799",
   "outputs": [],
   "execution_count": null
  },
  {
   "cell_type": "code",
   "source": [
    "data_geom.iloc[16]['way']"
   ],
   "metadata": {
    "collapsed": false
   },
   "id": "4c9a8fc4dd48026b",
   "outputs": [],
   "execution_count": null
  },
  {
   "cell_type": "code",
   "source": [
    "ways = data_geom.iloc[16]['way']\n",
    "ways = ways[\"geometry\"].reset_index(drop=True)\n",
    "lines = ways.apply(lambda x: ([(coords[\"lon\"], coords[\"lat\"]) for coords in x])).tolist()\n",
    "if lines[0][0] == lines[1][0]:\n",
    "    complete_line = lines[0][::-1]\n",
    "else:\n",
    "    complete_line = lines[0]\n",
    "for coords in lines[1:]:\n",
    "    if complete_line[-1] == coords[0]:\n",
    "        complete_line += coords[1:]\n",
    "    elif complete_line[-1] == coords[-1]:\n",
    "        complete_line += coords[::-1][1:]\n",
    "    else:\n",
    "        print('\\n\\nWTF\\n\\n')\n",
    "\n"
   ],
   "metadata": {
    "collapsed": false
   },
   "id": "8395e7884a6e5c60",
   "outputs": [],
   "execution_count": null
  },
  {
   "cell_type": "code",
   "source": [
    "gpd.GeoDataFrame(geometry=[LineString(complete_line)], crs=4326).explore()"
   ],
   "metadata": {
    "collapsed": false
   },
   "id": "cc5af2e4f5118d14",
   "outputs": [],
   "execution_count": null
  },
  {
   "cell_type": "code",
   "source": [
    "\n",
    "from shapely import MultiPoint\n",
    "\n",
    "gpd.GeoDataFrame(data=[{'kek': i} for i in data_geom.index.tolist()],\n",
    "                 geometry=data_geom['platforms'].apply(lambda x: MultiPoint(x)), crs=4326).explore(column='kek')"
   ],
   "metadata": {
    "collapsed": false
   },
   "id": "fbddc31159b0cff8",
   "outputs": [],
   "execution_count": null
  },
  {
   "cell_type": "code",
   "source": [
    "\n",
    "data_geom.index.tolist()"
   ],
   "metadata": {
    "collapsed": false
   },
   "id": "3a0f48a874028657",
   "outputs": [],
   "execution_count": null
  },
  {
   "cell_type": "markdown",
   "source": [
    "## Download from microsoft ML footprint"
   ],
   "metadata": {
    "collapsed": false
   },
   "id": "e07d4d51c3a6dec1"
  },
  {
   "cell_type": "markdown",
   "source": [
    "\"\"\"\n",
    "This snippet demonstrates how to access and convert the buildings\n",
    "data from .csv.gz to geojson for use in common GIS tools. You will\n",
    "need to install pandas, geopandas, and shapely.\n",
    "\"\"\"\n",
    "\n",
    "import pandas as pd\n",
    "import geopandas as gpd\n",
    "from shapely.geometry import shape\n",
    "\n",
    "location = 'Russia'\n",
    "\n",
    "dataset_links = pd.read_csv(\"https://minedbuildings.blob.core.windows.net/global-buildings/dataset-links.csv\")\n",
    "greece_links = dataset_links[dataset_links.Location == location]\n",
    "\n",
    "\n",
    "def convert_to_bytes(size):\n",
    "    size = str(size)\n",
    "    if 'KB' in size:\n",
    "        return float(size.replace('KB', '')) * 1024\n",
    "    elif 'MB' in size:\n",
    "        return float(size.replace('MB', '')) * 1024 * 1024\n",
    "    elif 'B' in size:\n",
    "        return float(size.replace('B', ''))\n",
    "    else:\n",
    "        return float(size)\n",
    "\n",
    "\n",
    "greece_links['Size_in_bytes'] = greece_links['Size'].apply(convert_to_bytes)\n",
    "greece_links = greece_links.sort_values(by='Size_in_bytes', ascending=False)\n",
    "greece_links = greece_links.head(10)\n",
    "\n",
    "greece_links = greece_links\n",
    "for _, row in greece_links.iterrows():\n",
    "    df = pd.read_json(row.Url, lines=True)\n",
    "    df['geometry'] = df['geometry'].apply(shape)\n",
    "    gdf = gpd.GeoDataFrame(df, crs=4326)\n",
    "    gdf.to_file(f\"{row.QuadKey}.geojson\", driver=\"GeoJSON\")\n"
   ],
   "metadata": {
    "collapsed": false
   },
   "id": "c1708183fc617aef"
  },
  {
   "cell_type": "markdown",
   "source": [
    "\n",
    "location = 'Russia'\n",
    "\n",
    "dataset_links = pd.read_csv(\"https://minedbuildings.blob.core.windows.net/global-buildings/dataset-links.csv\")\n",
    "greece_links = dataset_links[dataset_links.Location == location]\n",
    "\n",
    "\n",
    "def convert_to_bytes(size):\n",
    "    size = str(size)\n",
    "    if 'KB' in size:\n",
    "        return float(size.replace('KB', '')) * 1024\n",
    "    elif 'MB' in size:\n",
    "        return float(size.replace('MB', '')) * 1024 * 1024\n",
    "    elif 'B' in size:\n",
    "        return float(size.replace('B', ''))\n",
    "    else:\n",
    "        return float(size)\n",
    "\n",
    "\n",
    "greece_links['Size_in_bytes'] = greece_links['Size'].apply(convert_to_bytes)\n",
    "greece_links = greece_links.sort_values(by='Size_in_bytes', ascending=False)"
   ],
   "metadata": {
    "collapsed": false
   },
   "id": "101e0394e8df3bce"
  },
  {
   "cell_type": "code",
   "source": [],
   "metadata": {
    "collapsed": false
   },
   "id": "d1d916e6a3d62e00",
   "outputs": [],
   "execution_count": null
  },
  {
   "cell_type": "markdown",
   "source": [
    "## Для вшэ временно тут\n",
    "import math\n",
    "\n",
    "import geopandas as gpd\n",
    "f1 = 'Зоны видимости школ (без деревьев).geojson'\n",
    "f2 = 'Зоны видимости школ (с деревьями).geojson'\n",
    "\n",
    "d1 = gpd.read_file(f1).to_crs(32636)\n",
    "d2 = gpd.read_file(f2).to_crs(32636)\n",
    "\n",
    "d1.drop(columns=['area','perimeter'],inplace=True)\n",
    "d2.drop(columns=['area','perimeter'],inplace=True)\n",
    "\n",
    "import pandas as pd\n",
    "schools = gpd.read_file('Полигоны школ.geojson').to_crs(32636)\n",
    "schools['ID школы'] = schools['ID школы'].astype(int)\n",
    "schools['Площадь школы(м2)'] = round(schools.geometry.area,2)\n",
    "schools['school_geom'] = schools.geometry\n",
    "d1_ =  pd.merge(d1,schools[['Площадь школы(м2)','ID школы','school_geom']],on='ID школы')\n",
    "d2_ =  pd.merge(d2,schools[['Площадь школы(м2)','ID школы','school_geom']],on='ID школы')\n",
    "\n",
    "import math\n",
    "\n",
    "d1_['Площадь видимости(м2)'] = round(d1_.geometry.area,2)\n",
    "d2_['Площадь видимости(м2)'] = round(d2_.geometry.area,2)\n",
    "\n",
    "d1_['Коэффициент видимости'] = d1_.apply(lambda x: round(x.geometry.area / x['school_geom'].buffer(1000).area,5),axis=1)\n",
    "d2_['Коэффициент видимости'] = d2_.apply(lambda x: round(x.geometry.area / x['school_geom'].buffer(1000).area,5),axis=1)\n",
    "\n",
    "d1_.drop(columns='school_geom').to_file(f1)\n",
    "d2_.drop(columns='school_geom').to_file(f2)"
   ],
   "metadata": {
    "collapsed": false
   },
   "id": "53bbbb6ac696fbc1"
  },
  {
   "cell_type": "code",
   "source": [],
   "metadata": {
    "collapsed": false
   },
   "id": "c52fb5b5733cd1f9",
   "outputs": [],
   "execution_count": null
  }
 ],
 "metadata": {
  "kernelspec": {
   "display_name": "Python 3",
   "language": "python",
   "name": "python3"
  },
  "language_info": {
   "codemirror_mode": {
    "name": "ipython",
    "version": 2
   },
   "file_extension": ".py",
   "mimetype": "text/x-python",
   "name": "python",
   "nbconvert_exporter": "python",
   "pygments_lexer": "ipython2",
   "version": "2.7.6"
  }
 },
 "nbformat": 4,
 "nbformat_minor": 5
}
