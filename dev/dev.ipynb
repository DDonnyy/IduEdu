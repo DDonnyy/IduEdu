{
 "cells": [
  {
   "cell_type": "code",
   "execution_count": null,
   "id": "initial_id",
   "metadata": {
    "collapsed": true
   },
   "outputs": [],
   "source": []
  },
  {
   "cell_type": "code",
   "execution_count": null,
   "outputs": [],
   "source": [
    "\n",
    "import os\n",
    "\n",
    "import numpy as np\n",
    "import pandas as pd\n",
    "import requests\n",
    "\n",
    "\n",
    "def get_routes(osm_id: int, public_transport_type: str):\n",
    "    overpass_url = os.environ.get(\"OVERPASS_URL\", \"http://lz4.overpass-api.de/api/interpreter\")\n",
    "    overpass_query = f\"\"\"\n",
    "    [out:json];\n",
    "            (\n",
    "                relation({osm_id});\n",
    "            );map_to_area;\n",
    "            (\n",
    "                relation(area)['route'='{public_transport_type}'];\n",
    "            );\n",
    "    out geom;\n",
    "    \"\"\"\n",
    "    result = requests.get(overpass_url, params={\"data\": overpass_query})\n",
    "    json_result = result.json()[\"elements\"]\n",
    "\n",
    "    return pd.DataFrame(json_result)"
   ],
   "metadata": {
    "collapsed": false
   },
   "id": "e8046bf2387f5f03"
  },
  {
   "cell_type": "code",
   "execution_count": null,
   "outputs": [],
   "source": [
    "test = pd.DataFrame(data_osm.iloc[1]['members'])\n",
    "test = test[test['type'] == 'node']"
   ],
   "metadata": {
    "collapsed": false
   },
   "id": "88eb14f1405263f9"
  },
  {
   "cell_type": "code",
   "execution_count": 90,
   "outputs": [],
   "source": [
    "osm_id = 4869409\n",
    "public_transport_type = \"bus\"\n",
    "data_osm = get_routes(osm_id, public_transport_type)"
   ],
   "metadata": {
    "collapsed": false,
    "ExecuteTime": {
     "end_time": "2024-07-15T13:30:57.888188600Z",
     "start_time": "2024-07-15T13:30:57.313681100Z"
    }
   },
   "id": "990965d18e3bb75a"
  },
  {
   "cell_type": "code",
   "execution_count": 113,
   "outputs": [
    {
     "name": "stdout",
     "output_type": "stream",
     "text": [
      "(46.0922111, 51.4961684) (46.0625728, 51.528984)\n",
      "(46.125136, 51.498949) (46.0924441, 51.4959176)\n",
      "(46.1271524, 51.5008024) (46.1257548, 51.4998442)\n",
      "(46.0624318, 51.5291964) (46.0008441, 51.5405848)\n",
      "(46.0008441, 51.5405848) (46.1013639, 51.4860569)\n",
      "(46.1019604, 51.4861853) (46.1027033, 51.4861481)\n",
      "(46.1030871, 51.4861757) (46.125136, 51.498949)\n",
      "(46.1271524, 51.5008024) (46.1257548, 51.4998442)\n"
     ]
    }
   ],
   "source": [
    "from scipy.spatial import cKDTree\n",
    "from shapely import LineString, Point\n",
    "import geopandas as gpd\n",
    "\n",
    "PLATFORM_ROLES = ['platform_entry_only', 'platform', 'platform_exit_only']\n",
    "\n",
    "\n",
    "def parse_overpass_route_response(loc: dict):\n",
    "    if 'ref' in loc['tags'].keys():\n",
    "        transport_name = loc['tags']['ref']\n",
    "    elif 'name' in loc['tags'].keys():\n",
    "        transport_name = loc['tags']['name']\n",
    "    else:\n",
    "        transport_name = None\n",
    "\n",
    "    route = pd.DataFrame(loc[\"members\"])\n",
    "\n",
    "    if \"node\" in route[\"type\"].unique():\n",
    "        stops = route[(route['type'] == 'node') & (route['role'].isin(PLATFORM_ROLES))]\n",
    "        stops['geometry'] = stops.apply(lambda x: (Point(x[\"lon\"], x[\"lat\"])), axis=1)\n",
    "        stops.reset_index(drop=True, inplace=True)\n",
    "    else:\n",
    "        stops = None\n",
    "\n",
    "    ways = route[route[\"type\"] == \"way\"]\n",
    "\n",
    "    if len(ways) > 0:\n",
    "        ways = ways[\"geometry\"].reset_index(drop=True)\n",
    "        ways = ways.apply(lambda x: ([(coords[\"lon\"], coords[\"lat\"]) for coords in x])).tolist()\n",
    "\n",
    "        connected_ways = [[]]\n",
    "        cur_way = 0\n",
    "        for coords in ways:\n",
    "            if not connected_ways[cur_way]:\n",
    "                connected_ways[cur_way] += coords\n",
    "                continue\n",
    "            if coords[0] == coords[-1]:\n",
    "                continue\n",
    "            if connected_ways[cur_way][-1] == coords[0]:\n",
    "                connected_ways[cur_way] += coords[1:]\n",
    "\n",
    "            elif connected_ways[cur_way][-1] == coords[-1]:\n",
    "                connected_ways[cur_way] += coords[::-1][1:]\n",
    "\n",
    "            elif connected_ways[cur_way][0] == coords[0]:\n",
    "                connected_ways[cur_way] = coords[1:][::-1] + connected_ways[cur_way]\n",
    "\n",
    "            elif connected_ways[cur_way][0] == coords[-1]:\n",
    "                connected_ways[cur_way] = coords + connected_ways[cur_way][1:]\n",
    "\n",
    "            else:\n",
    "                connected_ways += [coords]\n",
    "                cur_way += 1\n",
    "\n",
    "        if len(connected_ways) > 1:\n",
    "            for coords in connected_ways:\n",
    "                print(coords[0], coords[-1])\n",
    "    else:\n",
    "        connected_ways = None\n",
    "\n",
    "    return pd.Series({\"way\": connected_ways, \"platforms\": stops, 'name': transport_name})\n",
    "\n",
    "\n",
    "data_geom = data_osm.apply(parse_overpass_route_response, axis=1, result_type='expand')"
   ],
   "metadata": {
    "collapsed": false,
    "ExecuteTime": {
     "end_time": "2024-07-15T18:21:46.292848800Z",
     "start_time": "2024-07-15T18:21:46.273406700Z"
    }
   },
   "id": "a54a08d5549c81be"
  },
  {
   "cell_type": "code",
   "execution_count": 162,
   "outputs": [
    {
     "name": "stdout",
     "output_type": "stream",
     "text": [
      "(3, 4)\n",
      "(1, 2)\n",
      "(5, 7)\n"
     ]
    }
   ],
   "source": [
    "import numpy as np\n",
    "from scipy.spatial.distance import cdist\n",
    "\n",
    "connected_ways = data_geom.iloc[2]['way']\n",
    "connect_points = [point for coords in connected_ways for point in (coords[0], coords[-1])]\n",
    "\n",
    "# connect_points = np.array(connect_points)\n",
    "distances = cdist(connect_points, connect_points)\n",
    "n = distances.shape[0]\n",
    "mask = (np.arange(n)[:, None]//2) == (np.arange(n)//2)\n",
    "distances[mask] = np.inf\n",
    "\n",
    "for i in range(len(connected_ways)-1):\n",
    "    min_index = np.unravel_index(np.argmin(distances), distances.shape)\n",
    "    distances[min_index[0], :] = np.inf\n",
    "    distances[min_index[1], :] = np.inf\n",
    "    distances[:, min_index[0]] = np.inf\n",
    "    distances[:, min_index[1]] = np.inf\n",
    "    print(min_index)\n"
   ],
   "metadata": {
    "collapsed": false,
    "ExecuteTime": {
     "end_time": "2024-07-15T19:24:47.628116500Z",
     "start_time": "2024-07-15T19:24:47.609541100Z"
    }
   },
   "id": "3bf466a6e87a47b5"
  },
  {
   "cell_type": "code",
   "execution_count": 154,
   "outputs": [
    {
     "data": {
      "text/plain": "array([[       inf, 0.11435699, 0.11482078, 0.11549308, 0.11581874,\n        0.13108019, 0.13242517, 0.13138676],\n       [0.11435699,        inf, 0.00061016, 0.0013425 , 0.00172729,\n        0.02704291, 0.02970651, 0.02801795],\n       [0.11482078, 0.00061016,        inf, 0.00074383, 0.00112674,\n        0.0264579 , 0.02912553, 0.02743609],\n       [0.11549308, 0.0013425 , 0.00074383,        inf, 0.00038479,\n        0.02582807, 0.02850451, 0.02681333],\n       [0.11581874, 0.00172729, 0.00112674, 0.00038479,        inf,\n        0.02548159, 0.02816166, 0.02646984],\n       [0.13108019, 0.02704291, 0.0264579 , 0.02582807, 0.02548159,\n               inf, 0.00273879, 0.00108825],\n       [0.13242517, 0.02970651, 0.02912553, 0.02850451, 0.02816166,\n        0.00273879,        inf, 0.00169453],\n       [0.13138676, 0.02801795, 0.02743609, 0.02681333, 0.02646984,\n        0.00108825, 0.00169453,        inf]])"
     },
     "execution_count": 154,
     "metadata": {},
     "output_type": "execute_result"
    }
   ],
   "source": [
    "## Теперь соединяем жостко точки бам бам бим бим, исопльзуем % чтоб понять шо где начало или конец"
   ],
   "metadata": {
    "collapsed": false,
    "ExecuteTime": {
     "end_time": "2024-07-15T18:56:47.681821300Z",
     "start_time": "2024-07-15T18:56:47.663532600Z"
    }
   },
   "id": "e7764dfa343c3559"
  },
  {
   "cell_type": "code",
   "execution_count": 95,
   "outputs": [
    {
     "data": {
      "text/plain": "    type          ref                 role        lat        lon  \\\n0   node   1300550439  platform_entry_only  51.500745  46.127004   \n1   node  11111670849             platform  51.492941  46.119462   \n2   node   1100197348             platform  51.496383  46.115406   \n3   node  11111670852             platform  51.496772  46.113979   \n4   node  11111670853             platform  51.491671  46.110916   \n5   node  11111670854             platform  51.489596  46.108851   \n6   node  11111670855             platform  51.486515  46.106265   \n7   node   2040903107             platform  51.497763  46.089539   \n8   node   1370767399             platform  51.500173  46.085037   \n9   node   1370767395             platform  51.502840  46.080503   \n10  node  10128284499             platform  51.530259  46.062509   \n11  node  10128284497             platform  51.532936  46.060206   \n12  node  10128284491             platform  51.535506  46.057997   \n13  node  10128284485             platform  51.538984  46.054718   \n14  node  10128284484             platform  51.539644  46.052083   \n15  node  10123024112             platform  51.541975  46.042541   \n16  node   5214139051             platform  51.538945  46.040861   \n17  node   2402099906             platform  51.535132  46.038065   \n18  node   2402099904             platform  51.536169  46.033611   \n19  node  10128284509             platform  51.537455  46.028006   \n20  node  10128289221             platform  51.538476  46.023654   \n21  node   2402099910             platform  51.539422  46.019435   \n22  node   2402099903             platform  51.540700  46.013733   \n23  node  10189447349             platform  51.542265  46.006740   \n24  node  10125033219   platform_exit_only  51.540496  46.000909   \n\n                         geometry  \n0   POINT (46.1270045 51.5007453)  \n1   POINT (46.1194617 51.4929409)  \n2    POINT (46.1154056 51.496383)  \n3   POINT (46.1139785 51.4967723)  \n4   POINT (46.1109159 51.4916707)  \n5   POINT (46.1088508 51.4895965)  \n6   POINT (46.1062654 51.4865151)  \n7   POINT (46.0895391 51.4977629)  \n8   POINT (46.0850367 51.5001727)  \n9   POINT (46.0805027 51.5028404)  \n10  POINT (46.0625088 51.5302592)  \n11  POINT (46.0602061 51.5329356)  \n12  POINT (46.0579973 51.5355062)  \n13  POINT (46.0547183 51.5389835)  \n14  POINT (46.0520831 51.5396441)  \n15  POINT (46.0425411 51.5419755)  \n16  POINT (46.0408607 51.5389449)  \n17   POINT (46.0380649 51.535132)  \n18   POINT (46.0336115 51.536169)  \n19  POINT (46.0280062 51.5374549)  \n20  POINT (46.0236543 51.5384763)  \n21  POINT (46.0194346 51.5394216)  \n22  POINT (46.0137328 51.5406999)  \n23  POINT (46.0067403 51.5422649)  \n24  POINT (46.0009092 51.5404958)  ",
      "text/html": "<div>\n<style scoped>\n    .dataframe tbody tr th:only-of-type {\n        vertical-align: middle;\n    }\n\n    .dataframe tbody tr th {\n        vertical-align: top;\n    }\n\n    .dataframe thead th {\n        text-align: right;\n    }\n</style>\n<table border=\"1\" class=\"dataframe\">\n  <thead>\n    <tr style=\"text-align: right;\">\n      <th></th>\n      <th>type</th>\n      <th>ref</th>\n      <th>role</th>\n      <th>lat</th>\n      <th>lon</th>\n      <th>geometry</th>\n    </tr>\n  </thead>\n  <tbody>\n    <tr>\n      <th>0</th>\n      <td>node</td>\n      <td>1300550439</td>\n      <td>platform_entry_only</td>\n      <td>51.500745</td>\n      <td>46.127004</td>\n      <td>POINT (46.1270045 51.5007453)</td>\n    </tr>\n    <tr>\n      <th>1</th>\n      <td>node</td>\n      <td>11111670849</td>\n      <td>platform</td>\n      <td>51.492941</td>\n      <td>46.119462</td>\n      <td>POINT (46.1194617 51.4929409)</td>\n    </tr>\n    <tr>\n      <th>2</th>\n      <td>node</td>\n      <td>1100197348</td>\n      <td>platform</td>\n      <td>51.496383</td>\n      <td>46.115406</td>\n      <td>POINT (46.1154056 51.496383)</td>\n    </tr>\n    <tr>\n      <th>3</th>\n      <td>node</td>\n      <td>11111670852</td>\n      <td>platform</td>\n      <td>51.496772</td>\n      <td>46.113979</td>\n      <td>POINT (46.1139785 51.4967723)</td>\n    </tr>\n    <tr>\n      <th>4</th>\n      <td>node</td>\n      <td>11111670853</td>\n      <td>platform</td>\n      <td>51.491671</td>\n      <td>46.110916</td>\n      <td>POINT (46.1109159 51.4916707)</td>\n    </tr>\n    <tr>\n      <th>5</th>\n      <td>node</td>\n      <td>11111670854</td>\n      <td>platform</td>\n      <td>51.489596</td>\n      <td>46.108851</td>\n      <td>POINT (46.1088508 51.4895965)</td>\n    </tr>\n    <tr>\n      <th>6</th>\n      <td>node</td>\n      <td>11111670855</td>\n      <td>platform</td>\n      <td>51.486515</td>\n      <td>46.106265</td>\n      <td>POINT (46.1062654 51.4865151)</td>\n    </tr>\n    <tr>\n      <th>7</th>\n      <td>node</td>\n      <td>2040903107</td>\n      <td>platform</td>\n      <td>51.497763</td>\n      <td>46.089539</td>\n      <td>POINT (46.0895391 51.4977629)</td>\n    </tr>\n    <tr>\n      <th>8</th>\n      <td>node</td>\n      <td>1370767399</td>\n      <td>platform</td>\n      <td>51.500173</td>\n      <td>46.085037</td>\n      <td>POINT (46.0850367 51.5001727)</td>\n    </tr>\n    <tr>\n      <th>9</th>\n      <td>node</td>\n      <td>1370767395</td>\n      <td>platform</td>\n      <td>51.502840</td>\n      <td>46.080503</td>\n      <td>POINT (46.0805027 51.5028404)</td>\n    </tr>\n    <tr>\n      <th>10</th>\n      <td>node</td>\n      <td>10128284499</td>\n      <td>platform</td>\n      <td>51.530259</td>\n      <td>46.062509</td>\n      <td>POINT (46.0625088 51.5302592)</td>\n    </tr>\n    <tr>\n      <th>11</th>\n      <td>node</td>\n      <td>10128284497</td>\n      <td>platform</td>\n      <td>51.532936</td>\n      <td>46.060206</td>\n      <td>POINT (46.0602061 51.5329356)</td>\n    </tr>\n    <tr>\n      <th>12</th>\n      <td>node</td>\n      <td>10128284491</td>\n      <td>platform</td>\n      <td>51.535506</td>\n      <td>46.057997</td>\n      <td>POINT (46.0579973 51.5355062)</td>\n    </tr>\n    <tr>\n      <th>13</th>\n      <td>node</td>\n      <td>10128284485</td>\n      <td>platform</td>\n      <td>51.538984</td>\n      <td>46.054718</td>\n      <td>POINT (46.0547183 51.5389835)</td>\n    </tr>\n    <tr>\n      <th>14</th>\n      <td>node</td>\n      <td>10128284484</td>\n      <td>platform</td>\n      <td>51.539644</td>\n      <td>46.052083</td>\n      <td>POINT (46.0520831 51.5396441)</td>\n    </tr>\n    <tr>\n      <th>15</th>\n      <td>node</td>\n      <td>10123024112</td>\n      <td>platform</td>\n      <td>51.541975</td>\n      <td>46.042541</td>\n      <td>POINT (46.0425411 51.5419755)</td>\n    </tr>\n    <tr>\n      <th>16</th>\n      <td>node</td>\n      <td>5214139051</td>\n      <td>platform</td>\n      <td>51.538945</td>\n      <td>46.040861</td>\n      <td>POINT (46.0408607 51.5389449)</td>\n    </tr>\n    <tr>\n      <th>17</th>\n      <td>node</td>\n      <td>2402099906</td>\n      <td>platform</td>\n      <td>51.535132</td>\n      <td>46.038065</td>\n      <td>POINT (46.0380649 51.535132)</td>\n    </tr>\n    <tr>\n      <th>18</th>\n      <td>node</td>\n      <td>2402099904</td>\n      <td>platform</td>\n      <td>51.536169</td>\n      <td>46.033611</td>\n      <td>POINT (46.0336115 51.536169)</td>\n    </tr>\n    <tr>\n      <th>19</th>\n      <td>node</td>\n      <td>10128284509</td>\n      <td>platform</td>\n      <td>51.537455</td>\n      <td>46.028006</td>\n      <td>POINT (46.0280062 51.5374549)</td>\n    </tr>\n    <tr>\n      <th>20</th>\n      <td>node</td>\n      <td>10128289221</td>\n      <td>platform</td>\n      <td>51.538476</td>\n      <td>46.023654</td>\n      <td>POINT (46.0236543 51.5384763)</td>\n    </tr>\n    <tr>\n      <th>21</th>\n      <td>node</td>\n      <td>2402099910</td>\n      <td>platform</td>\n      <td>51.539422</td>\n      <td>46.019435</td>\n      <td>POINT (46.0194346 51.5394216)</td>\n    </tr>\n    <tr>\n      <th>22</th>\n      <td>node</td>\n      <td>2402099903</td>\n      <td>platform</td>\n      <td>51.540700</td>\n      <td>46.013733</td>\n      <td>POINT (46.0137328 51.5406999)</td>\n    </tr>\n    <tr>\n      <th>23</th>\n      <td>node</td>\n      <td>10189447349</td>\n      <td>platform</td>\n      <td>51.542265</td>\n      <td>46.006740</td>\n      <td>POINT (46.0067403 51.5422649)</td>\n    </tr>\n    <tr>\n      <th>24</th>\n      <td>node</td>\n      <td>10125033219</td>\n      <td>platform_exit_only</td>\n      <td>51.540496</td>\n      <td>46.000909</td>\n      <td>POINT (46.0009092 51.5404958)</td>\n    </tr>\n  </tbody>\n</table>\n</div>"
     },
     "execution_count": 95,
     "metadata": {},
     "output_type": "execute_result"
    }
   ],
   "source": [
    "data_geom.iloc[1]['platforms']"
   ],
   "metadata": {
    "collapsed": false,
    "ExecuteTime": {
     "end_time": "2024-07-15T13:34:40.874829Z",
     "start_time": "2024-07-15T13:34:40.851759Z"
    }
   },
   "id": "30475962134ae0d1"
  },
  {
   "cell_type": "code",
   "execution_count": 100,
   "outputs": [
    {
     "data": {
      "text/plain": "<folium.folium.Map at 0x1d1ea024070>",
      "text/html": "<div style=\"width:100%;\"><div style=\"position:relative;width:100%;height:0;padding-bottom:60%;\"><span style=\"color:#565656\">Make this Notebook Trusted to load map: File -> Trust Notebook</span><iframe srcdoc=\"&lt;!DOCTYPE html&gt;\n&lt;html&gt;\n&lt;head&gt;\n    \n    &lt;meta http-equiv=&quot;content-type&quot; content=&quot;text/html; charset=UTF-8&quot; /&gt;\n    \n        &lt;script&gt;\n            L_NO_TOUCH = false;\n            L_DISABLE_3D = false;\n        &lt;/script&gt;\n    \n    &lt;style&gt;html, body {width: 100%;height: 100%;margin: 0;padding: 0;}&lt;/style&gt;\n    &lt;style&gt;#map {position:absolute;top:0;bottom:0;right:0;left:0;}&lt;/style&gt;\n    &lt;script src=&quot;https://cdn.jsdelivr.net/npm/leaflet@1.9.3/dist/leaflet.js&quot;&gt;&lt;/script&gt;\n    &lt;script src=&quot;https://code.jquery.com/jquery-3.7.1.min.js&quot;&gt;&lt;/script&gt;\n    &lt;script src=&quot;https://cdn.jsdelivr.net/npm/bootstrap@5.2.2/dist/js/bootstrap.bundle.min.js&quot;&gt;&lt;/script&gt;\n    &lt;script src=&quot;https://cdnjs.cloudflare.com/ajax/libs/Leaflet.awesome-markers/2.0.2/leaflet.awesome-markers.js&quot;&gt;&lt;/script&gt;\n    &lt;link rel=&quot;stylesheet&quot; href=&quot;https://cdn.jsdelivr.net/npm/leaflet@1.9.3/dist/leaflet.css&quot;/&gt;\n    &lt;link rel=&quot;stylesheet&quot; href=&quot;https://cdn.jsdelivr.net/npm/bootstrap@5.2.2/dist/css/bootstrap.min.css&quot;/&gt;\n    &lt;link rel=&quot;stylesheet&quot; href=&quot;https://netdna.bootstrapcdn.com/bootstrap/3.0.0/css/bootstrap-glyphicons.css&quot;/&gt;\n    &lt;link rel=&quot;stylesheet&quot; href=&quot;https://cdn.jsdelivr.net/npm/@fortawesome/fontawesome-free@6.2.0/css/all.min.css&quot;/&gt;\n    &lt;link rel=&quot;stylesheet&quot; href=&quot;https://cdnjs.cloudflare.com/ajax/libs/Leaflet.awesome-markers/2.0.2/leaflet.awesome-markers.css&quot;/&gt;\n    &lt;link rel=&quot;stylesheet&quot; href=&quot;https://cdn.jsdelivr.net/gh/python-visualization/folium/folium/templates/leaflet.awesome.rotate.min.css&quot;/&gt;\n    \n            &lt;meta name=&quot;viewport&quot; content=&quot;width=device-width,\n                initial-scale=1.0, maximum-scale=1.0, user-scalable=no&quot; /&gt;\n            &lt;style&gt;\n                #map_88f7610c9809bcdc4194f6abd7767d55 {\n                    position: relative;\n                    width: 100.0%;\n                    height: 100.0%;\n                    left: 0.0%;\n                    top: 0.0%;\n                }\n                .leaflet-container { font-size: 1rem; }\n            &lt;/style&gt;\n        \n    \n                    &lt;style&gt;\n                        .foliumtooltip {\n                            \n                        }\n                       .foliumtooltip table{\n                            margin: auto;\n                        }\n                        .foliumtooltip tr{\n                            text-align: left;\n                        }\n                        .foliumtooltip th{\n                            padding: 2px; padding-right: 8px;\n                        }\n                    &lt;/style&gt;\n            \n    \n                    &lt;style&gt;\n                        .foliumtooltip {\n                            \n                        }\n                       .foliumtooltip table{\n                            margin: auto;\n                        }\n                        .foliumtooltip tr{\n                            text-align: left;\n                        }\n                        .foliumtooltip th{\n                            padding: 2px; padding-right: 8px;\n                        }\n                    &lt;/style&gt;\n            \n&lt;/head&gt;\n&lt;body&gt;\n    \n    \n            &lt;div class=&quot;folium-map&quot; id=&quot;map_88f7610c9809bcdc4194f6abd7767d55&quot; &gt;&lt;/div&gt;\n        \n&lt;/body&gt;\n&lt;script&gt;\n    \n    \n            var map_88f7610c9809bcdc4194f6abd7767d55 = L.map(\n                &quot;map_88f7610c9809bcdc4194f6abd7767d55&quot;,\n                {\n                    center: [51.5144782, 46.0638057],\n                    crs: L.CRS.EPSG3857,\n                    zoom: 10,\n                    zoomControl: true,\n                    preferCanvas: false,\n                }\n            );\n            L.control.scale().addTo(map_88f7610c9809bcdc4194f6abd7767d55);\n\n            \n\n        \n    \n            var tile_layer_7c8c4cf5138d227ab64f24af45494468 = L.tileLayer(\n                &quot;https://tile.openstreetmap.org/{z}/{x}/{y}.png&quot;,\n                {&quot;attribution&quot;: &quot;\\u0026copy; \\u003ca href=\\&quot;https://www.openstreetmap.org/copyright\\&quot;\\u003eOpenStreetMap\\u003c/a\\u003e contributors&quot;, &quot;detectRetina&quot;: false, &quot;maxNativeZoom&quot;: 19, &quot;maxZoom&quot;: 19, &quot;minZoom&quot;: 0, &quot;noWrap&quot;: false, &quot;opacity&quot;: 1, &quot;subdomains&quot;: &quot;abc&quot;, &quot;tms&quot;: false}\n            );\n        \n    \n            tile_layer_7c8c4cf5138d227ab64f24af45494468.addTo(map_88f7610c9809bcdc4194f6abd7767d55);\n        \n    \n            map_88f7610c9809bcdc4194f6abd7767d55.fitBounds(\n                [[51.4863156, 46.000459], [51.5426408, 46.1271524]],\n                {}\n            );\n        \n    \n        function geo_json_fb1cc389a05721e3b8ed71b9d7dd686b_styler(feature) {\n            switch(feature.id) {\n                default:\n                    return {&quot;fillOpacity&quot;: 0.5, &quot;weight&quot;: 2};\n            }\n        }\n        function geo_json_fb1cc389a05721e3b8ed71b9d7dd686b_highlighter(feature) {\n            switch(feature.id) {\n                default:\n                    return {&quot;fillOpacity&quot;: 0.75};\n            }\n        }\n        function geo_json_fb1cc389a05721e3b8ed71b9d7dd686b_pointToLayer(feature, latlng) {\n            var opts = {&quot;bubblingMouseEvents&quot;: true, &quot;color&quot;: &quot;#3388ff&quot;, &quot;dashArray&quot;: null, &quot;dashOffset&quot;: null, &quot;fill&quot;: true, &quot;fillColor&quot;: &quot;#3388ff&quot;, &quot;fillOpacity&quot;: 0.2, &quot;fillRule&quot;: &quot;evenodd&quot;, &quot;lineCap&quot;: &quot;round&quot;, &quot;lineJoin&quot;: &quot;round&quot;, &quot;opacity&quot;: 1.0, &quot;radius&quot;: 2, &quot;stroke&quot;: true, &quot;weight&quot;: 3};\n            \n            let style = geo_json_fb1cc389a05721e3b8ed71b9d7dd686b_styler(feature)\n            Object.assign(opts, style)\n            \n            return new L.CircleMarker(latlng, opts)\n        }\n\n        function geo_json_fb1cc389a05721e3b8ed71b9d7dd686b_onEachFeature(feature, layer) {\n            layer.on({\n                mouseout: function(e) {\n                    if(typeof e.target.setStyle === &quot;function&quot;){\n                            geo_json_fb1cc389a05721e3b8ed71b9d7dd686b.resetStyle(e.target);\n                    }\n                },\n                mouseover: function(e) {\n                    if(typeof e.target.setStyle === &quot;function&quot;){\n                        const highlightStyle = geo_json_fb1cc389a05721e3b8ed71b9d7dd686b_highlighter(e.target.feature)\n                        e.target.setStyle(highlightStyle);\n                    }\n                },\n            });\n        };\n        var geo_json_fb1cc389a05721e3b8ed71b9d7dd686b = L.geoJson(null, {\n                onEachFeature: geo_json_fb1cc389a05721e3b8ed71b9d7dd686b_onEachFeature,\n            \n                style: geo_json_fb1cc389a05721e3b8ed71b9d7dd686b_styler,\n                pointToLayer: geo_json_fb1cc389a05721e3b8ed71b9d7dd686b_pointToLayer,\n        });\n\n        function geo_json_fb1cc389a05721e3b8ed71b9d7dd686b_add (data) {\n            geo_json_fb1cc389a05721e3b8ed71b9d7dd686b\n                .addData(data);\n        }\n            geo_json_fb1cc389a05721e3b8ed71b9d7dd686b_add({&quot;bbox&quot;: [46.000459, 51.4863156, 46.1271524, 51.5426408], &quot;features&quot;: [{&quot;bbox&quot;: [46.0625728, 51.4961684, 46.0922111, 51.528984], &quot;geometry&quot;: {&quot;coordinates&quot;: [[46.0922111, 51.4961684], [46.0921069, 51.4961756], [46.0919261, 51.4961853], [46.0918616, 51.4961923], [46.0917972, 51.4962011], [46.0917483, 51.4962111], [46.091706, 51.4962236], [46.0916483, 51.4962416], [46.0915935, 51.4962664], [46.0915504, 51.4962921], [46.0911262, 51.4965862], [46.0902439, 51.4972025], [46.0900412, 51.4973481], [46.0898877, 51.497454], [46.0896188, 51.4976396], [46.0891917, 51.4979368], [46.0887465, 51.4982022], [46.0882608, 51.4984461], [46.0879271, 51.4986154], [46.0858134, 51.4996889], [46.085347, 51.4999319], [46.0850081, 51.5001173], [46.0846956, 51.5002835], [46.0843228, 51.5004881], [46.0816126, 51.5019512], [46.0811735, 51.5022325], [46.0809037, 51.5024168], [46.0806365, 51.5026241], [46.0805355, 51.502704], [46.080163, 51.5029931], [46.0795038, 51.503613], [46.0793118, 51.5038093], [46.0790423, 51.5041655], [46.0781372, 51.5055448], [46.0779922, 51.5056915], [46.0700463, 51.5177152], [46.0678178, 51.5210768], [46.0672946, 51.521869], [46.0672697, 51.521907], [46.0663742, 51.5232567], [46.0663492, 51.5232945], [46.0654679, 51.5246237], [46.0654418, 51.524663], [46.0625728, 51.528984]], &quot;type&quot;: &quot;LineString&quot;}, &quot;id&quot;: &quot;0&quot;, &quot;properties&quot;: {&quot;index&quot;: 0}, &quot;type&quot;: &quot;Feature&quot;}, {&quot;bbox&quot;: [46.0924175, 51.4863156, 46.125136, 51.498949], &quot;geometry&quot;: {&quot;coordinates&quot;: [[46.125136, 51.498949], [46.1250396, 51.498785], [46.1245081, 51.4978812], [46.1240166, 51.4970495], [46.1236807, 51.4964742], [46.1231995, 51.495656], [46.1227561, 51.4949019], [46.122538, 51.4946216], [46.1222848, 51.4943473], [46.1220747, 51.494152], [46.1218247, 51.4939195], [46.1215619, 51.4937322], [46.1212938, 51.493595], [46.1209727, 51.4934616], [46.1199264, 51.4930434], [46.1195316, 51.4928869], [46.1191592, 51.4927393], [46.1190001, 51.4926763], [46.1188819, 51.4927937], [46.1182258, 51.4934125], [46.1178824, 51.493741], [46.1175907, 51.4940307], [46.1154526, 51.4961409], [46.1148073, 51.4968114], [46.1145391, 51.4971132], [46.1143275, 51.4969039], [46.1142364, 51.4968421], [46.114146, 51.496772], [46.114105, 51.4967322], [46.1138324, 51.4964814], [46.1136072, 51.4962663], [46.1135176, 51.4962209], [46.1134078, 51.4961914], [46.1132912, 51.4961788], [46.1131743, 51.4961771], [46.1129369, 51.4962406], [46.1119304, 51.4965098], [46.1100936, 51.4948908], [46.1092821, 51.4942229], [46.1082589, 51.493389], [46.1096373, 51.4926505], [46.1097096, 51.4926104], [46.1097995, 51.4925611], [46.1103001, 51.4922867], [46.1112394, 51.4918137], [46.108913, 51.4893185], [46.108072, 51.4884557], [46.1061731, 51.4865514], [46.1058649, 51.4864409], [46.1037012, 51.4863156], [46.1034045, 51.4863253], [46.1032561, 51.4863489], [46.1031595, 51.4863715], [46.1030488, 51.486424], [46.1029835, 51.4864853], [46.1029265, 51.4866035], [46.1029156, 51.4867862], [46.1029129, 51.4868207], [46.1028782, 51.4872647], [46.1028719, 51.4873452], [46.1028459, 51.4876783], [46.1028296, 51.4878603], [46.1027615, 51.4880336], [46.1026185, 51.4881867], [46.1023247, 51.4883936], [46.1015355, 51.4888684], [46.1012903, 51.489019], [46.1008479, 51.4892765], [46.100488, 51.4894959], [46.0999968, 51.4897901], [46.0986935, 51.4905708], [46.0983665, 51.4907896], [46.0980591, 51.491025], [46.0977882, 51.4912788], [46.0969659, 51.4921964], [46.0966341, 51.4925397], [46.0962851, 51.4928238], [46.0954816, 51.4934227], [46.0954076, 51.4934749], [46.0944268, 51.4941668], [46.0940717, 51.4944174], [46.0932735, 51.4949998], [46.0925255, 51.4956099], [46.092503, 51.4956358], [46.0924745, 51.4956684], [46.0924396, 51.4957243], [46.0924195, 51.4957753], [46.0924175, 51.4958057], [46.0924255, 51.4958705], [46.0924441, 51.4959176]], &quot;type&quot;: &quot;LineString&quot;}, &quot;id&quot;: &quot;1&quot;, &quot;properties&quot;: {&quot;index&quot;: 1}, &quot;type&quot;: &quot;Feature&quot;}, {&quot;bbox&quot;: [46.1254754, 51.4998442, 46.1271524, 51.5009414], &quot;geometry&quot;: {&quot;coordinates&quot;: [[46.1271524, 51.5008024], [46.1259869, 51.5009177], [46.1254754, 51.5009414], [46.1254878, 51.5006672], [46.1256242, 51.5002894], [46.125703, 51.5000877], [46.1257528, 51.4999751], [46.1257548, 51.4998442]], &quot;type&quot;: &quot;LineString&quot;}, &quot;id&quot;: &quot;2&quot;, &quot;properties&quot;: {&quot;index&quot;: 2}, &quot;type&quot;: &quot;Feature&quot;}, {&quot;bbox&quot;: [46.000459, 51.5291964, 46.0624318, 51.5426408], &quot;geometry&quot;: {&quot;coordinates&quot;: [[46.0624318, 51.5291964], [46.0624213, 51.5292817], [46.0624026, 51.5293368], [46.0623962, 51.5293704], [46.0623946, 51.5294096], [46.0623899, 51.529456], [46.0623955, 51.5295364], [46.0624019, 51.5295987], [46.0624029, 51.5298149], [46.0624071, 51.5298941], [46.0624039, 51.5299724], [46.0623641, 51.5301341], [46.0623291, 51.5302342], [46.0622742, 51.5303575], [46.0622392, 51.5304356], [46.0621911, 51.5305166], [46.0620042, 51.530737], [46.0617036, 51.5310643], [46.0613096, 51.5315022], [46.060683, 51.5321937], [46.0603228, 51.5326019], [46.0602683, 51.5326614], [46.0602102, 51.5327262], [46.0600718, 51.5328963], [46.0593881, 51.5337362], [46.0583204, 51.534998], [46.0582414, 51.5350889], [46.0579067, 51.5354968], [46.0576728, 51.535782], [46.0576141, 51.5358548], [46.0575454, 51.5359354], [46.0573058, 51.5362069], [46.0568669, 51.5367042], [46.056463, 51.5371843], [46.0563753, 51.537291], [46.0560354, 51.5377046], [46.0560001, 51.5377453], [46.0555399, 51.5382761], [46.0554164, 51.5384185], [46.0551458, 51.5387329], [46.0550422, 51.5387835], [46.0549571, 51.5388292], [46.0548793, 51.5388569], [46.0547866, 51.5388855], [46.0546741, 51.5389131], [46.0545705, 51.5389385], [46.0544812, 51.5389605], [46.0533425, 51.5392368], [46.05289, 51.539351], [46.0526349, 51.5394136], [46.052427, 51.5394645], [46.0520404, 51.5395595], [46.0519492, 51.5395819], [46.0513978, 51.5397175], [46.0512979, 51.5397413], [46.0511872, 51.5397693], [46.0509553, 51.5398231], [46.0502654, 51.5399848], [46.0500787, 51.5400286], [46.0496071, 51.5401391], [46.0494757, 51.5401701], [46.0493629, 51.5401968], [46.0485714, 51.5403931], [46.048224, 51.5404792], [46.0472658, 51.5407168], [46.0471902, 51.5407359], [46.0461152, 51.5410021], [46.0450773, 51.5412413], [46.0439337, 51.541526], [46.0428394, 51.5417831], [46.0427531, 51.5418039], [46.0425397, 51.5418597], [46.042492, 51.5417837], [46.0414209, 51.5400768], [46.0413509, 51.5399707], [46.0412956, 51.5398756], [46.0413162, 51.5398356], [46.0413342, 51.5398034], [46.0413543, 51.5397644], [46.0413699, 51.5397243], [46.0413709, 51.5396701], [46.0413553, 51.5395723], [46.0412551, 51.5393994], [46.0409632, 51.5389199], [46.0408775, 51.5387851], [46.0405158, 51.5382146], [46.0399571, 51.5373325], [46.039939, 51.537304], [46.0395829, 51.5367978], [46.0395438, 51.5367327], [46.0390891, 51.5360103], [46.0390476, 51.5359455], [46.0389977, 51.5358664], [46.0388182, 51.5355833], [46.0384956, 51.5350478], [46.0383926, 51.5350312], [46.0382039, 51.535017], [46.038013, 51.5350586], [46.0378409, 51.5351043], [46.0374743, 51.5351907], [46.0360808, 51.5354985], [46.0354008, 51.5356578], [46.0349537, 51.5357579], [46.0341921, 51.5359386], [46.0335995, 51.5360752], [46.033197, 51.5361659], [46.0330639, 51.5361973], [46.0328887, 51.5362383], [46.0325037, 51.5363279], [46.0311211, 51.5366496], [46.031051, 51.5366655], [46.0300652, 51.5368905], [46.0296692, 51.5369809], [46.0292612, 51.537074], [46.0291569, 51.5370966], [46.0279671, 51.5373731], [46.0275611, 51.5374675], [46.0274, 51.5375037], [46.0272349, 51.5375425], [46.0263145, 51.537759], [46.0244697, 51.5382036], [46.0243642, 51.5382255], [46.0241559, 51.5382678], [46.0235872, 51.5383922], [46.0235097, 51.5384091], [46.0225636, 51.538616], [46.0200454, 51.5391831], [46.0193904, 51.5393361], [46.0190302, 51.5394122], [46.0189047, 51.5394419], [46.0186787, 51.5394969], [46.018656, 51.5395021], [46.0184301, 51.5395582], [46.0183275, 51.5395816], [46.0178336, 51.5396883], [46.0177346, 51.5397097], [46.0156397, 51.5401733], [46.0144811, 51.5404314], [46.0142967, 51.5404725], [46.0140947, 51.5405196], [46.0136799, 51.540609], [46.013466, 51.5406551], [46.0129875, 51.5407582], [46.0128941, 51.5407781], [46.0124894, 51.5408643], [46.012146, 51.5409443], [46.0121191, 51.5409506], [46.0120349, 51.5409687], [46.0119094, 51.5409939], [46.0095455, 51.5415301], [46.0072998, 51.5420395], [46.0071807, 51.5420672], [46.007038, 51.5420996], [46.0067008, 51.5421762], [46.0065015, 51.5422214], [46.0048853, 51.5425884], [46.0048226, 51.5426046], [46.0046822, 51.5426408], [46.0046214, 51.5425402], [46.0042506, 51.541918], [46.0038134, 51.5411845], [46.0036437, 51.5408997], [46.0035859, 51.5408011], [46.0035352, 51.5407158], [46.0031053, 51.5399929], [46.0028598, 51.5395801], [46.0026303, 51.5391941], [46.0025706, 51.5390938], [46.0023997, 51.5391331], [46.00211, 51.5391985], [46.0019414, 51.5392372], [46.0008809, 51.5394906], [46.00081, 51.5395332], [46.000665, 51.5396234], [46.0006024, 51.5396705], [46.0005255, 51.5397869], [46.000459, 51.5399285], [46.0005332, 51.54006], [46.0007185, 51.5403886], [46.0008003, 51.5405164], [46.0008441, 51.5405848]], &quot;type&quot;: &quot;LineString&quot;}, &quot;id&quot;: &quot;3&quot;, &quot;properties&quot;: {&quot;index&quot;: 3}, &quot;type&quot;: &quot;Feature&quot;}], &quot;type&quot;: &quot;FeatureCollection&quot;});\n\n        \n    \n    geo_json_fb1cc389a05721e3b8ed71b9d7dd686b.bindTooltip(\n    function(layer){\n    let div = L.DomUtil.create(&#x27;div&#x27;);\n    \n    let handleObject = feature=&gt;typeof(feature)==&#x27;object&#x27; ? JSON.stringify(feature) : feature;\n    let fields = [&quot;index&quot;];\n    let aliases = [&quot;index&quot;];\n    let table = &#x27;&lt;table&gt;&#x27; +\n        String(\n        fields.map(\n        (v,i)=&gt;\n        `&lt;tr&gt;\n            &lt;th&gt;${aliases[i]}&lt;/th&gt;\n            \n            &lt;td&gt;${handleObject(layer.feature.properties[v])}&lt;/td&gt;\n        &lt;/tr&gt;`).join(&#x27;&#x27;))\n    +&#x27;&lt;/table&gt;&#x27;;\n    div.innerHTML=table;\n    \n    return div\n    }\n    ,{&quot;className&quot;: &quot;foliumtooltip&quot;, &quot;sticky&quot;: true});\n                     \n    \n            geo_json_fb1cc389a05721e3b8ed71b9d7dd686b.addTo(map_88f7610c9809bcdc4194f6abd7767d55);\n        \n    \n        function geo_json_9fca118ce6c71164deae2bf23f5bade1_styler(feature) {\n            switch(feature.id) {\n                default:\n                    return {&quot;color&quot;: &quot;red&quot;, &quot;fillColor&quot;: &quot;red&quot;, &quot;fillOpacity&quot;: 0.5, &quot;weight&quot;: 2};\n            }\n        }\n        function geo_json_9fca118ce6c71164deae2bf23f5bade1_highlighter(feature) {\n            switch(feature.id) {\n                default:\n                    return {&quot;fillOpacity&quot;: 0.75};\n            }\n        }\n        function geo_json_9fca118ce6c71164deae2bf23f5bade1_pointToLayer(feature, latlng) {\n            var opts = {&quot;bubblingMouseEvents&quot;: true, &quot;color&quot;: &quot;#3388ff&quot;, &quot;dashArray&quot;: null, &quot;dashOffset&quot;: null, &quot;fill&quot;: true, &quot;fillColor&quot;: &quot;#3388ff&quot;, &quot;fillOpacity&quot;: 0.2, &quot;fillRule&quot;: &quot;evenodd&quot;, &quot;lineCap&quot;: &quot;round&quot;, &quot;lineJoin&quot;: &quot;round&quot;, &quot;opacity&quot;: 1.0, &quot;radius&quot;: 2, &quot;stroke&quot;: true, &quot;weight&quot;: 3};\n            \n            let style = geo_json_9fca118ce6c71164deae2bf23f5bade1_styler(feature)\n            Object.assign(opts, style)\n            \n            return new L.CircleMarker(latlng, opts)\n        }\n\n        function geo_json_9fca118ce6c71164deae2bf23f5bade1_onEachFeature(feature, layer) {\n            layer.on({\n                mouseout: function(e) {\n                    if(typeof e.target.setStyle === &quot;function&quot;){\n                            geo_json_9fca118ce6c71164deae2bf23f5bade1.resetStyle(e.target);\n                    }\n                },\n                mouseover: function(e) {\n                    if(typeof e.target.setStyle === &quot;function&quot;){\n                        const highlightStyle = geo_json_9fca118ce6c71164deae2bf23f5bade1_highlighter(e.target.feature)\n                        e.target.setStyle(highlightStyle);\n                    }\n                },\n            });\n        };\n        var geo_json_9fca118ce6c71164deae2bf23f5bade1 = L.geoJson(null, {\n                onEachFeature: geo_json_9fca118ce6c71164deae2bf23f5bade1_onEachFeature,\n            \n                style: geo_json_9fca118ce6c71164deae2bf23f5bade1_styler,\n                pointToLayer: geo_json_9fca118ce6c71164deae2bf23f5bade1_pointToLayer,\n        });\n\n        function geo_json_9fca118ce6c71164deae2bf23f5bade1_add (data) {\n            geo_json_9fca118ce6c71164deae2bf23f5bade1\n                .addData(data);\n        }\n            geo_json_9fca118ce6c71164deae2bf23f5bade1_add({&quot;bbox&quot;: [46.0009092, 51.4865151, 46.1270045, 51.5422649], &quot;features&quot;: [{&quot;bbox&quot;: [46.1270045, 51.5007453, 46.1270045, 51.5007453], &quot;geometry&quot;: {&quot;coordinates&quot;: [46.1270045, 51.5007453], &quot;type&quot;: &quot;Point&quot;}, &quot;id&quot;: &quot;0&quot;, &quot;properties&quot;: {&quot;__folium_color&quot;: &quot;red&quot;, &quot;index&quot;: 0, &quot;lat&quot;: 51.5007453, &quot;lon&quot;: 46.1270045, &quot;ref&quot;: 1300550439, &quot;role&quot;: &quot;platform_entry_only&quot;, &quot;type&quot;: &quot;node&quot;}, &quot;type&quot;: &quot;Feature&quot;}, {&quot;bbox&quot;: [46.1194617, 51.4929409, 46.1194617, 51.4929409], &quot;geometry&quot;: {&quot;coordinates&quot;: [46.1194617, 51.4929409], &quot;type&quot;: &quot;Point&quot;}, &quot;id&quot;: &quot;1&quot;, &quot;properties&quot;: {&quot;__folium_color&quot;: &quot;red&quot;, &quot;index&quot;: 1, &quot;lat&quot;: 51.4929409, &quot;lon&quot;: 46.1194617, &quot;ref&quot;: 11111670849, &quot;role&quot;: &quot;platform&quot;, &quot;type&quot;: &quot;node&quot;}, &quot;type&quot;: &quot;Feature&quot;}, {&quot;bbox&quot;: [46.1154056, 51.496383, 46.1154056, 51.496383], &quot;geometry&quot;: {&quot;coordinates&quot;: [46.1154056, 51.496383], &quot;type&quot;: &quot;Point&quot;}, &quot;id&quot;: &quot;2&quot;, &quot;properties&quot;: {&quot;__folium_color&quot;: &quot;red&quot;, &quot;index&quot;: 2, &quot;lat&quot;: 51.496383, &quot;lon&quot;: 46.1154056, &quot;ref&quot;: 1100197348, &quot;role&quot;: &quot;platform&quot;, &quot;type&quot;: &quot;node&quot;}, &quot;type&quot;: &quot;Feature&quot;}, {&quot;bbox&quot;: [46.1139785, 51.4967723, 46.1139785, 51.4967723], &quot;geometry&quot;: {&quot;coordinates&quot;: [46.1139785, 51.4967723], &quot;type&quot;: &quot;Point&quot;}, &quot;id&quot;: &quot;3&quot;, &quot;properties&quot;: {&quot;__folium_color&quot;: &quot;red&quot;, &quot;index&quot;: 3, &quot;lat&quot;: 51.4967723, &quot;lon&quot;: 46.1139785, &quot;ref&quot;: 11111670852, &quot;role&quot;: &quot;platform&quot;, &quot;type&quot;: &quot;node&quot;}, &quot;type&quot;: &quot;Feature&quot;}, {&quot;bbox&quot;: [46.1109159, 51.4916707, 46.1109159, 51.4916707], &quot;geometry&quot;: {&quot;coordinates&quot;: [46.1109159, 51.4916707], &quot;type&quot;: &quot;Point&quot;}, &quot;id&quot;: &quot;4&quot;, &quot;properties&quot;: {&quot;__folium_color&quot;: &quot;red&quot;, &quot;index&quot;: 4, &quot;lat&quot;: 51.4916707, &quot;lon&quot;: 46.1109159, &quot;ref&quot;: 11111670853, &quot;role&quot;: &quot;platform&quot;, &quot;type&quot;: &quot;node&quot;}, &quot;type&quot;: &quot;Feature&quot;}, {&quot;bbox&quot;: [46.1088508, 51.4895965, 46.1088508, 51.4895965], &quot;geometry&quot;: {&quot;coordinates&quot;: [46.1088508, 51.4895965], &quot;type&quot;: &quot;Point&quot;}, &quot;id&quot;: &quot;5&quot;, &quot;properties&quot;: {&quot;__folium_color&quot;: &quot;red&quot;, &quot;index&quot;: 5, &quot;lat&quot;: 51.4895965, &quot;lon&quot;: 46.1088508, &quot;ref&quot;: 11111670854, &quot;role&quot;: &quot;platform&quot;, &quot;type&quot;: &quot;node&quot;}, &quot;type&quot;: &quot;Feature&quot;}, {&quot;bbox&quot;: [46.1062654, 51.4865151, 46.1062654, 51.4865151], &quot;geometry&quot;: {&quot;coordinates&quot;: [46.1062654, 51.4865151], &quot;type&quot;: &quot;Point&quot;}, &quot;id&quot;: &quot;6&quot;, &quot;properties&quot;: {&quot;__folium_color&quot;: &quot;red&quot;, &quot;index&quot;: 6, &quot;lat&quot;: 51.4865151, &quot;lon&quot;: 46.1062654, &quot;ref&quot;: 11111670855, &quot;role&quot;: &quot;platform&quot;, &quot;type&quot;: &quot;node&quot;}, &quot;type&quot;: &quot;Feature&quot;}, {&quot;bbox&quot;: [46.0895391, 51.4977629, 46.0895391, 51.4977629], &quot;geometry&quot;: {&quot;coordinates&quot;: [46.0895391, 51.4977629], &quot;type&quot;: &quot;Point&quot;}, &quot;id&quot;: &quot;7&quot;, &quot;properties&quot;: {&quot;__folium_color&quot;: &quot;red&quot;, &quot;index&quot;: 7, &quot;lat&quot;: 51.4977629, &quot;lon&quot;: 46.0895391, &quot;ref&quot;: 2040903107, &quot;role&quot;: &quot;platform&quot;, &quot;type&quot;: &quot;node&quot;}, &quot;type&quot;: &quot;Feature&quot;}, {&quot;bbox&quot;: [46.0850367, 51.5001727, 46.0850367, 51.5001727], &quot;geometry&quot;: {&quot;coordinates&quot;: [46.0850367, 51.5001727], &quot;type&quot;: &quot;Point&quot;}, &quot;id&quot;: &quot;8&quot;, &quot;properties&quot;: {&quot;__folium_color&quot;: &quot;red&quot;, &quot;index&quot;: 8, &quot;lat&quot;: 51.5001727, &quot;lon&quot;: 46.0850367, &quot;ref&quot;: 1370767399, &quot;role&quot;: &quot;platform&quot;, &quot;type&quot;: &quot;node&quot;}, &quot;type&quot;: &quot;Feature&quot;}, {&quot;bbox&quot;: [46.0805027, 51.5028404, 46.0805027, 51.5028404], &quot;geometry&quot;: {&quot;coordinates&quot;: [46.0805027, 51.5028404], &quot;type&quot;: &quot;Point&quot;}, &quot;id&quot;: &quot;9&quot;, &quot;properties&quot;: {&quot;__folium_color&quot;: &quot;red&quot;, &quot;index&quot;: 9, &quot;lat&quot;: 51.5028404, &quot;lon&quot;: 46.0805027, &quot;ref&quot;: 1370767395, &quot;role&quot;: &quot;platform&quot;, &quot;type&quot;: &quot;node&quot;}, &quot;type&quot;: &quot;Feature&quot;}, {&quot;bbox&quot;: [46.0625088, 51.5302592, 46.0625088, 51.5302592], &quot;geometry&quot;: {&quot;coordinates&quot;: [46.0625088, 51.5302592], &quot;type&quot;: &quot;Point&quot;}, &quot;id&quot;: &quot;10&quot;, &quot;properties&quot;: {&quot;__folium_color&quot;: &quot;red&quot;, &quot;index&quot;: 10, &quot;lat&quot;: 51.5302592, &quot;lon&quot;: 46.0625088, &quot;ref&quot;: 10128284499, &quot;role&quot;: &quot;platform&quot;, &quot;type&quot;: &quot;node&quot;}, &quot;type&quot;: &quot;Feature&quot;}, {&quot;bbox&quot;: [46.0602061, 51.5329356, 46.0602061, 51.5329356], &quot;geometry&quot;: {&quot;coordinates&quot;: [46.0602061, 51.5329356], &quot;type&quot;: &quot;Point&quot;}, &quot;id&quot;: &quot;11&quot;, &quot;properties&quot;: {&quot;__folium_color&quot;: &quot;red&quot;, &quot;index&quot;: 11, &quot;lat&quot;: 51.5329356, &quot;lon&quot;: 46.0602061, &quot;ref&quot;: 10128284497, &quot;role&quot;: &quot;platform&quot;, &quot;type&quot;: &quot;node&quot;}, &quot;type&quot;: &quot;Feature&quot;}, {&quot;bbox&quot;: [46.0579973, 51.5355062, 46.0579973, 51.5355062], &quot;geometry&quot;: {&quot;coordinates&quot;: [46.0579973, 51.5355062], &quot;type&quot;: &quot;Point&quot;}, &quot;id&quot;: &quot;12&quot;, &quot;properties&quot;: {&quot;__folium_color&quot;: &quot;red&quot;, &quot;index&quot;: 12, &quot;lat&quot;: 51.5355062, &quot;lon&quot;: 46.0579973, &quot;ref&quot;: 10128284491, &quot;role&quot;: &quot;platform&quot;, &quot;type&quot;: &quot;node&quot;}, &quot;type&quot;: &quot;Feature&quot;}, {&quot;bbox&quot;: [46.0547183, 51.5389835, 46.0547183, 51.5389835], &quot;geometry&quot;: {&quot;coordinates&quot;: [46.0547183, 51.5389835], &quot;type&quot;: &quot;Point&quot;}, &quot;id&quot;: &quot;13&quot;, &quot;properties&quot;: {&quot;__folium_color&quot;: &quot;red&quot;, &quot;index&quot;: 13, &quot;lat&quot;: 51.5389835, &quot;lon&quot;: 46.0547183, &quot;ref&quot;: 10128284485, &quot;role&quot;: &quot;platform&quot;, &quot;type&quot;: &quot;node&quot;}, &quot;type&quot;: &quot;Feature&quot;}, {&quot;bbox&quot;: [46.0520831, 51.5396441, 46.0520831, 51.5396441], &quot;geometry&quot;: {&quot;coordinates&quot;: [46.0520831, 51.5396441], &quot;type&quot;: &quot;Point&quot;}, &quot;id&quot;: &quot;14&quot;, &quot;properties&quot;: {&quot;__folium_color&quot;: &quot;red&quot;, &quot;index&quot;: 14, &quot;lat&quot;: 51.5396441, &quot;lon&quot;: 46.0520831, &quot;ref&quot;: 10128284484, &quot;role&quot;: &quot;platform&quot;, &quot;type&quot;: &quot;node&quot;}, &quot;type&quot;: &quot;Feature&quot;}, {&quot;bbox&quot;: [46.0425411, 51.5419755, 46.0425411, 51.5419755], &quot;geometry&quot;: {&quot;coordinates&quot;: [46.0425411, 51.5419755], &quot;type&quot;: &quot;Point&quot;}, &quot;id&quot;: &quot;15&quot;, &quot;properties&quot;: {&quot;__folium_color&quot;: &quot;red&quot;, &quot;index&quot;: 15, &quot;lat&quot;: 51.5419755, &quot;lon&quot;: 46.0425411, &quot;ref&quot;: 10123024112, &quot;role&quot;: &quot;platform&quot;, &quot;type&quot;: &quot;node&quot;}, &quot;type&quot;: &quot;Feature&quot;}, {&quot;bbox&quot;: [46.0408607, 51.5389449, 46.0408607, 51.5389449], &quot;geometry&quot;: {&quot;coordinates&quot;: [46.0408607, 51.5389449], &quot;type&quot;: &quot;Point&quot;}, &quot;id&quot;: &quot;16&quot;, &quot;properties&quot;: {&quot;__folium_color&quot;: &quot;red&quot;, &quot;index&quot;: 16, &quot;lat&quot;: 51.5389449, &quot;lon&quot;: 46.0408607, &quot;ref&quot;: 5214139051, &quot;role&quot;: &quot;platform&quot;, &quot;type&quot;: &quot;node&quot;}, &quot;type&quot;: &quot;Feature&quot;}, {&quot;bbox&quot;: [46.0380649, 51.535132, 46.0380649, 51.535132], &quot;geometry&quot;: {&quot;coordinates&quot;: [46.0380649, 51.535132], &quot;type&quot;: &quot;Point&quot;}, &quot;id&quot;: &quot;17&quot;, &quot;properties&quot;: {&quot;__folium_color&quot;: &quot;red&quot;, &quot;index&quot;: 17, &quot;lat&quot;: 51.535132, &quot;lon&quot;: 46.0380649, &quot;ref&quot;: 2402099906, &quot;role&quot;: &quot;platform&quot;, &quot;type&quot;: &quot;node&quot;}, &quot;type&quot;: &quot;Feature&quot;}, {&quot;bbox&quot;: [46.0336115, 51.536169, 46.0336115, 51.536169], &quot;geometry&quot;: {&quot;coordinates&quot;: [46.0336115, 51.536169], &quot;type&quot;: &quot;Point&quot;}, &quot;id&quot;: &quot;18&quot;, &quot;properties&quot;: {&quot;__folium_color&quot;: &quot;red&quot;, &quot;index&quot;: 18, &quot;lat&quot;: 51.536169, &quot;lon&quot;: 46.0336115, &quot;ref&quot;: 2402099904, &quot;role&quot;: &quot;platform&quot;, &quot;type&quot;: &quot;node&quot;}, &quot;type&quot;: &quot;Feature&quot;}, {&quot;bbox&quot;: [46.0280062, 51.5374549, 46.0280062, 51.5374549], &quot;geometry&quot;: {&quot;coordinates&quot;: [46.0280062, 51.5374549], &quot;type&quot;: &quot;Point&quot;}, &quot;id&quot;: &quot;19&quot;, &quot;properties&quot;: {&quot;__folium_color&quot;: &quot;red&quot;, &quot;index&quot;: 19, &quot;lat&quot;: 51.5374549, &quot;lon&quot;: 46.0280062, &quot;ref&quot;: 10128284509, &quot;role&quot;: &quot;platform&quot;, &quot;type&quot;: &quot;node&quot;}, &quot;type&quot;: &quot;Feature&quot;}, {&quot;bbox&quot;: [46.0236543, 51.5384763, 46.0236543, 51.5384763], &quot;geometry&quot;: {&quot;coordinates&quot;: [46.0236543, 51.5384763], &quot;type&quot;: &quot;Point&quot;}, &quot;id&quot;: &quot;20&quot;, &quot;properties&quot;: {&quot;__folium_color&quot;: &quot;red&quot;, &quot;index&quot;: 20, &quot;lat&quot;: 51.5384763, &quot;lon&quot;: 46.0236543, &quot;ref&quot;: 10128289221, &quot;role&quot;: &quot;platform&quot;, &quot;type&quot;: &quot;node&quot;}, &quot;type&quot;: &quot;Feature&quot;}, {&quot;bbox&quot;: [46.0194346, 51.5394216, 46.0194346, 51.5394216], &quot;geometry&quot;: {&quot;coordinates&quot;: [46.0194346, 51.5394216], &quot;type&quot;: &quot;Point&quot;}, &quot;id&quot;: &quot;21&quot;, &quot;properties&quot;: {&quot;__folium_color&quot;: &quot;red&quot;, &quot;index&quot;: 21, &quot;lat&quot;: 51.5394216, &quot;lon&quot;: 46.0194346, &quot;ref&quot;: 2402099910, &quot;role&quot;: &quot;platform&quot;, &quot;type&quot;: &quot;node&quot;}, &quot;type&quot;: &quot;Feature&quot;}, {&quot;bbox&quot;: [46.0137328, 51.5406999, 46.0137328, 51.5406999], &quot;geometry&quot;: {&quot;coordinates&quot;: [46.0137328, 51.5406999], &quot;type&quot;: &quot;Point&quot;}, &quot;id&quot;: &quot;22&quot;, &quot;properties&quot;: {&quot;__folium_color&quot;: &quot;red&quot;, &quot;index&quot;: 22, &quot;lat&quot;: 51.5406999, &quot;lon&quot;: 46.0137328, &quot;ref&quot;: 2402099903, &quot;role&quot;: &quot;platform&quot;, &quot;type&quot;: &quot;node&quot;}, &quot;type&quot;: &quot;Feature&quot;}, {&quot;bbox&quot;: [46.0067403, 51.5422649, 46.0067403, 51.5422649], &quot;geometry&quot;: {&quot;coordinates&quot;: [46.0067403, 51.5422649], &quot;type&quot;: &quot;Point&quot;}, &quot;id&quot;: &quot;23&quot;, &quot;properties&quot;: {&quot;__folium_color&quot;: &quot;red&quot;, &quot;index&quot;: 23, &quot;lat&quot;: 51.5422649, &quot;lon&quot;: 46.0067403, &quot;ref&quot;: 10189447349, &quot;role&quot;: &quot;platform&quot;, &quot;type&quot;: &quot;node&quot;}, &quot;type&quot;: &quot;Feature&quot;}, {&quot;bbox&quot;: [46.0009092, 51.5404958, 46.0009092, 51.5404958], &quot;geometry&quot;: {&quot;coordinates&quot;: [46.0009092, 51.5404958], &quot;type&quot;: &quot;Point&quot;}, &quot;id&quot;: &quot;24&quot;, &quot;properties&quot;: {&quot;__folium_color&quot;: &quot;red&quot;, &quot;index&quot;: 24, &quot;lat&quot;: 51.5404958, &quot;lon&quot;: 46.0009092, &quot;ref&quot;: 10125033219, &quot;role&quot;: &quot;platform_exit_only&quot;, &quot;type&quot;: &quot;node&quot;}, &quot;type&quot;: &quot;Feature&quot;}], &quot;type&quot;: &quot;FeatureCollection&quot;});\n\n        \n    \n    geo_json_9fca118ce6c71164deae2bf23f5bade1.bindTooltip(\n    function(layer){\n    let div = L.DomUtil.create(&#x27;div&#x27;);\n    \n    let handleObject = feature=&gt;typeof(feature)==&#x27;object&#x27; ? JSON.stringify(feature) : feature;\n    let fields = [&quot;index&quot;, &quot;type&quot;, &quot;ref&quot;, &quot;role&quot;, &quot;lat&quot;, &quot;lon&quot;];\n    let aliases = [&quot;index&quot;, &quot;type&quot;, &quot;ref&quot;, &quot;role&quot;, &quot;lat&quot;, &quot;lon&quot;];\n    let table = &#x27;&lt;table&gt;&#x27; +\n        String(\n        fields.map(\n        (v,i)=&gt;\n        `&lt;tr&gt;\n            &lt;th&gt;${aliases[i]}&lt;/th&gt;\n            \n            &lt;td&gt;${handleObject(layer.feature.properties[v])}&lt;/td&gt;\n        &lt;/tr&gt;`).join(&#x27;&#x27;))\n    +&#x27;&lt;/table&gt;&#x27;;\n    div.innerHTML=table;\n    \n    return div\n    }\n    ,{&quot;className&quot;: &quot;foliumtooltip&quot;, &quot;sticky&quot;: true});\n                     \n    \n            geo_json_9fca118ce6c71164deae2bf23f5bade1.addTo(map_88f7610c9809bcdc4194f6abd7767d55);\n        \n&lt;/script&gt;\n&lt;/html&gt;\" style=\"position:absolute;width:100%;height:100%;left:0;top:0;border:none !important;\" allowfullscreen webkitallowfullscreen mozallowfullscreen></iframe></div></div>"
     },
     "execution_count": 100,
     "metadata": {},
     "output_type": "execute_result"
    }
   ],
   "source": [
    "\n",
    "m1 = gpd.GeoDataFrame(geometry=[LineString(x) for x in data_geom.iloc[1]['way']], crs=4326).reset_index().explore()\n",
    "gpd.GeoDataFrame(data_geom.iloc[1]['platforms'], crs=4326).reset_index().explore(m=m1, color='red')"
   ],
   "metadata": {
    "collapsed": false,
    "ExecuteTime": {
     "end_time": "2024-07-15T18:11:50.940890300Z",
     "start_time": "2024-07-15T18:11:50.901062300Z"
    }
   },
   "id": "def748b5b55141ed"
  },
  {
   "cell_type": "code",
   "execution_count": null,
   "outputs": [],
   "source": [
    "test = pd.DataFrame(data_osm.iloc[2]['members'])\n",
    "test = test[(test['type'] == 'node') & (test['role'].isin(['platform_entry_only', 'platform', 'platform_exit_only']))]\n",
    "test['geometry'] = test.apply(lambda x: (Point(x[\"lon\"], x[\"lat\"])), axis=1)\n",
    "test.reset_index(drop=True, inplace=True)\n",
    "gdf = gpd.GeoDataFrame(test.reset_index(), crs=4326)\n",
    "gdf.geometry = gdf.geometry.buffer(0.0001)\n",
    "gdf.explore()"
   ],
   "metadata": {
    "collapsed": false
   },
   "id": "ad765dd9d2d0e377"
  },
  {
   "cell_type": "code",
   "execution_count": null,
   "outputs": [],
   "source": [
    "test = pd.DataFrame(data_osm.iloc[1]['members'])\n",
    "test = test[test['type'] == 'way']\n",
    "test = test[\"geometry\"]\n",
    "test = test.apply(lambda x: ([(coords[\"lon\"], coords[\"lat\"]) for coords in x]))\n",
    "# gdf = gpd.GeoDataFrame(test.reset_index(),geometry='geometry',crs=4326)\n",
    "# gdf.geometry = gdf.geometry.buffer(0.0001)\n",
    "# gdf.explore()\n",
    "test"
   ],
   "metadata": {
    "collapsed": false
   },
   "id": "2bf1a4227053f93a"
  },
  {
   "cell_type": "code",
   "execution_count": null,
   "outputs": [],
   "source": [
    "test"
   ],
   "metadata": {
    "collapsed": false
   },
   "id": "f1efd44c9e1c772b"
  },
  {
   "cell_type": "markdown",
   "source": [
    "#### ПОПЫТКА СОЕДИНЯТЬ ДОРОГИ "
   ],
   "metadata": {
    "collapsed": false
   },
   "id": "be63856c89c2f05e"
  },
  {
   "cell_type": "code",
   "execution_count": null,
   "outputs": [],
   "source": [
    "from scipy.spatial import cKDTree\n",
    "from shapely import LineString, Point\n",
    "import geopandas as gpd\n",
    "\n",
    "PLATFORM_ROLES = []\n",
    "\n",
    "\n",
    "def parse_overpass_route_response(loc: dict):\n",
    "    if 'ref' in loc['tags'].keys():\n",
    "        transport_name = loc['tags']['ref']\n",
    "    else:\n",
    "        transport_name = loc['tags']['name']\n",
    "    route = pd.DataFrame(loc[\"members\"])\n",
    "\n",
    "    ways = route[route[\"type\"] == \"way\"]\n",
    "\n",
    "    if len(ways) > 0:\n",
    "        ways = ways[\"geometry\"].reset_index(drop=True)\n",
    "        ways = ways.apply(lambda x: ([(coords[\"lon\"], coords[\"lat\"]) for coords in x])).tolist()\n",
    "        if ways[0][0] == ways[1][0] or ways[0][0] == ways[1][-1]:\n",
    "            complete_line = ways[0][::-1]\n",
    "        else:\n",
    "            complete_line = ways[0]\n",
    "        for coords in ways[1:]:\n",
    "            if complete_line[-1] == coords[0]:\n",
    "                complete_line += coords[1:]\n",
    "            elif complete_line[-1] == coords[-1]:\n",
    "                complete_line += coords[::-1][1:]\n",
    "            else:\n",
    "                if coords[0] == coords[-1]:\n",
    "                    continue\n",
    "                else:\n",
    "                    tree = cKDTree([coords[0], coords[-1]])\n",
    "                    _, ind = tree.query(complete_line[-1])\n",
    "                    if ind == 1:\n",
    "                        coords = coords[::-1]\n",
    "                    complete_line += coords\n",
    "        # print('^^^^^^^^^^')\n",
    "\n",
    "    else:\n",
    "        complete_line = None\n",
    "    if \"node\" in route[\"type\"].unique():\n",
    "        platforms = route[(route[\"type\"] == \"node\")].apply(lambda x: Point(x[\"lon\"], x[\"lat\"]), axis=1)\n",
    "    else:\n",
    "        platforms = None\n",
    "\n",
    "    return pd.Series({\"way\": complete_line, \"platforms\": platforms, 'name': transport_name})\n",
    "\n",
    "\n",
    "data_geom = data_osm.apply(parse_overpass_route_response, axis=1, result_type='expand')\n",
    "data_geom"
   ],
   "metadata": {
    "collapsed": false
   },
   "id": "30f423107fc5439"
  },
  {
   "cell_type": "code",
   "execution_count": null,
   "outputs": [],
   "source": [],
   "metadata": {
    "collapsed": false
   },
   "id": "8a96c7f22da5ce7d"
  },
  {
   "cell_type": "code",
   "execution_count": null,
   "outputs": [],
   "source": [
    "test = [LineString(\n",
    "    [(46.0046822, 51.5426408), (46.0046214, 51.5425402), (46.0042506, 51.541918), (46.0038134, 51.5411845),\n",
    "     (46.0036437, 51.5408997), (46.0035859, 51.5408011), (46.0035352, 51.5407158), (46.0031053, 51.5399929),\n",
    "     (46.0028598, 51.5395801), (46.0026303, 51.5391941), (46.0025706, 51.5390938), (46.0023997, 51.5391331),\n",
    "     (46.00211, 51.5391985), (46.0019414, 51.5392372), (46.0008809, 51.5394906), (46.00081, 51.5395332),\n",
    "     (46.000665, 51.5396234), (46.0006024, 51.5396705), (46.0005255, 51.5397869), (46.000459, 51.5399285),\n",
    "     (46.0005332, 51.54006), (46.0007185, 51.5403886), (46.0008003, 51.5405164), (46.0008441, 51.5405848)]), LineString(\n",
    "    [(46.0046822, 51.5426408), (46.0048226, 51.5426046), (46.0048853, 51.5425884), (46.0065015, 51.5422214),\n",
    "     (46.0067008, 51.5421762), (46.007038, 51.5420996), (46.0071807, 51.5420672)]), Point(46.0046822, 51.5426408)]\n",
    "\n",
    "gpd.GeoDataFrame(geometry=test, crs=4326).explore()"
   ],
   "metadata": {
    "collapsed": false
   },
   "id": "644eecaf69135bed"
  },
  {
   "cell_type": "code",
   "execution_count": null,
   "outputs": [],
   "source": [
    "gpd.GeoDataFrame(geometry=data_geom['way'].apply(LineString), crs=4326).reset_index().explore(column='index')"
   ],
   "metadata": {
    "collapsed": false
   },
   "id": "664065a99455656"
  },
  {
   "cell_type": "code",
   "execution_count": null,
   "outputs": [],
   "source": [
    "print(data_geom['way'].apply(LineString).iloc[1])"
   ],
   "metadata": {
    "collapsed": false
   },
   "id": "62b733c1fde4e799"
  },
  {
   "cell_type": "code",
   "execution_count": null,
   "outputs": [],
   "source": [
    "data_geom.iloc[16]['way']"
   ],
   "metadata": {
    "collapsed": false
   },
   "id": "4c9a8fc4dd48026b"
  },
  {
   "cell_type": "code",
   "execution_count": null,
   "outputs": [],
   "source": [
    "ways = data_geom.iloc[16]['way']\n",
    "ways = ways[\"geometry\"].reset_index(drop=True)\n",
    "lines = ways.apply(lambda x: ([(coords[\"lon\"], coords[\"lat\"]) for coords in x])).tolist()\n",
    "if lines[0][0] == lines[1][0]:\n",
    "    complete_line = lines[0][::-1]\n",
    "else:\n",
    "    complete_line = lines[0]\n",
    "for coords in lines[1:]:\n",
    "    if complete_line[-1] == coords[0]:\n",
    "        complete_line += coords[1:]\n",
    "    elif complete_line[-1] == coords[-1]:\n",
    "        complete_line += coords[::-1][1:]\n",
    "    else:\n",
    "        print('\\n\\nWTF\\n\\n')\n",
    "\n"
   ],
   "metadata": {
    "collapsed": false
   },
   "id": "8395e7884a6e5c60"
  },
  {
   "cell_type": "code",
   "execution_count": null,
   "outputs": [],
   "source": [
    "gpd.GeoDataFrame(geometry=[LineString(complete_line)], crs=4326).explore()"
   ],
   "metadata": {
    "collapsed": false
   },
   "id": "cc5af2e4f5118d14"
  },
  {
   "cell_type": "code",
   "execution_count": null,
   "outputs": [],
   "source": [
    "\n",
    "from shapely import MultiPoint\n",
    "\n",
    "gpd.GeoDataFrame(data=[{'kek': i} for i in data_geom.index.tolist()],\n",
    "                 geometry=data_geom['platforms'].apply(lambda x: MultiPoint(x)), crs=4326).explore(column='kek')"
   ],
   "metadata": {
    "collapsed": false
   },
   "id": "fbddc31159b0cff8"
  },
  {
   "cell_type": "code",
   "execution_count": null,
   "outputs": [],
   "source": [
    "\n",
    "data_geom.index.tolist()"
   ],
   "metadata": {
    "collapsed": false
   },
   "id": "3a0f48a874028657"
  },
  {
   "cell_type": "code",
   "execution_count": null,
   "outputs": [],
   "source": [],
   "metadata": {
    "collapsed": false
   },
   "id": "bd9bdc347e824f2"
  }
 ],
 "metadata": {
  "kernelspec": {
   "display_name": "Python 3",
   "language": "python",
   "name": "python3"
  },
  "language_info": {
   "codemirror_mode": {
    "name": "ipython",
    "version": 2
   },
   "file_extension": ".py",
   "mimetype": "text/x-python",
   "name": "python",
   "nbconvert_exporter": "python",
   "pygments_lexer": "ipython2",
   "version": "2.7.6"
  }
 },
 "nbformat": 4,
 "nbformat_minor": 5
}
