{
 "cells": [
  {
   "cell_type": "code",
   "execution_count": 1,
   "outputs": [],
   "source": [
    "import math\n",
    "import os\n",
    "import geopandas as gpd\n",
    "import networkx as nx\n",
    "import numpy as np\n",
    "import pandas as pd\n",
    "import requests\n",
    "\n",
    "\n",
    "def get_routes(osm_id: int, public_transport_type: str):\n",
    "    overpass_url = os.environ.get(\"OVERPASS_URL\", \"http://lz4.overpass-api.de/api/interpreter\")\n",
    "    overpass_query = f\"\"\"\n",
    "    [out:json];\n",
    "            (\n",
    "                relation({osm_id});\n",
    "            );map_to_area;\n",
    "            (\n",
    "                relation(area)['route'='{public_transport_type}'];\n",
    "            );\n",
    "    out geom;\n",
    "    \"\"\"\n",
    "    result = requests.get(overpass_url, params={\"data\": overpass_query})\n",
    "    json_result = result.json()[\"elements\"]\n",
    "\n",
    "    return pd.DataFrame(json_result)"
   ],
   "metadata": {
    "collapsed": false,
    "ExecuteTime": {
     "end_time": "2024-07-20T18:03:10.968422Z",
     "start_time": "2024-07-20T18:03:09.006096200Z"
    }
   },
   "id": "e8046bf2387f5f03"
  },
  {
   "cell_type": "code",
   "execution_count": 2,
   "outputs": [],
   "source": [
    "osm_id = 3955288\n",
    "transport_type = \"bus\"\n",
    "data_osm = get_routes(osm_id, transport_type)"
   ],
   "metadata": {
    "collapsed": false,
    "ExecuteTime": {
     "end_time": "2024-07-20T18:03:12.084627200Z",
     "start_time": "2024-07-20T18:03:10.969922Z"
    }
   },
   "id": "990965d18e3bb75a"
  },
  {
   "cell_type": "code",
   "execution_count": 3,
   "outputs": [],
   "source": [
    "from pyproj import CRS\n",
    "from pyproj.aoi import AreaOfInterest\n",
    "from pyproj.database import query_utm_crs_info\n",
    "\n",
    "\n",
    "def find_bounds(bounds):\n",
    "    df_expanded = pd.json_normalize(bounds)\n",
    "    min_lat = df_expanded['minlat'].min()\n",
    "    min_lon = df_expanded['minlon'].min()\n",
    "    max_lat = df_expanded['maxlat'].max()\n",
    "    max_lon = df_expanded['maxlon'].max()\n",
    "    return min_lat, min_lon, max_lat, max_lon\n",
    "\n",
    "\n",
    "def estimate_crs_for_overpass(bounds):\n",
    "    min_lat, min_lon, max_lat, max_lon = find_bounds(bounds)\n",
    "    utm_crs_list = query_utm_crs_info(\n",
    "        datum_name=\"WGS 84\",\n",
    "        area_of_interest=AreaOfInterest(\n",
    "            west_lon_degree=min_lon,\n",
    "            south_lat_degree=min_lat,\n",
    "            east_lon_degree=max_lon,\n",
    "            north_lat_degree=max_lat,\n",
    "        ),\n",
    "    )\n",
    "    return CRS.from_epsg(utm_crs_list[0].code)\n",
    "\n",
    "\n",
    "local_crs = estimate_crs_for_overpass(data_osm['bounds'])"
   ],
   "metadata": {
    "collapsed": false,
    "ExecuteTime": {
     "end_time": "2024-07-20T18:03:16.729577100Z",
     "start_time": "2024-07-20T18:03:16.681316700Z"
    }
   },
   "id": "2c9435d27d793634"
  },
  {
   "cell_type": "code",
   "execution_count": 118,
   "outputs": [],
   "source": [
    "from scipy.spatial.distance import cdist\n",
    "from shapely.geometry import Point\n",
    "from pyproj import Transformer\n",
    "from shapely.geometry import LineString\n",
    "\n",
    "\n",
    "def _link_unconnected(connected_ways, threshold):\n",
    "    # Считаем связи между линиями\n",
    "    connect_points = [point for coords in connected_ways for point in (coords[0], coords[-1])]\n",
    "    distances = cdist(connect_points, connect_points)\n",
    "    n = distances.shape[0]\n",
    "    mask = (np.arange(n)[:, None] // 2) == (np.arange(n) // 2)\n",
    "    distances[mask] = np.inf\n",
    "    indexes = []\n",
    "    for i in range(len(connected_ways) - 1):\n",
    "        min_index = np.unravel_index(np.argmin(distances), distances.shape)\n",
    "        if (distances[min_index] > threshold):\n",
    "            way_inds = [way_ind for x in indexes for way_ind in (x[0] // 2, x[1] // 2)]\n",
    "            return _link_unconnected([way for i, way in enumerate(connected_ways) if i in way_inds], threshold)\n",
    "        distances[min_index[0], :] = np.inf\n",
    "        distances[min_index[1], :] = np.inf\n",
    "        distances[:, min_index[0]] = np.inf\n",
    "        distances[:, min_index[1]] = np.inf\n",
    "        indexes.append(min_index)\n",
    "\n",
    "    # Определяем \"начальную линию\"\n",
    "    way_inds = [way_ind for x in indexes for way_ind in (x[0] // 2, x[1] // 2)]\n",
    "    first = next((elem for elem in way_inds if way_inds.count(elem) == 1))\n",
    "\n",
    "    find_ind = first * 2, first * 2 + 1\n",
    "    new_connected_ways = None\n",
    "\n",
    "    # Соединяем воедино\n",
    "    for i in range(len(connected_ways) - 1):\n",
    "        index = next((i for i, t in enumerate(indexes) if (find_ind[0] in t or find_ind[1] in t)))\n",
    "        connection = indexes.pop(index)\n",
    "        if new_connected_ways is None:\n",
    "            first = next((x for x in connection if x in find_ind))\n",
    "            if first % 2 != 0:\n",
    "                new_connected_ways = connected_ways[first // 2]\n",
    "            else:\n",
    "                new_connected_ways = connected_ways[first // 2][::-1]\n",
    "\n",
    "        next_line = next(x for x in connection if x not in find_ind)\n",
    "        find_ind = (next_line, next_line + 1) if next_line % 2 == 0 else (next_line, next_line - 1)\n",
    "\n",
    "        if next_line % 2 == 0:\n",
    "            new_connected_ways += connected_ways[next_line // 2]\n",
    "        else:\n",
    "\n",
    "            new_connected_ways += connected_ways[next_line // 2][::-1]\n",
    "    return new_connected_ways\n",
    "\n",
    "\n",
    "PLATFORM_ROLES = ['platform_entry_only', 'platform', 'platform_exit_only']\n",
    "\n",
    "STOPS_ROLES = ['stop', 'stop_exit_only', 'stop_entry_only']\n",
    "\n",
    "\n",
    "def parse_overpass_route_response(loc: dict, crs: CRS):\n",
    "    transformer = Transformer.from_crs('EPSG:4326', crs, always_xy=True)\n",
    "\n",
    "    def transform_geometry(loc):\n",
    "        if isinstance(loc['geometry'], float):\n",
    "            return transformer.transform(loc[\"lon\"], loc[\"lat\"])\n",
    "        else:\n",
    "            p = LineString([transformer.transform(coords[\"lon\"], coords[\"lat\"]) for coords in loc['geometry']]).centroid\n",
    "            return p.x, p.y\n",
    "\n",
    "    def process_roles(route, roles):\n",
    "        filtered = route[route['role'].isin(roles)]\n",
    "        if len(filtered) == 0:\n",
    "            return None\n",
    "        else:\n",
    "            return filtered.apply(transform_geometry, axis=1).tolist()\n",
    "\n",
    "    if 'ref' in loc['tags'].keys():\n",
    "        transport_name = loc['tags']['ref']\n",
    "    elif 'name' in loc['tags'].keys():\n",
    "        transport_name = loc['tags']['name']\n",
    "    else:\n",
    "        transport_name = None\n",
    "\n",
    "    route = pd.DataFrame(loc[\"members\"])\n",
    "\n",
    "    platforms = process_roles(route, PLATFORM_ROLES)\n",
    "    stops = process_roles(route, STOPS_ROLES)\n",
    "\n",
    "    ways = route[(route[\"type\"] == \"way\") & (route[\"role\"] == '')]\n",
    "\n",
    "    if len(ways) > 0:\n",
    "        ways = ways[\"geometry\"].reset_index(drop=True)\n",
    "        ways = ways.apply(lambda x: ([transformer.transform(coords[\"lon\"], coords[\"lat\"]) for coords in x])).tolist()\n",
    "\n",
    "        connected_ways = [[]]\n",
    "        cur_way = 0\n",
    "        for coords in ways:\n",
    "            # Соединяем маршруты, если всё ок, идут без пропусков\n",
    "            if not connected_ways[cur_way]:\n",
    "                connected_ways[cur_way] += coords\n",
    "                continue\n",
    "\n",
    "            if coords[0] == coords[\n",
    "                -1]:  # Круговое движение зацикленное зачастую в осм, можно отработать, но сходу не придумал\n",
    "                continue\n",
    "            if connected_ways[cur_way][-1] == coords[0]:\n",
    "                connected_ways[cur_way] += coords[1:]\n",
    "            elif connected_ways[cur_way][-1] == coords[-1]:\n",
    "                connected_ways[cur_way] += coords[::-1][1:]\n",
    "            elif connected_ways[cur_way][0] == coords[0]:\n",
    "                connected_ways[cur_way] = coords[1:][::-1] + connected_ways[cur_way]\n",
    "            elif connected_ways[cur_way][0] == coords[-1]:\n",
    "                connected_ways[cur_way] = coords + connected_ways[cur_way][1:]\n",
    "            # Случай если нету соединяющей координаты\n",
    "            else:\n",
    "                connected_ways += [coords]\n",
    "                cur_way += 1\n",
    "        # Соединяем линии по ближайшим точкам этих линий\n",
    "        if len(connected_ways) > 1:\n",
    "            # Check if any loops in data and remove it\n",
    "            to_del = [i for i, data in enumerate(connected_ways) if (data[0] == data[-1])]\n",
    "            connected_ways = [i for j, i in enumerate(connected_ways) if j not in to_del]\n",
    "        if len(connected_ways) > 1:\n",
    "            connected_ways = _link_unconnected(connected_ways, threshold=500)\n",
    "        else:\n",
    "            connected_ways = connected_ways[0]\n",
    "\n",
    "    else:\n",
    "        connected_ways = None\n",
    "\n",
    "    return pd.Series({\"path\": connected_ways, \"platforms\": platforms, 'stops': stops, 'route': transport_name})\n",
    "\n",
    "\n",
    "data_geom = data_osm.apply(parse_overpass_route_response, crs=local_crs, axis=1, result_type='expand')"
   ],
   "metadata": {
    "collapsed": false,
    "ExecuteTime": {
     "end_time": "2024-07-20T20:40:15.476468Z",
     "start_time": "2024-07-20T20:40:14.858986400Z"
    }
   },
   "id": "a54a08d5549c81be"
  },
  {
   "cell_type": "code",
   "execution_count": 5,
   "outputs": [
    {
     "data": {
      "text/plain": "                                                  path  \\\n0    [(573167.226773262, 5709102.515272315), (57315...   \n1    [(583305.7486904085, 5717432.996648739), (5832...   \n2    [(572050.1631534, 5709897.964580006), (572062....   \n3    [(562486.6447358229, 5719755.903502531), (5624...   \n4    [(562486.6447358229, 5719755.903502531), (5624...   \n..                                                 ...   \n124  [(566528.2117245977, 5709778.967564844), (5665...   \n125  [(569962.7027557779, 5718402.66652182), (56997...   \n126  [(562821.2167004385, 5701695.270972258), (5628...   \n127  [(565901.7284342214, 5706445.924593574), (5658...   \n128  [(569155.4468283707, 5710652.892653334), (5691...   \n\n                                             platforms  \\\n0    [(573158.8361189119, 5709109.126602308), (5729...   \n1                                                 None   \n2                                                 None   \n3    [(567222.9865535706, 5714783.590539188), (5668...   \n4    [(562483.5053133175, 5719749.595166137), (5623...   \n..                                                 ...   \n124  [(566521.9445008221, 5709777.161708197), (5669...   \n125  [(569963.3304429484, 5718395.205321715), (5702...   \n126                                               None   \n127                                               None   \n128  [(569162.2426187, 5710647.902032759), (567358....   \n\n                                                 stops  \\\n0    [(573167.226773262, 5709102.515272315), (57295...   \n1             [(583333.0860446263, 5717448.018988734)]   \n2             [(583333.0860446263, 5717448.018988734)]   \n3    [(567230.7701324566, 5714787.687000744), (5668...   \n4    [(562486.6447358229, 5719755.903502531), (5623...   \n..                                                 ...   \n124  [(566528.2117245977, 5709778.967564844), (5669...   \n125  [(569962.7027557779, 5718402.66652182), (57020...   \n126                                               None   \n127                                               None   \n128  [(569155.4468283707, 5710652.892653334), (5673...   \n\n                                                route  \n0                                                  33  \n1    Автобус 236: посёлок Пристанное - улица Радищева  \n2    Автобус 236: улица Радищева - посёлок Пристанное  \n3                                                  35  \n4                                                  35  \n..                                                ...  \n124                                                67  \n125                                                67  \n126                                                17  \n127                                                17  \n128                                             101 Э  \n\n[129 rows x 4 columns]",
      "text/html": "<div>\n<style scoped>\n    .dataframe tbody tr th:only-of-type {\n        vertical-align: middle;\n    }\n\n    .dataframe tbody tr th {\n        vertical-align: top;\n    }\n\n    .dataframe thead th {\n        text-align: right;\n    }\n</style>\n<table border=\"1\" class=\"dataframe\">\n  <thead>\n    <tr style=\"text-align: right;\">\n      <th></th>\n      <th>path</th>\n      <th>platforms</th>\n      <th>stops</th>\n      <th>route</th>\n    </tr>\n  </thead>\n  <tbody>\n    <tr>\n      <th>0</th>\n      <td>[(573167.226773262, 5709102.515272315), (57315...</td>\n      <td>[(573158.8361189119, 5709109.126602308), (5729...</td>\n      <td>[(573167.226773262, 5709102.515272315), (57295...</td>\n      <td>33</td>\n    </tr>\n    <tr>\n      <th>1</th>\n      <td>[(583305.7486904085, 5717432.996648739), (5832...</td>\n      <td>None</td>\n      <td>[(583333.0860446263, 5717448.018988734)]</td>\n      <td>Автобус 236: посёлок Пристанное - улица Радищева</td>\n    </tr>\n    <tr>\n      <th>2</th>\n      <td>[(572050.1631534, 5709897.964580006), (572062....</td>\n      <td>None</td>\n      <td>[(583333.0860446263, 5717448.018988734)]</td>\n      <td>Автобус 236: улица Радищева - посёлок Пристанное</td>\n    </tr>\n    <tr>\n      <th>3</th>\n      <td>[(562486.6447358229, 5719755.903502531), (5624...</td>\n      <td>[(567222.9865535706, 5714783.590539188), (5668...</td>\n      <td>[(567230.7701324566, 5714787.687000744), (5668...</td>\n      <td>35</td>\n    </tr>\n    <tr>\n      <th>4</th>\n      <td>[(562486.6447358229, 5719755.903502531), (5624...</td>\n      <td>[(562483.5053133175, 5719749.595166137), (5623...</td>\n      <td>[(562486.6447358229, 5719755.903502531), (5623...</td>\n      <td>35</td>\n    </tr>\n    <tr>\n      <th>...</th>\n      <td>...</td>\n      <td>...</td>\n      <td>...</td>\n      <td>...</td>\n    </tr>\n    <tr>\n      <th>124</th>\n      <td>[(566528.2117245977, 5709778.967564844), (5665...</td>\n      <td>[(566521.9445008221, 5709777.161708197), (5669...</td>\n      <td>[(566528.2117245977, 5709778.967564844), (5669...</td>\n      <td>67</td>\n    </tr>\n    <tr>\n      <th>125</th>\n      <td>[(569962.7027557779, 5718402.66652182), (56997...</td>\n      <td>[(569963.3304429484, 5718395.205321715), (5702...</td>\n      <td>[(569962.7027557779, 5718402.66652182), (57020...</td>\n      <td>67</td>\n    </tr>\n    <tr>\n      <th>126</th>\n      <td>[(562821.2167004385, 5701695.270972258), (5628...</td>\n      <td>None</td>\n      <td>None</td>\n      <td>17</td>\n    </tr>\n    <tr>\n      <th>127</th>\n      <td>[(565901.7284342214, 5706445.924593574), (5658...</td>\n      <td>None</td>\n      <td>None</td>\n      <td>17</td>\n    </tr>\n    <tr>\n      <th>128</th>\n      <td>[(569155.4468283707, 5710652.892653334), (5691...</td>\n      <td>[(569162.2426187, 5710647.902032759), (567358....</td>\n      <td>[(569155.4468283707, 5710652.892653334), (5673...</td>\n      <td>101 Э</td>\n    </tr>\n  </tbody>\n</table>\n<p>129 rows × 4 columns</p>\n</div>"
     },
     "execution_count": 5,
     "metadata": {},
     "output_type": "execute_result"
    }
   ],
   "source": [
    "data_geom"
   ],
   "metadata": {
    "collapsed": false,
    "ExecuteTime": {
     "end_time": "2024-07-20T18:03:50.964045100Z",
     "start_time": "2024-07-20T18:03:50.815385700Z"
    }
   },
   "id": "84f9dd80cceab07e"
  },
  {
   "cell_type": "code",
   "execution_count": 161,
   "outputs": [
    {
     "name": "stderr",
     "output_type": "stream",
     "text": [
      "D:\\Programs\\pypoetry\\Cache\\virtualenvs\\iduedu-0i5zgAqf-py3.10\\lib\\site-packages\\shapely\\linear.py:88: RuntimeWarning: invalid value encountered in line_locate_point\n",
      "  return lib.line_locate_point(line, other)\n"
     ]
    },
    {
     "data": {
      "text/plain": "0      (0, 1, 2, 3, 4, 5, 6, 7, 8, 9, 10, 11, 12, 13,...\n1                                           (0, 1, 2, 3)\n2                                     (0, 1, 2, 3, 4, 5)\n3      (0, 1, 2, 3, 4, 5, 6, 7, 8, 9, 10, 11, 12, 13,...\n4      (0, 1, 2, 3, 4, 5, 6, 7, 8, 9, 10, 11, 12, 13,...\n                             ...                        \n124    (0, 1, 2, 3, 4, 5, 6, 7, 8, 9, 10, 11, 12, 13,...\n125    (0, 1, 2, 3, 4, 5, 6, 7, 8, 9, 10, 11, 12, 13,...\n126                                         (0, 1, 2, 3)\n127                                         (0, 1, 2, 3)\n128               (0, 1, 2, 3, 4, 5, 6, 7, 8, 9, 10, 11)\nLength: 129, dtype: object"
     },
     "execution_count": 161,
     "metadata": {},
     "output_type": "execute_result"
    }
   ],
   "source": [
    "from shapely.ops import substring\n",
    "from networkx.classes import DiGraph\n",
    "from scipy.spatial import cKDTree\n",
    "\n",
    "\n",
    "def geometry_to_graph(loc):\n",
    "    graph = DiGraph()\n",
    "\n",
    "    node_id = 0\n",
    "    name = loc.route\n",
    "    res = []\n",
    "    last_dist = None\n",
    "    last_projected_stop_id = None\n",
    "    platforms = loc.platforms\n",
    "    stops = loc.stops\n",
    "    path = loc.path\n",
    "    transport_type = 'bus'\n",
    "\n",
    "    def offset_direction(point):\n",
    "        # 1 if left 0 if right для определения с какой стороны от линии точки\n",
    "        dist = path.project(point)\n",
    "\n",
    "        d1 = dist - 1 if dist - 1 > 0 else 0\n",
    "        d2 = dist + 1 if dist + 1 < path.length else path.length\n",
    "        line = substring(path, d1, d2)\n",
    "        x1, y1 = line.coords[0]\n",
    "        x2, y2 = line.coords[-1]\n",
    "        x, y = point.coords[0]\n",
    "\n",
    "        cross_product = (x2 - x1) * (y - y1) - (y2 - y1) * (x - x1)\n",
    "        if cross_product > 0:\n",
    "            return 1\n",
    "        elif cross_product < 0:\n",
    "            return 0\n",
    "\n",
    "    def offset_point(point, direction, distance=5):\n",
    "        # для размещения платформы по одну сторону от пути на расстоянии\n",
    "        dist = path.project(point)\n",
    "        d1 = dist - 1 if dist - 1 > 0 else 0\n",
    "        d2 = dist + 1.1 if dist + 1.1 < path.length else path.length\n",
    "        nearest_pt_on_line = path.interpolate(dist)\n",
    "        line = substring(path, d1, d2)\n",
    "\n",
    "        x1, y1 = line.coords[0]\n",
    "        x2, y2 = line.coords[-1]\n",
    "\n",
    "        dx, dy = x2 - x1, y2 - y1\n",
    "        length = math.sqrt(dx ** 2 + dy ** 2)\n",
    "        dx, dy = dx / length, dy / length\n",
    "\n",
    "        if direction == 0:  # Вправо\n",
    "            nx, ny = dy, -dx\n",
    "        else:  # Влево\n",
    "            nx, ny = -dy, dx\n",
    "\n",
    "        # Смещенная точка\n",
    "        offset_x = nearest_pt_on_line.x + nx * distance\n",
    "        offset_y = nearest_pt_on_line.y + ny * distance\n",
    "        return offset_x, offset_y\n",
    "\n",
    "    def add_node(desc, x, y, transport=None):\n",
    "        if not transport:\n",
    "            graph.add_node(node_id, x=x, y=y, desc=desc, route=name)\n",
    "        else:\n",
    "            graph.add_node(node_id, x=x, y=y, desc=desc, route=name, type=transport_type)\n",
    "\n",
    "    def add_edge(u, v, geometry=None, desc=None, transport=None):\n",
    "        if not transport:\n",
    "            graph.add_edge(u, v, geometry=geometry, desc=desc, route=name)\n",
    "        else:\n",
    "            graph.add_edge(u, v, geometry=geometry, route=name, type=transport_type)\n",
    "\n",
    "    def process_platform(platform):\n",
    "        nonlocal node_id, last_dist, last_projected_stop_id\n",
    "\n",
    "        dist = path.project(platform)\n",
    "        projected_stop = path.interpolate(dist)\n",
    "        platform_to_stop = LineString([platform, projected_stop])\n",
    "\n",
    "        add_node('stop', projected_stop.x, projected_stop.y, transport=True)\n",
    "        if last_dist:\n",
    "            cur_path = substring(path, last_dist, dist)\n",
    "            add_edge(last_projected_stop_id, node_id, geometry=cur_path, transport=True)\n",
    "        last_projected_stop_id = node_id\n",
    "\n",
    "        node_id += 1\n",
    "        add_node('platform', platform.x, platform.y)\n",
    "        add_edge(node_id - 1, node_id, desc='boarding', geometry=platform_to_stop)\n",
    "        add_edge(node_id, node_id - 1, desc='boarding', geometry=platform_to_stop)\n",
    "        node_id += 1\n",
    "        return dist, last_projected_stop_id, node_id\n",
    "\n",
    "    if not path:\n",
    "        print(\"no path\")\n",
    "        return None\n",
    "    path = LineString(path)\n",
    "\n",
    "    # Если нет платформ \n",
    "    if not platforms:\n",
    "        if not stops:  # Строим маршрут по пути начало - конец \n",
    "            platforms = [offset_point(path.interpolate(0), 1, 7), offset_point(path.interpolate(path.length), 1, 7)]\n",
    "        else:  # Если есть только остановки - превращаем их в платформы\n",
    "            platforms = [offset_point(Point(stop), 1, 7) for stop in stops] \n",
    "            stops = None\n",
    "\n",
    "    stops = [] if not stops else stops\n",
    "    \n",
    "    # Если остановок больше чем платформ - найти остановки без платформ и добавить новые платформы\n",
    "    if len(stops) > len(platforms):\n",
    "        stop_tree = cKDTree(stops)\n",
    "        distances, indices = stop_tree.query(platforms)\n",
    "        connection = [(platforms[platform], stop) for platform, stop in enumerate(indices)]\n",
    "        connection += [(-1, stop) for stop in set(range(len(stops))) ^ set(indices)]\n",
    "        connection.sort(key=lambda x: x[1])\n",
    "        direction = offset_direction(Point(platforms[len(platforms) // 2]))\n",
    "        stops_to_platforms = {stop: offset_point(Point(stops[stop]), direction, 7) for stop in\n",
    "                              set(range(len(stops))) ^ set(indices)}\n",
    "        platforms = [coord if (coord != -1) else (stops_to_platforms.get(ind)) for coord, ind in connection]\n",
    "        stops = []\n",
    "        \n",
    "    # Если получилось только одна платформа\n",
    "    if len(platforms) == 1:\n",
    "        platform = Point(platforms[0])\n",
    "        dist = path.project(platform)\n",
    "        if dist == path.length or dist == 0:  # Если платформа является конечной\n",
    "            platforms = [offset_point(path.interpolate(0), 1, 7), offset_point(path.interpolate(path.length), 1, 7)]\n",
    "        else:  # Если платформа не является конечной\n",
    "            platforms = [offset_point(path.interpolate(0), 1, 7), platform,\n",
    "                         offset_point(path.interpolate(path.length), 1, 7)]\n",
    "    platforms = [Point(coords) for coords in platforms]      \n",
    "    if len(platforms) >= len(stops):\n",
    "        for platform in platforms:\n",
    "            if not last_dist:\n",
    "                last_dist, last_projected_stop_id, node_id = process_platform(platform)\n",
    "                if last_dist > path.length / 2:\n",
    "                    path = path.reverse()\n",
    "                    last_dist = path.project(platform)\n",
    "            else:\n",
    "                last_dist, last_projected_stop_id, node_id = process_platform(platform)\n",
    "    return graph\n",
    "\n",
    "    # if not platforms or len(platforms)==1:\n",
    "    #     if stops:\n",
    "    #         \n",
    "    #     \n",
    "    #     if not stops:\n",
    "    #         if len(platforms)==1:\n",
    "    #             dist = path.project(platforms[0])\n",
    "    #             if dist == path.length or dist==0:\n",
    "    #                 stops=[]\n",
    "    #                 platforms=[path.interpolate(0),path.interpolate(path.length)]\n",
    "    #             else:\n",
    "    #                 stops=[]\n",
    "    #                 platforms+=[path.interpolate(0),path.interpolate(path.length)]\n",
    "    #     \n",
    "    # \n",
    "    # if len(platforms) >= len(stops):\n",
    "    #     for platform in platforms:\n",
    "    #         if not last_dist:\n",
    "    #             last_dist, last_projected_stop_id, node_id = process_platform(platform)\n",
    "    #             if last_dist > path.length / 2:\n",
    "    #                 path = path.reverse()\n",
    "    #                 last_dist = path.project(platform)\n",
    "    #         else:\n",
    "    #             last_dist, last_projected_stop_id, node_id = process_platform(platform)\n",
    "    # else:\n",
    "    #     print('something else')\n",
    "    #     print(len(stops),len(platforms))\n",
    "    #     return None\n",
    "    # return graph\n",
    "\n",
    "\n",
    "graphs = data_geom.apply(geometry_to_graph, axis=1)\n",
    "graphs"
   ],
   "metadata": {
    "collapsed": false,
    "ExecuteTime": {
     "end_time": "2024-07-20T22:25:17.745093900Z",
     "start_time": "2024-07-20T22:25:16.816103200Z"
    }
   },
   "id": "4842013d58777e4"
  },
  {
   "cell_type": "code",
   "execution_count": null,
   "outputs": [],
   "source": [
    "m1 = platforms.reset_index().explore()\n",
    "stops.reset_index().explore(m=m1, color='red')"
   ],
   "metadata": {
    "collapsed": false
   },
   "id": "5a12f872ae6fc5b2"
  },
  {
   "cell_type": "code",
   "execution_count": 163,
   "outputs": [],
   "source": [
    "graph = graphs[73]\n",
    "for i in graph.edges(data=True):\n",
    "    i[2]['geometry'] = (str(i[2]['geometry']))\n",
    "nx.write_gml(graph, 'test1.gml')"
   ],
   "metadata": {
    "collapsed": false,
    "ExecuteTime": {
     "end_time": "2024-07-20T22:41:41.471693300Z",
     "start_time": "2024-07-20T22:41:41.436269300Z"
    }
   },
   "id": "24b853235852d4d0"
  },
  {
   "cell_type": "code",
   "execution_count": 162,
   "outputs": [],
   "source": [
    "def merge_graphs(graph_list):\n",
    "    merged_graph = nx.DiGraph()\n",
    "\n",
    "    for idx, graph in enumerate(graph_list):\n",
    "        prefix = f'G{idx}_'\n",
    "\n",
    "        for node in graph.nodes(data=True):\n",
    "            new_node = prefix + str(node[0])\n",
    "            merged_graph.add_node(new_node, **node[1])\n",
    "\n",
    "        for edge in graph.edges(data=True):\n",
    "            new_edge = (prefix + str(edge[0]), prefix + str(edge[1]))\n",
    "            merged_graph.add_edge(*new_edge, **edge[2])\n",
    "\n",
    "    return merged_graph\n",
    "\n",
    "\n",
    "all_in = merge_graphs([graph for graph in graphs if graph])\n",
    "for i in all_in.edges(data=True):\n",
    "    i[2]['geometry'] = (str(i[2]['geometry']))\n",
    "nx.write_gml(all_in, 'test.gml')"
   ],
   "metadata": {
    "collapsed": false,
    "ExecuteTime": {
     "end_time": "2024-07-20T22:26:48.155644200Z",
     "start_time": "2024-07-20T22:26:47.872529100Z"
    }
   },
   "id": "b2df3a59bb2e44c4"
  },
  {
   "cell_type": "code",
   "execution_count": null,
   "outputs": [],
   "source": [
    "t = data_geom.iloc[3]\n",
    "platforms = gpd.GeoDataFrame(geometry=t['platforms'], crs=local_crs)\n",
    "stops = gpd.GeoDataFrame(geometry=t['stops'], crs=local_crs)\n",
    "\n",
    "connection = gpd.sjoin_nearest(platforms, stops)\n",
    "connection"
   ],
   "metadata": {
    "collapsed": false
   },
   "id": "d5bbca2af2040fe1"
  },
  {
   "cell_type": "code",
   "execution_count": null,
   "outputs": [],
   "source": [
    "from shapely.ops import substring\n",
    "\n",
    "line = LineString([(0, 0), (2, 2), (5, 5), (10, 0)])\n",
    "\n",
    "start_distance = 4\n",
    "end_distance = 6\n",
    "\n",
    "sub_line = substring(line, 4, 10)\n",
    "line"
   ],
   "metadata": {
    "collapsed": false
   },
   "id": "3c533d00bb4ae367"
  },
  {
   "cell_type": "code",
   "execution_count": null,
   "outputs": [],
   "source": [
    "m1 = gpd.GeoDataFrame(geometry=[LineString(x) for x in data_geom['path'].iloc[2:3]], crs=local_crs).explore()\n",
    "gpd.GeoDataFrame(geometry=graph_gdf.iloc[2], crs=local_crs).explore(m=m1, color='red')"
   ],
   "metadata": {
    "collapsed": false
   },
   "id": "30fbaae2877a3a66"
  },
  {
   "cell_type": "code",
   "execution_count": null,
   "outputs": [],
   "source": [],
   "metadata": {
    "collapsed": false
   },
   "id": "f61609647ddc3190"
  },
  {
   "cell_type": "code",
   "execution_count": null,
   "outputs": [],
   "source": [
    "from shapely import LineString\n",
    "import geopandas as gpd\n",
    "\n",
    "m1 = gpd.GeoDataFrame(geometry=[LineString(x) for x in data_geom['path']], crs=local_crs).reset_index().explore(\n",
    "    column='index', tiles='CartoDB positron')\n",
    "# gpd.GeoDataFrame(data_geom.iloc[1]['platforms'], crs=4326).reset_index().explore(m=m1, color='red')\n",
    "m1"
   ],
   "metadata": {
    "collapsed": false
   },
   "id": "def748b5b55141ed"
  },
  {
   "cell_type": "code",
   "execution_count": null,
   "outputs": [],
   "source": [
    "t = [(1, 6), (0, 3), (2, 5)]\n",
    "for i in range(3):\n"
   ],
   "metadata": {
    "collapsed": false
   },
   "id": "5b7a2ceef62ed8b2"
  },
  {
   "cell_type": "code",
   "execution_count": null,
   "outputs": [],
   "source": [
    "test = pd.DataFrame(data_osm.iloc[2]['members'])\n",
    "test = test[(test['type'] == 'node') & (test['role'].isin(['platform_entry_only', 'platform', 'platform_exit_only']))]\n",
    "test['geometry'] = test.apply(lambda x: (Point(x[\"lon\"], x[\"lat\"])), axis=1)\n",
    "test.reset_index(drop=True, inplace=True)\n",
    "gdf = gpd.GeoDataFrame(test.reset_index(), crs=4326)\n",
    "gdf.geometry = gdf.geometry.buffer(0.0001)\n",
    "gdf.explore()"
   ],
   "metadata": {
    "collapsed": false
   },
   "id": "ad765dd9d2d0e377"
  },
  {
   "cell_type": "code",
   "execution_count": null,
   "outputs": [],
   "source": [
    "test = pd.DataFrame(data_osm.iloc[1]['members'])\n",
    "test = test[test['type'] == 'way']\n",
    "test = test[\"geometry\"]\n",
    "test = test.apply(lambda x: ([(coords[\"lon\"], coords[\"lat\"]) for coords in x]))\n",
    "# gdf = gpd.GeoDataFrame(test.reset_index(),geometry='geometry',crs=4326)\n",
    "# gdf.geometry = gdf.geometry.buffer(0.0001)\n",
    "# gdf.explore()\n",
    "test"
   ],
   "metadata": {
    "collapsed": false
   },
   "id": "2bf1a4227053f93a"
  },
  {
   "cell_type": "code",
   "execution_count": null,
   "outputs": [],
   "source": [
    "test"
   ],
   "metadata": {
    "collapsed": false
   },
   "id": "f1efd44c9e1c772b"
  },
  {
   "cell_type": "markdown",
   "source": [
    "#### ПОПЫТКА СОЕДИНЯТЬ ДОРОГИ "
   ],
   "metadata": {
    "collapsed": false
   },
   "id": "be63856c89c2f05e"
  },
  {
   "cell_type": "code",
   "execution_count": null,
   "outputs": [],
   "source": [
    "from scipy.spatial import cKDTree\n",
    "from shapely import LineString, Point\n",
    "import geopandas as gpd\n",
    "\n",
    "PLATFORM_ROLES = []\n",
    "\n",
    "\n",
    "def parse_overpass_route_response(loc: dict):\n",
    "    if 'ref' in loc['tags'].keys():\n",
    "        transport_name = loc['tags']['ref']\n",
    "    else:\n",
    "        transport_name = loc['tags']['name']\n",
    "    route = pd.DataFrame(loc[\"members\"])\n",
    "\n",
    "    ways = route[route[\"type\"] == \"way\"]\n",
    "\n",
    "    if len(ways) > 0:\n",
    "        ways = ways[\"geometry\"].reset_index(drop=True)\n",
    "        ways = ways.apply(lambda x: ([(coords[\"lon\"], coords[\"lat\"]) for coords in x])).tolist()\n",
    "        if ways[0][0] == ways[1][0] or ways[0][0] == ways[1][-1]:\n",
    "            complete_line = ways[0][::-1]\n",
    "        else:\n",
    "            complete_line = ways[0]\n",
    "        for coords in ways[1:]:\n",
    "            if complete_line[-1] == coords[0]:\n",
    "                complete_line += coords[1:]\n",
    "            elif complete_line[-1] == coords[-1]:\n",
    "                complete_line += coords[::-1][1:]\n",
    "            else:\n",
    "                if coords[0] == coords[-1]:\n",
    "                    continue\n",
    "                else:\n",
    "                    tree = cKDTree([coords[0], coords[-1]])\n",
    "                    _, ind = tree.query(complete_line[-1])\n",
    "                    if ind == 1:\n",
    "                        coords = coords[::-1]\n",
    "                    complete_line += coords\n",
    "        # print('^^^^^^^^^^')\n",
    "\n",
    "    else:\n",
    "        complete_line = None\n",
    "    if \"node\" in route[\"type\"].unique():\n",
    "        platforms = route[(route[\"type\"] == \"node\")].apply(lambda x: Point(x[\"lon\"], x[\"lat\"]), axis=1)\n",
    "    else:\n",
    "        platforms = None\n",
    "\n",
    "    return pd.Series({\"way\": complete_line, \"platforms\": platforms, 'name': transport_name})\n",
    "\n",
    "\n",
    "data_geom = data_osm.apply(parse_overpass_route_response, axis=1, result_type='expand')\n",
    "data_geom"
   ],
   "metadata": {
    "collapsed": false
   },
   "id": "30f423107fc5439"
  },
  {
   "cell_type": "code",
   "execution_count": null,
   "outputs": [],
   "source": [
    "test = [LineString(\n",
    "    [(46.0046822, 51.5426408), (46.0046214, 51.5425402), (46.0042506, 51.541918), (46.0038134, 51.5411845),\n",
    "     (46.0036437, 51.5408997), (46.0035859, 51.5408011), (46.0035352, 51.5407158), (46.0031053, 51.5399929),\n",
    "     (46.0028598, 51.5395801), (46.0026303, 51.5391941), (46.0025706, 51.5390938), (46.0023997, 51.5391331),\n",
    "     (46.00211, 51.5391985), (46.0019414, 51.5392372), (46.0008809, 51.5394906), (46.00081, 51.5395332),\n",
    "     (46.000665, 51.5396234), (46.0006024, 51.5396705), (46.0005255, 51.5397869), (46.000459, 51.5399285),\n",
    "     (46.0005332, 51.54006), (46.0007185, 51.5403886), (46.0008003, 51.5405164), (46.0008441, 51.5405848)]), LineString(\n",
    "    [(46.0046822, 51.5426408), (46.0048226, 51.5426046), (46.0048853, 51.5425884), (46.0065015, 51.5422214),\n",
    "     (46.0067008, 51.5421762), (46.007038, 51.5420996), (46.0071807, 51.5420672)]), Point(46.0046822, 51.5426408)]\n",
    "\n",
    "gpd.GeoDataFrame(geometry=test, crs=4326).explore()"
   ],
   "metadata": {
    "collapsed": false
   },
   "id": "644eecaf69135bed"
  },
  {
   "cell_type": "code",
   "execution_count": null,
   "outputs": [],
   "source": [
    "gpd.GeoDataFrame(geometry=data_geom['way'].apply(LineString), crs=4326).reset_index().explore(column='index')"
   ],
   "metadata": {
    "collapsed": false
   },
   "id": "664065a99455656"
  },
  {
   "cell_type": "code",
   "execution_count": null,
   "outputs": [],
   "source": [
    "print(data_geom['way'].apply(LineString).iloc[1])"
   ],
   "metadata": {
    "collapsed": false
   },
   "id": "62b733c1fde4e799"
  },
  {
   "cell_type": "code",
   "execution_count": null,
   "outputs": [],
   "source": [
    "data_geom.iloc[16]['way']"
   ],
   "metadata": {
    "collapsed": false
   },
   "id": "4c9a8fc4dd48026b"
  },
  {
   "cell_type": "code",
   "execution_count": null,
   "outputs": [],
   "source": [
    "ways = data_geom.iloc[16]['way']\n",
    "ways = ways[\"geometry\"].reset_index(drop=True)\n",
    "lines = ways.apply(lambda x: ([(coords[\"lon\"], coords[\"lat\"]) for coords in x])).tolist()\n",
    "if lines[0][0] == lines[1][0]:\n",
    "    complete_line = lines[0][::-1]\n",
    "else:\n",
    "    complete_line = lines[0]\n",
    "for coords in lines[1:]:\n",
    "    if complete_line[-1] == coords[0]:\n",
    "        complete_line += coords[1:]\n",
    "    elif complete_line[-1] == coords[-1]:\n",
    "        complete_line += coords[::-1][1:]\n",
    "    else:\n",
    "        print('\\n\\nWTF\\n\\n')\n",
    "\n"
   ],
   "metadata": {
    "collapsed": false
   },
   "id": "8395e7884a6e5c60"
  },
  {
   "cell_type": "code",
   "execution_count": null,
   "outputs": [],
   "source": [
    "gpd.GeoDataFrame(geometry=[LineString(complete_line)], crs=4326).explore()"
   ],
   "metadata": {
    "collapsed": false
   },
   "id": "cc5af2e4f5118d14"
  },
  {
   "cell_type": "code",
   "execution_count": null,
   "outputs": [],
   "source": [
    "\n",
    "from shapely import MultiPoint\n",
    "\n",
    "gpd.GeoDataFrame(data=[{'kek': i} for i in data_geom.index.tolist()],\n",
    "                 geometry=data_geom['platforms'].apply(lambda x: MultiPoint(x)), crs=4326).explore(column='kek')"
   ],
   "metadata": {
    "collapsed": false
   },
   "id": "fbddc31159b0cff8"
  },
  {
   "cell_type": "code",
   "execution_count": null,
   "outputs": [],
   "source": [
    "\n",
    "data_geom.index.tolist()"
   ],
   "metadata": {
    "collapsed": false
   },
   "id": "3a0f48a874028657"
  },
  {
   "cell_type": "markdown",
   "source": [
    "## Download from microsoft ML footprint"
   ],
   "metadata": {
    "collapsed": false
   },
   "id": "e07d4d51c3a6dec1"
  },
  {
   "cell_type": "markdown",
   "source": [
    "\"\"\"\n",
    "This snippet demonstrates how to access and convert the buildings\n",
    "data from .csv.gz to geojson for use in common GIS tools. You will\n",
    "need to install pandas, geopandas, and shapely.\n",
    "\"\"\"\n",
    "\n",
    "import pandas as pd\n",
    "import geopandas as gpd\n",
    "from shapely.geometry import shape\n",
    "\n",
    "location = 'Russia'\n",
    "\n",
    "dataset_links = pd.read_csv(\"https://minedbuildings.blob.core.windows.net/global-buildings/dataset-links.csv\")\n",
    "greece_links = dataset_links[dataset_links.Location == location]\n",
    "\n",
    "\n",
    "def convert_to_bytes(size):\n",
    "    size = str(size)\n",
    "    if 'KB' in size:\n",
    "        return float(size.replace('KB', '')) * 1024\n",
    "    elif 'MB' in size:\n",
    "        return float(size.replace('MB', '')) * 1024 * 1024\n",
    "    elif 'B' in size:\n",
    "        return float(size.replace('B', ''))\n",
    "    else:\n",
    "        return float(size)\n",
    "\n",
    "\n",
    "greece_links['Size_in_bytes'] = greece_links['Size'].apply(convert_to_bytes)\n",
    "greece_links = greece_links.sort_values(by='Size_in_bytes', ascending=False)\n",
    "greece_links = greece_links.head(10)\n",
    "\n",
    "greece_links = greece_links\n",
    "for _, row in greece_links.iterrows():\n",
    "    df = pd.read_json(row.Url, lines=True)\n",
    "    df['geometry'] = df['geometry'].apply(shape)\n",
    "    gdf = gpd.GeoDataFrame(df, crs=4326)\n",
    "    gdf.to_file(f\"{row.QuadKey}.geojson\", driver=\"GeoJSON\")\n"
   ],
   "metadata": {
    "collapsed": false
   },
   "id": "c1708183fc617aef"
  },
  {
   "cell_type": "markdown",
   "source": [
    "\n",
    "location = 'Russia'\n",
    "\n",
    "dataset_links = pd.read_csv(\"https://minedbuildings.blob.core.windows.net/global-buildings/dataset-links.csv\")\n",
    "greece_links = dataset_links[dataset_links.Location == location]\n",
    "\n",
    "\n",
    "def convert_to_bytes(size):\n",
    "    size = str(size)\n",
    "    if 'KB' in size:\n",
    "        return float(size.replace('KB', '')) * 1024\n",
    "    elif 'MB' in size:\n",
    "        return float(size.replace('MB', '')) * 1024 * 1024\n",
    "    elif 'B' in size:\n",
    "        return float(size.replace('B', ''))\n",
    "    else:\n",
    "        return float(size)\n",
    "\n",
    "\n",
    "greece_links['Size_in_bytes'] = greece_links['Size'].apply(convert_to_bytes)\n",
    "greece_links = greece_links.sort_values(by='Size_in_bytes', ascending=False)"
   ],
   "metadata": {
    "collapsed": false
   },
   "id": "101e0394e8df3bce"
  },
  {
   "cell_type": "code",
   "execution_count": null,
   "outputs": [],
   "source": [],
   "metadata": {
    "collapsed": false
   },
   "id": "d1d916e6a3d62e00"
  },
  {
   "cell_type": "markdown",
   "source": [
    "## Для вшэ временно тут\n",
    "import math\n",
    "\n",
    "import geopandas as gpd\n",
    "f1 = 'Зоны видимости школ (без деревьев).geojson'\n",
    "f2 = 'Зоны видимости школ (с деревьями).geojson'\n",
    "\n",
    "d1 = gpd.read_file(f1).to_crs(32636)\n",
    "d2 = gpd.read_file(f2).to_crs(32636)\n",
    "\n",
    "d1.drop(columns=['area','perimeter'],inplace=True)\n",
    "d2.drop(columns=['area','perimeter'],inplace=True)\n",
    "\n",
    "import pandas as pd\n",
    "schools = gpd.read_file('Полигоны школ.geojson').to_crs(32636)\n",
    "schools['ID школы'] = schools['ID школы'].astype(int)\n",
    "schools['Площадь школы(м2)'] = round(schools.geometry.area,2)\n",
    "schools['school_geom'] = schools.geometry\n",
    "d1_ =  pd.merge(d1,schools[['Площадь школы(м2)','ID школы','school_geom']],on='ID школы')\n",
    "d2_ =  pd.merge(d2,schools[['Площадь школы(м2)','ID школы','school_geom']],on='ID школы')\n",
    "\n",
    "import math\n",
    "\n",
    "d1_['Площадь видимости(м2)'] = round(d1_.geometry.area,2)\n",
    "d2_['Площадь видимости(м2)'] = round(d2_.geometry.area,2)\n",
    "\n",
    "d1_['Коэффициент видимости'] = d1_.apply(lambda x: round(x.geometry.area / x['school_geom'].buffer(1000).area,5),axis=1)\n",
    "d2_['Коэффициент видимости'] = d2_.apply(lambda x: round(x.geometry.area / x['school_geom'].buffer(1000).area,5),axis=1)\n",
    "\n",
    "d1_.drop(columns='school_geom').to_file(f1)\n",
    "d2_.drop(columns='school_geom').to_file(f2)"
   ],
   "metadata": {
    "collapsed": false
   },
   "id": "53bbbb6ac696fbc1"
  },
  {
   "cell_type": "code",
   "execution_count": null,
   "outputs": [],
   "source": [],
   "metadata": {
    "collapsed": false
   },
   "id": "c52fb5b5733cd1f9"
  }
 ],
 "metadata": {
  "kernelspec": {
   "display_name": "Python 3",
   "language": "python",
   "name": "python3"
  },
  "language_info": {
   "codemirror_mode": {
    "name": "ipython",
    "version": 2
   },
   "file_extension": ".py",
   "mimetype": "text/x-python",
   "name": "python",
   "nbconvert_exporter": "python",
   "pygments_lexer": "ipython2",
   "version": "2.7.6"
  }
 },
 "nbformat": 4,
 "nbformat_minor": 5
}
