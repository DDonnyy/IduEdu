{
 "cells": [
  {
   "metadata": {},
   "cell_type": "code",
   "source": "!pip install iduedu",
   "id": "a7df97d02da184d0",
   "outputs": [],
   "execution_count": null
  },
  {
   "cell_type": "code",
   "id": "initial_id",
   "metadata": {
    "collapsed": true
   },
   "source": "!pip install pyarrow  # To read .parquet",
   "outputs": [],
   "execution_count": null
  },
  {
   "metadata": {},
   "cell_type": "code",
   "source": [
    "import geopandas as gpd\n",
    "\n",
    "# Read a GeoDataFrame, for example this one\n",
    "data = gpd.read_parquet('data/spb_buildings.parquet')\n",
    "\n",
    "# Create a polygon that encircles all the buildings in the dataset to download the graph\n",
    "polygon = data.to_crs(4326).union_all().convex_hull.buffer(0.001)"
   ],
   "id": "b647132622a4e56",
   "outputs": [],
   "execution_count": null
  },
  {
   "metadata": {},
   "cell_type": "code",
   "source": [
    "from iduedu import get_intermodal_graph, get_drive_graph, get_walk_graph\n",
    "\n",
    "# Download the intermodal graph\n",
    "G_intermodal = get_intermodal_graph(polygon=polygon)\n",
    "\n",
    "# Uncomment the following lines to download walking or driving graphs for the same area\n",
    "# G_walk = get_walk_graph(polygon =polygon)\n",
    "# G_drive = get_drive_graph(polygon =polygon)"
   ],
   "id": "49e466e10ff48ddb",
   "outputs": [],
   "execution_count": null
  },
  {
   "metadata": {},
   "cell_type": "code",
   "source": [
    "import numpy as np\n",
    "from iduedu import get_adj_matrix_gdf_to_gdf\n",
    "\n",
    "# Compute the adjacency matrix between the objects in the dataset using the intermodal graph.\n",
    "# The weight of the edges is set to 'time_min' (travel time in minutes), and the data type is set to np.float32 for precision.\n",
    "matrix = get_adj_matrix_gdf_to_gdf(data, data, G_intermodal, weight='time_min', dtype=np.float32)\n",
    "\n",
    "# Uncomment the following lines to compute adjacency matrices using driving or walking graphs with different weights and data types\n",
    "# matrix = get_adj_matrix_gdf_to_gdf(data,data,G_drive,weight='time_min',dtype=np.float16) # Use dtype >np.float16 for more precision\n",
    "# matrix = get_adj_matrix_gdf_to_gdf(data,data,G_walk,weight='length_meter',dtype=np.float16) # Use dtype >np.float16 for more precision\n",
    "matrix"
   ],
   "id": "e6005ba0235efb9d",
   "outputs": [],
   "execution_count": null
  }
 ],
 "metadata": {
  "kernelspec": {
   "display_name": "Python 3",
   "language": "python",
   "name": "python3"
  },
  "language_info": {
   "codemirror_mode": {
    "name": "ipython",
    "version": 2
   },
   "file_extension": ".py",
   "mimetype": "text/x-python",
   "name": "python",
   "nbconvert_exporter": "python",
   "pygments_lexer": "ipython2",
   "version": "2.7.6"
  }
 },
 "nbformat": 4,
 "nbformat_minor": 5
}
