{
 "cells": [
  {
   "metadata": {},
   "cell_type": "code",
   "source": "pip install iduedu",
   "id": "a7df97d02da184d0",
   "outputs": [],
   "execution_count": null
  },
  {
   "cell_type": "code",
   "id": "initial_id",
   "metadata": {
    "collapsed": true
   },
   "source": "pip install pyarrow # To read .parquet",
   "outputs": [],
   "execution_count": null
  },
  {
   "metadata": {},
   "cell_type": "code",
   "source": [
    "from iduedu import get_intermodal_graph\n",
    "import geopandas as gpd\n",
    "data = gpd.read_parquet('data/spb_buildings.parquet')\n",
    "polygon = data.union_all().convex_hull.buffer(0.001) # Getting an \"encircling\" polygon around our layer to download the graph "
   ],
   "id": "b647132622a4e56",
   "outputs": [],
   "execution_count": null
  },
  {
   "metadata": {},
   "cell_type": "code",
   "source": "G_intermodal = get_intermodal_graph(polygon =polygon, clip_by_bounds=True)",
   "id": "49e466e10ff48ddb",
   "outputs": [],
   "execution_count": null
  },
  {
   "metadata": {},
   "cell_type": "code",
   "source": [
    "import numpy as np\n",
    "from iduedu import get_adj_matrix_gdf_to_gdf\n",
    "\n",
    "data.to_crs(G_intermodal.graph['crs'],inplace=True) # Have to use the same crs \n",
    "\n",
    "matrix = get_adj_matrix_gdf_to_gdf(data,data,G_intermodal,weight='time_min',dtype=np.float32) # Use dtype >np.float16 for more precision\n",
    "matrix"
   ],
   "id": "e6005ba0235efb9d",
   "outputs": [],
   "execution_count": null
  }
 ],
 "metadata": {
  "kernelspec": {
   "display_name": "Python 3",
   "language": "python",
   "name": "python3"
  },
  "language_info": {
   "codemirror_mode": {
    "name": "ipython",
    "version": 2
   },
   "file_extension": ".py",
   "mimetype": "text/x-python",
   "name": "python",
   "nbconvert_exporter": "python",
   "pygments_lexer": "ipython2",
   "version": "2.7.6"
  }
 },
 "nbformat": 4,
 "nbformat_minor": 5
}
