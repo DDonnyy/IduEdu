{
 "cells": [
  {
   "metadata": {},
   "cell_type": "code",
   "source": [
    "# To install library\n",
    "!pip install IduEdu"
   ],
   "id": "ec225bc3618cd61a",
   "outputs": [],
   "execution_count": null
  },
  {
   "metadata": {},
   "cell_type": "code",
   "source": [
    "from iduedu import config\n",
    "\n",
    "config.change_logger_lvl('DEBUG')"
   ],
   "id": "5aa482bb788aaaa6",
   "outputs": [],
   "execution_count": null
  },
  {
   "cell_type": "code",
   "id": "initial_id",
   "metadata": {
    "collapsed": true
   },
   "source": [
    "# Get territory boundary\n",
    "from iduedu import get_boundary\n",
    "\n",
    "bounds = get_boundary(osm_id=1114252)  # OSM ID for https://www.openstreetmap.org/relation/1114252"
   ],
   "outputs": [],
   "execution_count": null
  },
  {
   "metadata": {},
   "cell_type": "code",
   "source": [
    "# Get drive_graph for boundary\n",
    "from iduedu import get_drive_graph\n",
    "\n",
    "G_drive = get_drive_graph(polygon=bounds, additional_edgedata=['highway', 'maxspeed', 'reg', 'name', 'lanes', 'ref'],\n",
    "                          simplify=False)  # Use any of this in additional_edgedata to add it to edges attributes"
   ],
   "id": "dd472c90ac4da1fe",
   "outputs": [],
   "execution_count": null
  },
  {
   "metadata": {},
   "cell_type": "code",
   "source": [
    "# Get walk_graph for boundary\n",
    "from iduedu import get_walk_graph\n",
    "\n",
    "G_walk = get_walk_graph(polygon=bounds)"
   ],
   "id": "a4c8518430e9bf5a",
   "outputs": [],
   "execution_count": null
  },
  {
   "metadata": {},
   "cell_type": "code",
   "source": [
    "# Get single or multi type public transport graph for boundary\n",
    "from iduedu import get_single_public_transport_graph, get_all_public_transport_graph\n",
    "\n",
    "G_subway = get_single_public_transport_graph(public_transport_type='subway', polygon=bounds)\n",
    "G_public_t = get_all_public_transport_graph(polygon=bounds, clip_by_bounds=True,\n",
    "                                            keep_geometry=True)  # clip_by_bounds remove all nodes outside the bounds,keep_geometry = False don't save real geometry, to reduce graph size"
   ],
   "id": "3c6eb28889cd1c9f",
   "outputs": [],
   "execution_count": null
  },
  {
   "metadata": {},
   "cell_type": "code",
   "source": [
    "# Get  multi type public transport graph with custom transports\n",
    "from iduedu import get_all_public_transport_graph, PublicTrasport\n",
    "\n",
    "custom_transports = [PublicTrasport.SUBWAY, PublicTrasport.TRAIN]\n",
    "G_custom_pt = get_all_public_transport_graph(osm_id=421007, clip_by_bounds=False, transport_types=custom_transports)"
   ],
   "id": "afa6d288534e7677",
   "outputs": [],
   "execution_count": null
  },
  {
   "metadata": {},
   "cell_type": "code",
   "source": [
    "# Get intermodal_graph (walk+all_public_transport) for boundary\n",
    "from iduedu import get_intermodal_graph\n",
    "\n",
    "G_intermodal = get_intermodal_graph(polygon=bounds, clip_by_bounds=False)"
   ],
   "id": "1646ccaf6c466324",
   "outputs": [],
   "execution_count": null
  },
  {
   "metadata": {},
   "cell_type": "code",
   "source": [
    "from iduedu import join_pt_walk_graph\n",
    "\n",
    "G_walk_and_subway = join_pt_walk_graph(G_subway,\n",
    "                                       G_walk)  # use join_pt_walk_graph to compose any public transport graph with walk graph"
   ],
   "id": "3a1fe70b33465188",
   "outputs": [],
   "execution_count": null
  },
  {
   "metadata": {},
   "cell_type": "code",
   "source": [
    "from iduedu import get_single_public_transport_graph, get_all_public_transport_graph\n",
    "\n",
    "G_train = get_single_public_transport_graph(public_transport_type='train', polygon=bounds, clip_by_bounds=True)"
   ],
   "id": "a5a3ffc6876e251b",
   "outputs": [],
   "execution_count": null
  },
  {
   "metadata": {},
   "cell_type": "code",
   "source": [
    "from iduedu import graph_to_gdf\n",
    "\n",
    "G_intermodal_gdf = graph_to_gdf(G_intermodal, restore_edge_geom=True)\n",
    "G_intermodal_gdf.explore(column='type')"
   ],
   "id": "eacb60d01d72eb53",
   "outputs": [],
   "execution_count": null
  },
  {
   "metadata": {},
   "cell_type": "code",
   "source": [
    "from iduedu import graph_to_gdf\n",
    "\n",
    "G_drive_gdf = graph_to_gdf(G_drive)\n",
    "G_drive_gdf.explore(column='lanes')"
   ],
   "id": "8d0218fee61f5b43",
   "outputs": [],
   "execution_count": null
  },
  {
   "metadata": {},
   "cell_type": "code",
   "source": [
    "from iduedu import graph_to_gdf\n",
    "\n",
    "G_walk_gdf = graph_to_gdf(G_subway)\n",
    "G_walk_gdf.explore()"
   ],
   "id": "2620c1c5830d4a5b",
   "outputs": [],
   "execution_count": null
  },
  {
   "metadata": {},
   "cell_type": "code",
   "source": [
    "from iduedu import graph_to_gdf\n",
    "\n",
    "G_custom_pt_gdf = graph_to_gdf(G_custom_pt, restore_edge_geom=True)\n",
    "G_custom_pt_gdf.explore(column='type')"
   ],
   "id": "3ab559745f448770",
   "outputs": [],
   "execution_count": null
  },
  {
   "metadata": {},
   "cell_type": "code",
   "source": "",
   "id": "b8b4264b0b1f89bb",
   "outputs": [],
   "execution_count": null
  }
 ],
 "metadata": {
  "kernelspec": {
   "display_name": "Python 3",
   "language": "python",
   "name": "python3"
  },
  "language_info": {
   "codemirror_mode": {
    "name": "ipython",
    "version": 2
   },
   "file_extension": ".py",
   "mimetype": "text/x-python",
   "name": "python",
   "nbconvert_exporter": "python",
   "pygments_lexer": "ipython2",
   "version": "2.7.6"
  }
 },
 "nbformat": 4,
 "nbformat_minor": 5
}
